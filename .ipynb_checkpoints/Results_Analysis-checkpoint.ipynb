{
 "cells": [
  {
   "cell_type": "markdown",
   "id": "5906d973",
   "metadata": {},
   "source": [
    "# Import Packages"
   ]
  },
  {
   "cell_type": "code",
   "execution_count": 95,
   "id": "f58b8dc1",
   "metadata": {
    "ExecuteTime": {
     "end_time": "2023-02-21T07:02:10.664888Z",
     "start_time": "2023-02-21T07:02:10.621790Z"
    }
   },
   "outputs": [
    {
     "name": "stderr",
     "output_type": "stream",
     "text": [
      "C:\\Users\\prati\\anaconda3\\lib\\site-packages\\fuzzywuzzy\\fuzz.py:11: UserWarning: Using slow pure-python SequenceMatcher. Install python-Levenshtein to remove this warning\n",
      "  warnings.warn('Using slow pure-python SequenceMatcher. Install python-Levenshtein to remove this warning')\n"
     ]
    }
   ],
   "source": [
    "import pandas as pd\n",
    "import numpy as np\n",
    "from gingerit.gingerit import GingerIt\n",
    "from fuzzywuzzy import fuzz\n",
    "from loguru import logger\n",
    "from tqdm import tqdm\n",
    "import re\n",
    "tqdm.pandas()"
   ]
  },
  {
   "cell_type": "markdown",
   "id": "c6252101",
   "metadata": {},
   "source": [
    "# Load Data"
   ]
  },
  {
   "cell_type": "code",
   "execution_count": 52,
   "id": "6065430f",
   "metadata": {
    "ExecuteTime": {
     "end_time": "2023-02-21T05:54:37.970841Z",
     "start_time": "2023-02-21T05:54:37.930900Z"
    }
   },
   "outputs": [],
   "source": [
    "mush_df = pd.read_csv('DataStore/compare_datasets/Mush_DataStore_Listing_QC_results__17_02_2023_21_15_48.csv')\n",
    "mush_df.fillna('NA',inplace = True)\n",
    "ground_truth = pd.read_csv('DataStore/compare_datasets/GroundTruth.csv')\n",
    "special_char = pd.read_csv('Special characters list.csv')"
   ]
  },
  {
   "cell_type": "code",
   "execution_count": 61,
   "id": "d7f777db",
   "metadata": {
    "ExecuteTime": {
     "end_time": "2023-02-21T06:01:02.532641Z",
     "start_time": "2023-02-21T06:01:02.528881Z"
    }
   },
   "outputs": [],
   "source": [
    "mush_df['ScrapedFor'] = np.array(['Mush']*mush_df.shape[0])"
   ]
  },
  {
   "cell_type": "code",
   "execution_count": 21,
   "id": "5929e542",
   "metadata": {
    "ExecuteTime": {
     "end_time": "2023-02-21T04:57:13.928991Z",
     "start_time": "2023-02-21T04:57:13.920273Z"
    }
   },
   "outputs": [
    {
     "data": {
      "text/plain": [
       "Index(['ASIN', 'MRP', 'aplus_images', 'aplus_text', 'brand', 'bullets',\n",
       "       'description', 'image_links', 'price', 'ratings', 'ratings_count',\n",
       "       'title', 'url', 'video_links', 'title_brand_present',\n",
       "       'title_sentence_case', 'title_spellcheck', 'title_Corrected_text',\n",
       "       'final_title_check_flag', 'description_special_chr_check',\n",
       "       'description_char_constrained_2000', 'description_multiline_check',\n",
       "       'description_spellcheck', 'description_Corrected_text',\n",
       "       'final_description_check_flag', 'bullets_special_chr_check',\n",
       "       'bullets_number_check', 'bullets_first_capital_check',\n",
       "       'bullets_spellcheck', 'bullets_Corrected_text',\n",
       "       'final_bullet_point_check_flag', 'Grade1', 'final_entire_spellcheck',\n",
       "       'final_dimensionality_check', 'final_sentence_case_check', 'Grade2',\n",
       "       'ScrapedFor'],\n",
       "      dtype='object')"
      ]
     },
     "execution_count": 21,
     "metadata": {},
     "output_type": "execute_result"
    }
   ],
   "source": [
    "mush_df.columns"
   ]
  },
  {
   "cell_type": "code",
   "execution_count": 17,
   "id": "1882f9fd",
   "metadata": {
    "ExecuteTime": {
     "end_time": "2023-02-21T04:55:04.377326Z",
     "start_time": "2023-02-21T04:55:04.367528Z"
    }
   },
   "outputs": [],
   "source": [
    "scraped_req_cols = ['ScrapedFor','brand','ASIN','title','description','bullets']\n",
    "gt_req_cols = ['Brand','ASIN','Title','Description','Bulletpoints(3)', 'Grade',\n",
    "       'Spell check', 'Dimensions details', 'Sentence case','Grade2']"
   ]
  },
  {
   "cell_type": "code",
   "execution_count": 18,
   "id": "bf7dad39",
   "metadata": {
    "ExecuteTime": {
     "end_time": "2023-02-21T04:55:17.558089Z",
     "start_time": "2023-02-21T04:55:17.525428Z"
    }
   },
   "outputs": [],
   "source": [
    "mush_df = mush_df[req_cols]"
   ]
  },
  {
   "cell_type": "code",
   "execution_count": 6,
   "id": "86cab65f",
   "metadata": {
    "ExecuteTime": {
     "end_time": "2023-02-21T04:43:59.147745Z",
     "start_time": "2023-02-21T04:43:59.121101Z"
    }
   },
   "outputs": [
    {
     "data": {
      "text/plain": [
       "Index(['Sr. No.', 'Brand', 'Category', 'Product Name', 'ASIN', 'Product URL',\n",
       "       'Sales Frequency', 'Title', 'Description', 'Bulletpoints(3)', 'Grade',\n",
       "       'Spell check', 'Dimensions details', 'Sentence case', 'A+ content',\n",
       "       'Grade2', 'Main image', 'Additional images', 'Infographics',\n",
       "       'Lifestyles', 'Video', 'A+ Content3', 'Info/lifestyle Total',\n",
       "       'Total Images', 'Info present', 'Lifestyle present',\n",
       "       'Video present or not', 'A+ content4', 'Image quality',\n",
       "       'Product information', 'Remark', 'Score', 'Grade5', 'Final Grade',\n",
       "       'Amazon USA', 'Amazon UK', 'Amazon CA', 'Amazon MX', 'Amazon Germany',\n",
       "       'Amazon France', 'Amazon Italy', 'Amazon Spain', 'Amazon Netherlands',\n",
       "       'Amazon Belgium', 'Amazon Sweden ', 'Amazon Poland', 'Amazon Australia',\n",
       "       'Amazon Japan', 'Amazon Singapore', 'Amazon UAE'],\n",
       "      dtype='object')"
      ]
     },
     "execution_count": 6,
     "metadata": {},
     "output_type": "execute_result"
    }
   ],
   "source": [
    "ground_truth.columns"
   ]
  },
  {
   "cell_type": "markdown",
   "id": "7cb2c0d9",
   "metadata": {},
   "source": [
    "# Helper Functions"
   ]
  },
  {
   "cell_type": "markdown",
   "id": "f3038988",
   "metadata": {},
   "source": [
    "## Sentence Case"
   ]
  },
  {
   "cell_type": "code",
   "execution_count": 85,
   "id": "69ce466a",
   "metadata": {
    "ExecuteTime": {
     "end_time": "2023-02-21T06:14:39.263603Z",
     "start_time": "2023-02-21T06:14:39.258094Z"
    },
    "code_folding": [
     0
    ]
   },
   "outputs": [],
   "source": [
    "def sentence_case(brand_name,title,brand_present_title):\n",
    "    first_word = title.strip().split(' ')[0]\n",
    "    logger.info('First Word {}'.format(first_word))\n",
    "#     print(brand_name,first_word,brand_present_title)\n",
    "    logger.info('Brand Present({}) {}'.format(brand_present_title,brand_present_title==1))\n",
    "    if brand_present_title==1:\n",
    "        logger.info('brand name({}) = first word({}) {}'.format(brand_name.strip()[0],first_word[0],brand_name.strip()[0]==first_word[0]))\n",
    "        if brand_name.strip()[0]==first_word[0]:\n",
    "            res = 1\n",
    "        else:\n",
    "            res = 0\n",
    "    else:\n",
    "        logger.info('First letter capital({}) {}'.format(first_word[0],first_word[0].isupper()))\n",
    "        if first_word[0].isupper():\n",
    "            res = 1\n",
    "        else:\n",
    "            res = 0\n",
    "#     print(res)\n",
    "    logger.info('Res {}'.format(res))\n",
    "    return res"
   ]
  },
  {
   "cell_type": "code",
   "execution_count": 41,
   "id": "dcdec479",
   "metadata": {
    "ExecuteTime": {
     "end_time": "2023-02-21T05:37:27.163973Z",
     "start_time": "2023-02-21T05:37:27.148964Z"
    },
    "code_folding": []
   },
   "outputs": [],
   "source": [
    "def runGinger(txt,my_tool):\n",
    "    if txt=='NA':\n",
    "        return [0,['No Description'],txt]\n",
    "    # logger.info(txt)\n",
    "    try:\n",
    "        sentences = [x.strip().lstrip(', ') for x in txt.strip().split('\\n')]\n",
    "        logger.info('sentences are : {}'.format(sentences))\n",
    "        flg = 1\n",
    "        corrections = []\n",
    "        result = []\n",
    "        for sentence in sentences:\n",
    "            if len(sentence)>600:\n",
    "                logger.info('sentence char len is greater than 600')\n",
    "                order = \"[+-]?\\d+\\.\\d+\"\n",
    "                first_str = re.sub(order, '', sentence)\n",
    "                lines = re.split( r'[?.!]',first_str)\n",
    "                for i in lines:\n",
    "                    parse_res = my_tool.parse(i)\n",
    "                    if len(parse_res['corrections'])>0:\n",
    "                        # for corr in parse_res['corrections']:\n",
    "                        # if corr['definition']!='Accept p'\n",
    "                        flg = 0\n",
    "                    result.append(parse_res['result'])\n",
    "                    corrections.append(parse_res['corrections'])\n",
    "            else:\n",
    "                parse_res = my_tool.parse(sentence)\n",
    "                if len(parse_res['corrections'])>0:\n",
    "                    flg = 0\n",
    "                result.append(parse_res['result'])\n",
    "                corrections.append(parse_res['corrections'])\n",
    "    except:\n",
    "        return [0,['API Error'],[txt]]\n",
    "    return [flg,corrections,result]"
   ]
  },
  {
   "cell_type": "markdown",
   "id": "e60fbe94",
   "metadata": {},
   "source": [
    "## Special Character Check"
   ]
  },
  {
   "cell_type": "code",
   "execution_count": 42,
   "id": "669c1cc2",
   "metadata": {
    "ExecuteTime": {
     "end_time": "2023-02-21T05:37:29.062485Z",
     "start_time": "2023-02-21T05:37:29.036616Z"
    },
    "code_folding": [
     0
    ]
   },
   "outputs": [],
   "source": [
    "def special_char_check(x):\n",
    "    if len(set(special_char['chars'])) - len(set(special_char['chars'].tolist())-set(x))>0:\n",
    "        return 0\n",
    "    else:\n",
    "        return 1"
   ]
  },
  {
   "cell_type": "markdown",
   "id": "f99fb7f0",
   "metadata": {},
   "source": [
    "## Get complete Title Flag"
   ]
  },
  {
   "cell_type": "code",
   "execution_count": 43,
   "id": "881b19dc",
   "metadata": {
    "ExecuteTime": {
     "end_time": "2023-02-21T05:37:30.066997Z",
     "start_time": "2023-02-21T05:37:30.044959Z"
    },
    "code_folding": [
     0
    ]
   },
   "outputs": [],
   "source": [
    "def get_Title_flag(data):\n",
    "    ## Brand Name Present\n",
    "    bn_check = lambda x,y:1 if y.strip().lower().find(x.strip().lower())==0 else 0\n",
    "\n",
    "    data['title_brand_present'] = data[['brand','title']].progress_apply(lambda x:bn_check(x.brand,x.title),axis = 1)\n",
    "    ## Sentence Case\n",
    "    data['title_sentence_case'] = data[['brand','title',\"title_brand_present\"]].progress_apply(lambda x:sentence_case(x.brand,x.title,x.title_brand_present),axis = 1)\n",
    "    ## Spell Check\n",
    "    # data[['title_spellcheck','title_Corrected_text']] = data['title'].progress_apply(lambda x:spellcheck(x,my_tool)).tolist()\n",
    "    data[['title_spellcheck','title_corrections','title_Corrected_text']] =  pd.DataFrame(data['title'].progress_apply(lambda x: runGinger(x,parser)).tolist())\n",
    "    # data['title_Corrected_text'] =  data['title'].progress_apply(lambda x: cb.t5_kes_corrector((x)))\n",
    "    \n",
    "    # data['title_spellcheck'] = data[['title_Corrected_text','title']].apply(lambda x: samecheck(x.title_Corrected_text,x.title),axis = 1)\n",
    "    data['final_title_check_flag'] = data[['title_brand_present','title_sentence_case','title_spellcheck']].product(axis = 1)\n",
    "    # messages['title_spellcheck'] = ['Check to see if Title is grammatically correct']\n",
    "    return data['final_title_check_flag']"
   ]
  },
  {
   "cell_type": "markdown",
   "id": "d4de99e0",
   "metadata": {},
   "source": [
    "## Get complete Description Flag"
   ]
  },
  {
   "cell_type": "code",
   "execution_count": 44,
   "id": "6324adfc",
   "metadata": {
    "ExecuteTime": {
     "end_time": "2023-02-21T05:37:31.816082Z",
     "start_time": "2023-02-21T05:37:31.795929Z"
    },
    "code_folding": []
   },
   "outputs": [],
   "source": [
    "def get_Description_flag(data):\n",
    "    ## Special Character Check\n",
    "    data['description_special_chr_check'] = data['description'].apply(lambda x:special_char_check(x))\n",
    "    ## Characters Constrained\n",
    "    data['description_char_constrained_2000'] = data['description'].apply(lambda x:1 if len(x.strip())<=2000 else 0)\n",
    "    ## Multiline Check\n",
    "    def multiline_check(first_str):\n",
    "        order = \"[+-]?\\d+\\.\\d+\"\n",
    "        first_str = re.sub(order, '', first_str)\n",
    "        lines = re.split( r'[?.!]',first_str)\n",
    "        if len(lines)>1:\n",
    "            return 1\n",
    "        else:\n",
    "            return 0\n",
    "    \n",
    "    data['description_multiline_check'] = data['description'].apply(lambda x:multiline_check(x))\n",
    "\n",
    "    ## Spell Check \n",
    "    # data[['description_spellcheck','description_Corrected_text']] = data['description'].progress_apply(lambda x:spellcheck(x,my_tool)).tolist()\n",
    "    data[['description_spellcheck','description_corrections','description_Corrected_text']] =  pd.DataFrame(data['description'].progress_apply(lambda x: runGinger(x,parser)).tolist())\n",
    "    # data['description_Corrected_text'] =  data['description'].progress_apply(lambda x: cb.t5_kes_corrector((x)))\n",
    "    \n",
    "    # data['description_spellcheck'] = data[['description_Corrected_text','description']].apply(lambda x: samecheck(x.description_Corrected_text,x.description),axis = 1)\n",
    "\n",
    "    ## Final Description check Flag\n",
    "    data['final_description_check_flag'] = data[['description_special_chr_check','description_char_constrained_2000','description_multiline_check','description_spellcheck']].product(axis = 1)\n",
    "\n",
    "    return data['final_description_check_flag']"
   ]
  },
  {
   "cell_type": "markdown",
   "id": "be02097d",
   "metadata": {},
   "source": [
    "## Get complete BulletPoints Flag"
   ]
  },
  {
   "cell_type": "code",
   "execution_count": 45,
   "id": "d1402ef1",
   "metadata": {
    "ExecuteTime": {
     "end_time": "2023-02-21T05:37:32.298019Z",
     "start_time": "2023-02-21T05:37:32.275106Z"
    },
    "code_folding": [
     0
    ]
   },
   "outputs": [],
   "source": [
    "def get_BulletPoints_flag(data):\n",
    "    ## Special Character check\n",
    "    data['bullets_special_chr_check'] = data['bullets'].apply(lambda x:special_char_check(x))\n",
    "\n",
    "    ## Number of bullet points check (atleast 3 points)\n",
    "    data['bullets_number_check'] = data['bullets'].apply(lambda x:1 if x.count('\\n')>=2 else 0)\n",
    "\n",
    "    ## Bullet Points start with capital letter check\n",
    "    data['bullets_first_capital_check'] = data['bullets'].apply(lambda x: int(''.join([s.strip().lstrip(', ')[0] for s in x.strip().split('\\n')]).isupper()) )\n",
    "\n",
    "    ## Spell Check\n",
    "    # data[['bullets_spellcheck','bullets_Corrected_text']] = data['bullets'].progress_apply(lambda x:spellcheck(x,my_tool)).tolist()\n",
    "    data[['bullets_spellcheck','bullets_corrections','bullets_Corrected_text']] =  pd.DataFrame(data['bullets'].progress_apply(lambda x: runGinger(x,parser)).tolist())\n",
    "    # data['bullets_Corrected_text'] =  data['bullets'].progress_apply(lambda x: cb.t5_kes_corrector((x)))\n",
    "    # data['bullets_spellcheck'] = data[['bullets_Corrected_text','bullets']].apply(lambda x: samecheck(x.bullets_Corrected_text,x.bullets),axis = 1)\n",
    "\n",
    "    ## Final Bullet Points check Flag\n",
    "    data['final_bullet_point_check_flag'] = data[['bullets_special_chr_check','bullets_number_check','bullets_first_capital_check','bullets_spellcheck']].product(axis = 1)\n",
    "\n",
    "    return data['final_bullet_point_check_flag']"
   ]
  },
  {
   "cell_type": "markdown",
   "id": "199b2c8c",
   "metadata": {},
   "source": [
    "## Get complete Spell Check Flag"
   ]
  },
  {
   "cell_type": "code",
   "execution_count": 46,
   "id": "8f207d82",
   "metadata": {
    "ExecuteTime": {
     "end_time": "2023-02-21T05:37:32.928047Z",
     "start_time": "2023-02-21T05:37:32.922963Z"
    },
    "code_folding": [
     0
    ]
   },
   "outputs": [],
   "source": [
    "def get_SpellCheck_flag(data):\n",
    "    data['final_entire_spellcheck'] = data[['title_spellcheck','description_spellcheck','bullets_spellcheck']].apply(lambda x:1 if get_sum([x.title_spellcheck,x.description_spellcheck,x.bullets_spellcheck])==3 else 0,axis = 1)\n",
    "    return data['final_entire_spellcheck']"
   ]
  },
  {
   "cell_type": "markdown",
   "id": "ea768f46",
   "metadata": {},
   "source": [
    "## Get complete Dimension Check Flag"
   ]
  },
  {
   "cell_type": "code",
   "execution_count": 97,
   "id": "5d6f4d54",
   "metadata": {
    "ExecuteTime": {
     "end_time": "2023-02-21T07:08:58.448915Z",
     "start_time": "2023-02-21T07:08:58.429188Z"
    },
    "code_folding": [
     0,
     28,
     41
    ]
   },
   "outputs": [],
   "source": [
    "def qc_dim(unit,values):\n",
    "#     metric = {'meter':['m','meter'],\n",
    "#     'centimeter':['cm','cms','centimeter'],\n",
    "#     'millimeter':['mm','millimeter'],\n",
    "#     'inches':['inch','inches']\n",
    "#     'litre':['l','lit','litre'],\n",
    "#     'gram':['g','gm','gram'],\n",
    "#     'kilogram':['kg','kgms','kilogram']}\n",
    "#     metric = ['meter','centimeter','millimeter','kilometer','inches','foot']\n",
    "    metric2 = ['m','cms','mm','km','inches','ft']\n",
    "    metric_change = [1,0.01,0.001,1000,0.0254,0.0348]\n",
    "    metric_unit= []\n",
    "    logger.info('unit for qc {}\\nvalue for qc {}'.format(unit,values))\n",
    "    for u in unit:\n",
    "        umetric_ratio = []\n",
    "        for m in metric2:\n",
    "            umetric_ratio.append(fuzz.ratio(u,m))\n",
    "        metric_unit.append(metric2[np.array(umetric_ratio).argmax()])\n",
    "    logger.info('metric_unit {}'.format(metric_unit))\n",
    "    updated_values = [float(v)*metric_change[metric2.index(i)] for i,v in zip(metric_unit,values)]\n",
    "    logger.info('updated values {}'.format(updated_values))\n",
    "    if len(set(metric_unit))>1:\n",
    "        qc_res = [0,updated_values]\n",
    "    else:\n",
    "        qc_res = [1,updated_values]\n",
    "    \n",
    "    return qc_res\n",
    "\n",
    "def format_dim(dim):\n",
    "    logger.info('initial dim {}'.format(dim))\n",
    "    dim = dim.replace(' ','').lower()\n",
    "    dim = dim.replace('x',' ')\n",
    "    units = []\n",
    "    for unit in re.finditer(\"[a-z]+\",dim):\n",
    "        units.append(unit.group())\n",
    "    values = []\n",
    "    for val in re.finditer(\"[0-9]+\",dim):\n",
    "        values.append(val.group())\n",
    "    logger.info('unit is {} and values are {}'.format(units,values))\n",
    "    return [units,values]\n",
    "\n",
    "def check_values(value_list):\n",
    "    logger.info('value_list for check values {}'.format(value_list))\n",
    "    max_len = [len(l) for l in value_list]\n",
    "    if len(set(max_len))>1:\n",
    "        logger.info('The dimensions length do not match!!')\n",
    "        return 0\n",
    "    value_list = [sorted(l) for l in value_list]\n",
    "    logger.info('after sort {}'.format(value_list))\n",
    "    same_val_list = np.array(value_list).T.tolist()\n",
    "    logger.info('transform for each dim {}'.format(same_val_list))\n",
    "    res = 1\n",
    "    for v in same_val_list:\n",
    "        ratio_list = [v[i]/v[0] for i in range(len(v))]\n",
    "        logger.info('ratio list for list {} {}'.format(v,ratio_list))\n",
    "        res*=np.prod([1 if (i<=1.05 and i>=0.95) else 0 for i in ratio_list])\n",
    "    logger.info('res {}'.format(res))\n",
    "    return res\n",
    "\n",
    "def get_dimensions(a,text):\n",
    "    logger.info('ASIN is {}'.format())\n",
    "    iters = re.finditer(\"(((\\d+ ?[a-zA-Z]+ ?)[x,X] ?(\\d+ ?[a-zA-Z]+ ?)[x,X] ?(\\d+ ?[a-zA-Z]+ ?))|((\\d+ ?[a-z]+ ?)[x,X] ?(\\d+ ?[a-zA-Z]+ ?)))|(((\\d+ ?)[x,X] ?(\\d+ ?)[x,X] ?(\\d+ ?[a-zA-Z]+))|((\\d+ ?)[x,X] ?(\\d+ ?[a-zA-Z]+)))\",text)\n",
    "    matched_strings = []\n",
    "    for i in iters:\n",
    "        matched_strings.append(i.group())\n",
    "    logger.info('matched_strings {} and length is {}'.format(matched_strings,len(matched_strings)==0))\n",
    "    if len(matched_strings)==0:\n",
    "        return 0\n",
    "    same_unit_in_dim = 1\n",
    "    multi_units_value = []\n",
    "    for dim in matched_strings:\n",
    "        units, values = format_dim(dim)\n",
    "        if len(units)==1:\n",
    "            units = units*len(values)\n",
    "        qc_res = qc_dim(units,values)\n",
    "        same_unit_in_dim*=qc_res[0]\n",
    "        multi_units_value.append(qc_res[1])\n",
    "    # dimres = [1,same_unit_in_dim,check_values(multi_units_value)]\n",
    "    return check_values(multi_units_value)\n",
    "            \n",
    "def get_Dimensions_flag(data):\n",
    "    data['complete_data'] = data['title']+data['description']+data['bullets']#+\n",
    "    data['ASIN']\n",
    "    data['final_dimensionality_check'] = data[['ASIN','complete_data']].progress_apply(lambda x: get_dimensions(x.ASIN,x.complete_data),axis = 1)\n",
    "    # logger.info(data['dimension_check_res'])\n",
    "    # data[['final_dimensionality_check','same_unit_in_dim','dimensionality_inter_check']] = data['dimension_check_res'].str.split('__%__')\n",
    "    # data.drop('dimension_check_res',axis = 1,inplace = True)\n",
    "    return data['final_dimensionality_check']"
   ]
  },
  {
   "cell_type": "markdown",
   "id": "1f97a63a",
   "metadata": {},
   "source": [
    "## Get complete Spell Check Flag"
   ]
  },
  {
   "cell_type": "code",
   "execution_count": 48,
   "id": "9b32bffa",
   "metadata": {
    "ExecuteTime": {
     "end_time": "2023-02-21T05:37:35.359577Z",
     "start_time": "2023-02-21T05:37:35.349194Z"
    },
    "code_folding": [
     0
    ]
   },
   "outputs": [],
   "source": [
    "def get_SentenceCase_flag(data):\n",
    "    data['final_sentence_case_check'] = data['title_sentence_case']\n",
    "\n",
    "    return data['final_sentence_case_check']"
   ]
  },
  {
   "cell_type": "markdown",
   "id": "ea08896e",
   "metadata": {},
   "source": [
    "## Get all the flags"
   ]
  },
  {
   "cell_type": "code",
   "execution_count": 49,
   "id": "d7805de9",
   "metadata": {
    "ExecuteTime": {
     "end_time": "2023-02-21T05:37:36.427085Z",
     "start_time": "2023-02-21T05:37:36.403978Z"
    },
    "code_folding": []
   },
   "outputs": [],
   "source": [
    "def QC_check1(data):\n",
    "    logger.info('Title Check Started')\n",
    "    data['final_title_check_flag'] = get_Title_flag(data)\n",
    "    logger.info('Title Check Completed!!!')\n",
    "\n",
    "    logger.info('Description Check Started')\n",
    "    data['final_description_check_flag'] = get_Description_flag(data)\n",
    "    logger.info('Description Check Completed!!!')\n",
    "\n",
    "    logger.info('Bullet Points Check Started')\n",
    "    data['final_bullet_point_check_flag'] = get_BulletPoints_flag(data)\n",
    "    logger.info('Bullet Points Check Completed!!!')\n",
    "\n",
    "    data['Grade1'] = data[['final_title_check_flag','final_description_check_flag','final_bullet_point_check_flag']].sum(axis = 1)\n",
    "    data['Grade1'] = data['Grade1'].apply(lambda x: 'A' if x==3 else('B' if x>0 else 'C'))\n",
    "\n",
    "    logger.info('Entile Spell Check Started')\n",
    "    data['final_entire_spellcheck'] = get_SpellCheck_flag(data.copy())\n",
    "    logger.info('Entile Spell Check Completed!!!')\n",
    "\n",
    "    logger.info('Dimensionality Check Started')\n",
    "    # data[['final_dimensionality_check','same_unit_in_dim','dimensionality_inter_check']] = get_Dimensions_flag(data.copy())\n",
    "    data['final_dimensionality_check']= get_Dimensions_flag(data.copy())\n",
    "    logger.info('Dimensionality Check Completed!!!')\n",
    "\n",
    "    logger.info('Sentence Case Check Started')\n",
    "    data['final_sentence_case_check'] = get_SentenceCase_flag(data.copy())\n",
    "    logger.info('Sentence Case Check Completed!!!')\n",
    "\n",
    "    data['Grade2'] = data[['final_entire_spellcheck','final_dimensionality_check','final_sentence_case_check']].sum(axis = 1)\n",
    "    data['Grade2'] = data['Grade2'].apply(lambda x: 'A' if x==3 else('B' if x==2 else 'C'))\n",
    "    tooltips_df = pd.DataFrame(messages)\n",
    "    data.style.set_tooltips(tooltips_df)\n",
    "    # st.write(messages)\n",
    "    tooltips_df.to_csv('DataStore/DataDict.csv',index=False)\n",
    "    return data"
   ]
  },
  {
   "cell_type": "markdown",
   "id": "57fb2c49",
   "metadata": {},
   "source": [
    "# Result Analysis"
   ]
  },
  {
   "cell_type": "code",
   "execution_count": 88,
   "id": "8c40f6a4",
   "metadata": {
    "ExecuteTime": {
     "end_time": "2023-02-21T06:17:03.992019Z",
     "start_time": "2023-02-21T06:17:03.986016Z"
    }
   },
   "outputs": [
    {
     "data": {
      "text/plain": [
       "(47, 39)"
      ]
     },
     "execution_count": 88,
     "metadata": {},
     "output_type": "execute_result"
    }
   ],
   "source": [
    "mush_df.shape"
   ]
  },
  {
   "cell_type": "code",
   "execution_count": 81,
   "id": "232c8b1e",
   "metadata": {
    "ExecuteTime": {
     "end_time": "2023-02-21T06:07:47.249697Z",
     "start_time": "2023-02-21T06:07:47.241169Z"
    }
   },
   "outputs": [],
   "source": [
    "bn_check = lambda x,y:1 if y.strip().lower().find(x.strip().lower())==0 else 0\n",
    "mush_df['title_brand_present'] = mush_df[['brand','title']].apply(lambda x:bn_check(x.brand,x.title),axis = 1)"
   ]
  },
  {
   "cell_type": "code",
   "execution_count": 84,
   "id": "2ecd5d95",
   "metadata": {
    "ExecuteTime": {
     "end_time": "2023-02-21T06:12:07.378993Z",
     "start_time": "2023-02-21T06:12:07.265200Z"
    }
   },
   "outputs": [
    {
     "name": "stderr",
     "output_type": "stream",
     "text": [
      "2023-02-21 11:42:07.268 | INFO     | __main__:sentence_case:3 - First Word Mush\n",
      "2023-02-21 11:42:07.270 | INFO     | __main__:sentence_case:5 - Brand Present(0) False\n",
      "2023-02-21 11:42:07.271 | INFO     | __main__:sentence_case:13 - First letter capital(M) True\n",
      "2023-02-21 11:42:07.272 | INFO     | __main__:sentence_case:3 - First Word Mush\n",
      "2023-02-21 11:42:07.272 | INFO     | __main__:sentence_case:5 - Brand Present(0) False\n",
      "2023-02-21 11:42:07.273 | INFO     | __main__:sentence_case:13 - First letter capital(M) True\n",
      "2023-02-21 11:42:07.274 | INFO     | __main__:sentence_case:3 - First Word Mush\n",
      "2023-02-21 11:42:07.274 | INFO     | __main__:sentence_case:5 - Brand Present(0) False\n",
      "2023-02-21 11:42:07.276 | INFO     | __main__:sentence_case:13 - First letter capital(M) True\n",
      "2023-02-21 11:42:07.277 | INFO     | __main__:sentence_case:3 - First Word Mush\n",
      "2023-02-21 11:42:07.277 | INFO     | __main__:sentence_case:5 - Brand Present(0) False\n",
      "2023-02-21 11:42:07.278 | INFO     | __main__:sentence_case:13 - First letter capital(M) True\n",
      "2023-02-21 11:42:07.278 | INFO     | __main__:sentence_case:3 - First Word Mush\n",
      "2023-02-21 11:42:07.279 | INFO     | __main__:sentence_case:5 - Brand Present(0) False\n",
      "2023-02-21 11:42:07.279 | INFO     | __main__:sentence_case:13 - First letter capital(M) True\n",
      "2023-02-21 11:42:07.280 | INFO     | __main__:sentence_case:3 - First Word Mush\n",
      "2023-02-21 11:42:07.280 | INFO     | __main__:sentence_case:5 - Brand Present(0) False\n",
      "2023-02-21 11:42:07.280 | INFO     | __main__:sentence_case:13 - First letter capital(M) True\n",
      "2023-02-21 11:42:07.282 | INFO     | __main__:sentence_case:3 - First Word Mush\n",
      "2023-02-21 11:42:07.282 | INFO     | __main__:sentence_case:5 - Brand Present(0) False\n",
      "2023-02-21 11:42:07.283 | INFO     | __main__:sentence_case:13 - First letter capital(M) True\n",
      "2023-02-21 11:42:07.283 | INFO     | __main__:sentence_case:3 - First Word Mush\n",
      "2023-02-21 11:42:07.284 | INFO     | __main__:sentence_case:5 - Brand Present(0) False\n",
      "2023-02-21 11:42:07.285 | INFO     | __main__:sentence_case:13 - First letter capital(M) True\n",
      "2023-02-21 11:42:07.285 | INFO     | __main__:sentence_case:3 - First Word Mush\n",
      "2023-02-21 11:42:07.286 | INFO     | __main__:sentence_case:5 - Brand Present(0) False\n",
      "2023-02-21 11:42:07.286 | INFO     | __main__:sentence_case:13 - First letter capital(M) True\n",
      "2023-02-21 11:42:07.287 | INFO     | __main__:sentence_case:3 - First Word Mush\n",
      "2023-02-21 11:42:07.288 | INFO     | __main__:sentence_case:5 - Brand Present(0) False\n",
      "2023-02-21 11:42:07.290 | INFO     | __main__:sentence_case:13 - First letter capital(M) True\n",
      "2023-02-21 11:42:07.292 | INFO     | __main__:sentence_case:3 - First Word Mush\n",
      "2023-02-21 11:42:07.293 | INFO     | __main__:sentence_case:5 - Brand Present(0) False\n",
      "2023-02-21 11:42:07.294 | INFO     | __main__:sentence_case:13 - First letter capital(M) True\n",
      "2023-02-21 11:42:07.294 | INFO     | __main__:sentence_case:3 - First Word Mush\n",
      "2023-02-21 11:42:07.295 | INFO     | __main__:sentence_case:5 - Brand Present(0) False\n",
      "2023-02-21 11:42:07.295 | INFO     | __main__:sentence_case:13 - First letter capital(M) True\n",
      "2023-02-21 11:42:07.296 | INFO     | __main__:sentence_case:3 - First Word Mush\n",
      "2023-02-21 11:42:07.297 | INFO     | __main__:sentence_case:5 - Brand Present(0) False\n",
      "2023-02-21 11:42:07.299 | INFO     | __main__:sentence_case:13 - First letter capital(M) True\n",
      "2023-02-21 11:42:07.300 | INFO     | __main__:sentence_case:3 - First Word Mush\n",
      "2023-02-21 11:42:07.300 | INFO     | __main__:sentence_case:5 - Brand Present(0) False\n",
      "2023-02-21 11:42:07.302 | INFO     | __main__:sentence_case:13 - First letter capital(M) True\n",
      "2023-02-21 11:42:07.302 | INFO     | __main__:sentence_case:3 - First Word Mush\n",
      "2023-02-21 11:42:07.302 | INFO     | __main__:sentence_case:5 - Brand Present(0) False\n",
      "2023-02-21 11:42:07.303 | INFO     | __main__:sentence_case:13 - First letter capital(M) True\n",
      "2023-02-21 11:42:07.304 | INFO     | __main__:sentence_case:3 - First Word Mush\n",
      "2023-02-21 11:42:07.304 | INFO     | __main__:sentence_case:5 - Brand Present(0) False\n",
      "2023-02-21 11:42:07.305 | INFO     | __main__:sentence_case:13 - First letter capital(M) True\n",
      "2023-02-21 11:42:07.307 | INFO     | __main__:sentence_case:3 - First Word Mush\n",
      "2023-02-21 11:42:07.307 | INFO     | __main__:sentence_case:5 - Brand Present(0) False\n",
      "2023-02-21 11:42:07.308 | INFO     | __main__:sentence_case:13 - First letter capital(M) True\n",
      "2023-02-21 11:42:07.309 | INFO     | __main__:sentence_case:3 - First Word Mush\n",
      "2023-02-21 11:42:07.309 | INFO     | __main__:sentence_case:5 - Brand Present(0) False\n",
      "2023-02-21 11:42:07.309 | INFO     | __main__:sentence_case:13 - First letter capital(M) True\n",
      "2023-02-21 11:42:07.310 | INFO     | __main__:sentence_case:3 - First Word Mush\n",
      "2023-02-21 11:42:07.310 | INFO     | __main__:sentence_case:5 - Brand Present(0) False\n",
      "2023-02-21 11:42:07.310 | INFO     | __main__:sentence_case:13 - First letter capital(M) True\n",
      "2023-02-21 11:42:07.312 | INFO     | __main__:sentence_case:3 - First Word Mush\n",
      "2023-02-21 11:42:07.313 | INFO     | __main__:sentence_case:5 - Brand Present(0) False\n",
      "2023-02-21 11:42:07.313 | INFO     | __main__:sentence_case:13 - First letter capital(M) True\n",
      "2023-02-21 11:42:07.314 | INFO     | __main__:sentence_case:3 - First Word Mush\n",
      "2023-02-21 11:42:07.317 | INFO     | __main__:sentence_case:5 - Brand Present(0) False\n",
      "2023-02-21 11:42:07.319 | INFO     | __main__:sentence_case:13 - First letter capital(M) True\n",
      "2023-02-21 11:42:07.320 | INFO     | __main__:sentence_case:3 - First Word Mush\n",
      "2023-02-21 11:42:07.320 | INFO     | __main__:sentence_case:5 - Brand Present(0) False\n",
      "2023-02-21 11:42:07.321 | INFO     | __main__:sentence_case:13 - First letter capital(M) True\n",
      "2023-02-21 11:42:07.321 | INFO     | __main__:sentence_case:3 - First Word Mush\n",
      "2023-02-21 11:42:07.324 | INFO     | __main__:sentence_case:5 - Brand Present(0) False\n",
      "2023-02-21 11:42:07.324 | INFO     | __main__:sentence_case:13 - First letter capital(M) True\n",
      "2023-02-21 11:42:07.325 | INFO     | __main__:sentence_case:3 - First Word Mush\n",
      "2023-02-21 11:42:07.325 | INFO     | __main__:sentence_case:5 - Brand Present(0) False\n",
      "2023-02-21 11:42:07.325 | INFO     | __main__:sentence_case:13 - First letter capital(M) True\n",
      "2023-02-21 11:42:07.326 | INFO     | __main__:sentence_case:3 - First Word Mush\n",
      "2023-02-21 11:42:07.327 | INFO     | __main__:sentence_case:5 - Brand Present(0) False\n",
      "2023-02-21 11:42:07.327 | INFO     | __main__:sentence_case:13 - First letter capital(M) True\n",
      "2023-02-21 11:42:07.327 | INFO     | __main__:sentence_case:3 - First Word Mush\n",
      "2023-02-21 11:42:07.328 | INFO     | __main__:sentence_case:5 - Brand Present(0) False\n",
      "2023-02-21 11:42:07.328 | INFO     | __main__:sentence_case:13 - First letter capital(M) True\n",
      "2023-02-21 11:42:07.329 | INFO     | __main__:sentence_case:3 - First Word Mush\n",
      "2023-02-21 11:42:07.330 | INFO     | __main__:sentence_case:5 - Brand Present(0) False\n",
      "2023-02-21 11:42:07.331 | INFO     | __main__:sentence_case:13 - First letter capital(M) True\n",
      "2023-02-21 11:42:07.332 | INFO     | __main__:sentence_case:3 - First Word Mush\n",
      "2023-02-21 11:42:07.334 | INFO     | __main__:sentence_case:5 - Brand Present(0) False\n",
      "2023-02-21 11:42:07.335 | INFO     | __main__:sentence_case:13 - First letter capital(M) True\n",
      "2023-02-21 11:42:07.335 | INFO     | __main__:sentence_case:3 - First Word Mush\n",
      "2023-02-21 11:42:07.336 | INFO     | __main__:sentence_case:5 - Brand Present(0) False\n",
      "2023-02-21 11:42:07.337 | INFO     | __main__:sentence_case:13 - First letter capital(M) True\n",
      "2023-02-21 11:42:07.337 | INFO     | __main__:sentence_case:3 - First Word Mush\n",
      "2023-02-21 11:42:07.337 | INFO     | __main__:sentence_case:5 - Brand Present(0) False\n",
      "2023-02-21 11:42:07.338 | INFO     | __main__:sentence_case:13 - First letter capital(M) True\n",
      "2023-02-21 11:42:07.338 | INFO     | __main__:sentence_case:3 - First Word Mush\n",
      "2023-02-21 11:42:07.340 | INFO     | __main__:sentence_case:5 - Brand Present(0) False\n",
      "2023-02-21 11:42:07.341 | INFO     | __main__:sentence_case:13 - First letter capital(M) True\n",
      "2023-02-21 11:42:07.342 | INFO     | __main__:sentence_case:3 - First Word Mush\n",
      "2023-02-21 11:42:07.342 | INFO     | __main__:sentence_case:5 - Brand Present(0) False\n"
     ]
    },
    {
     "name": "stderr",
     "output_type": "stream",
     "text": [
      "2023-02-21 11:42:07.343 | INFO     | __main__:sentence_case:13 - First letter capital(M) True\n",
      "2023-02-21 11:42:07.343 | INFO     | __main__:sentence_case:3 - First Word Mush\n",
      "2023-02-21 11:42:07.344 | INFO     | __main__:sentence_case:5 - Brand Present(0) False\n",
      "2023-02-21 11:42:07.344 | INFO     | __main__:sentence_case:13 - First letter capital(M) True\n",
      "2023-02-21 11:42:07.345 | INFO     | __main__:sentence_case:3 - First Word Mush\n",
      "2023-02-21 11:42:07.345 | INFO     | __main__:sentence_case:5 - Brand Present(0) False\n",
      "2023-02-21 11:42:07.346 | INFO     | __main__:sentence_case:13 - First letter capital(M) True\n",
      "2023-02-21 11:42:07.346 | INFO     | __main__:sentence_case:3 - First Word Mush\n",
      "2023-02-21 11:42:07.348 | INFO     | __main__:sentence_case:5 - Brand Present(0) False\n",
      "2023-02-21 11:42:07.350 | INFO     | __main__:sentence_case:13 - First letter capital(M) True\n",
      "2023-02-21 11:42:07.351 | INFO     | __main__:sentence_case:3 - First Word Mush\n",
      "2023-02-21 11:42:07.352 | INFO     | __main__:sentence_case:5 - Brand Present(0) False\n",
      "2023-02-21 11:42:07.353 | INFO     | __main__:sentence_case:13 - First letter capital(M) True\n",
      "2023-02-21 11:42:07.353 | INFO     | __main__:sentence_case:3 - First Word Mush\n",
      "2023-02-21 11:42:07.353 | INFO     | __main__:sentence_case:5 - Brand Present(0) False\n",
      "2023-02-21 11:42:07.354 | INFO     | __main__:sentence_case:13 - First letter capital(M) True\n",
      "2023-02-21 11:42:07.356 | INFO     | __main__:sentence_case:3 - First Word Mush\n",
      "2023-02-21 11:42:07.356 | INFO     | __main__:sentence_case:5 - Brand Present(0) False\n",
      "2023-02-21 11:42:07.356 | INFO     | __main__:sentence_case:13 - First letter capital(M) True\n",
      "2023-02-21 11:42:07.357 | INFO     | __main__:sentence_case:3 - First Word Mush\n",
      "2023-02-21 11:42:07.357 | INFO     | __main__:sentence_case:5 - Brand Present(0) False\n",
      "2023-02-21 11:42:07.358 | INFO     | __main__:sentence_case:13 - First letter capital(M) True\n",
      "2023-02-21 11:42:07.358 | INFO     | __main__:sentence_case:3 - First Word Mush\n",
      "2023-02-21 11:42:07.359 | INFO     | __main__:sentence_case:5 - Brand Present(0) False\n",
      "2023-02-21 11:42:07.359 | INFO     | __main__:sentence_case:13 - First letter capital(M) True\n",
      "2023-02-21 11:42:07.359 | INFO     | __main__:sentence_case:3 - First Word Mush\n",
      "2023-02-21 11:42:07.361 | INFO     | __main__:sentence_case:5 - Brand Present(0) False\n",
      "2023-02-21 11:42:07.361 | INFO     | __main__:sentence_case:13 - First letter capital(M) True\n",
      "2023-02-21 11:42:07.361 | INFO     | __main__:sentence_case:3 - First Word Mush\n",
      "2023-02-21 11:42:07.361 | INFO     | __main__:sentence_case:5 - Brand Present(0) False\n",
      "2023-02-21 11:42:07.362 | INFO     | __main__:sentence_case:13 - First letter capital(M) True\n",
      "2023-02-21 11:42:07.363 | INFO     | __main__:sentence_case:3 - First Word Mush\n",
      "2023-02-21 11:42:07.363 | INFO     | __main__:sentence_case:5 - Brand Present(0) False\n",
      "2023-02-21 11:42:07.364 | INFO     | __main__:sentence_case:13 - First letter capital(M) True\n",
      "2023-02-21 11:42:07.365 | INFO     | __main__:sentence_case:3 - First Word Mush\n",
      "2023-02-21 11:42:07.368 | INFO     | __main__:sentence_case:5 - Brand Present(0) False\n",
      "2023-02-21 11:42:07.369 | INFO     | __main__:sentence_case:13 - First letter capital(M) True\n",
      "2023-02-21 11:42:07.369 | INFO     | __main__:sentence_case:3 - First Word Mush\n",
      "2023-02-21 11:42:07.370 | INFO     | __main__:sentence_case:5 - Brand Present(0) False\n",
      "2023-02-21 11:42:07.370 | INFO     | __main__:sentence_case:13 - First letter capital(M) True\n",
      "2023-02-21 11:42:07.370 | INFO     | __main__:sentence_case:3 - First Word Mush\n",
      "2023-02-21 11:42:07.371 | INFO     | __main__:sentence_case:5 - Brand Present(0) False\n",
      "2023-02-21 11:42:07.374 | INFO     | __main__:sentence_case:13 - First letter capital(M) True\n",
      "2023-02-21 11:42:07.374 | INFO     | __main__:sentence_case:3 - First Word Mush\n",
      "2023-02-21 11:42:07.375 | INFO     | __main__:sentence_case:5 - Brand Present(0) False\n",
      "2023-02-21 11:42:07.375 | INFO     | __main__:sentence_case:13 - First letter capital(M) True\n"
     ]
    }
   ],
   "source": [
    "mush_df['title_sentence_case'] = mush_df[['brand','title',\"title_brand_present\"]].apply(lambda x:sentence_case(x.brand,x.title,x.title_brand_present),axis = 1)"
   ]
  },
  {
   "cell_type": "code",
   "execution_count": 89,
   "id": "e9c106ba",
   "metadata": {
    "ExecuteTime": {
     "end_time": "2023-02-21T06:17:26.974413Z",
     "start_time": "2023-02-21T06:17:26.969448Z"
    }
   },
   "outputs": [
    {
     "data": {
      "text/plain": [
       "1    47\n",
       "Name: title_sentence_case, dtype: int64"
      ]
     },
     "execution_count": 89,
     "metadata": {},
     "output_type": "execute_result"
    }
   ],
   "source": [
    "mush_df['title_sentence_case'].value_counts()"
   ]
  },
  {
   "cell_type": "code",
   "execution_count": 12,
   "id": "eeee7fd3",
   "metadata": {
    "ExecuteTime": {
     "end_time": "2023-02-21T04:46:28.735156Z",
     "start_time": "2023-02-21T04:46:28.704456Z"
    }
   },
   "outputs": [],
   "source": [
    "mush_df_gt = ground_truth[ground_truth['ASIN'].isin(mush_df['ASIN'])]"
   ]
  },
  {
   "cell_type": "code",
   "execution_count": 98,
   "id": "76506185",
   "metadata": {
    "ExecuteTime": {
     "end_time": "2023-02-21T07:09:02.058924Z",
     "start_time": "2023-02-21T07:09:01.674632Z"
    }
   },
   "outputs": [
    {
     "name": "stderr",
     "output_type": "stream",
     "text": [
      "  0%|          | 0/47 [00:00<?, ?it/s]2023-02-21 12:39:01.690 | INFO     | __main__:get_dimensions:65 - matched_strings ['29 x 59 InchesNA', '75 cms X 150 cms '] and length is False\n",
      "2023-02-21 12:39:01.691 | INFO     | __main__:format_dim:30 - initial dim 29 x 59 InchesNA\n",
      "2023-02-21 12:39:01.691 | INFO     | __main__:format_dim:39 - unit is ['inchesna'] and values are ['29', '59']\n",
      "2023-02-21 12:39:01.691 | INFO     | __main__:qc_dim:13 - unit for qc ['inchesna', 'inchesna']\n",
      "value for qc ['29', '59']\n",
      "2023-02-21 12:39:01.692 | INFO     | __main__:qc_dim:19 - metric_unit ['inches', 'inches']\n",
      "2023-02-21 12:39:01.693 | INFO     | __main__:qc_dim:21 - updated values [0.7365999999999999, 1.4986]\n",
      "2023-02-21 12:39:01.693 | INFO     | __main__:format_dim:30 - initial dim 75 cms X 150 cms \n",
      "2023-02-21 12:39:01.694 | INFO     | __main__:format_dim:39 - unit is ['cms', 'cms'] and values are ['75', '150']\n",
      "2023-02-21 12:39:01.695 | INFO     | __main__:qc_dim:13 - unit for qc ['cms', 'cms']\n",
      "value for qc ['75', '150']\n",
      "2023-02-21 12:39:01.695 | INFO     | __main__:qc_dim:19 - metric_unit ['cms', 'cms']\n",
      "2023-02-21 12:39:01.697 | INFO     | __main__:qc_dim:21 - updated values [0.75, 1.5]\n",
      "2023-02-21 12:39:01.697 | INFO     | __main__:check_values:43 - value_list for check values [[0.7365999999999999, 1.4986], [0.75, 1.5]]\n",
      "2023-02-21 12:39:01.698 | INFO     | __main__:check_values:49 - after sort [[0.7365999999999999, 1.4986], [0.75, 1.5]]\n",
      "2023-02-21 12:39:01.699 | INFO     | __main__:check_values:51 - transform for each dim [[0.7365999999999999, 0.75], [1.4986, 1.5]]\n",
      "2023-02-21 12:39:01.699 | INFO     | __main__:check_values:55 - ratio list for list [0.7365999999999999, 0.75] [1.0, 1.018191691555797]\n",
      "2023-02-21 12:39:01.702 | INFO     | __main__:check_values:55 - ratio list for list [1.4986, 1.5] [1.0, 1.000934205258241]\n",
      "2023-02-21 12:39:01.704 | INFO     | __main__:check_values:57 - res 1\n",
      "2023-02-21 12:39:01.706 | INFO     | __main__:get_dimensions:65 - matched_strings ['5 x 14 InchesEnhance'] and length is False\n",
      "2023-02-21 12:39:01.707 | INFO     | __main__:format_dim:30 - initial dim 5 x 14 InchesEnhance\n",
      "2023-02-21 12:39:01.707 | INFO     | __main__:format_dim:39 - unit is ['inchesenhance'] and values are ['5', '14']\n",
      "2023-02-21 12:39:01.708 | INFO     | __main__:qc_dim:13 - unit for qc ['inchesenhance', 'inchesenhance']\n",
      "value for qc ['5', '14']\n",
      "2023-02-21 12:39:01.709 | INFO     | __main__:qc_dim:19 - metric_unit ['inches', 'inches']\n",
      "2023-02-21 12:39:01.709 | INFO     | __main__:qc_dim:21 - updated values [0.127, 0.35559999999999997]\n",
      "2023-02-21 12:39:01.710 | INFO     | __main__:check_values:43 - value_list for check values [[0.127, 0.35559999999999997]]\n",
      "2023-02-21 12:39:01.710 | INFO     | __main__:check_values:49 - after sort [[0.127, 0.35559999999999997]]\n",
      "2023-02-21 12:39:01.711 | INFO     | __main__:check_values:51 - transform for each dim [[0.127], [0.35559999999999997]]\n",
      "2023-02-21 12:39:01.711 | INFO     | __main__:check_values:55 - ratio list for list [0.127] [1.0]\n",
      "2023-02-21 12:39:01.712 | INFO     | __main__:check_values:55 - ratio list for list [0.35559999999999997] [1.0]\n",
      "2023-02-21 12:39:01.713 | INFO     | __main__:check_values:57 - res 1\n",
      "2023-02-21 12:39:01.714 | INFO     | __main__:get_dimensions:65 - matched_strings ['5 x 14 Inches'] and length is False\n",
      "2023-02-21 12:39:01.714 | INFO     | __main__:format_dim:30 - initial dim 5 x 14 Inches\n",
      "2023-02-21 12:39:01.716 | INFO     | __main__:format_dim:39 - unit is ['inches'] and values are ['5', '14']\n",
      "2023-02-21 12:39:01.717 | INFO     | __main__:qc_dim:13 - unit for qc ['inches', 'inches']\n",
      "value for qc ['5', '14']\n",
      "2023-02-21 12:39:01.718 | INFO     | __main__:qc_dim:19 - metric_unit ['inches', 'inches']\n",
      "2023-02-21 12:39:01.719 | INFO     | __main__:qc_dim:21 - updated values [0.127, 0.35559999999999997]\n",
      "2023-02-21 12:39:01.719 | INFO     | __main__:check_values:43 - value_list for check values [[0.127, 0.35559999999999997]]\n",
      "2023-02-21 12:39:01.721 | INFO     | __main__:check_values:49 - after sort [[0.127, 0.35559999999999997]]\n",
      "2023-02-21 12:39:01.722 | INFO     | __main__:check_values:51 - transform for each dim [[0.127], [0.35559999999999997]]\n",
      "2023-02-21 12:39:01.724 | INFO     | __main__:check_values:55 - ratio list for list [0.127] [1.0]\n",
      "2023-02-21 12:39:01.724 | INFO     | __main__:check_values:55 - ratio list for list [0.35559999999999997] [1.0]\n",
      "2023-02-21 12:39:01.724 | INFO     | __main__:check_values:57 - res 1\n",
      "2023-02-21 12:39:01.725 | INFO     | __main__:get_dimensions:65 - matched_strings ['14 x 14 InchesNA'] and length is False\n",
      "2023-02-21 12:39:01.725 | INFO     | __main__:format_dim:30 - initial dim 14 x 14 InchesNA\n",
      "2023-02-21 12:39:01.726 | INFO     | __main__:format_dim:39 - unit is ['inchesna'] and values are ['14', '14']\n",
      "2023-02-21 12:39:01.726 | INFO     | __main__:qc_dim:13 - unit for qc ['inchesna', 'inchesna']\n",
      "value for qc ['14', '14']\n",
      "2023-02-21 12:39:01.727 | INFO     | __main__:qc_dim:19 - metric_unit ['inches', 'inches']\n",
      "2023-02-21 12:39:01.728 | INFO     | __main__:qc_dim:21 - updated values [0.35559999999999997, 0.35559999999999997]\n",
      "2023-02-21 12:39:01.729 | INFO     | __main__:check_values:43 - value_list for check values [[0.35559999999999997, 0.35559999999999997]]\n",
      "2023-02-21 12:39:01.730 | INFO     | __main__:check_values:49 - after sort [[0.35559999999999997, 0.35559999999999997]]\n",
      "2023-02-21 12:39:01.730 | INFO     | __main__:check_values:51 - transform for each dim [[0.35559999999999997], [0.35559999999999997]]\n",
      "2023-02-21 12:39:01.730 | INFO     | __main__:check_values:55 - ratio list for list [0.35559999999999997] [1.0]\n",
      "2023-02-21 12:39:01.731 | INFO     | __main__:check_values:55 - ratio list for list [0.35559999999999997] [1.0]\n",
      "2023-02-21 12:39:01.731 | INFO     | __main__:check_values:57 - res 1\n",
      "2023-02-21 12:39:01.732 | INFO     | __main__:get_dimensions:65 - matched_strings ['29 x 59 InchesNA', '75 cms X 150 cms '] and length is False\n",
      "2023-02-21 12:39:01.732 | INFO     | __main__:format_dim:30 - initial dim 29 x 59 InchesNA\n",
      "2023-02-21 12:39:01.733 | INFO     | __main__:format_dim:39 - unit is ['inchesna'] and values are ['29', '59']\n",
      "2023-02-21 12:39:01.733 | INFO     | __main__:qc_dim:13 - unit for qc ['inchesna', 'inchesna']\n",
      "value for qc ['29', '59']\n",
      "2023-02-21 12:39:01.735 | INFO     | __main__:qc_dim:19 - metric_unit ['inches', 'inches']\n",
      "2023-02-21 12:39:01.736 | INFO     | __main__:qc_dim:21 - updated values [0.7365999999999999, 1.4986]\n",
      "2023-02-21 12:39:01.737 | INFO     | __main__:format_dim:30 - initial dim 75 cms X 150 cms \n",
      "2023-02-21 12:39:01.738 | INFO     | __main__:format_dim:39 - unit is ['cms', 'cms'] and values are ['75', '150']\n",
      "2023-02-21 12:39:01.739 | INFO     | __main__:qc_dim:13 - unit for qc ['cms', 'cms']\n",
      "value for qc ['75', '150']\n",
      "2023-02-21 12:39:01.741 | INFO     | __main__:qc_dim:19 - metric_unit ['cms', 'cms']\n",
      "2023-02-21 12:39:01.742 | INFO     | __main__:qc_dim:21 - updated values [0.75, 1.5]\n",
      "2023-02-21 12:39:01.742 | INFO     | __main__:check_values:43 - value_list for check values [[0.7365999999999999, 1.4986], [0.75, 1.5]]\n",
      "2023-02-21 12:39:01.744 | INFO     | __main__:check_values:49 - after sort [[0.7365999999999999, 1.4986], [0.75, 1.5]]\n",
      "2023-02-21 12:39:01.744 | INFO     | __main__:check_values:51 - transform for each dim [[0.7365999999999999, 0.75], [1.4986, 1.5]]\n",
      "2023-02-21 12:39:01.745 | INFO     | __main__:check_values:55 - ratio list for list [0.7365999999999999, 0.75] [1.0, 1.018191691555797]\n",
      "2023-02-21 12:39:01.746 | INFO     | __main__:check_values:55 - ratio list for list [1.4986, 1.5] [1.0, 1.000934205258241]\n",
      "2023-02-21 12:39:01.746 | INFO     | __main__:check_values:57 - res 1\n",
      "2023-02-21 12:39:01.747 | INFO     | __main__:get_dimensions:65 - matched_strings ['29 x 59 InchesNA', '75 cms X 150 cms '] and length is False\n",
      "2023-02-21 12:39:01.747 | INFO     | __main__:format_dim:30 - initial dim 29 x 59 InchesNA\n",
      "2023-02-21 12:39:01.749 | INFO     | __main__:format_dim:39 - unit is ['inchesna'] and values are ['29', '59']\n",
      "2023-02-21 12:39:01.749 | INFO     | __main__:qc_dim:13 - unit for qc ['inchesna', 'inchesna']\n",
      "value for qc ['29', '59']\n",
      "2023-02-21 12:39:01.750 | INFO     | __main__:qc_dim:19 - metric_unit ['inches', 'inches']\n"
     ]
    },
    {
     "name": "stderr",
     "output_type": "stream",
     "text": [
      "2023-02-21 12:39:01.752 | INFO     | __main__:qc_dim:21 - updated values [0.7365999999999999, 1.4986]\n",
      "2023-02-21 12:39:01.752 | INFO     | __main__:format_dim:30 - initial dim 75 cms X 150 cms \n",
      "2023-02-21 12:39:01.752 | INFO     | __main__:format_dim:39 - unit is ['cms', 'cms'] and values are ['75', '150']\n",
      "2023-02-21 12:39:01.753 | INFO     | __main__:qc_dim:13 - unit for qc ['cms', 'cms']\n",
      "value for qc ['75', '150']\n",
      "2023-02-21 12:39:01.755 | INFO     | __main__:qc_dim:19 - metric_unit ['cms', 'cms']\n",
      "2023-02-21 12:39:01.756 | INFO     | __main__:qc_dim:21 - updated values [0.75, 1.5]\n",
      "2023-02-21 12:39:01.756 | INFO     | __main__:check_values:43 - value_list for check values [[0.7365999999999999, 1.4986], [0.75, 1.5]]\n",
      "2023-02-21 12:39:01.757 | INFO     | __main__:check_values:49 - after sort [[0.7365999999999999, 1.4986], [0.75, 1.5]]\n",
      "2023-02-21 12:39:01.757 | INFO     | __main__:check_values:51 - transform for each dim [[0.7365999999999999, 0.75], [1.4986, 1.5]]\n",
      "2023-02-21 12:39:01.758 | INFO     | __main__:check_values:55 - ratio list for list [0.7365999999999999, 0.75] [1.0, 1.018191691555797]\n",
      "2023-02-21 12:39:01.759 | INFO     | __main__:check_values:55 - ratio list for list [1.4986, 1.5] [1.0, 1.000934205258241]\n",
      "2023-02-21 12:39:01.759 | INFO     | __main__:check_values:57 - res 1\n",
      "2023-02-21 12:39:01.759 | INFO     | __main__:get_dimensions:65 - matched_strings ['29 x 59 InchesNA', '75 cms X 150 cms '] and length is False\n",
      "2023-02-21 12:39:01.761 | INFO     | __main__:format_dim:30 - initial dim 29 x 59 InchesNA\n",
      "2023-02-21 12:39:01.762 | INFO     | __main__:format_dim:39 - unit is ['inchesna'] and values are ['29', '59']\n",
      "2023-02-21 12:39:01.763 | INFO     | __main__:qc_dim:13 - unit for qc ['inchesna', 'inchesna']\n",
      "value for qc ['29', '59']\n",
      "2023-02-21 12:39:01.763 | INFO     | __main__:qc_dim:19 - metric_unit ['inches', 'inches']\n",
      "2023-02-21 12:39:01.764 | INFO     | __main__:qc_dim:21 - updated values [0.7365999999999999, 1.4986]\n",
      "2023-02-21 12:39:01.764 | INFO     | __main__:format_dim:30 - initial dim 75 cms X 150 cms \n",
      "2023-02-21 12:39:01.765 | INFO     | __main__:format_dim:39 - unit is ['cms', 'cms'] and values are ['75', '150']\n",
      "2023-02-21 12:39:01.765 | INFO     | __main__:qc_dim:13 - unit for qc ['cms', 'cms']\n",
      "value for qc ['75', '150']\n",
      "2023-02-21 12:39:01.766 | INFO     | __main__:qc_dim:19 - metric_unit ['cms', 'cms']\n",
      "2023-02-21 12:39:01.769 | INFO     | __main__:qc_dim:21 - updated values [0.75, 1.5]\n",
      "2023-02-21 12:39:01.769 | INFO     | __main__:check_values:43 - value_list for check values [[0.7365999999999999, 1.4986], [0.75, 1.5]]\n",
      "2023-02-21 12:39:01.770 | INFO     | __main__:check_values:49 - after sort [[0.7365999999999999, 1.4986], [0.75, 1.5]]\n",
      "2023-02-21 12:39:01.771 | INFO     | __main__:check_values:51 - transform for each dim [[0.7365999999999999, 0.75], [1.4986, 1.5]]\n",
      "2023-02-21 12:39:01.772 | INFO     | __main__:check_values:55 - ratio list for list [0.7365999999999999, 0.75] [1.0, 1.018191691555797]\n",
      "2023-02-21 12:39:01.773 | INFO     | __main__:check_values:55 - ratio list for list [1.4986, 1.5] [1.0, 1.000934205258241]\n",
      "2023-02-21 12:39:01.774 | INFO     | __main__:check_values:57 - res 1\n",
      "2023-02-21 12:39:01.774 | INFO     | __main__:get_dimensions:65 - matched_strings ['14 x 14 Inches'] and length is False\n",
      "2023-02-21 12:39:01.775 | INFO     | __main__:format_dim:30 - initial dim 14 x 14 Inches\n",
      "2023-02-21 12:39:01.775 | INFO     | __main__:format_dim:39 - unit is ['inches'] and values are ['14', '14']\n",
      "2023-02-21 12:39:01.776 | INFO     | __main__:qc_dim:13 - unit for qc ['inches', 'inches']\n",
      "value for qc ['14', '14']\n",
      "2023-02-21 12:39:01.778 | INFO     | __main__:qc_dim:19 - metric_unit ['inches', 'inches']\n",
      "2023-02-21 12:39:01.778 | INFO     | __main__:qc_dim:21 - updated values [0.35559999999999997, 0.35559999999999997]\n",
      "2023-02-21 12:39:01.779 | INFO     | __main__:check_values:43 - value_list for check values [[0.35559999999999997, 0.35559999999999997]]\n",
      "2023-02-21 12:39:01.779 | INFO     | __main__:check_values:49 - after sort [[0.35559999999999997, 0.35559999999999997]]\n",
      "2023-02-21 12:39:01.779 | INFO     | __main__:check_values:51 - transform for each dim [[0.35559999999999997], [0.35559999999999997]]\n",
      "2023-02-21 12:39:01.780 | INFO     | __main__:check_values:55 - ratio list for list [0.35559999999999997] [1.0]\n",
      "2023-02-21 12:39:01.781 | INFO     | __main__:check_values:55 - ratio list for list [0.35559999999999997] [1.0]\n",
      "2023-02-21 12:39:01.781 | INFO     | __main__:check_values:57 - res 1\n",
      "2023-02-21 12:39:01.782 | INFO     | __main__:get_dimensions:65 - matched_strings ['5 x 14 InchesEnhance'] and length is False\n",
      "2023-02-21 12:39:01.782 | INFO     | __main__:format_dim:30 - initial dim 5 x 14 InchesEnhance\n",
      "2023-02-21 12:39:01.783 | INFO     | __main__:format_dim:39 - unit is ['inchesenhance'] and values are ['5', '14']\n",
      "2023-02-21 12:39:01.784 | INFO     | __main__:qc_dim:13 - unit for qc ['inchesenhance', 'inchesenhance']\n",
      "value for qc ['5', '14']\n",
      "2023-02-21 12:39:01.785 | INFO     | __main__:qc_dim:19 - metric_unit ['inches', 'inches']\n",
      "2023-02-21 12:39:01.788 | INFO     | __main__:qc_dim:21 - updated values [0.127, 0.35559999999999997]\n",
      "2023-02-21 12:39:01.790 | INFO     | __main__:check_values:43 - value_list for check values [[0.127, 0.35559999999999997]]\n",
      "2023-02-21 12:39:01.791 | INFO     | __main__:check_values:49 - after sort [[0.127, 0.35559999999999997]]\n",
      "2023-02-21 12:39:01.791 | INFO     | __main__:check_values:51 - transform for each dim [[0.127], [0.35559999999999997]]\n",
      "2023-02-21 12:39:01.792 | INFO     | __main__:check_values:55 - ratio list for list [0.127] [1.0]\n",
      "2023-02-21 12:39:01.793 | INFO     | __main__:check_values:55 - ratio list for list [0.35559999999999997] [1.0]\n",
      "2023-02-21 12:39:01.793 | INFO     | __main__:check_values:57 - res 1\n",
      " 21%|██▏       | 10/47 [00:00<00:00, 94.61it/s]2023-02-21 12:39:01.796 | INFO     | __main__:get_dimensions:65 - matched_strings ['29 x 59 InchesNA', '75 cms X 150 cms '] and length is False\n",
      "2023-02-21 12:39:01.796 | INFO     | __main__:format_dim:30 - initial dim 29 x 59 InchesNA\n",
      "2023-02-21 12:39:01.797 | INFO     | __main__:format_dim:39 - unit is ['inchesna'] and values are ['29', '59']\n",
      "2023-02-21 12:39:01.797 | INFO     | __main__:qc_dim:13 - unit for qc ['inchesna', 'inchesna']\n",
      "value for qc ['29', '59']\n",
      "2023-02-21 12:39:01.798 | INFO     | __main__:qc_dim:19 - metric_unit ['inches', 'inches']\n",
      "2023-02-21 12:39:01.799 | INFO     | __main__:qc_dim:21 - updated values [0.7365999999999999, 1.4986]\n",
      "2023-02-21 12:39:01.799 | INFO     | __main__:format_dim:30 - initial dim 75 cms X 150 cms \n",
      "2023-02-21 12:39:01.800 | INFO     | __main__:format_dim:39 - unit is ['cms', 'cms'] and values are ['75', '150']\n",
      "2023-02-21 12:39:01.800 | INFO     | __main__:qc_dim:13 - unit for qc ['cms', 'cms']\n",
      "value for qc ['75', '150']\n",
      "2023-02-21 12:39:01.801 | INFO     | __main__:qc_dim:19 - metric_unit ['cms', 'cms']\n",
      "2023-02-21 12:39:01.803 | INFO     | __main__:qc_dim:21 - updated values [0.75, 1.5]\n",
      "2023-02-21 12:39:01.803 | INFO     | __main__:check_values:43 - value_list for check values [[0.7365999999999999, 1.4986], [0.75, 1.5]]\n",
      "2023-02-21 12:39:01.805 | INFO     | __main__:check_values:49 - after sort [[0.7365999999999999, 1.4986], [0.75, 1.5]]\n",
      "2023-02-21 12:39:01.806 | INFO     | __main__:check_values:51 - transform for each dim [[0.7365999999999999, 0.75], [1.4986, 1.5]]\n",
      "2023-02-21 12:39:01.807 | INFO     | __main__:check_values:55 - ratio list for list [0.7365999999999999, 0.75] [1.0, 1.018191691555797]\n",
      "2023-02-21 12:39:01.807 | INFO     | __main__:check_values:55 - ratio list for list [1.4986, 1.5] [1.0, 1.000934205258241]\n",
      "2023-02-21 12:39:01.808 | INFO     | __main__:check_values:57 - res 1\n",
      "2023-02-21 12:39:01.808 | INFO     | __main__:get_dimensions:65 - matched_strings ['29 x 59 InchesNA', '75 cms X 150 cms '] and length is False\n",
      "2023-02-21 12:39:01.809 | INFO     | __main__:format_dim:30 - initial dim 29 x 59 InchesNA\n",
      "2023-02-21 12:39:01.809 | INFO     | __main__:format_dim:39 - unit is ['inchesna'] and values are ['29', '59']\n",
      "2023-02-21 12:39:01.809 | INFO     | __main__:qc_dim:13 - unit for qc ['inchesna', 'inchesna']\n",
      "value for qc ['29', '59']\n",
      "2023-02-21 12:39:01.810 | INFO     | __main__:qc_dim:19 - metric_unit ['inches', 'inches']\n"
     ]
    },
    {
     "name": "stderr",
     "output_type": "stream",
     "text": [
      "2023-02-21 12:39:01.811 | INFO     | __main__:qc_dim:21 - updated values [0.7365999999999999, 1.4986]\n",
      "2023-02-21 12:39:01.812 | INFO     | __main__:format_dim:30 - initial dim 75 cms X 150 cms \n",
      "2023-02-21 12:39:01.812 | INFO     | __main__:format_dim:39 - unit is ['cms', 'cms'] and values are ['75', '150']\n",
      "2023-02-21 12:39:01.813 | INFO     | __main__:qc_dim:13 - unit for qc ['cms', 'cms']\n",
      "value for qc ['75', '150']\n",
      "2023-02-21 12:39:01.813 | INFO     | __main__:qc_dim:19 - metric_unit ['cms', 'cms']\n",
      "2023-02-21 12:39:01.814 | INFO     | __main__:qc_dim:21 - updated values [0.75, 1.5]\n",
      "2023-02-21 12:39:01.814 | INFO     | __main__:check_values:43 - value_list for check values [[0.7365999999999999, 1.4986], [0.75, 1.5]]\n",
      "2023-02-21 12:39:01.815 | INFO     | __main__:check_values:49 - after sort [[0.7365999999999999, 1.4986], [0.75, 1.5]]\n",
      "2023-02-21 12:39:01.816 | INFO     | __main__:check_values:51 - transform for each dim [[0.7365999999999999, 0.75], [1.4986, 1.5]]\n",
      "2023-02-21 12:39:01.816 | INFO     | __main__:check_values:55 - ratio list for list [0.7365999999999999, 0.75] [1.0, 1.018191691555797]\n",
      "2023-02-21 12:39:01.817 | INFO     | __main__:check_values:55 - ratio list for list [1.4986, 1.5] [1.0, 1.000934205258241]\n",
      "2023-02-21 12:39:01.818 | INFO     | __main__:check_values:57 - res 1\n",
      "2023-02-21 12:39:01.819 | INFO     | __main__:get_dimensions:65 - matched_strings ['14 x 14 Inches'] and length is False\n",
      "2023-02-21 12:39:01.819 | INFO     | __main__:format_dim:30 - initial dim 14 x 14 Inches\n",
      "2023-02-21 12:39:01.821 | INFO     | __main__:format_dim:39 - unit is ['inches'] and values are ['14', '14']\n",
      "2023-02-21 12:39:01.822 | INFO     | __main__:qc_dim:13 - unit for qc ['inches', 'inches']\n",
      "value for qc ['14', '14']\n",
      "2023-02-21 12:39:01.823 | INFO     | __main__:qc_dim:19 - metric_unit ['inches', 'inches']\n",
      "2023-02-21 12:39:01.824 | INFO     | __main__:qc_dim:21 - updated values [0.35559999999999997, 0.35559999999999997]\n",
      "2023-02-21 12:39:01.824 | INFO     | __main__:check_values:43 - value_list for check values [[0.35559999999999997, 0.35559999999999997]]\n",
      "2023-02-21 12:39:01.825 | INFO     | __main__:check_values:49 - after sort [[0.35559999999999997, 0.35559999999999997]]\n",
      "2023-02-21 12:39:01.825 | INFO     | __main__:check_values:51 - transform for each dim [[0.35559999999999997], [0.35559999999999997]]\n",
      "2023-02-21 12:39:01.826 | INFO     | __main__:check_values:55 - ratio list for list [0.35559999999999997] [1.0]\n",
      "2023-02-21 12:39:01.826 | INFO     | __main__:check_values:55 - ratio list for list [0.35559999999999997] [1.0]\n",
      "2023-02-21 12:39:01.826 | INFO     | __main__:check_values:57 - res 1\n",
      "2023-02-21 12:39:01.827 | INFO     | __main__:get_dimensions:65 - matched_strings ['5 x 14 InchesNA', '35 cms X 75 cms '] and length is False\n",
      "2023-02-21 12:39:01.827 | INFO     | __main__:format_dim:30 - initial dim 5 x 14 InchesNA\n",
      "2023-02-21 12:39:01.828 | INFO     | __main__:format_dim:39 - unit is ['inchesna'] and values are ['5', '14']\n",
      "2023-02-21 12:39:01.828 | INFO     | __main__:qc_dim:13 - unit for qc ['inchesna', 'inchesna']\n",
      "value for qc ['5', '14']\n",
      "2023-02-21 12:39:01.829 | INFO     | __main__:qc_dim:19 - metric_unit ['inches', 'inches']\n",
      "2023-02-21 12:39:01.829 | INFO     | __main__:qc_dim:21 - updated values [0.127, 0.35559999999999997]\n",
      "2023-02-21 12:39:01.829 | INFO     | __main__:format_dim:30 - initial dim 35 cms X 75 cms \n",
      "2023-02-21 12:39:01.829 | INFO     | __main__:format_dim:39 - unit is ['cms', 'cms'] and values are ['35', '75']\n",
      "2023-02-21 12:39:01.831 | INFO     | __main__:qc_dim:13 - unit for qc ['cms', 'cms']\n",
      "value for qc ['35', '75']\n",
      "2023-02-21 12:39:01.831 | INFO     | __main__:qc_dim:19 - metric_unit ['cms', 'cms']\n",
      "2023-02-21 12:39:01.832 | INFO     | __main__:qc_dim:21 - updated values [0.35000000000000003, 0.75]\n",
      "2023-02-21 12:39:01.832 | INFO     | __main__:check_values:43 - value_list for check values [[0.127, 0.35559999999999997], [0.35000000000000003, 0.75]]\n",
      "2023-02-21 12:39:01.832 | INFO     | __main__:check_values:49 - after sort [[0.127, 0.35559999999999997], [0.35000000000000003, 0.75]]\n",
      "2023-02-21 12:39:01.833 | INFO     | __main__:check_values:51 - transform for each dim [[0.127, 0.35000000000000003], [0.35559999999999997, 0.75]]\n",
      "2023-02-21 12:39:01.834 | INFO     | __main__:check_values:55 - ratio list for list [0.127, 0.35000000000000003] [1.0, 2.755905511811024]\n",
      "2023-02-21 12:39:01.835 | INFO     | __main__:check_values:55 - ratio list for list [0.35559999999999997, 0.75] [1.0, 2.109111361079865]\n",
      "2023-02-21 12:39:01.837 | INFO     | __main__:check_values:57 - res 0\n",
      "2023-02-21 12:39:01.839 | INFO     | __main__:get_dimensions:65 - matched_strings ['5 x 14 Inches', '5 X 14 inches'] and length is False\n",
      "2023-02-21 12:39:01.839 | INFO     | __main__:format_dim:30 - initial dim 5 x 14 Inches\n",
      "2023-02-21 12:39:01.839 | INFO     | __main__:format_dim:39 - unit is ['inches'] and values are ['5', '14']\n",
      "2023-02-21 12:39:01.841 | INFO     | __main__:qc_dim:13 - unit for qc ['inches', 'inches']\n",
      "value for qc ['5', '14']\n",
      "2023-02-21 12:39:01.841 | INFO     | __main__:qc_dim:19 - metric_unit ['inches', 'inches']\n",
      "2023-02-21 12:39:01.842 | INFO     | __main__:qc_dim:21 - updated values [0.127, 0.35559999999999997]\n",
      "2023-02-21 12:39:01.842 | INFO     | __main__:format_dim:30 - initial dim 5 X 14 inches\n",
      "2023-02-21 12:39:01.843 | INFO     | __main__:format_dim:39 - unit is ['inches'] and values are ['5', '14']\n",
      "2023-02-21 12:39:01.843 | INFO     | __main__:qc_dim:13 - unit for qc ['inches', 'inches']\n",
      "value for qc ['5', '14']\n",
      "2023-02-21 12:39:01.844 | INFO     | __main__:qc_dim:19 - metric_unit ['inches', 'inches']\n",
      "2023-02-21 12:39:01.844 | INFO     | __main__:qc_dim:21 - updated values [0.127, 0.35559999999999997]\n",
      "2023-02-21 12:39:01.844 | INFO     | __main__:check_values:43 - value_list for check values [[0.127, 0.35559999999999997], [0.127, 0.35559999999999997]]\n",
      "2023-02-21 12:39:01.845 | INFO     | __main__:check_values:49 - after sort [[0.127, 0.35559999999999997], [0.127, 0.35559999999999997]]\n",
      "2023-02-21 12:39:01.845 | INFO     | __main__:check_values:51 - transform for each dim [[0.127, 0.127], [0.35559999999999997, 0.35559999999999997]]\n",
      "2023-02-21 12:39:01.846 | INFO     | __main__:check_values:55 - ratio list for list [0.127, 0.127] [1.0, 1.0]\n",
      "2023-02-21 12:39:01.846 | INFO     | __main__:check_values:55 - ratio list for list [0.35559999999999997, 0.35559999999999997] [1.0, 1.0]\n",
      "2023-02-21 12:39:01.846 | INFO     | __main__:check_values:57 - res 1\n",
      "2023-02-21 12:39:01.847 | INFO     | __main__:get_dimensions:65 - matched_strings ['14 x 14 Inches'] and length is False\n",
      "2023-02-21 12:39:01.847 | INFO     | __main__:format_dim:30 - initial dim 14 x 14 Inches\n",
      "2023-02-21 12:39:01.848 | INFO     | __main__:format_dim:39 - unit is ['inches'] and values are ['14', '14']\n",
      "2023-02-21 12:39:01.848 | INFO     | __main__:qc_dim:13 - unit for qc ['inches', 'inches']\n",
      "value for qc ['14', '14']\n",
      "2023-02-21 12:39:01.849 | INFO     | __main__:qc_dim:19 - metric_unit ['inches', 'inches']\n",
      "2023-02-21 12:39:01.849 | INFO     | __main__:qc_dim:21 - updated values [0.35559999999999997, 0.35559999999999997]\n",
      "2023-02-21 12:39:01.850 | INFO     | __main__:check_values:43 - value_list for check values [[0.35559999999999997, 0.35559999999999997]]\n",
      "2023-02-21 12:39:01.851 | INFO     | __main__:check_values:49 - after sort [[0.35559999999999997, 0.35559999999999997]]\n",
      "2023-02-21 12:39:01.851 | INFO     | __main__:check_values:51 - transform for each dim [[0.35559999999999997], [0.35559999999999997]]\n",
      "2023-02-21 12:39:01.851 | INFO     | __main__:check_values:55 - ratio list for list [0.35559999999999997] [1.0]\n",
      "2023-02-21 12:39:01.852 | INFO     | __main__:check_values:55 - ratio list for list [0.35559999999999997] [1.0]\n",
      "2023-02-21 12:39:01.854 | INFO     | __main__:check_values:57 - res 1\n",
      "2023-02-21 12:39:01.856 | INFO     | __main__:get_dimensions:65 - matched_strings ['5 x 14 Inches', '5 X 14 inches'] and length is False\n",
      "2023-02-21 12:39:01.856 | INFO     | __main__:format_dim:30 - initial dim 5 x 14 Inches\n",
      "2023-02-21 12:39:01.857 | INFO     | __main__:format_dim:39 - unit is ['inches'] and values are ['5', '14']\n",
      "2023-02-21 12:39:01.857 | INFO     | __main__:qc_dim:13 - unit for qc ['inches', 'inches']\n",
      "value for qc ['5', '14']\n"
     ]
    },
    {
     "name": "stderr",
     "output_type": "stream",
     "text": [
      "2023-02-21 12:39:01.858 | INFO     | __main__:qc_dim:19 - metric_unit ['inches', 'inches']\n",
      "2023-02-21 12:39:01.859 | INFO     | __main__:qc_dim:21 - updated values [0.127, 0.35559999999999997]\n",
      "2023-02-21 12:39:01.859 | INFO     | __main__:format_dim:30 - initial dim 5 X 14 inches\n",
      "2023-02-21 12:39:01.860 | INFO     | __main__:format_dim:39 - unit is ['inches'] and values are ['5', '14']\n",
      "2023-02-21 12:39:01.865 | INFO     | __main__:qc_dim:13 - unit for qc ['inches', 'inches']\n",
      "value for qc ['5', '14']\n",
      "2023-02-21 12:39:01.866 | INFO     | __main__:qc_dim:19 - metric_unit ['inches', 'inches']\n",
      "2023-02-21 12:39:01.866 | INFO     | __main__:qc_dim:21 - updated values [0.127, 0.35559999999999997]\n",
      "2023-02-21 12:39:01.867 | INFO     | __main__:check_values:43 - value_list for check values [[0.127, 0.35559999999999997], [0.127, 0.35559999999999997]]\n",
      "2023-02-21 12:39:01.868 | INFO     | __main__:check_values:49 - after sort [[0.127, 0.35559999999999997], [0.127, 0.35559999999999997]]\n",
      "2023-02-21 12:39:01.868 | INFO     | __main__:check_values:51 - transform for each dim [[0.127, 0.127], [0.35559999999999997, 0.35559999999999997]]\n",
      "2023-02-21 12:39:01.870 | INFO     | __main__:check_values:55 - ratio list for list [0.127, 0.127] [1.0, 1.0]\n",
      "2023-02-21 12:39:01.872 | INFO     | __main__:check_values:55 - ratio list for list [0.35559999999999997, 0.35559999999999997] [1.0, 1.0]\n",
      "2023-02-21 12:39:01.873 | INFO     | __main__:check_values:57 - res 1\n",
      "2023-02-21 12:39:01.874 | INFO     | __main__:get_dimensions:65 - matched_strings ['5 x 14 InchesNA', '35 cms X 75 cms '] and length is False\n",
      "2023-02-21 12:39:01.875 | INFO     | __main__:format_dim:30 - initial dim 5 x 14 InchesNA\n",
      "2023-02-21 12:39:01.876 | INFO     | __main__:format_dim:39 - unit is ['inchesna'] and values are ['5', '14']\n",
      "2023-02-21 12:39:01.876 | INFO     | __main__:qc_dim:13 - unit for qc ['inchesna', 'inchesna']\n",
      "value for qc ['5', '14']\n",
      "2023-02-21 12:39:01.877 | INFO     | __main__:qc_dim:19 - metric_unit ['inches', 'inches']\n",
      "2023-02-21 12:39:01.877 | INFO     | __main__:qc_dim:21 - updated values [0.127, 0.35559999999999997]\n",
      "2023-02-21 12:39:01.878 | INFO     | __main__:format_dim:30 - initial dim 35 cms X 75 cms \n",
      "2023-02-21 12:39:01.878 | INFO     | __main__:format_dim:39 - unit is ['cms', 'cms'] and values are ['35', '75']\n",
      "2023-02-21 12:39:01.879 | INFO     | __main__:qc_dim:13 - unit for qc ['cms', 'cms']\n",
      "value for qc ['35', '75']\n",
      "2023-02-21 12:39:01.879 | INFO     | __main__:qc_dim:19 - metric_unit ['cms', 'cms']\n",
      "2023-02-21 12:39:01.880 | INFO     | __main__:qc_dim:21 - updated values [0.35000000000000003, 0.75]\n",
      "2023-02-21 12:39:01.880 | INFO     | __main__:check_values:43 - value_list for check values [[0.127, 0.35559999999999997], [0.35000000000000003, 0.75]]\n",
      "2023-02-21 12:39:01.880 | INFO     | __main__:check_values:49 - after sort [[0.127, 0.35559999999999997], [0.35000000000000003, 0.75]]\n",
      "2023-02-21 12:39:01.881 | INFO     | __main__:check_values:51 - transform for each dim [[0.127, 0.35000000000000003], [0.35559999999999997, 0.75]]\n",
      "2023-02-21 12:39:01.882 | INFO     | __main__:check_values:55 - ratio list for list [0.127, 0.35000000000000003] [1.0, 2.755905511811024]\n",
      "2023-02-21 12:39:01.882 | INFO     | __main__:check_values:55 - ratio list for list [0.35559999999999997, 0.75] [1.0, 2.109111361079865]\n",
      "2023-02-21 12:39:01.883 | INFO     | __main__:check_values:57 - res 0\n",
      "2023-02-21 12:39:01.884 | INFO     | __main__:get_dimensions:65 - matched_strings ['14 x 14 Inches'] and length is False\n",
      "2023-02-21 12:39:01.886 | INFO     | __main__:format_dim:30 - initial dim 14 x 14 Inches\n",
      "2023-02-21 12:39:01.888 | INFO     | __main__:format_dim:39 - unit is ['inches'] and values are ['14', '14']\n",
      "2023-02-21 12:39:01.888 | INFO     | __main__:qc_dim:13 - unit for qc ['inches', 'inches']\n",
      "value for qc ['14', '14']\n",
      "2023-02-21 12:39:01.889 | INFO     | __main__:qc_dim:19 - metric_unit ['inches', 'inches']\n",
      "2023-02-21 12:39:01.889 | INFO     | __main__:qc_dim:21 - updated values [0.35559999999999997, 0.35559999999999997]\n",
      "2023-02-21 12:39:01.889 | INFO     | __main__:check_values:43 - value_list for check values [[0.35559999999999997, 0.35559999999999997]]\n",
      "2023-02-21 12:39:01.890 | INFO     | __main__:check_values:49 - after sort [[0.35559999999999997, 0.35559999999999997]]\n",
      "2023-02-21 12:39:01.890 | INFO     | __main__:check_values:51 - transform for each dim [[0.35559999999999997], [0.35559999999999997]]\n",
      "2023-02-21 12:39:01.891 | INFO     | __main__:check_values:55 - ratio list for list [0.35559999999999997] [1.0]\n",
      "2023-02-21 12:39:01.891 | INFO     | __main__:check_values:55 - ratio list for list [0.35559999999999997] [1.0]\n",
      "2023-02-21 12:39:01.891 | INFO     | __main__:check_values:57 - res 1\n",
      "2023-02-21 12:39:01.893 | INFO     | __main__:get_dimensions:65 - matched_strings ['14 X 14 Inches', '3, 200 GsmNA'] and length is False\n",
      "2023-02-21 12:39:01.893 | INFO     | __main__:format_dim:30 - initial dim 14 X 14 Inches\n",
      "2023-02-21 12:39:01.893 | INFO     | __main__:format_dim:39 - unit is ['inches'] and values are ['14', '14']\n",
      "2023-02-21 12:39:01.894 | INFO     | __main__:qc_dim:13 - unit for qc ['inches', 'inches']\n",
      "value for qc ['14', '14']\n",
      "2023-02-21 12:39:01.895 | INFO     | __main__:qc_dim:19 - metric_unit ['inches', 'inches']\n",
      "2023-02-21 12:39:01.895 | INFO     | __main__:qc_dim:21 - updated values [0.35559999999999997, 0.35559999999999997]\n",
      "2023-02-21 12:39:01.896 | INFO     | __main__:format_dim:30 - initial dim 3, 200 GsmNA\n",
      "2023-02-21 12:39:01.896 | INFO     | __main__:format_dim:39 - unit is ['gsmna'] and values are ['3', '200']\n",
      "2023-02-21 12:39:01.897 | INFO     | __main__:qc_dim:13 - unit for qc ['gsmna', 'gsmna']\n",
      "value for qc ['3', '200']\n",
      "2023-02-21 12:39:01.897 | INFO     | __main__:qc_dim:19 - metric_unit ['m', 'm']\n",
      "2023-02-21 12:39:01.898 | INFO     | __main__:qc_dim:21 - updated values [3.0, 200.0]\n",
      "2023-02-21 12:39:01.898 | INFO     | __main__:check_values:43 - value_list for check values [[0.35559999999999997, 0.35559999999999997], [3.0, 200.0]]\n",
      "2023-02-21 12:39:01.899 | INFO     | __main__:check_values:49 - after sort [[0.35559999999999997, 0.35559999999999997], [3.0, 200.0]]\n",
      "2023-02-21 12:39:01.899 | INFO     | __main__:check_values:51 - transform for each dim [[0.35559999999999997, 3.0], [0.35559999999999997, 200.0]]\n",
      "2023-02-21 12:39:01.901 | INFO     | __main__:check_values:55 - ratio list for list [0.35559999999999997, 3.0] [1.0, 8.43644544431946]\n",
      "2023-02-21 12:39:01.902 | INFO     | __main__:check_values:55 - ratio list for list [0.35559999999999997, 200.0] [1.0, 562.429696287964]\n",
      "2023-02-21 12:39:01.904 | INFO     | __main__:check_values:57 - res 0\n",
      " 43%|████▎     | 20/47 [00:00<00:00, 92.22it/s]2023-02-21 12:39:01.906 | INFO     | __main__:get_dimensions:65 - matched_strings ['5 x 14 InchesNA', '35 cms X 75 cms '] and length is False\n",
      "2023-02-21 12:39:01.906 | INFO     | __main__:format_dim:30 - initial dim 5 x 14 InchesNA\n",
      "2023-02-21 12:39:01.907 | INFO     | __main__:format_dim:39 - unit is ['inchesna'] and values are ['5', '14']\n",
      "2023-02-21 12:39:01.907 | INFO     | __main__:qc_dim:13 - unit for qc ['inchesna', 'inchesna']\n",
      "value for qc ['5', '14']\n",
      "2023-02-21 12:39:01.908 | INFO     | __main__:qc_dim:19 - metric_unit ['inches', 'inches']\n",
      "2023-02-21 12:39:01.908 | INFO     | __main__:qc_dim:21 - updated values [0.127, 0.35559999999999997]\n",
      "2023-02-21 12:39:01.908 | INFO     | __main__:format_dim:30 - initial dim 35 cms X 75 cms \n",
      "2023-02-21 12:39:01.909 | INFO     | __main__:format_dim:39 - unit is ['cms', 'cms'] and values are ['35', '75']\n",
      "2023-02-21 12:39:01.909 | INFO     | __main__:qc_dim:13 - unit for qc ['cms', 'cms']\n",
      "value for qc ['35', '75']\n",
      "2023-02-21 12:39:01.910 | INFO     | __main__:qc_dim:19 - metric_unit ['cms', 'cms']\n",
      "2023-02-21 12:39:01.910 | INFO     | __main__:qc_dim:21 - updated values [0.35000000000000003, 0.75]\n",
      "2023-02-21 12:39:01.910 | INFO     | __main__:check_values:43 - value_list for check values [[0.127, 0.35559999999999997], [0.35000000000000003, 0.75]]\n",
      "2023-02-21 12:39:01.910 | INFO     | __main__:check_values:49 - after sort [[0.127, 0.35559999999999997], [0.35000000000000003, 0.75]]\n",
      "2023-02-21 12:39:01.911 | INFO     | __main__:check_values:51 - transform for each dim [[0.127, 0.35000000000000003], [0.35559999999999997, 0.75]]\n"
     ]
    },
    {
     "name": "stderr",
     "output_type": "stream",
     "text": [
      "2023-02-21 12:39:01.911 | INFO     | __main__:check_values:55 - ratio list for list [0.127, 0.35000000000000003] [1.0, 2.755905511811024]\n",
      "2023-02-21 12:39:01.912 | INFO     | __main__:check_values:55 - ratio list for list [0.35559999999999997, 0.75] [1.0, 2.109111361079865]\n",
      "2023-02-21 12:39:01.912 | INFO     | __main__:check_values:57 - res 0\n",
      "2023-02-21 12:39:01.912 | INFO     | __main__:get_dimensions:65 - matched_strings ['29 x 59 InchesNA', '70 cms X 140 cms '] and length is False\n",
      "2023-02-21 12:39:01.913 | INFO     | __main__:format_dim:30 - initial dim 29 x 59 InchesNA\n",
      "2023-02-21 12:39:01.913 | INFO     | __main__:format_dim:39 - unit is ['inchesna'] and values are ['29', '59']\n",
      "2023-02-21 12:39:01.914 | INFO     | __main__:qc_dim:13 - unit for qc ['inchesna', 'inchesna']\n",
      "value for qc ['29', '59']\n",
      "2023-02-21 12:39:01.914 | INFO     | __main__:qc_dim:19 - metric_unit ['inches', 'inches']\n",
      "2023-02-21 12:39:01.914 | INFO     | __main__:qc_dim:21 - updated values [0.7365999999999999, 1.4986]\n",
      "2023-02-21 12:39:01.915 | INFO     | __main__:format_dim:30 - initial dim 70 cms X 140 cms \n",
      "2023-02-21 12:39:01.915 | INFO     | __main__:format_dim:39 - unit is ['cms', 'cms'] and values are ['70', '140']\n",
      "2023-02-21 12:39:01.915 | INFO     | __main__:qc_dim:13 - unit for qc ['cms', 'cms']\n",
      "value for qc ['70', '140']\n",
      "2023-02-21 12:39:01.916 | INFO     | __main__:qc_dim:19 - metric_unit ['cms', 'cms']\n",
      "2023-02-21 12:39:01.918 | INFO     | __main__:qc_dim:21 - updated values [0.7000000000000001, 1.4000000000000001]\n",
      "2023-02-21 12:39:01.920 | INFO     | __main__:check_values:43 - value_list for check values [[0.7365999999999999, 1.4986], [0.7000000000000001, 1.4000000000000001]]\n",
      "2023-02-21 12:39:01.921 | INFO     | __main__:check_values:49 - after sort [[0.7365999999999999, 1.4986], [0.7000000000000001, 1.4000000000000001]]\n",
      "2023-02-21 12:39:01.922 | INFO     | __main__:check_values:51 - transform for each dim [[0.7365999999999999, 0.7000000000000001], [1.4986, 1.4000000000000001]]\n",
      "2023-02-21 12:39:01.923 | INFO     | __main__:check_values:55 - ratio list for list [0.7365999999999999, 0.7000000000000001] [1.0, 0.9503122454520773]\n",
      "2023-02-21 12:39:01.923 | INFO     | __main__:check_values:55 - ratio list for list [1.4986, 1.4000000000000001] [1.0, 0.9342052582410251]\n",
      "2023-02-21 12:39:01.924 | INFO     | __main__:check_values:57 - res 0\n",
      "2023-02-21 12:39:01.924 | INFO     | __main__:get_dimensions:65 - matched_strings ['14 x 14 InchesNA'] and length is False\n",
      "2023-02-21 12:39:01.925 | INFO     | __main__:format_dim:30 - initial dim 14 x 14 InchesNA\n",
      "2023-02-21 12:39:01.925 | INFO     | __main__:format_dim:39 - unit is ['inchesna'] and values are ['14', '14']\n",
      "2023-02-21 12:39:01.927 | INFO     | __main__:qc_dim:13 - unit for qc ['inchesna', 'inchesna']\n",
      "value for qc ['14', '14']\n",
      "2023-02-21 12:39:01.929 | INFO     | __main__:qc_dim:19 - metric_unit ['inches', 'inches']\n",
      "2023-02-21 12:39:01.929 | INFO     | __main__:qc_dim:21 - updated values [0.35559999999999997, 0.35559999999999997]\n",
      "2023-02-21 12:39:01.930 | INFO     | __main__:check_values:43 - value_list for check values [[0.35559999999999997, 0.35559999999999997]]\n",
      "2023-02-21 12:39:01.930 | INFO     | __main__:check_values:49 - after sort [[0.35559999999999997, 0.35559999999999997]]\n",
      "2023-02-21 12:39:01.930 | INFO     | __main__:check_values:51 - transform for each dim [[0.35559999999999997], [0.35559999999999997]]\n",
      "2023-02-21 12:39:01.931 | INFO     | __main__:check_values:55 - ratio list for list [0.35559999999999997] [1.0]\n",
      "2023-02-21 12:39:01.931 | INFO     | __main__:check_values:55 - ratio list for list [0.35559999999999997] [1.0]\n",
      "2023-02-21 12:39:01.932 | INFO     | __main__:check_values:57 - res 1\n",
      "2023-02-21 12:39:01.933 | INFO     | __main__:get_dimensions:65 - matched_strings ['14 x 14 Inches'] and length is False\n",
      "2023-02-21 12:39:01.933 | INFO     | __main__:format_dim:30 - initial dim 14 x 14 Inches\n",
      "2023-02-21 12:39:01.934 | INFO     | __main__:format_dim:39 - unit is ['inches'] and values are ['14', '14']\n",
      "2023-02-21 12:39:01.934 | INFO     | __main__:qc_dim:13 - unit for qc ['inches', 'inches']\n",
      "value for qc ['14', '14']\n",
      "2023-02-21 12:39:01.937 | INFO     | __main__:qc_dim:19 - metric_unit ['inches', 'inches']\n",
      "2023-02-21 12:39:01.938 | INFO     | __main__:qc_dim:21 - updated values [0.35559999999999997, 0.35559999999999997]\n",
      "2023-02-21 12:39:01.938 | INFO     | __main__:check_values:43 - value_list for check values [[0.35559999999999997, 0.35559999999999997]]\n",
      "2023-02-21 12:39:01.938 | INFO     | __main__:check_values:49 - after sort [[0.35559999999999997, 0.35559999999999997]]\n",
      "2023-02-21 12:39:01.939 | INFO     | __main__:check_values:51 - transform for each dim [[0.35559999999999997], [0.35559999999999997]]\n",
      "2023-02-21 12:39:01.940 | INFO     | __main__:check_values:55 - ratio list for list [0.35559999999999997] [1.0]\n",
      "2023-02-21 12:39:01.941 | INFO     | __main__:check_values:55 - ratio list for list [0.35559999999999997] [1.0]\n",
      "2023-02-21 12:39:01.941 | INFO     | __main__:check_values:57 - res 1\n",
      "2023-02-21 12:39:01.942 | INFO     | __main__:get_dimensions:65 - matched_strings ['5 x 14 InchesNA', '35 cms X 75 cms '] and length is False\n",
      "2023-02-21 12:39:01.942 | INFO     | __main__:format_dim:30 - initial dim 5 x 14 InchesNA\n",
      "2023-02-21 12:39:01.943 | INFO     | __main__:format_dim:39 - unit is ['inchesna'] and values are ['5', '14']\n",
      "2023-02-21 12:39:01.943 | INFO     | __main__:qc_dim:13 - unit for qc ['inchesna', 'inchesna']\n",
      "value for qc ['5', '14']\n",
      "2023-02-21 12:39:01.944 | INFO     | __main__:qc_dim:19 - metric_unit ['inches', 'inches']\n",
      "2023-02-21 12:39:01.944 | INFO     | __main__:qc_dim:21 - updated values [0.127, 0.35559999999999997]\n",
      "2023-02-21 12:39:01.944 | INFO     | __main__:format_dim:30 - initial dim 35 cms X 75 cms \n",
      "2023-02-21 12:39:01.945 | INFO     | __main__:format_dim:39 - unit is ['cms', 'cms'] and values are ['35', '75']\n",
      "2023-02-21 12:39:01.945 | INFO     | __main__:qc_dim:13 - unit for qc ['cms', 'cms']\n",
      "value for qc ['35', '75']\n",
      "2023-02-21 12:39:01.946 | INFO     | __main__:qc_dim:19 - metric_unit ['cms', 'cms']\n",
      "2023-02-21 12:39:01.946 | INFO     | __main__:qc_dim:21 - updated values [0.35000000000000003, 0.75]\n",
      "2023-02-21 12:39:01.946 | INFO     | __main__:check_values:43 - value_list for check values [[0.127, 0.35559999999999997], [0.35000000000000003, 0.75]]\n",
      "2023-02-21 12:39:01.947 | INFO     | __main__:check_values:49 - after sort [[0.127, 0.35559999999999997], [0.35000000000000003, 0.75]]\n",
      "2023-02-21 12:39:01.947 | INFO     | __main__:check_values:51 - transform for each dim [[0.127, 0.35000000000000003], [0.35559999999999997, 0.75]]\n",
      "2023-02-21 12:39:01.948 | INFO     | __main__:check_values:55 - ratio list for list [0.127, 0.35000000000000003] [1.0, 2.755905511811024]\n",
      "2023-02-21 12:39:01.949 | INFO     | __main__:check_values:55 - ratio list for list [0.35559999999999997, 0.75] [1.0, 2.109111361079865]\n",
      "2023-02-21 12:39:01.949 | INFO     | __main__:check_values:57 - res 0\n",
      "2023-02-21 12:39:01.951 | INFO     | __main__:get_dimensions:65 - matched_strings [] and length is True\n",
      "2023-02-21 12:39:01.954 | INFO     | __main__:get_dimensions:65 - matched_strings ['29 x 59 InchesNA', '75 cms X 150 cms '] and length is False\n",
      "2023-02-21 12:39:01.954 | INFO     | __main__:format_dim:30 - initial dim 29 x 59 InchesNA\n",
      "2023-02-21 12:39:01.955 | INFO     | __main__:format_dim:39 - unit is ['inchesna'] and values are ['29', '59']\n",
      "2023-02-21 12:39:01.955 | INFO     | __main__:qc_dim:13 - unit for qc ['inchesna', 'inchesna']\n",
      "value for qc ['29', '59']\n",
      "2023-02-21 12:39:01.956 | INFO     | __main__:qc_dim:19 - metric_unit ['inches', 'inches']\n",
      "2023-02-21 12:39:01.956 | INFO     | __main__:qc_dim:21 - updated values [0.7365999999999999, 1.4986]\n",
      "2023-02-21 12:39:01.957 | INFO     | __main__:format_dim:30 - initial dim 75 cms X 150 cms \n",
      "2023-02-21 12:39:01.957 | INFO     | __main__:format_dim:39 - unit is ['cms', 'cms'] and values are ['75', '150']\n",
      "2023-02-21 12:39:01.957 | INFO     | __main__:qc_dim:13 - unit for qc ['cms', 'cms']\n",
      "value for qc ['75', '150']\n",
      "2023-02-21 12:39:01.958 | INFO     | __main__:qc_dim:19 - metric_unit ['cms', 'cms']\n",
      "2023-02-21 12:39:01.958 | INFO     | __main__:qc_dim:21 - updated values [0.75, 1.5]\n"
     ]
    },
    {
     "name": "stderr",
     "output_type": "stream",
     "text": [
      "2023-02-21 12:39:01.959 | INFO     | __main__:check_values:43 - value_list for check values [[0.7365999999999999, 1.4986], [0.75, 1.5]]\n",
      "2023-02-21 12:39:01.959 | INFO     | __main__:check_values:49 - after sort [[0.7365999999999999, 1.4986], [0.75, 1.5]]\n",
      "2023-02-21 12:39:01.959 | INFO     | __main__:check_values:51 - transform for each dim [[0.7365999999999999, 0.75], [1.4986, 1.5]]\n",
      "2023-02-21 12:39:01.960 | INFO     | __main__:check_values:55 - ratio list for list [0.7365999999999999, 0.75] [1.0, 1.018191691555797]\n",
      "2023-02-21 12:39:01.960 | INFO     | __main__:check_values:55 - ratio list for list [1.4986, 1.5] [1.0, 1.000934205258241]\n",
      "2023-02-21 12:39:01.961 | INFO     | __main__:check_values:57 - res 1\n",
      "2023-02-21 12:39:01.961 | INFO     | __main__:get_dimensions:65 - matched_strings ['5 x 14 InchesNA'] and length is False\n",
      "2023-02-21 12:39:01.962 | INFO     | __main__:format_dim:30 - initial dim 5 x 14 InchesNA\n",
      "2023-02-21 12:39:01.962 | INFO     | __main__:format_dim:39 - unit is ['inchesna'] and values are ['5', '14']\n",
      "2023-02-21 12:39:01.962 | INFO     | __main__:qc_dim:13 - unit for qc ['inchesna', 'inchesna']\n",
      "value for qc ['5', '14']\n",
      "2023-02-21 12:39:01.963 | INFO     | __main__:qc_dim:19 - metric_unit ['inches', 'inches']\n",
      "2023-02-21 12:39:01.964 | INFO     | __main__:qc_dim:21 - updated values [0.127, 0.35559999999999997]\n",
      "2023-02-21 12:39:01.964 | INFO     | __main__:check_values:43 - value_list for check values [[0.127, 0.35559999999999997]]\n",
      "2023-02-21 12:39:01.964 | INFO     | __main__:check_values:49 - after sort [[0.127, 0.35559999999999997]]\n",
      "2023-02-21 12:39:01.965 | INFO     | __main__:check_values:51 - transform for each dim [[0.127], [0.35559999999999997]]\n",
      "2023-02-21 12:39:01.965 | INFO     | __main__:check_values:55 - ratio list for list [0.127] [1.0]\n",
      "2023-02-21 12:39:01.965 | INFO     | __main__:check_values:55 - ratio list for list [0.35559999999999997] [1.0]\n",
      "2023-02-21 12:39:01.966 | INFO     | __main__:check_values:57 - res 1\n",
      "2023-02-21 12:39:01.967 | INFO     | __main__:get_dimensions:65 - matched_strings ['14 x 14 Inches'] and length is False\n",
      "2023-02-21 12:39:01.968 | INFO     | __main__:format_dim:30 - initial dim 14 x 14 Inches\n",
      "2023-02-21 12:39:01.970 | INFO     | __main__:format_dim:39 - unit is ['inches'] and values are ['14', '14']\n",
      "2023-02-21 12:39:01.970 | INFO     | __main__:qc_dim:13 - unit for qc ['inches', 'inches']\n",
      "value for qc ['14', '14']\n",
      "2023-02-21 12:39:01.971 | INFO     | __main__:qc_dim:19 - metric_unit ['inches', 'inches']\n",
      "2023-02-21 12:39:01.971 | INFO     | __main__:qc_dim:21 - updated values [0.35559999999999997, 0.35559999999999997]\n",
      "2023-02-21 12:39:01.972 | INFO     | __main__:check_values:43 - value_list for check values [[0.35559999999999997, 0.35559999999999997]]\n",
      "2023-02-21 12:39:01.972 | INFO     | __main__:check_values:49 - after sort [[0.35559999999999997, 0.35559999999999997]]\n",
      "2023-02-21 12:39:01.973 | INFO     | __main__:check_values:51 - transform for each dim [[0.35559999999999997], [0.35559999999999997]]\n",
      "2023-02-21 12:39:01.973 | INFO     | __main__:check_values:55 - ratio list for list [0.35559999999999997] [1.0]\n",
      "2023-02-21 12:39:01.974 | INFO     | __main__:check_values:55 - ratio list for list [0.35559999999999997] [1.0]\n",
      "2023-02-21 12:39:01.974 | INFO     | __main__:check_values:57 - res 1\n",
      "2023-02-21 12:39:01.975 | INFO     | __main__:get_dimensions:65 - matched_strings [] and length is True\n",
      "2023-02-21 12:39:01.975 | INFO     | __main__:get_dimensions:65 - matched_strings ['14 x 14 Inches'] and length is False\n",
      "2023-02-21 12:39:01.977 | INFO     | __main__:format_dim:30 - initial dim 14 x 14 Inches\n",
      "2023-02-21 12:39:01.977 | INFO     | __main__:format_dim:39 - unit is ['inches'] and values are ['14', '14']\n",
      "2023-02-21 12:39:01.977 | INFO     | __main__:qc_dim:13 - unit for qc ['inches', 'inches']\n",
      "value for qc ['14', '14']\n",
      "2023-02-21 12:39:01.977 | INFO     | __main__:qc_dim:19 - metric_unit ['inches', 'inches']\n",
      "2023-02-21 12:39:01.978 | INFO     | __main__:qc_dim:21 - updated values [0.35559999999999997, 0.35559999999999997]\n",
      "2023-02-21 12:39:01.978 | INFO     | __main__:check_values:43 - value_list for check values [[0.35559999999999997, 0.35559999999999997]]\n",
      "2023-02-21 12:39:01.979 | INFO     | __main__:check_values:49 - after sort [[0.35559999999999997, 0.35559999999999997]]\n",
      "2023-02-21 12:39:01.979 | INFO     | __main__:check_values:51 - transform for each dim [[0.35559999999999997], [0.35559999999999997]]\n",
      "2023-02-21 12:39:01.979 | INFO     | __main__:check_values:55 - ratio list for list [0.35559999999999997] [1.0]\n",
      "2023-02-21 12:39:01.981 | INFO     | __main__:check_values:55 - ratio list for list [0.35559999999999997] [1.0]\n",
      "2023-02-21 12:39:01.981 | INFO     | __main__:check_values:57 - res 1\n",
      "2023-02-21 12:39:01.982 | INFO     | __main__:get_dimensions:65 - matched_strings ['5 x 14 InchesNA'] and length is False\n",
      "2023-02-21 12:39:01.983 | INFO     | __main__:format_dim:30 - initial dim 5 x 14 InchesNA\n",
      "2023-02-21 12:39:01.984 | INFO     | __main__:format_dim:39 - unit is ['inchesna'] and values are ['5', '14']\n",
      "2023-02-21 12:39:01.984 | INFO     | __main__:qc_dim:13 - unit for qc ['inchesna', 'inchesna']\n",
      "value for qc ['5', '14']\n",
      "2023-02-21 12:39:01.986 | INFO     | __main__:qc_dim:19 - metric_unit ['inches', 'inches']\n",
      "2023-02-21 12:39:01.986 | INFO     | __main__:qc_dim:21 - updated values [0.127, 0.35559999999999997]\n",
      "2023-02-21 12:39:01.987 | INFO     | __main__:check_values:43 - value_list for check values [[0.127, 0.35559999999999997]]\n",
      "2023-02-21 12:39:01.987 | INFO     | __main__:check_values:49 - after sort [[0.127, 0.35559999999999997]]\n",
      "2023-02-21 12:39:01.988 | INFO     | __main__:check_values:51 - transform for each dim [[0.127], [0.35559999999999997]]\n",
      "2023-02-21 12:39:01.988 | INFO     | __main__:check_values:55 - ratio list for list [0.127] [1.0]\n",
      "2023-02-21 12:39:01.988 | INFO     | __main__:check_values:55 - ratio list for list [0.35559999999999997] [1.0]\n",
      "2023-02-21 12:39:01.989 | INFO     | __main__:check_values:57 - res 1\n",
      "2023-02-21 12:39:01.989 | INFO     | __main__:get_dimensions:65 - matched_strings ['5 x 14 InchesNA'] and length is False\n",
      "2023-02-21 12:39:01.990 | INFO     | __main__:format_dim:30 - initial dim 5 x 14 InchesNA\n",
      "2023-02-21 12:39:01.990 | INFO     | __main__:format_dim:39 - unit is ['inchesna'] and values are ['5', '14']\n",
      "2023-02-21 12:39:01.991 | INFO     | __main__:qc_dim:13 - unit for qc ['inchesna', 'inchesna']\n",
      "value for qc ['5', '14']\n",
      "2023-02-21 12:39:01.991 | INFO     | __main__:qc_dim:19 - metric_unit ['inches', 'inches']\n",
      "2023-02-21 12:39:01.992 | INFO     | __main__:qc_dim:21 - updated values [0.127, 0.35559999999999997]\n",
      "2023-02-21 12:39:01.992 | INFO     | __main__:check_values:43 - value_list for check values [[0.127, 0.35559999999999997]]\n",
      "2023-02-21 12:39:01.992 | INFO     | __main__:check_values:49 - after sort [[0.127, 0.35559999999999997]]\n",
      "2023-02-21 12:39:01.993 | INFO     | __main__:check_values:51 - transform for each dim [[0.127], [0.35559999999999997]]\n",
      "2023-02-21 12:39:01.993 | INFO     | __main__:check_values:55 - ratio list for list [0.127] [1.0]\n",
      "2023-02-21 12:39:01.994 | INFO     | __main__:check_values:55 - ratio list for list [0.35559999999999997] [1.0]\n",
      "2023-02-21 12:39:01.994 | INFO     | __main__:check_values:57 - res 1\n",
      "2023-02-21 12:39:01.994 | INFO     | __main__:get_dimensions:65 - matched_strings [] and length is True\n",
      "2023-02-21 12:39:01.995 | INFO     | __main__:get_dimensions:65 - matched_strings [] and length is True\n",
      "2023-02-21 12:39:01.996 | INFO     | __main__:get_dimensions:65 - matched_strings [] and length is True\n",
      "2023-02-21 12:39:01.996 | INFO     | __main__:get_dimensions:65 - matched_strings ['5 x 14 InchesNA', '35 cms X 75 cms '] and length is False\n",
      "2023-02-21 12:39:01.997 | INFO     | __main__:format_dim:30 - initial dim 5 x 14 InchesNA\n",
      "2023-02-21 12:39:01.997 | INFO     | __main__:format_dim:39 - unit is ['inchesna'] and values are ['5', '14']\n",
      "2023-02-21 12:39:01.998 | INFO     | __main__:qc_dim:13 - unit for qc ['inchesna', 'inchesna']\n",
      "value for qc ['5', '14']\n",
      "2023-02-21 12:39:01.998 | INFO     | __main__:qc_dim:19 - metric_unit ['inches', 'inches']\n",
      "2023-02-21 12:39:01.999 | INFO     | __main__:qc_dim:21 - updated values [0.127, 0.35559999999999997]\n"
     ]
    },
    {
     "name": "stderr",
     "output_type": "stream",
     "text": [
      "2023-02-21 12:39:01.999 | INFO     | __main__:format_dim:30 - initial dim 35 cms X 75 cms \n",
      "2023-02-21 12:39:01.999 | INFO     | __main__:format_dim:39 - unit is ['cms', 'cms'] and values are ['35', '75']\n",
      "2023-02-21 12:39:02.001 | INFO     | __main__:qc_dim:13 - unit for qc ['cms', 'cms']\n",
      "value for qc ['35', '75']\n",
      "2023-02-21 12:39:02.003 | INFO     | __main__:qc_dim:19 - metric_unit ['cms', 'cms']\n",
      "2023-02-21 12:39:02.003 | INFO     | __main__:qc_dim:21 - updated values [0.35000000000000003, 0.75]\n",
      "2023-02-21 12:39:02.004 | INFO     | __main__:check_values:43 - value_list for check values [[0.127, 0.35559999999999997], [0.35000000000000003, 0.75]]\n",
      "2023-02-21 12:39:02.004 | INFO     | __main__:check_values:49 - after sort [[0.127, 0.35559999999999997], [0.35000000000000003, 0.75]]\n",
      "2023-02-21 12:39:02.004 | INFO     | __main__:check_values:51 - transform for each dim [[0.127, 0.35000000000000003], [0.35559999999999997, 0.75]]\n",
      "2023-02-21 12:39:02.005 | INFO     | __main__:check_values:55 - ratio list for list [0.127, 0.35000000000000003] [1.0, 2.755905511811024]\n",
      "2023-02-21 12:39:02.005 | INFO     | __main__:check_values:55 - ratio list for list [0.35559999999999997, 0.75] [1.0, 2.109111361079865]\n",
      "2023-02-21 12:39:02.006 | INFO     | __main__:check_values:57 - res 0\n",
      " 79%|███████▊  | 37/47 [00:00<00:00, 125.23it/s]2023-02-21 12:39:02.007 | INFO     | __main__:get_dimensions:65 - matched_strings [] and length is True\n",
      "2023-02-21 12:39:02.008 | INFO     | __main__:get_dimensions:65 - matched_strings ['14 x 14 Inches'] and length is False\n",
      "2023-02-21 12:39:02.008 | INFO     | __main__:format_dim:30 - initial dim 14 x 14 Inches\n",
      "2023-02-21 12:39:02.009 | INFO     | __main__:format_dim:39 - unit is ['inches'] and values are ['14', '14']\n",
      "2023-02-21 12:39:02.009 | INFO     | __main__:qc_dim:13 - unit for qc ['inches', 'inches']\n",
      "value for qc ['14', '14']\n",
      "2023-02-21 12:39:02.011 | INFO     | __main__:qc_dim:19 - metric_unit ['inches', 'inches']\n",
      "2023-02-21 12:39:02.011 | INFO     | __main__:qc_dim:21 - updated values [0.35559999999999997, 0.35559999999999997]\n",
      "2023-02-21 12:39:02.011 | INFO     | __main__:check_values:43 - value_list for check values [[0.35559999999999997, 0.35559999999999997]]\n",
      "2023-02-21 12:39:02.012 | INFO     | __main__:check_values:49 - after sort [[0.35559999999999997, 0.35559999999999997]]\n",
      "2023-02-21 12:39:02.012 | INFO     | __main__:check_values:51 - transform for each dim [[0.35559999999999997], [0.35559999999999997]]\n",
      "2023-02-21 12:39:02.013 | INFO     | __main__:check_values:55 - ratio list for list [0.35559999999999997] [1.0]\n",
      "2023-02-21 12:39:02.013 | INFO     | __main__:check_values:55 - ratio list for list [0.35559999999999997] [1.0]\n",
      "2023-02-21 12:39:02.014 | INFO     | __main__:check_values:57 - res 1\n",
      "2023-02-21 12:39:02.014 | INFO     | __main__:get_dimensions:65 - matched_strings [] and length is True\n",
      "2023-02-21 12:39:02.015 | INFO     | __main__:get_dimensions:65 - matched_strings ['14 x 14 Inches'] and length is False\n",
      "2023-02-21 12:39:02.015 | INFO     | __main__:format_dim:30 - initial dim 14 x 14 Inches\n",
      "2023-02-21 12:39:02.016 | INFO     | __main__:format_dim:39 - unit is ['inches'] and values are ['14', '14']\n",
      "2023-02-21 12:39:02.017 | INFO     | __main__:qc_dim:13 - unit for qc ['inches', 'inches']\n",
      "value for qc ['14', '14']\n",
      "2023-02-21 12:39:02.018 | INFO     | __main__:qc_dim:19 - metric_unit ['inches', 'inches']\n",
      "2023-02-21 12:39:02.019 | INFO     | __main__:qc_dim:21 - updated values [0.35559999999999997, 0.35559999999999997]\n",
      "2023-02-21 12:39:02.019 | INFO     | __main__:check_values:43 - value_list for check values [[0.35559999999999997, 0.35559999999999997]]\n",
      "2023-02-21 12:39:02.021 | INFO     | __main__:check_values:49 - after sort [[0.35559999999999997, 0.35559999999999997]]\n",
      "2023-02-21 12:39:02.021 | INFO     | __main__:check_values:51 - transform for each dim [[0.35559999999999997], [0.35559999999999997]]\n",
      "2023-02-21 12:39:02.022 | INFO     | __main__:check_values:55 - ratio list for list [0.35559999999999997] [1.0]\n",
      "2023-02-21 12:39:02.022 | INFO     | __main__:check_values:55 - ratio list for list [0.35559999999999997] [1.0]\n",
      "2023-02-21 12:39:02.023 | INFO     | __main__:check_values:57 - res 1\n",
      "2023-02-21 12:39:02.024 | INFO     | __main__:get_dimensions:65 - matched_strings [] and length is True\n",
      "2023-02-21 12:39:02.024 | INFO     | __main__:get_dimensions:65 - matched_strings [] and length is True\n",
      "2023-02-21 12:39:02.025 | INFO     | __main__:get_dimensions:65 - matched_strings [] and length is True\n",
      "2023-02-21 12:39:02.026 | INFO     | __main__:get_dimensions:65 - matched_strings ['14 x 14 Inches'] and length is False\n",
      "2023-02-21 12:39:02.027 | INFO     | __main__:format_dim:30 - initial dim 14 x 14 Inches\n",
      "2023-02-21 12:39:02.027 | INFO     | __main__:format_dim:39 - unit is ['inches'] and values are ['14', '14']\n",
      "2023-02-21 12:39:02.027 | INFO     | __main__:qc_dim:13 - unit for qc ['inches', 'inches']\n",
      "value for qc ['14', '14']\n",
      "2023-02-21 12:39:02.028 | INFO     | __main__:qc_dim:19 - metric_unit ['inches', 'inches']\n",
      "2023-02-21 12:39:02.028 | INFO     | __main__:qc_dim:21 - updated values [0.35559999999999997, 0.35559999999999997]\n",
      "2023-02-21 12:39:02.029 | INFO     | __main__:check_values:43 - value_list for check values [[0.35559999999999997, 0.35559999999999997]]\n",
      "2023-02-21 12:39:02.029 | INFO     | __main__:check_values:49 - after sort [[0.35559999999999997, 0.35559999999999997]]\n",
      "2023-02-21 12:39:02.030 | INFO     | __main__:check_values:51 - transform for each dim [[0.35559999999999997], [0.35559999999999997]]\n",
      "2023-02-21 12:39:02.030 | INFO     | __main__:check_values:55 - ratio list for list [0.35559999999999997] [1.0]\n",
      "2023-02-21 12:39:02.031 | INFO     | __main__:check_values:55 - ratio list for list [0.35559999999999997] [1.0]\n",
      "2023-02-21 12:39:02.031 | INFO     | __main__:check_values:57 - res 1\n",
      "2023-02-21 12:39:02.032 | INFO     | __main__:get_dimensions:65 - matched_strings ['5 x 14 InchesNA'] and length is False\n",
      "2023-02-21 12:39:02.033 | INFO     | __main__:format_dim:30 - initial dim 5 x 14 InchesNA\n",
      "2023-02-21 12:39:02.033 | INFO     | __main__:format_dim:39 - unit is ['inchesna'] and values are ['5', '14']\n",
      "2023-02-21 12:39:02.033 | INFO     | __main__:qc_dim:13 - unit for qc ['inchesna', 'inchesna']\n",
      "value for qc ['5', '14']\n",
      "2023-02-21 12:39:02.034 | INFO     | __main__:qc_dim:19 - metric_unit ['inches', 'inches']\n",
      "2023-02-21 12:39:02.037 | INFO     | __main__:qc_dim:21 - updated values [0.127, 0.35559999999999997]\n",
      "2023-02-21 12:39:02.037 | INFO     | __main__:check_values:43 - value_list for check values [[0.127, 0.35559999999999997]]\n",
      "2023-02-21 12:39:02.038 | INFO     | __main__:check_values:49 - after sort [[0.127, 0.35559999999999997]]\n",
      "2023-02-21 12:39:02.038 | INFO     | __main__:check_values:51 - transform for each dim [[0.127], [0.35559999999999997]]\n",
      "2023-02-21 12:39:02.038 | INFO     | __main__:check_values:55 - ratio list for list [0.127] [1.0]\n",
      "2023-02-21 12:39:02.039 | INFO     | __main__:check_values:55 - ratio list for list [0.35559999999999997] [1.0]\n",
      "2023-02-21 12:39:02.040 | INFO     | __main__:check_values:57 - res 1\n",
      "2023-02-21 12:39:02.040 | INFO     | __main__:get_dimensions:65 - matched_strings ['5 x 14 InchesNA'] and length is False\n",
      "2023-02-21 12:39:02.040 | INFO     | __main__:format_dim:30 - initial dim 5 x 14 InchesNA\n",
      "2023-02-21 12:39:02.041 | INFO     | __main__:format_dim:39 - unit is ['inchesna'] and values are ['5', '14']\n",
      "2023-02-21 12:39:02.042 | INFO     | __main__:qc_dim:13 - unit for qc ['inchesna', 'inchesna']\n",
      "value for qc ['5', '14']\n",
      "2023-02-21 12:39:02.043 | INFO     | __main__:qc_dim:19 - metric_unit ['inches', 'inches']\n",
      "2023-02-21 12:39:02.043 | INFO     | __main__:qc_dim:21 - updated values [0.127, 0.35559999999999997]\n",
      "2023-02-21 12:39:02.044 | INFO     | __main__:check_values:43 - value_list for check values [[0.127, 0.35559999999999997]]\n",
      "2023-02-21 12:39:02.044 | INFO     | __main__:check_values:49 - after sort [[0.127, 0.35559999999999997]]\n",
      "2023-02-21 12:39:02.044 | INFO     | __main__:check_values:51 - transform for each dim [[0.127], [0.35559999999999997]]\n",
      "2023-02-21 12:39:02.045 | INFO     | __main__:check_values:55 - ratio list for list [0.127] [1.0]\n",
      "2023-02-21 12:39:02.045 | INFO     | __main__:check_values:55 - ratio list for list [0.35559999999999997] [1.0]\n"
     ]
    },
    {
     "name": "stderr",
     "output_type": "stream",
     "text": [
      "2023-02-21 12:39:02.045 | INFO     | __main__:check_values:57 - res 1\n",
      "2023-02-21 12:39:02.046 | INFO     | __main__:get_dimensions:65 - matched_strings ['14 x 14 InchesNA'] and length is False\n",
      "2023-02-21 12:39:02.046 | INFO     | __main__:format_dim:30 - initial dim 14 x 14 InchesNA\n",
      "2023-02-21 12:39:02.047 | INFO     | __main__:format_dim:39 - unit is ['inchesna'] and values are ['14', '14']\n",
      "2023-02-21 12:39:02.047 | INFO     | __main__:qc_dim:13 - unit for qc ['inchesna', 'inchesna']\n",
      "value for qc ['14', '14']\n",
      "2023-02-21 12:39:02.048 | INFO     | __main__:qc_dim:19 - metric_unit ['inches', 'inches']\n",
      "2023-02-21 12:39:02.048 | INFO     | __main__:qc_dim:21 - updated values [0.35559999999999997, 0.35559999999999997]\n",
      "2023-02-21 12:39:02.048 | INFO     | __main__:check_values:43 - value_list for check values [[0.35559999999999997, 0.35559999999999997]]\n",
      "2023-02-21 12:39:02.049 | INFO     | __main__:check_values:49 - after sort [[0.35559999999999997, 0.35559999999999997]]\n",
      "2023-02-21 12:39:02.049 | INFO     | __main__:check_values:51 - transform for each dim [[0.35559999999999997], [0.35559999999999997]]\n",
      "2023-02-21 12:39:02.049 | INFO     | __main__:check_values:55 - ratio list for list [0.35559999999999997] [1.0]\n",
      "2023-02-21 12:39:02.050 | INFO     | __main__:check_values:55 - ratio list for list [0.35559999999999997] [1.0]\n",
      "2023-02-21 12:39:02.051 | INFO     | __main__:check_values:57 - res 1\n",
      "100%|██████████| 47/47 [00:00<00:00, 128.79it/s]\n"
     ]
    }
   ],
   "source": [
    "mush_df['final_dimensionality_check']= get_Dimensions_flag(mush_df.copy())"
   ]
  },
  {
   "cell_type": "code",
   "execution_count": null,
   "id": "619cc167",
   "metadata": {},
   "outputs": [],
   "source": []
  }
 ],
 "metadata": {
  "kernelspec": {
   "display_name": "excelcheckapp",
   "language": "python",
   "name": "excelcheckapp"
  },
  "language_info": {
   "codemirror_mode": {
    "name": "ipython",
    "version": 3
   },
   "file_extension": ".py",
   "mimetype": "text/x-python",
   "name": "python",
   "nbconvert_exporter": "python",
   "pygments_lexer": "ipython3",
   "version": "3.9.13"
  },
  "toc": {
   "base_numbering": 1,
   "nav_menu": {},
   "number_sections": true,
   "sideBar": true,
   "skip_h1_title": false,
   "title_cell": "Table of Contents",
   "title_sidebar": "Contents",
   "toc_cell": false,
   "toc_position": {
    "height": "calc(100% - 180px)",
    "left": "10px",
    "top": "150px",
    "width": "374.594px"
   },
   "toc_section_display": true,
   "toc_window_display": true
  },
  "varInspector": {
   "cols": {
    "lenName": 16,
    "lenType": 16,
    "lenVar": 40
   },
   "kernels_config": {
    "python": {
     "delete_cmd_postfix": "",
     "delete_cmd_prefix": "del ",
     "library": "var_list.py",
     "varRefreshCmd": "print(var_dic_list())"
    },
    "r": {
     "delete_cmd_postfix": ") ",
     "delete_cmd_prefix": "rm(",
     "library": "var_list.r",
     "varRefreshCmd": "cat(var_dic_list()) "
    }
   },
   "types_to_exclude": [
    "module",
    "function",
    "builtin_function_or_method",
    "instance",
    "_Feature"
   ],
   "window_display": false
  }
 },
 "nbformat": 4,
 "nbformat_minor": 5
}
