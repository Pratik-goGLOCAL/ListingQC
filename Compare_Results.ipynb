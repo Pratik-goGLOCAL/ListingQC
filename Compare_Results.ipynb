{
 "cells": [
  {
   "cell_type": "markdown",
   "id": "990a98b8",
   "metadata": {},
   "source": [
    "# Import Packages"
   ]
  },
  {
   "cell_type": "code",
   "execution_count": 2,
   "id": "0b308a7f",
   "metadata": {
    "ExecuteTime": {
     "end_time": "2023-02-17T03:26:49.692243Z",
     "start_time": "2023-02-17T03:26:46.476218Z"
    }
   },
   "outputs": [
    {
     "name": "stderr",
     "output_type": "stream",
     "text": [
      "c:\\Users\\prati\\anaconda3\\envs\\excelcheckapp\\lib\\site-packages\\tqdm\\auto.py:22: TqdmWarning: IProgress not found. Please update jupyter and ipywidgets. See https://ipywidgets.readthedocs.io/en/stable/user_install.html\n",
      "  from .autonotebook import tqdm as notebook_tqdm\n"
     ]
    }
   ],
   "source": [
    "import pandas as pd\n",
    "import language_tool_python\n",
    "import numpy as np\n",
    "import re\n",
    "from tqdm import tqdm\n",
    "from loguru import logger\n",
    "from fuzzywuzzy import fuzz\n",
    "import os\n",
    "# import streamlit as st\n",
    "# from stqdm import stqdm\n",
    "# from time import sleep\n",
    "from gingerit.gingerit import GingerIt\n",
    "import Caribe as cb"
   ]
  },
  {
   "cell_type": "code",
   "execution_count": 3,
   "id": "4cdabb30",
   "metadata": {
    "ExecuteTime": {
     "end_time": "2023-02-17T03:26:49.696530Z",
     "start_time": "2023-02-17T03:26:49.696530Z"
    }
   },
   "outputs": [],
   "source": [
    "tqdm.pandas()"
   ]
  },
  {
   "attachments": {},
   "cell_type": "markdown",
   "id": "abfb49e3",
   "metadata": {},
   "source": [
    "# Load Files"
   ]
  },
  {
   "cell_type": "code",
   "execution_count": 3,
   "id": "1e2fd58a",
   "metadata": {},
   "outputs": [],
   "source": [
    "special_char = pd.read_csv('Special characters list.csv')\n",
    "ground_truth = pd.read_csv('DataStore/compare_datasets/GroundTruth.csv')"
   ]
  },
  {
   "cell_type": "code",
   "execution_count": 43,
   "id": "0096ab89",
   "metadata": {},
   "outputs": [
    {
     "data": {
      "text/plain": [
       "array(['Mush', 'Strauss', 'Yellow Chimes', 'mCaffeine', 'AADAR',\n",
       "       'Curryit', 'Nutty Yogi'], dtype=object)"
      ]
     },
     "execution_count": 43,
     "metadata": {},
     "output_type": "execute_result"
    }
   ],
   "source": [
    "ground_truth['Brand'].unique()"
   ]
  },
  {
   "cell_type": "code",
   "execution_count": 5,
   "id": "4f5f0b5a",
   "metadata": {},
   "outputs": [
    {
     "data": {
      "text/plain": [
       "'B07GKZZYNT,B075M9WHY5,B07N19MQDW,B07QFVW623,B014PIG72M,B07DHKH4XD,B07QGZPDLK,B07QGZN74S,B014PIKNR2,B08FB3LV8F,B07QJ53146,B07TLW2QBR,B08GFCTNQN,B07Y9QG7BY,B07D8QCRDX,B07PSJ7672,B075JCJYN6,B08FB6Q7DW,B07D8PF4ZW,B07DHKXFGF,B08FB74ZC9,B07YB8BDNT,B07D8RR888,B082KQDWK3,B08HN9XJT5,B07QKMK7SG,B07D8NRZD1,B071NPMVBR,B07D8QSSVD,B07QK72B8N,B08XZ5GGF3,B08HN79WLM,B072BJLV3R,B08QRX6FRD,B01B6MV69Y,B01B6MV4FK,B075JBR528,B07QGZPDLY,B08XZ8XQLQ,B07MYFQPXF,B08FXG432Y,B07QFVWB1Y,B08Y91HVMW,B08XZ8D4NC,B07QK66R32,B07QJ53564,B07QCT15S5,B08XZ7FZBB,B07YB8D4ZS,B07QGZN6WC,B07D8SNSHH,B09HKQBM7M,B07QFVW5WL,B07QFVVZ1N,B085TG12FS,B07QJ53F9D,B08XZD971N,B0725M1L76,B08XZB19DD'"
      ]
     },
     "execution_count": 5,
     "metadata": {},
     "output_type": "execute_result"
    }
   ],
   "source": [
    "','.join(ground_truth[ground_truth['Brand']=='Strauss']['ASIN'].tolist())"
   ]
  },
  {
   "cell_type": "code",
   "execution_count": 13,
   "id": "4d853c28",
   "metadata": {},
   "outputs": [],
   "source": [
    "scraped_df = pd.DataFrame()\n",
    "for i in os.listdir('DataStore/compare_datasets'):\n",
    "    if 'GroundTruth' not in i:\n",
    "        bdf = pd.read_csv('DataStore/compare_datasets/'+i)\n",
    "        bdf['ScrapedFor'] = np.array([i.split('.')[0].split('_')[1].title() if i!='data_yc.csv' else 'Yellow Chimes']*bdf.shape[0])\n",
    "        scraped_df = pd.concat([scraped_df,bdf])"
   ]
  },
  {
   "cell_type": "code",
   "execution_count": 18,
   "id": "116efa1f",
   "metadata": {},
   "outputs": [],
   "source": [
    "req_cols = ['ScrapedFor','brand','ASIN','title','description','bullets']"
   ]
  },
  {
   "attachments": {},
   "cell_type": "markdown",
   "id": "5dd0347a",
   "metadata": {},
   "source": [
    "# Overall Comparison"
   ]
  },
  {
   "cell_type": "code",
   "execution_count": 15,
   "id": "114015aa",
   "metadata": {},
   "outputs": [],
   "source": [
    "scraped_df = scraped_df[req_cols].copy()"
   ]
  },
  {
   "cell_type": "code",
   "execution_count": 16,
   "id": "0c7f0f98",
   "metadata": {},
   "outputs": [
    {
     "name": "stderr",
     "output_type": "stream",
     "text": [
      "C:\\Users\\prati\\AppData\\Local\\Temp\\ipykernel_19332\\3142955393.py:1: FutureWarning: The default value of regex will change from True to False in a future version.\n",
      "  scraped_df['bullets3'] = scraped_df['bullets'].str.replace('.  , ','\\n')\n"
     ]
    }
   ],
   "source": [
    "scraped_df['bullets3'] = scraped_df['bullets'].str.replace('.  , ','\\n')\n",
    "scraped_df['bullets3'] = scraped_df['bullets3'].str.strip()"
   ]
  },
  {
   "cell_type": "code",
   "execution_count": 17,
   "id": "6da0e2b9",
   "metadata": {},
   "outputs": [
    {
     "data": {
      "text/plain": [
       "Index(['Sr. No.', 'Brand', 'Category', 'Product Name', 'ASIN', 'Product URL',\n",
       "       'Sales Frequency', 'Title', 'Description', 'Bulletpoints(3)', 'Grade',\n",
       "       'Spell check', 'Dimensions details', 'Sentence case', 'A+ content',\n",
       "       'Grade2', 'Main image', 'Additional images', 'Infographics',\n",
       "       'Lifestyles', 'Video', 'A+ Content3', 'Info/lifestyle Total',\n",
       "       'Total Images', 'Info present', 'Lifestyle present',\n",
       "       'Video present or not', 'A+ content4', 'Image quality',\n",
       "       'Product information', 'Remark', 'Score', 'Grade5', 'Final Grade',\n",
       "       'Amazon USA', 'Amazon UK', 'Amazon CA', 'Amazon MX', 'Amazon Germany',\n",
       "       'Amazon France', 'Amazon Italy', 'Amazon Spain', 'Amazon Netherlands',\n",
       "       'Amazon Belgium', 'Amazon Sweden ', 'Amazon Poland', 'Amazon Australia',\n",
       "       'Amazon Japan', 'Amazon Singapore', 'Amazon UAE'],\n",
       "      dtype='object')"
      ]
     },
     "execution_count": 17,
     "metadata": {},
     "output_type": "execute_result"
    }
   ],
   "source": [
    "ground_truth.columns"
   ]
  },
  {
   "cell_type": "code",
   "execution_count": 18,
   "id": "ff4c2b5c",
   "metadata": {},
   "outputs": [],
   "source": [
    "ground_truth = ground_truth[['Brand','ASIN','Title','Description', 'Bulletpoints(3)','Grade','Spell check', 'Dimensions details', 'Sentence case', 'A+ content','Grade2']].copy()"
   ]
  },
  {
   "cell_type": "code",
   "execution_count": 19,
   "id": "887eddd2",
   "metadata": {},
   "outputs": [],
   "source": [
    "compare_df = scraped_df.merge(ground_truth,how = 'inner',on=['ASIN'])\n",
    "compare_df.fillna('NA',inplace=True)"
   ]
  },
  {
   "cell_type": "code",
   "execution_count": 70,
   "id": "b889c768",
   "metadata": {},
   "outputs": [
    {
     "data": {
      "text/plain": [
       "Yellow Chimes    151\n",
       "AADAR             38\n",
       "Strauss           21\n",
       "mCaffeine         16\n",
       "Mush               5\n",
       "Name: Brand, dtype: int64"
      ]
     },
     "execution_count": 70,
     "metadata": {},
     "output_type": "execute_result"
    }
   ],
   "source": [
    "compare_df['Brand'].value_counts()"
   ]
  },
  {
   "cell_type": "code",
   "execution_count": 76,
   "id": "9490a9ef",
   "metadata": {},
   "outputs": [
    {
     "data": {
      "text/plain": [
       "ScrapedFor     brand                     \n",
       "Yellow Chimes   Yellow Chimes                150\n",
       "Aadar          NA                             38\n",
       "Strauss        NA                             21\n",
       "Mcaffeine      NA                             16\n",
       "Mush           NA                              5\n",
       "Yellow Chimes   Melbees by Yellow Chimes       1\n",
       "dtype: int64"
      ]
     },
     "execution_count": 76,
     "metadata": {},
     "output_type": "execute_result"
    }
   ],
   "source": [
    "compare_df[['ScrapedFor','brand']].value_counts()"
   ]
  },
  {
   "attachments": {},
   "cell_type": "markdown",
   "id": "952b0999",
   "metadata": {},
   "source": [
    "# Excel Checks"
   ]
  },
  {
   "cell_type": "code",
   "execution_count": 25,
   "id": "5c5fc26b",
   "metadata": {},
   "outputs": [],
   "source": [
    "parser = GingerIt()\n",
    "\n",
    "###########################################################################################################\n",
    "# Helper Functions\n",
    "###########################################################################################################\n",
    "## Sentence Case\n",
    "def sentence_case(brand_name,title,brand_present_title):\n",
    "    first_word = title.strip().split(' ')[0]\n",
    "#     print(brand_name,first_word,brand_present_title)\n",
    "    if brand_present_title==1:\n",
    "        if brand_name.strip()[0]==first_word[0]:\n",
    "            res = 1\n",
    "        else:\n",
    "            res = 0\n",
    "    else:\n",
    "        if first_word[0].isupper():\n",
    "            res = 1\n",
    "        else:\n",
    "            res = 0\n",
    "#     print(res)\n",
    "    return res\n",
    "\n",
    "###########################################################################################################\n",
    "\n",
    "def spellcheck(txt):\n",
    "    with language_tool_python.LanguageToolPublicAPI('en-US') as model:\n",
    "        res = model.check(txt)\n",
    "        logger.info(res)\n",
    "        if len(res)>0:\n",
    "            flg = 0\n",
    "        else:\n",
    "            flg = 1\n",
    "        return [flg,res]\n",
    "\n",
    "# def runGinger(txt,my_tool):\n",
    "#     logger.info(txt)\n",
    "#     sentences = txt.split('\\n')\n",
    "#     logger.info('sentences are : {}'.format('sentences'))\n",
    "#     flg = 1\n",
    "#     corrections = []\n",
    "#     for sentence in sentences:\n",
    "#         if len(sentence)>280:\n",
    "#             words = sentence.split(' ')\n",
    "#             for i in range(len(words)-50):\n",
    "#                 sen = ' '.join(words[i:i+50])\n",
    "#                 parse_res = my_tool.parse(sen)\n",
    "#                 if len(parse_res['corrections'])>0:\n",
    "#                     # for corr in parse_res['corrections']:\n",
    "#                     # if corr['definition']!='Accept p'\n",
    "#                     flg = 0\n",
    "#                 corrections.append(parse_res['corrections'])\n",
    "#         else:\n",
    "#             parse_res = my_tool.parse(sentence)\n",
    "#             if len(parse_res['corrections'])>0:\n",
    "#                 flg = 0\n",
    "#             corrections.append(parse_res['corrections'])\n",
    "#     return [flg,corrections]\n",
    "\n",
    "def runGinger(txt,my_tool):\n",
    "    # logger.info(txt)\n",
    "    sentences = [x.strip().lstrip(', ') for x in txt.strip().split('\\n')]\n",
    "    # logger.info('sentences are : {}'.format(sentences))\n",
    "    flg = 1\n",
    "    corrections = []\n",
    "    for sentence in sentences:\n",
    "        if len(sentence)>600:\n",
    "            order = \"[+-]?\\d+\\.\\d+\"\n",
    "            first_str = re.sub(order, '', sentence)\n",
    "            lines = re.split( r'[?.!]',first_str)\n",
    "            for i in lines:\n",
    "                parse_res = my_tool.parse(i)\n",
    "                if len(parse_res['corrections'])>0:\n",
    "                    # for corr in parse_res['corrections']:\n",
    "                    # if corr['definition']!='Accept p'\n",
    "                    flg = 0\n",
    "                corrections.append(parse_res['corrections'])\n",
    "        else:\n",
    "            parse_res = my_tool.parse(sentence)\n",
    "            if len(parse_res['corrections'])>0:\n",
    "                flg = 0\n",
    "            corrections.append(parse_res['corrections'])\n",
    "    return [flg,corrections]\n",
    "###########################################################################################################\n",
    "## Special Character Check\n",
    "def special_char_check(x):\n",
    "    if len(set(special_char['chars'])) - len(set(special_char['chars'].tolist())-set(x))>0:\n",
    "        return 0\n",
    "    else:\n",
    "        return 1\n",
    "\n",
    "###########################################################################################################\n",
    "## Get complete Title Flag\n",
    "def get_Title_flag(data):\n",
    "    ## Brand Name Present\n",
    "    bn_check = lambda x,y:1 if y.strip().lower().find(x.strip().lower())>=0 else 0\n",
    "\n",
    "    # t1 = st.empty()\n",
    "    # t1.caption('Brand Check: ')\n",
    "    data['title_brand_present'] = data[['brand','title']].progress_apply(lambda x:bn_check(x.brand,x.title),axis = 1)\n",
    "\n",
    "    ## Sentence Case\n",
    "    # t2 = st.empty()\n",
    "    # t2.caption('Sentence Case Check: ')\n",
    "    data['title_sentence_case'] = data[['brand','title',\"title_brand_present\"]].progress_apply(lambda x:sentence_case(x.brand,x.title,x.title_brand_present),axis = 1)\n",
    "\n",
    "    ## Spell Check\n",
    "    # t3 = st.empty()\n",
    "    # t3.caption('Spell and Grammar Check: ')\n",
    "    # data['title_spellcheck_res'] = data['title'].progress_progress_apply(lambda x:spellcheck(x,gf))\n",
    "    data[['title_spellcheck','title_Corrected_text']] =  pd.DataFrame(data['title'].progress_apply(lambda x: runGinger(x,parser)).tolist())\n",
    "    data['final_title_check_flag'] = data[['title_brand_present','title_sentence_case','title_spellcheck']].product(axis = 1)\n",
    "    return data['final_title_check_flag']\n",
    "\n",
    "###########################################################################################################\n",
    "## Get complete Description Flag\n",
    "def get_Description_flag(data):\n",
    "    ## Special Character Check\n",
    "    # d1 = st.empty()\n",
    "    # d1.caption('Special Character Check: ')\n",
    "    data['description_special_chr_check'] = data['description'].progress_apply(lambda x:special_char_check(x))\n",
    "    ## Characters Constrained\n",
    "    # d2 = st.empty()\n",
    "    # d2.caption('Number of characters <2000 Check: ')\n",
    "    data['description_char_constrained_2000'] = data['description'].progress_apply(lambda x:1 if len(x.strip())<=2000 else 0)\n",
    "    ## Multiline Check\n",
    "    def multiline_check(first_str):\n",
    "        order = \"[+-]?\\d+\\.\\d+\"\n",
    "        first_str = re.sub(order, '', first_str)\n",
    "        lines = re.split( r'[?.!]',first_str)\n",
    "        if len(lines)>1:\n",
    "            return 1\n",
    "        else:\n",
    "            return 0\n",
    "    \n",
    "    # d3 = st.empty()\n",
    "    # d3.caption('Mutiline Check: ')\n",
    "    data['description_multiline_check'] = data['description'].progress_apply(lambda x:multiline_check(x))\n",
    "    ## Spell Check \n",
    "    # data['description_spellcheck'] = data['description'].progress_progress_apply(lambda x:spellcheck(x,gf))\n",
    "    # d4 = st.empty()\n",
    "    # d4.caption('Spell Grammar Check: ')\n",
    "    data[['description_spellcheck','description_Corrected_text']] =  pd.DataFrame(data['description'].progress_apply(lambda x: runGinger(x,parser)).tolist())\n",
    "    ## Final Description check Flag\n",
    "    data['final_description_check_flag'] = data[['description_special_chr_check','description_char_constrained_2000','description_multiline_check','description_spellcheck']].product(axis = 1)\n",
    "\n",
    "    return data['final_description_check_flag']\n",
    "\n",
    "###########################################################################################################\n",
    "\n",
    "## Get complete BulletPoints Flag\n",
    "def get_BulletPoints_flag(data):\n",
    "    ## Special Character check\n",
    "    # b1 = st.empty()\n",
    "    # b1.caption('Special Character Check: ')\n",
    "    data['bullets_special_chr_check'] = data['bullets'].progress_apply(lambda x:special_char_check(x))\n",
    "    ## Number of bullet points check (atleast 3 points)\n",
    "    # b2 = st.empty()\n",
    "    # b2.caption('Atleast 3 bullet Points Check: ')\n",
    "    data['bullets_number_check'] = data['bullets'].progress_apply(lambda x:1 if x.count('\\n')>=2 else 0)\n",
    "    ## Bullet Points start with capital letter check\n",
    "    # b3 = st.empty()\n",
    "    # b3.caption('Bullet Points start with capital letter Check: ')\n",
    "    data['bullets_first_capital_check'] = data['bullets'].progress_apply(lambda x: int(''.join([s.strip().lstrip(', ')[0] for s in x.strip().split('\\n')]).isupper()) )\n",
    "    ## Spell Check\n",
    "    # data['bullets_spellcheck'] = data['bullets'].progress_progress_apply(lambda x:spellcheck(x,gf))\n",
    "    # b4 = st.empty()\n",
    "    # b4.caption('Spell Grammar Check Check: ')\n",
    "    data[['bullets_spellcheck','bullets_Corrected_text']] =  pd.DataFrame(data['bullets'].progress_apply(lambda x: runGinger(x,parser)).tolist())\n",
    "    ## Final Bullet Points check Flag\n",
    "    data['final_bullet_point_check_flag'] = data[['bullets_special_chr_check','bullets_number_check','bullets_first_capital_check','bullets_spellcheck']].product(axis = 1)\n",
    "\n",
    "    return data['final_bullet_point_check_flag']\n",
    "\n",
    "###########################################################################################################\n",
    "## Get complete Spell Check Flag\n",
    "def get_sum(lst):\n",
    "    return sum(lst)\n",
    "\n",
    "def get_SpellCheck_flag(data):\n",
    "    # s1 = st.empty()\n",
    "    # s1.caption('Overall Spell-Check: ')\n",
    "    data['final_entire_spellcheck'] = data[['title_spellcheck','description_spellcheck','bullets_spellcheck']].progress_apply(lambda x:1 if get_sum([x.title_spellcheck,x.description_spellcheck,x.bullets_spellcheck])==3 else 0,axis = 1)\n",
    "    return data['final_entire_spellcheck']\n",
    "\n",
    "###########################################################################################################\n",
    "## Get complete Dimension Check Flag\n",
    "def qc_dim(unit,values):\n",
    "#     metric = {'meter':['m','meter'],\n",
    "#     'centimeter':['cm','cms','centimeter'],\n",
    "#     'millimeter':['mm','millimeter'],\n",
    "#     'inches':['inch','inches']\n",
    "#     'litre':['l','lit','litre'],\n",
    "#     'gram':['g','gm','gram'],\n",
    "#     'kilogram':['kg','kgms','kilogram']}\n",
    "#     metric = ['meter','centimeter','millimeter','kilometer','inches','foot']\n",
    "    metric2 = ['m','cms','mm','km','inches','ft']\n",
    "    metric_change = [1,0.01,0.001,1000,0.0254,0.0348]\n",
    "    metric_unit= []\n",
    "    logger.info('unit for qc {}\\nvalue for qc {}'.format(unit,values))\n",
    "    for u in unit:\n",
    "        umetric_ratio = []\n",
    "        for m in metric2:\n",
    "            umetric_ratio.append(fuzz.ratio(u,m))\n",
    "        metric_unit.append(metric2[np.array(umetric_ratio).argmax()])\n",
    "    logger.info('metric_unit {}'.format(metric_unit))\n",
    "    updated_values = [float(v)*metric_change[metric2.index(i)] for i,v in zip(metric_unit,values)]\n",
    "    logger.info('updated values {}'.format(updated_values))\n",
    "    if len(set(metric_unit))>1:\n",
    "        qc_res = [0,updated_values]\n",
    "    else:\n",
    "        qc_res = [1,updated_values]\n",
    "    \n",
    "    return qc_res\n",
    "\n",
    "def format_dim(dim):\n",
    "    logger.info('initial dim {}'.format(dim))\n",
    "    dim = dim.replace(' ','').lower()\n",
    "    dim = dim.replace('x',' ')\n",
    "    units = []\n",
    "    for unit in re.finditer(\"[a-z]+\",dim):\n",
    "        units.append(unit.group())\n",
    "    values = []\n",
    "    for val in re.finditer(\"[0-9]+\",dim):\n",
    "        values.append(val.group())\n",
    "    logger.info('unit is {} and values are {}'.format(units,values))\n",
    "    return [units,values]\n",
    "\n",
    "def check_values(value_list):\n",
    "    logger.info('value_list for check values {}'.format(value_list))\n",
    "    max_len = [len(l) for l in value_list]\n",
    "    if len(set(max_len))>1:\n",
    "        logger.info('The dimensions length do not match!!')\n",
    "        return 0\n",
    "    value_list = [sorted(l) for l in value_list]\n",
    "    logger.info('after sort {}'.format(value_list))\n",
    "    same_val_list = np.array(value_list).T.tolist()\n",
    "    logger.info('transform for each dim {}'.format(same_val_list))\n",
    "    res = 1\n",
    "    for v in same_val_list:\n",
    "        ratio_list = [v[i]/v[0] for i in range(len(v))]\n",
    "        logger.info('ratio list for list {} {}'.format(v,ratio_list))\n",
    "        res*=np.prod([1 if (i<=1.05 and i>=0.95) else 0 for i in ratio_list])\n",
    "    logger.info('res {}'.format(res))\n",
    "    return res\n",
    "\n",
    "def get_dimensions(text):\n",
    "    iters = re.finditer(\"(((\\d+ ?[a-zA-Z]+ ?)[x,X] ?(\\d+ ?[a-zA-Z]+ ?)[x,X] ?(\\d+ ?[a-zA-Z]+ ?))|((\\d+ ?[a-z]+ ?)[x,X] ?(\\d+ ?[a-zA-Z]+ ?)))|(((\\d+ ?)[x,X] ?(\\d+ ?)[x,X] ?(\\d+ ?[a-zA-Z]+))|((\\d+ ?)[x,X] ?(\\d+ ?[a-zA-Z]+)))\",text)\n",
    "    matched_strings = []\n",
    "    for i in iters:\n",
    "        matched_strings.append(i.group())\n",
    "    logger.info('matched_strings {} and length is {}'.format(matched_strings,len(matched_strings)==0))\n",
    "    if len(matched_strings)==0:\n",
    "        return 0\n",
    "    same_unit_in_dim = 1\n",
    "    multi_units_value = []\n",
    "    for dim in matched_strings:\n",
    "        units, values = format_dim(dim)\n",
    "        if len(units)==1:\n",
    "            units = units*len(values)\n",
    "        qc_res = qc_dim(units,values)\n",
    "        same_unit_in_dim*=qc_res[0]\n",
    "        multi_units_value.append(qc_res[1])\n",
    "    # dimres = [1,same_unit_in_dim,check_values(multi_units_value)]\n",
    "    return check_values(multi_units_value)\n",
    "            \n",
    "def get_Dimensions_flag(data):\n",
    "    # dim1 = st.empty()\n",
    "    # dim1.caption('Dimensions Check: ')\n",
    "    data['complete_data'] = data['title']+data['description']+data['bullets']#+\n",
    "    data['final_dimensionality_check'] = data['complete_data'].progress_apply(lambda x: get_dimensions(x))\n",
    "    # logger.info(data['dimension_check_res'])\n",
    "    # data[['final_dimensionality_check','same_unit_in_dim','dimensionality_inter_check']] = data['dimension_check_res'].str.split('__%__')\n",
    "    # data.drop('dimension_check_res',axis = 1,inplace = True)\n",
    "    return data['final_dimensionality_check']\n",
    "\n",
    "###########################################################################################################\n",
    "## Get complete Spell Check Flag\n",
    "def get_SentenceCase_flag(data):\n",
    "    data['final_sentence_case_check'] = data['title_sentence_case']\n",
    "    return data['final_sentence_case_check']\n",
    "\n",
    "##############################################################################################################\n",
    "## Get all the flags\n",
    "def QC_check1(data):\n",
    "    # text1 = st.empty()\n",
    "    logger.info('Title Check Started')\n",
    "    # text1.write('Title Check Started')\n",
    "    data['final_title_check_flag'] = get_Title_flag(data)\n",
    "    logger.info('Title Check Completed!!!')\n",
    "    # text1.write('Title Check Completed!!!')\n",
    "\n",
    "    # text2 = st.empty()\n",
    "    logger.info('Description Check Started')\n",
    "    # text2.write('Description Check Started')\n",
    "    data['final_description_check_flag'] = get_Description_flag(data)\n",
    "    logger.info('Description Check Completed!!!')\n",
    "    # text2.write('Description Check Completed!!!')\n",
    "\n",
    "    # text3 = st.empty()\n",
    "    logger.info('Bullet Points Check Started')\n",
    "    # text3.write('Bullet Points Check Started')\n",
    "    data['final_bullet_point_check_flag'] = get_BulletPoints_flag(data)\n",
    "    logger.info('Bullet Points Check Completed!!!')\n",
    "    # text3.write('Bullet Points Check Completed!!!')\n",
    "\n",
    "    data['Grade1'] = data[['final_title_check_flag','final_description_check_flag','final_bullet_point_check_flag']].sum(axis = 1)\n",
    "    data['Grade1'] = data['Grade1'].apply(lambda x: 'A' if x==3 else('B' if x>0 else 'C'))\n",
    "\n",
    "    # text4 = st.empty()\n",
    "    logger.info('Entile Spell Check Started')\n",
    "    # text4.write('Entile Spell Check Started')\n",
    "    data['final_entire_spellcheck'] = get_SpellCheck_flag(data.copy())\n",
    "    logger.info('Entile Spell Check Completed!!!')\n",
    "    # text4.write('Entile Spell Check Completed!!!')\n",
    "\n",
    "    # text5 = st.empty()\n",
    "    logger.info('Dimensionality Check Started')\n",
    "    # text5.write('Dimensionality Check Started')\n",
    "    # data[['final_dimensionality_check','same_unit_in_dim','dimensionality_inter_check']] = get_Dimensions_flag(data.copy())\n",
    "    data['final_dimensionality_check']= get_Dimensions_flag(data.copy())\n",
    "    logger.info('Dimensionality Check Completed!!!')\n",
    "    # text5.write('Dimensionality Check Completed!!!')\n",
    "\n",
    "    # text6 = st.empty()\n",
    "    logger.info('Sentence Case Check Started')\n",
    "    # text6.write('Sentence Case Check Started')\n",
    "    data['final_sentence_case_check'] = get_SentenceCase_flag(data.copy())\n",
    "    logger.info('Sentence Case Check Completed!!!')\n",
    "    # text6.write('Sentence Case Check Completed!!!')\n",
    "\n",
    "    data['Grade2'] = data[['final_entire_spellcheck','final_dimensionality_check','final_sentence_case_check']].sum(axis = 1)\n",
    "    data['Grade2'] = data['Grade2'].apply(lambda x: 'A' if x==3 else('B' if x==2 else 'C'))\n",
    "\n",
    "    return data"
   ]
  },
  {
   "cell_type": "code",
   "execution_count": 21,
   "id": "e679e8d1",
   "metadata": {},
   "outputs": [
    {
     "name": "stderr",
     "output_type": "stream",
     "text": [
      "2023-02-17 15:52:25.771 | INFO     | __main__:QC_check1:284 - Title Check Started\n",
      "100%|██████████| 1025/1025 [00:00<00:00, 44402.73it/s]\n",
      "100%|██████████| 1025/1025 [00:00<00:00, 33991.92it/s]\n",
      "  0%|          | 3/1025 [00:03<20:03,  1.18s/it]\n"
     ]
    },
    {
     "ename": "KeyboardInterrupt",
     "evalue": "",
     "output_type": "error",
     "traceback": [
      "\u001b[1;31m---------------------------------------------------------------------------\u001b[0m",
      "\u001b[1;31mKeyboardInterrupt\u001b[0m                         Traceback (most recent call last)",
      "\u001b[1;32m~\\AppData\\Local\\Temp\\ipykernel_19332\\1100990924.py\u001b[0m in \u001b[0;36m<module>\u001b[1;34m\u001b[0m\n\u001b[0;32m      1\u001b[0m \u001b[0mscraped_df\u001b[0m\u001b[1;33m.\u001b[0m\u001b[0mfillna\u001b[0m\u001b[1;33m(\u001b[0m\u001b[1;34m'NA'\u001b[0m\u001b[1;33m,\u001b[0m\u001b[0minplace\u001b[0m\u001b[1;33m=\u001b[0m\u001b[1;32mTrue\u001b[0m\u001b[1;33m)\u001b[0m\u001b[1;33m\u001b[0m\u001b[1;33m\u001b[0m\u001b[0m\n\u001b[1;32m----> 2\u001b[1;33m \u001b[0mres_df\u001b[0m \u001b[1;33m=\u001b[0m \u001b[0mQC_check1\u001b[0m\u001b[1;33m(\u001b[0m\u001b[0mscraped_df\u001b[0m\u001b[1;33m)\u001b[0m\u001b[1;33m\u001b[0m\u001b[1;33m\u001b[0m\u001b[0m\n\u001b[0m",
      "\u001b[1;32m~\\AppData\\Local\\Temp\\ipykernel_19332\\1321123073.py\u001b[0m in \u001b[0;36mQC_check1\u001b[1;34m(data)\u001b[0m\n\u001b[0;32m    284\u001b[0m     \u001b[0mlogger\u001b[0m\u001b[1;33m.\u001b[0m\u001b[0minfo\u001b[0m\u001b[1;33m(\u001b[0m\u001b[1;34m'Title Check Started'\u001b[0m\u001b[1;33m)\u001b[0m\u001b[1;33m\u001b[0m\u001b[1;33m\u001b[0m\u001b[0m\n\u001b[0;32m    285\u001b[0m     \u001b[1;31m# text1.write('Title Check Started')\u001b[0m\u001b[1;33m\u001b[0m\u001b[1;33m\u001b[0m\u001b[0m\n\u001b[1;32m--> 286\u001b[1;33m     \u001b[0mdata\u001b[0m\u001b[1;33m[\u001b[0m\u001b[1;34m'final_title_check_flag'\u001b[0m\u001b[1;33m]\u001b[0m \u001b[1;33m=\u001b[0m \u001b[0mget_Title_flag\u001b[0m\u001b[1;33m(\u001b[0m\u001b[0mdata\u001b[0m\u001b[1;33m)\u001b[0m\u001b[1;33m\u001b[0m\u001b[1;33m\u001b[0m\u001b[0m\n\u001b[0m\u001b[0;32m    287\u001b[0m     \u001b[0mlogger\u001b[0m\u001b[1;33m.\u001b[0m\u001b[0minfo\u001b[0m\u001b[1;33m(\u001b[0m\u001b[1;34m'Title Check Completed!!!'\u001b[0m\u001b[1;33m)\u001b[0m\u001b[1;33m\u001b[0m\u001b[1;33m\u001b[0m\u001b[0m\n\u001b[0;32m    288\u001b[0m     \u001b[1;31m# text1.write('Title Check Completed!!!')\u001b[0m\u001b[1;33m\u001b[0m\u001b[1;33m\u001b[0m\u001b[0m\n",
      "\u001b[1;32m~\\AppData\\Local\\Temp\\ipykernel_19332\\1321123073.py\u001b[0m in \u001b[0;36mget_Title_flag\u001b[1;34m(data)\u001b[0m\n\u001b[0;32m    106\u001b[0m     \u001b[1;31m# t3.caption('Spell and Grammar Check: ')\u001b[0m\u001b[1;33m\u001b[0m\u001b[1;33m\u001b[0m\u001b[0m\n\u001b[0;32m    107\u001b[0m     \u001b[1;31m# data['title_spellcheck_res'] = data['title'].progress_progress_apply(lambda x:spellcheck(x,gf))\u001b[0m\u001b[1;33m\u001b[0m\u001b[1;33m\u001b[0m\u001b[0m\n\u001b[1;32m--> 108\u001b[1;33m     \u001b[0mdata\u001b[0m\u001b[1;33m[\u001b[0m\u001b[1;33m[\u001b[0m\u001b[1;34m'title_spellcheck'\u001b[0m\u001b[1;33m,\u001b[0m\u001b[1;34m'title_Corrected_text'\u001b[0m\u001b[1;33m]\u001b[0m\u001b[1;33m]\u001b[0m \u001b[1;33m=\u001b[0m  \u001b[0mpd\u001b[0m\u001b[1;33m.\u001b[0m\u001b[0mDataFrame\u001b[0m\u001b[1;33m(\u001b[0m\u001b[0mdata\u001b[0m\u001b[1;33m[\u001b[0m\u001b[1;34m'title'\u001b[0m\u001b[1;33m]\u001b[0m\u001b[1;33m.\u001b[0m\u001b[0mprogress_apply\u001b[0m\u001b[1;33m(\u001b[0m\u001b[1;32mlambda\u001b[0m \u001b[0mx\u001b[0m\u001b[1;33m:\u001b[0m \u001b[0mrunGinger\u001b[0m\u001b[1;33m(\u001b[0m\u001b[0mx\u001b[0m\u001b[1;33m,\u001b[0m\u001b[0mparser\u001b[0m\u001b[1;33m)\u001b[0m\u001b[1;33m)\u001b[0m\u001b[1;33m.\u001b[0m\u001b[0mtolist\u001b[0m\u001b[1;33m(\u001b[0m\u001b[1;33m)\u001b[0m\u001b[1;33m)\u001b[0m\u001b[1;33m\u001b[0m\u001b[1;33m\u001b[0m\u001b[0m\n\u001b[0m\u001b[0;32m    109\u001b[0m     \u001b[0mdata\u001b[0m\u001b[1;33m[\u001b[0m\u001b[1;34m'final_title_check_flag'\u001b[0m\u001b[1;33m]\u001b[0m \u001b[1;33m=\u001b[0m \u001b[0mdata\u001b[0m\u001b[1;33m[\u001b[0m\u001b[1;33m[\u001b[0m\u001b[1;34m'title_brand_present'\u001b[0m\u001b[1;33m,\u001b[0m\u001b[1;34m'title_sentence_case'\u001b[0m\u001b[1;33m,\u001b[0m\u001b[1;34m'title_spellcheck'\u001b[0m\u001b[1;33m]\u001b[0m\u001b[1;33m]\u001b[0m\u001b[1;33m.\u001b[0m\u001b[0mproduct\u001b[0m\u001b[1;33m(\u001b[0m\u001b[0maxis\u001b[0m \u001b[1;33m=\u001b[0m \u001b[1;36m1\u001b[0m\u001b[1;33m)\u001b[0m\u001b[1;33m\u001b[0m\u001b[1;33m\u001b[0m\u001b[0m\n\u001b[0;32m    110\u001b[0m     \u001b[1;32mreturn\u001b[0m \u001b[0mdata\u001b[0m\u001b[1;33m[\u001b[0m\u001b[1;34m'final_title_check_flag'\u001b[0m\u001b[1;33m]\u001b[0m\u001b[1;33m\u001b[0m\u001b[1;33m\u001b[0m\u001b[0m\n",
      "\u001b[1;32mc:\\Users\\prati\\anaconda3\\envs\\excelcheckapp\\lib\\site-packages\\tqdm\\std.py\u001b[0m in \u001b[0;36minner\u001b[1;34m(df, func, *args, **kwargs)\u001b[0m\n\u001b[0;32m    812\u001b[0m                 \u001b[1;31m# on the df using our wrapper (which provides bar updating)\u001b[0m\u001b[1;33m\u001b[0m\u001b[1;33m\u001b[0m\u001b[0m\n\u001b[0;32m    813\u001b[0m                 \u001b[1;32mtry\u001b[0m\u001b[1;33m:\u001b[0m\u001b[1;33m\u001b[0m\u001b[1;33m\u001b[0m\u001b[0m\n\u001b[1;32m--> 814\u001b[1;33m                     \u001b[1;32mreturn\u001b[0m \u001b[0mgetattr\u001b[0m\u001b[1;33m(\u001b[0m\u001b[0mdf\u001b[0m\u001b[1;33m,\u001b[0m \u001b[0mdf_function\u001b[0m\u001b[1;33m)\u001b[0m\u001b[1;33m(\u001b[0m\u001b[0mwrapper\u001b[0m\u001b[1;33m,\u001b[0m \u001b[1;33m**\u001b[0m\u001b[0mkwargs\u001b[0m\u001b[1;33m)\u001b[0m\u001b[1;33m\u001b[0m\u001b[1;33m\u001b[0m\u001b[0m\n\u001b[0m\u001b[0;32m    815\u001b[0m                 \u001b[1;32mfinally\u001b[0m\u001b[1;33m:\u001b[0m\u001b[1;33m\u001b[0m\u001b[1;33m\u001b[0m\u001b[0m\n\u001b[0;32m    816\u001b[0m                     \u001b[0mt\u001b[0m\u001b[1;33m.\u001b[0m\u001b[0mclose\u001b[0m\u001b[1;33m(\u001b[0m\u001b[1;33m)\u001b[0m\u001b[1;33m\u001b[0m\u001b[1;33m\u001b[0m\u001b[0m\n",
      "\u001b[1;32mc:\\Users\\prati\\anaconda3\\envs\\excelcheckapp\\lib\\site-packages\\pandas\\core\\series.py\u001b[0m in \u001b[0;36mapply\u001b[1;34m(self, func, convert_dtype, args, **kwargs)\u001b[0m\n\u001b[0;32m   4769\u001b[0m         \u001b[0mdtype\u001b[0m\u001b[1;33m:\u001b[0m \u001b[0mfloat64\u001b[0m\u001b[1;33m\u001b[0m\u001b[1;33m\u001b[0m\u001b[0m\n\u001b[0;32m   4770\u001b[0m         \"\"\"\n\u001b[1;32m-> 4771\u001b[1;33m         \u001b[1;32mreturn\u001b[0m \u001b[0mSeriesApply\u001b[0m\u001b[1;33m(\u001b[0m\u001b[0mself\u001b[0m\u001b[1;33m,\u001b[0m \u001b[0mfunc\u001b[0m\u001b[1;33m,\u001b[0m \u001b[0mconvert_dtype\u001b[0m\u001b[1;33m,\u001b[0m \u001b[0margs\u001b[0m\u001b[1;33m,\u001b[0m \u001b[0mkwargs\u001b[0m\u001b[1;33m)\u001b[0m\u001b[1;33m.\u001b[0m\u001b[0mapply\u001b[0m\u001b[1;33m(\u001b[0m\u001b[1;33m)\u001b[0m\u001b[1;33m\u001b[0m\u001b[1;33m\u001b[0m\u001b[0m\n\u001b[0m\u001b[0;32m   4772\u001b[0m \u001b[1;33m\u001b[0m\u001b[0m\n\u001b[0;32m   4773\u001b[0m     def _reduce(\n",
      "\u001b[1;32mc:\\Users\\prati\\anaconda3\\envs\\excelcheckapp\\lib\\site-packages\\pandas\\core\\apply.py\u001b[0m in \u001b[0;36mapply\u001b[1;34m(self)\u001b[0m\n\u001b[0;32m   1121\u001b[0m \u001b[1;33m\u001b[0m\u001b[0m\n\u001b[0;32m   1122\u001b[0m         \u001b[1;31m# self.f is Callable\u001b[0m\u001b[1;33m\u001b[0m\u001b[1;33m\u001b[0m\u001b[0m\n\u001b[1;32m-> 1123\u001b[1;33m         \u001b[1;32mreturn\u001b[0m \u001b[0mself\u001b[0m\u001b[1;33m.\u001b[0m\u001b[0mapply_standard\u001b[0m\u001b[1;33m(\u001b[0m\u001b[1;33m)\u001b[0m\u001b[1;33m\u001b[0m\u001b[1;33m\u001b[0m\u001b[0m\n\u001b[0m\u001b[0;32m   1124\u001b[0m \u001b[1;33m\u001b[0m\u001b[0m\n\u001b[0;32m   1125\u001b[0m     \u001b[1;32mdef\u001b[0m \u001b[0magg\u001b[0m\u001b[1;33m(\u001b[0m\u001b[0mself\u001b[0m\u001b[1;33m)\u001b[0m\u001b[1;33m:\u001b[0m\u001b[1;33m\u001b[0m\u001b[1;33m\u001b[0m\u001b[0m\n",
      "\u001b[1;32mc:\\Users\\prati\\anaconda3\\envs\\excelcheckapp\\lib\\site-packages\\pandas\\core\\apply.py\u001b[0m in \u001b[0;36mapply_standard\u001b[1;34m(self)\u001b[0m\n\u001b[0;32m   1172\u001b[0m             \u001b[1;32melse\u001b[0m\u001b[1;33m:\u001b[0m\u001b[1;33m\u001b[0m\u001b[1;33m\u001b[0m\u001b[0m\n\u001b[0;32m   1173\u001b[0m                 \u001b[0mvalues\u001b[0m \u001b[1;33m=\u001b[0m \u001b[0mobj\u001b[0m\u001b[1;33m.\u001b[0m\u001b[0mastype\u001b[0m\u001b[1;33m(\u001b[0m\u001b[0mobject\u001b[0m\u001b[1;33m)\u001b[0m\u001b[1;33m.\u001b[0m\u001b[0m_values\u001b[0m\u001b[1;33m\u001b[0m\u001b[1;33m\u001b[0m\u001b[0m\n\u001b[1;32m-> 1174\u001b[1;33m                 mapped = lib.map_infer(\n\u001b[0m\u001b[0;32m   1175\u001b[0m                     \u001b[0mvalues\u001b[0m\u001b[1;33m,\u001b[0m\u001b[1;33m\u001b[0m\u001b[1;33m\u001b[0m\u001b[0m\n\u001b[0;32m   1176\u001b[0m                     \u001b[0mf\u001b[0m\u001b[1;33m,\u001b[0m\u001b[1;33m\u001b[0m\u001b[1;33m\u001b[0m\u001b[0m\n",
      "\u001b[1;32mc:\\Users\\prati\\anaconda3\\envs\\excelcheckapp\\lib\\site-packages\\pandas\\_libs\\lib.pyx\u001b[0m in \u001b[0;36mpandas._libs.lib.map_infer\u001b[1;34m()\u001b[0m\n",
      "\u001b[1;32mc:\\Users\\prati\\anaconda3\\envs\\excelcheckapp\\lib\\site-packages\\tqdm\\std.py\u001b[0m in \u001b[0;36mwrapper\u001b[1;34m(*args, **kwargs)\u001b[0m\n\u001b[0;32m    807\u001b[0m                     \u001b[1;31m# take a fast or slow code path; so stop when t.total==t.n\u001b[0m\u001b[1;33m\u001b[0m\u001b[1;33m\u001b[0m\u001b[0m\n\u001b[0;32m    808\u001b[0m                     \u001b[0mt\u001b[0m\u001b[1;33m.\u001b[0m\u001b[0mupdate\u001b[0m\u001b[1;33m(\u001b[0m\u001b[0mn\u001b[0m\u001b[1;33m=\u001b[0m\u001b[1;36m1\u001b[0m \u001b[1;32mif\u001b[0m \u001b[1;32mnot\u001b[0m \u001b[0mt\u001b[0m\u001b[1;33m.\u001b[0m\u001b[0mtotal\u001b[0m \u001b[1;32mor\u001b[0m \u001b[0mt\u001b[0m\u001b[1;33m.\u001b[0m\u001b[0mn\u001b[0m \u001b[1;33m<\u001b[0m \u001b[0mt\u001b[0m\u001b[1;33m.\u001b[0m\u001b[0mtotal\u001b[0m \u001b[1;32melse\u001b[0m \u001b[1;36m0\u001b[0m\u001b[1;33m)\u001b[0m\u001b[1;33m\u001b[0m\u001b[1;33m\u001b[0m\u001b[0m\n\u001b[1;32m--> 809\u001b[1;33m                     \u001b[1;32mreturn\u001b[0m \u001b[0mfunc\u001b[0m\u001b[1;33m(\u001b[0m\u001b[1;33m*\u001b[0m\u001b[0margs\u001b[0m\u001b[1;33m,\u001b[0m \u001b[1;33m**\u001b[0m\u001b[0mkwargs\u001b[0m\u001b[1;33m)\u001b[0m\u001b[1;33m\u001b[0m\u001b[1;33m\u001b[0m\u001b[0m\n\u001b[0m\u001b[0;32m    810\u001b[0m \u001b[1;33m\u001b[0m\u001b[0m\n\u001b[0;32m    811\u001b[0m                 \u001b[1;31m# Apply the provided function (in **kwargs)\u001b[0m\u001b[1;33m\u001b[0m\u001b[1;33m\u001b[0m\u001b[0m\n",
      "\u001b[1;32m~\\AppData\\Local\\Temp\\ipykernel_19332\\1321123073.py\u001b[0m in \u001b[0;36m<lambda>\u001b[1;34m(x)\u001b[0m\n\u001b[0;32m    106\u001b[0m     \u001b[1;31m# t3.caption('Spell and Grammar Check: ')\u001b[0m\u001b[1;33m\u001b[0m\u001b[1;33m\u001b[0m\u001b[0m\n\u001b[0;32m    107\u001b[0m     \u001b[1;31m# data['title_spellcheck_res'] = data['title'].progress_progress_apply(lambda x:spellcheck(x,gf))\u001b[0m\u001b[1;33m\u001b[0m\u001b[1;33m\u001b[0m\u001b[0m\n\u001b[1;32m--> 108\u001b[1;33m     \u001b[0mdata\u001b[0m\u001b[1;33m[\u001b[0m\u001b[1;33m[\u001b[0m\u001b[1;34m'title_spellcheck'\u001b[0m\u001b[1;33m,\u001b[0m\u001b[1;34m'title_Corrected_text'\u001b[0m\u001b[1;33m]\u001b[0m\u001b[1;33m]\u001b[0m \u001b[1;33m=\u001b[0m  \u001b[0mpd\u001b[0m\u001b[1;33m.\u001b[0m\u001b[0mDataFrame\u001b[0m\u001b[1;33m(\u001b[0m\u001b[0mdata\u001b[0m\u001b[1;33m[\u001b[0m\u001b[1;34m'title'\u001b[0m\u001b[1;33m]\u001b[0m\u001b[1;33m.\u001b[0m\u001b[0mprogress_apply\u001b[0m\u001b[1;33m(\u001b[0m\u001b[1;32mlambda\u001b[0m \u001b[0mx\u001b[0m\u001b[1;33m:\u001b[0m \u001b[0mrunGinger\u001b[0m\u001b[1;33m(\u001b[0m\u001b[0mx\u001b[0m\u001b[1;33m,\u001b[0m\u001b[0mparser\u001b[0m\u001b[1;33m)\u001b[0m\u001b[1;33m)\u001b[0m\u001b[1;33m.\u001b[0m\u001b[0mtolist\u001b[0m\u001b[1;33m(\u001b[0m\u001b[1;33m)\u001b[0m\u001b[1;33m)\u001b[0m\u001b[1;33m\u001b[0m\u001b[1;33m\u001b[0m\u001b[0m\n\u001b[0m\u001b[0;32m    109\u001b[0m     \u001b[0mdata\u001b[0m\u001b[1;33m[\u001b[0m\u001b[1;34m'final_title_check_flag'\u001b[0m\u001b[1;33m]\u001b[0m \u001b[1;33m=\u001b[0m \u001b[0mdata\u001b[0m\u001b[1;33m[\u001b[0m\u001b[1;33m[\u001b[0m\u001b[1;34m'title_brand_present'\u001b[0m\u001b[1;33m,\u001b[0m\u001b[1;34m'title_sentence_case'\u001b[0m\u001b[1;33m,\u001b[0m\u001b[1;34m'title_spellcheck'\u001b[0m\u001b[1;33m]\u001b[0m\u001b[1;33m]\u001b[0m\u001b[1;33m.\u001b[0m\u001b[0mproduct\u001b[0m\u001b[1;33m(\u001b[0m\u001b[0maxis\u001b[0m \u001b[1;33m=\u001b[0m \u001b[1;36m1\u001b[0m\u001b[1;33m)\u001b[0m\u001b[1;33m\u001b[0m\u001b[1;33m\u001b[0m\u001b[0m\n\u001b[0;32m    110\u001b[0m     \u001b[1;32mreturn\u001b[0m \u001b[0mdata\u001b[0m\u001b[1;33m[\u001b[0m\u001b[1;34m'final_title_check_flag'\u001b[0m\u001b[1;33m]\u001b[0m\u001b[1;33m\u001b[0m\u001b[1;33m\u001b[0m\u001b[0m\n",
      "\u001b[1;32m~\\AppData\\Local\\Temp\\ipykernel_19332\\1321123073.py\u001b[0m in \u001b[0;36mrunGinger\u001b[1;34m(txt, my_tool)\u001b[0m\n\u001b[0;32m     74\u001b[0m                 \u001b[0mcorrections\u001b[0m\u001b[1;33m.\u001b[0m\u001b[0mappend\u001b[0m\u001b[1;33m(\u001b[0m\u001b[0mparse_res\u001b[0m\u001b[1;33m[\u001b[0m\u001b[1;34m'corrections'\u001b[0m\u001b[1;33m]\u001b[0m\u001b[1;33m)\u001b[0m\u001b[1;33m\u001b[0m\u001b[1;33m\u001b[0m\u001b[0m\n\u001b[0;32m     75\u001b[0m         \u001b[1;32melse\u001b[0m\u001b[1;33m:\u001b[0m\u001b[1;33m\u001b[0m\u001b[1;33m\u001b[0m\u001b[0m\n\u001b[1;32m---> 76\u001b[1;33m             \u001b[0mparse_res\u001b[0m \u001b[1;33m=\u001b[0m \u001b[0mmy_tool\u001b[0m\u001b[1;33m.\u001b[0m\u001b[0mparse\u001b[0m\u001b[1;33m(\u001b[0m\u001b[0msentence\u001b[0m\u001b[1;33m)\u001b[0m\u001b[1;33m\u001b[0m\u001b[1;33m\u001b[0m\u001b[0m\n\u001b[0m\u001b[0;32m     77\u001b[0m             \u001b[1;32mif\u001b[0m \u001b[0mlen\u001b[0m\u001b[1;33m(\u001b[0m\u001b[0mparse_res\u001b[0m\u001b[1;33m[\u001b[0m\u001b[1;34m'corrections'\u001b[0m\u001b[1;33m]\u001b[0m\u001b[1;33m)\u001b[0m\u001b[1;33m>\u001b[0m\u001b[1;36m0\u001b[0m\u001b[1;33m:\u001b[0m\u001b[1;33m\u001b[0m\u001b[1;33m\u001b[0m\u001b[0m\n\u001b[0;32m     78\u001b[0m                 \u001b[0mflg\u001b[0m \u001b[1;33m=\u001b[0m \u001b[1;36m0\u001b[0m\u001b[1;33m\u001b[0m\u001b[1;33m\u001b[0m\u001b[0m\n",
      "\u001b[1;32mc:\\Users\\prati\\anaconda3\\envs\\excelcheckapp\\lib\\site-packages\\gingerit\\gingerit.py\u001b[0m in \u001b[0;36mparse\u001b[1;34m(self, text, verify)\u001b[0m\n\u001b[0;32m     15\u001b[0m     \u001b[1;32mdef\u001b[0m \u001b[0mparse\u001b[0m\u001b[1;33m(\u001b[0m\u001b[0mself\u001b[0m\u001b[1;33m,\u001b[0m \u001b[0mtext\u001b[0m\u001b[1;33m,\u001b[0m \u001b[0mverify\u001b[0m\u001b[1;33m=\u001b[0m\u001b[1;32mTrue\u001b[0m\u001b[1;33m)\u001b[0m\u001b[1;33m:\u001b[0m\u001b[1;33m\u001b[0m\u001b[1;33m\u001b[0m\u001b[0m\n\u001b[0;32m     16\u001b[0m         \u001b[0msession\u001b[0m \u001b[1;33m=\u001b[0m \u001b[0mcloudscraper\u001b[0m\u001b[1;33m.\u001b[0m\u001b[0mcreate_scraper\u001b[0m\u001b[1;33m(\u001b[0m\u001b[1;33m)\u001b[0m\u001b[1;33m\u001b[0m\u001b[1;33m\u001b[0m\u001b[0m\n\u001b[1;32m---> 17\u001b[1;33m         request = session.get(\n\u001b[0m\u001b[0;32m     18\u001b[0m             \u001b[0mself\u001b[0m\u001b[1;33m.\u001b[0m\u001b[0murl\u001b[0m\u001b[1;33m,\u001b[0m\u001b[1;33m\u001b[0m\u001b[1;33m\u001b[0m\u001b[0m\n\u001b[0;32m     19\u001b[0m             params={\n",
      "\u001b[1;32mc:\\Users\\prati\\anaconda3\\envs\\excelcheckapp\\lib\\site-packages\\requests\\sessions.py\u001b[0m in \u001b[0;36mget\u001b[1;34m(self, url, **kwargs)\u001b[0m\n\u001b[0;32m    598\u001b[0m \u001b[1;33m\u001b[0m\u001b[0m\n\u001b[0;32m    599\u001b[0m         \u001b[0mkwargs\u001b[0m\u001b[1;33m.\u001b[0m\u001b[0msetdefault\u001b[0m\u001b[1;33m(\u001b[0m\u001b[1;34m\"allow_redirects\"\u001b[0m\u001b[1;33m,\u001b[0m \u001b[1;32mTrue\u001b[0m\u001b[1;33m)\u001b[0m\u001b[1;33m\u001b[0m\u001b[1;33m\u001b[0m\u001b[0m\n\u001b[1;32m--> 600\u001b[1;33m         \u001b[1;32mreturn\u001b[0m \u001b[0mself\u001b[0m\u001b[1;33m.\u001b[0m\u001b[0mrequest\u001b[0m\u001b[1;33m(\u001b[0m\u001b[1;34m\"GET\"\u001b[0m\u001b[1;33m,\u001b[0m \u001b[0murl\u001b[0m\u001b[1;33m,\u001b[0m \u001b[1;33m**\u001b[0m\u001b[0mkwargs\u001b[0m\u001b[1;33m)\u001b[0m\u001b[1;33m\u001b[0m\u001b[1;33m\u001b[0m\u001b[0m\n\u001b[0m\u001b[0;32m    601\u001b[0m \u001b[1;33m\u001b[0m\u001b[0m\n\u001b[0;32m    602\u001b[0m     \u001b[1;32mdef\u001b[0m \u001b[0moptions\u001b[0m\u001b[1;33m(\u001b[0m\u001b[0mself\u001b[0m\u001b[1;33m,\u001b[0m \u001b[0murl\u001b[0m\u001b[1;33m,\u001b[0m \u001b[1;33m**\u001b[0m\u001b[0mkwargs\u001b[0m\u001b[1;33m)\u001b[0m\u001b[1;33m:\u001b[0m\u001b[1;33m\u001b[0m\u001b[1;33m\u001b[0m\u001b[0m\n",
      "\u001b[1;32mc:\\Users\\prati\\anaconda3\\envs\\excelcheckapp\\lib\\site-packages\\cloudscraper\\__init__.py\u001b[0m in \u001b[0;36mrequest\u001b[1;34m(self, method, url, *args, **kwargs)\u001b[0m\n\u001b[0;32m    255\u001b[0m \u001b[1;33m\u001b[0m\u001b[0m\n\u001b[0;32m    256\u001b[0m         response = self.decodeBrotli(\n\u001b[1;32m--> 257\u001b[1;33m             \u001b[0mself\u001b[0m\u001b[1;33m.\u001b[0m\u001b[0mperform_request\u001b[0m\u001b[1;33m(\u001b[0m\u001b[0mmethod\u001b[0m\u001b[1;33m,\u001b[0m \u001b[0murl\u001b[0m\u001b[1;33m,\u001b[0m \u001b[1;33m*\u001b[0m\u001b[0margs\u001b[0m\u001b[1;33m,\u001b[0m \u001b[1;33m**\u001b[0m\u001b[0mkwargs\u001b[0m\u001b[1;33m)\u001b[0m\u001b[1;33m\u001b[0m\u001b[1;33m\u001b[0m\u001b[0m\n\u001b[0m\u001b[0;32m    258\u001b[0m         )\n\u001b[0;32m    259\u001b[0m \u001b[1;33m\u001b[0m\u001b[0m\n",
      "\u001b[1;32mc:\\Users\\prati\\anaconda3\\envs\\excelcheckapp\\lib\\site-packages\\cloudscraper\\__init__.py\u001b[0m in \u001b[0;36mperform_request\u001b[1;34m(self, method, url, *args, **kwargs)\u001b[0m\n\u001b[0;32m    188\u001b[0m \u001b[1;33m\u001b[0m\u001b[0m\n\u001b[0;32m    189\u001b[0m     \u001b[1;32mdef\u001b[0m \u001b[0mperform_request\u001b[0m\u001b[1;33m(\u001b[0m\u001b[0mself\u001b[0m\u001b[1;33m,\u001b[0m \u001b[0mmethod\u001b[0m\u001b[1;33m,\u001b[0m \u001b[0murl\u001b[0m\u001b[1;33m,\u001b[0m \u001b[1;33m*\u001b[0m\u001b[0margs\u001b[0m\u001b[1;33m,\u001b[0m \u001b[1;33m**\u001b[0m\u001b[0mkwargs\u001b[0m\u001b[1;33m)\u001b[0m\u001b[1;33m:\u001b[0m\u001b[1;33m\u001b[0m\u001b[1;33m\u001b[0m\u001b[0m\n\u001b[1;32m--> 190\u001b[1;33m         \u001b[1;32mreturn\u001b[0m \u001b[0msuper\u001b[0m\u001b[1;33m(\u001b[0m\u001b[0mCloudScraper\u001b[0m\u001b[1;33m,\u001b[0m \u001b[0mself\u001b[0m\u001b[1;33m)\u001b[0m\u001b[1;33m.\u001b[0m\u001b[0mrequest\u001b[0m\u001b[1;33m(\u001b[0m\u001b[0mmethod\u001b[0m\u001b[1;33m,\u001b[0m \u001b[0murl\u001b[0m\u001b[1;33m,\u001b[0m \u001b[1;33m*\u001b[0m\u001b[0margs\u001b[0m\u001b[1;33m,\u001b[0m \u001b[1;33m**\u001b[0m\u001b[0mkwargs\u001b[0m\u001b[1;33m)\u001b[0m\u001b[1;33m\u001b[0m\u001b[1;33m\u001b[0m\u001b[0m\n\u001b[0m\u001b[0;32m    191\u001b[0m \u001b[1;33m\u001b[0m\u001b[0m\n\u001b[0;32m    192\u001b[0m     \u001b[1;31m# ------------------------------------------------------------------------------- #\u001b[0m\u001b[1;33m\u001b[0m\u001b[1;33m\u001b[0m\u001b[0m\n",
      "\u001b[1;32mc:\\Users\\prati\\anaconda3\\envs\\excelcheckapp\\lib\\site-packages\\requests\\sessions.py\u001b[0m in \u001b[0;36mrequest\u001b[1;34m(self, method, url, params, data, headers, cookies, files, auth, timeout, allow_redirects, proxies, hooks, stream, verify, cert, json)\u001b[0m\n\u001b[0;32m    585\u001b[0m         }\n\u001b[0;32m    586\u001b[0m         \u001b[0msend_kwargs\u001b[0m\u001b[1;33m.\u001b[0m\u001b[0mupdate\u001b[0m\u001b[1;33m(\u001b[0m\u001b[0msettings\u001b[0m\u001b[1;33m)\u001b[0m\u001b[1;33m\u001b[0m\u001b[1;33m\u001b[0m\u001b[0m\n\u001b[1;32m--> 587\u001b[1;33m         \u001b[0mresp\u001b[0m \u001b[1;33m=\u001b[0m \u001b[0mself\u001b[0m\u001b[1;33m.\u001b[0m\u001b[0msend\u001b[0m\u001b[1;33m(\u001b[0m\u001b[0mprep\u001b[0m\u001b[1;33m,\u001b[0m \u001b[1;33m**\u001b[0m\u001b[0msend_kwargs\u001b[0m\u001b[1;33m)\u001b[0m\u001b[1;33m\u001b[0m\u001b[1;33m\u001b[0m\u001b[0m\n\u001b[0m\u001b[0;32m    588\u001b[0m \u001b[1;33m\u001b[0m\u001b[0m\n\u001b[0;32m    589\u001b[0m         \u001b[1;32mreturn\u001b[0m \u001b[0mresp\u001b[0m\u001b[1;33m\u001b[0m\u001b[1;33m\u001b[0m\u001b[0m\n",
      "\u001b[1;32mc:\\Users\\prati\\anaconda3\\envs\\excelcheckapp\\lib\\site-packages\\requests\\sessions.py\u001b[0m in \u001b[0;36msend\u001b[1;34m(self, request, **kwargs)\u001b[0m\n\u001b[0;32m    699\u001b[0m \u001b[1;33m\u001b[0m\u001b[0m\n\u001b[0;32m    700\u001b[0m         \u001b[1;31m# Send the request\u001b[0m\u001b[1;33m\u001b[0m\u001b[1;33m\u001b[0m\u001b[0m\n\u001b[1;32m--> 701\u001b[1;33m         \u001b[0mr\u001b[0m \u001b[1;33m=\u001b[0m \u001b[0madapter\u001b[0m\u001b[1;33m.\u001b[0m\u001b[0msend\u001b[0m\u001b[1;33m(\u001b[0m\u001b[0mrequest\u001b[0m\u001b[1;33m,\u001b[0m \u001b[1;33m**\u001b[0m\u001b[0mkwargs\u001b[0m\u001b[1;33m)\u001b[0m\u001b[1;33m\u001b[0m\u001b[1;33m\u001b[0m\u001b[0m\n\u001b[0m\u001b[0;32m    702\u001b[0m \u001b[1;33m\u001b[0m\u001b[0m\n\u001b[0;32m    703\u001b[0m         \u001b[1;31m# Total elapsed time of the request (approximately)\u001b[0m\u001b[1;33m\u001b[0m\u001b[1;33m\u001b[0m\u001b[0m\n",
      "\u001b[1;32mc:\\Users\\prati\\anaconda3\\envs\\excelcheckapp\\lib\\site-packages\\requests\\adapters.py\u001b[0m in \u001b[0;36msend\u001b[1;34m(self, request, stream, timeout, verify, cert, proxies)\u001b[0m\n\u001b[0;32m    487\u001b[0m         \u001b[1;32mtry\u001b[0m\u001b[1;33m:\u001b[0m\u001b[1;33m\u001b[0m\u001b[1;33m\u001b[0m\u001b[0m\n\u001b[0;32m    488\u001b[0m             \u001b[1;32mif\u001b[0m \u001b[1;32mnot\u001b[0m \u001b[0mchunked\u001b[0m\u001b[1;33m:\u001b[0m\u001b[1;33m\u001b[0m\u001b[1;33m\u001b[0m\u001b[0m\n\u001b[1;32m--> 489\u001b[1;33m                 resp = conn.urlopen(\n\u001b[0m\u001b[0;32m    490\u001b[0m                     \u001b[0mmethod\u001b[0m\u001b[1;33m=\u001b[0m\u001b[0mrequest\u001b[0m\u001b[1;33m.\u001b[0m\u001b[0mmethod\u001b[0m\u001b[1;33m,\u001b[0m\u001b[1;33m\u001b[0m\u001b[1;33m\u001b[0m\u001b[0m\n\u001b[0;32m    491\u001b[0m                     \u001b[0murl\u001b[0m\u001b[1;33m=\u001b[0m\u001b[0murl\u001b[0m\u001b[1;33m,\u001b[0m\u001b[1;33m\u001b[0m\u001b[1;33m\u001b[0m\u001b[0m\n",
      "\u001b[1;32mc:\\Users\\prati\\anaconda3\\envs\\excelcheckapp\\lib\\site-packages\\urllib3\\connectionpool.py\u001b[0m in \u001b[0;36murlopen\u001b[1;34m(self, method, url, body, headers, retries, redirect, assert_same_host, timeout, pool_timeout, release_conn, chunked, body_pos, **response_kw)\u001b[0m\n\u001b[0;32m    701\u001b[0m \u001b[1;33m\u001b[0m\u001b[0m\n\u001b[0;32m    702\u001b[0m             \u001b[1;31m# Make the request on the httplib connection object.\u001b[0m\u001b[1;33m\u001b[0m\u001b[1;33m\u001b[0m\u001b[0m\n\u001b[1;32m--> 703\u001b[1;33m             httplib_response = self._make_request(\n\u001b[0m\u001b[0;32m    704\u001b[0m                 \u001b[0mconn\u001b[0m\u001b[1;33m,\u001b[0m\u001b[1;33m\u001b[0m\u001b[1;33m\u001b[0m\u001b[0m\n\u001b[0;32m    705\u001b[0m                 \u001b[0mmethod\u001b[0m\u001b[1;33m,\u001b[0m\u001b[1;33m\u001b[0m\u001b[1;33m\u001b[0m\u001b[0m\n",
      "\u001b[1;32mc:\\Users\\prati\\anaconda3\\envs\\excelcheckapp\\lib\\site-packages\\urllib3\\connectionpool.py\u001b[0m in \u001b[0;36m_make_request\u001b[1;34m(self, conn, method, url, timeout, chunked, **httplib_request_kw)\u001b[0m\n\u001b[0;32m    447\u001b[0m                     \u001b[1;31m# Python 3 (including for exceptions like SystemExit).\u001b[0m\u001b[1;33m\u001b[0m\u001b[1;33m\u001b[0m\u001b[0m\n\u001b[0;32m    448\u001b[0m                     \u001b[1;31m# Otherwise it looks like a bug in the code.\u001b[0m\u001b[1;33m\u001b[0m\u001b[1;33m\u001b[0m\u001b[0m\n\u001b[1;32m--> 449\u001b[1;33m                     \u001b[0msix\u001b[0m\u001b[1;33m.\u001b[0m\u001b[0mraise_from\u001b[0m\u001b[1;33m(\u001b[0m\u001b[0me\u001b[0m\u001b[1;33m,\u001b[0m \u001b[1;32mNone\u001b[0m\u001b[1;33m)\u001b[0m\u001b[1;33m\u001b[0m\u001b[1;33m\u001b[0m\u001b[0m\n\u001b[0m\u001b[0;32m    450\u001b[0m         \u001b[1;32mexcept\u001b[0m \u001b[1;33m(\u001b[0m\u001b[0mSocketTimeout\u001b[0m\u001b[1;33m,\u001b[0m \u001b[0mBaseSSLError\u001b[0m\u001b[1;33m,\u001b[0m \u001b[0mSocketError\u001b[0m\u001b[1;33m)\u001b[0m \u001b[1;32mas\u001b[0m \u001b[0me\u001b[0m\u001b[1;33m:\u001b[0m\u001b[1;33m\u001b[0m\u001b[1;33m\u001b[0m\u001b[0m\n\u001b[0;32m    451\u001b[0m             \u001b[0mself\u001b[0m\u001b[1;33m.\u001b[0m\u001b[0m_raise_timeout\u001b[0m\u001b[1;33m(\u001b[0m\u001b[0merr\u001b[0m\u001b[1;33m=\u001b[0m\u001b[0me\u001b[0m\u001b[1;33m,\u001b[0m \u001b[0murl\u001b[0m\u001b[1;33m=\u001b[0m\u001b[0murl\u001b[0m\u001b[1;33m,\u001b[0m \u001b[0mtimeout_value\u001b[0m\u001b[1;33m=\u001b[0m\u001b[0mread_timeout\u001b[0m\u001b[1;33m)\u001b[0m\u001b[1;33m\u001b[0m\u001b[1;33m\u001b[0m\u001b[0m\n",
      "\u001b[1;32mc:\\Users\\prati\\anaconda3\\envs\\excelcheckapp\\lib\\site-packages\\urllib3\\packages\\six.py\u001b[0m in \u001b[0;36mraise_from\u001b[1;34m(value, from_value)\u001b[0m\n",
      "\u001b[1;32mc:\\Users\\prati\\anaconda3\\envs\\excelcheckapp\\lib\\site-packages\\urllib3\\connectionpool.py\u001b[0m in \u001b[0;36m_make_request\u001b[1;34m(self, conn, method, url, timeout, chunked, **httplib_request_kw)\u001b[0m\n\u001b[0;32m    442\u001b[0m                 \u001b[1;31m# Python 3\u001b[0m\u001b[1;33m\u001b[0m\u001b[1;33m\u001b[0m\u001b[0m\n\u001b[0;32m    443\u001b[0m                 \u001b[1;32mtry\u001b[0m\u001b[1;33m:\u001b[0m\u001b[1;33m\u001b[0m\u001b[1;33m\u001b[0m\u001b[0m\n\u001b[1;32m--> 444\u001b[1;33m                     \u001b[0mhttplib_response\u001b[0m \u001b[1;33m=\u001b[0m \u001b[0mconn\u001b[0m\u001b[1;33m.\u001b[0m\u001b[0mgetresponse\u001b[0m\u001b[1;33m(\u001b[0m\u001b[1;33m)\u001b[0m\u001b[1;33m\u001b[0m\u001b[1;33m\u001b[0m\u001b[0m\n\u001b[0m\u001b[0;32m    445\u001b[0m                 \u001b[1;32mexcept\u001b[0m \u001b[0mBaseException\u001b[0m \u001b[1;32mas\u001b[0m \u001b[0me\u001b[0m\u001b[1;33m:\u001b[0m\u001b[1;33m\u001b[0m\u001b[1;33m\u001b[0m\u001b[0m\n\u001b[0;32m    446\u001b[0m                     \u001b[1;31m# Remove the TypeError from the exception chain in\u001b[0m\u001b[1;33m\u001b[0m\u001b[1;33m\u001b[0m\u001b[0m\n",
      "\u001b[1;32mc:\\Users\\prati\\anaconda3\\envs\\excelcheckapp\\lib\\http\\client.py\u001b[0m in \u001b[0;36mgetresponse\u001b[1;34m(self)\u001b[0m\n\u001b[0;32m   1372\u001b[0m         \u001b[1;32mtry\u001b[0m\u001b[1;33m:\u001b[0m\u001b[1;33m\u001b[0m\u001b[1;33m\u001b[0m\u001b[0m\n\u001b[0;32m   1373\u001b[0m             \u001b[1;32mtry\u001b[0m\u001b[1;33m:\u001b[0m\u001b[1;33m\u001b[0m\u001b[1;33m\u001b[0m\u001b[0m\n\u001b[1;32m-> 1374\u001b[1;33m                 \u001b[0mresponse\u001b[0m\u001b[1;33m.\u001b[0m\u001b[0mbegin\u001b[0m\u001b[1;33m(\u001b[0m\u001b[1;33m)\u001b[0m\u001b[1;33m\u001b[0m\u001b[1;33m\u001b[0m\u001b[0m\n\u001b[0m\u001b[0;32m   1375\u001b[0m             \u001b[1;32mexcept\u001b[0m \u001b[0mConnectionError\u001b[0m\u001b[1;33m:\u001b[0m\u001b[1;33m\u001b[0m\u001b[1;33m\u001b[0m\u001b[0m\n\u001b[0;32m   1376\u001b[0m                 \u001b[0mself\u001b[0m\u001b[1;33m.\u001b[0m\u001b[0mclose\u001b[0m\u001b[1;33m(\u001b[0m\u001b[1;33m)\u001b[0m\u001b[1;33m\u001b[0m\u001b[1;33m\u001b[0m\u001b[0m\n",
      "\u001b[1;32mc:\\Users\\prati\\anaconda3\\envs\\excelcheckapp\\lib\\http\\client.py\u001b[0m in \u001b[0;36mbegin\u001b[1;34m(self)\u001b[0m\n\u001b[0;32m    316\u001b[0m         \u001b[1;31m# read until we get a non-100 response\u001b[0m\u001b[1;33m\u001b[0m\u001b[1;33m\u001b[0m\u001b[0m\n\u001b[0;32m    317\u001b[0m         \u001b[1;32mwhile\u001b[0m \u001b[1;32mTrue\u001b[0m\u001b[1;33m:\u001b[0m\u001b[1;33m\u001b[0m\u001b[1;33m\u001b[0m\u001b[0m\n\u001b[1;32m--> 318\u001b[1;33m             \u001b[0mversion\u001b[0m\u001b[1;33m,\u001b[0m \u001b[0mstatus\u001b[0m\u001b[1;33m,\u001b[0m \u001b[0mreason\u001b[0m \u001b[1;33m=\u001b[0m \u001b[0mself\u001b[0m\u001b[1;33m.\u001b[0m\u001b[0m_read_status\u001b[0m\u001b[1;33m(\u001b[0m\u001b[1;33m)\u001b[0m\u001b[1;33m\u001b[0m\u001b[1;33m\u001b[0m\u001b[0m\n\u001b[0m\u001b[0;32m    319\u001b[0m             \u001b[1;32mif\u001b[0m \u001b[0mstatus\u001b[0m \u001b[1;33m!=\u001b[0m \u001b[0mCONTINUE\u001b[0m\u001b[1;33m:\u001b[0m\u001b[1;33m\u001b[0m\u001b[1;33m\u001b[0m\u001b[0m\n\u001b[0;32m    320\u001b[0m                 \u001b[1;32mbreak\u001b[0m\u001b[1;33m\u001b[0m\u001b[1;33m\u001b[0m\u001b[0m\n",
      "\u001b[1;32mc:\\Users\\prati\\anaconda3\\envs\\excelcheckapp\\lib\\http\\client.py\u001b[0m in \u001b[0;36m_read_status\u001b[1;34m(self)\u001b[0m\n\u001b[0;32m    277\u001b[0m \u001b[1;33m\u001b[0m\u001b[0m\n\u001b[0;32m    278\u001b[0m     \u001b[1;32mdef\u001b[0m \u001b[0m_read_status\u001b[0m\u001b[1;33m(\u001b[0m\u001b[0mself\u001b[0m\u001b[1;33m)\u001b[0m\u001b[1;33m:\u001b[0m\u001b[1;33m\u001b[0m\u001b[1;33m\u001b[0m\u001b[0m\n\u001b[1;32m--> 279\u001b[1;33m         \u001b[0mline\u001b[0m \u001b[1;33m=\u001b[0m \u001b[0mstr\u001b[0m\u001b[1;33m(\u001b[0m\u001b[0mself\u001b[0m\u001b[1;33m.\u001b[0m\u001b[0mfp\u001b[0m\u001b[1;33m.\u001b[0m\u001b[0mreadline\u001b[0m\u001b[1;33m(\u001b[0m\u001b[0m_MAXLINE\u001b[0m \u001b[1;33m+\u001b[0m \u001b[1;36m1\u001b[0m\u001b[1;33m)\u001b[0m\u001b[1;33m,\u001b[0m \u001b[1;34m\"iso-8859-1\"\u001b[0m\u001b[1;33m)\u001b[0m\u001b[1;33m\u001b[0m\u001b[1;33m\u001b[0m\u001b[0m\n\u001b[0m\u001b[0;32m    280\u001b[0m         \u001b[1;32mif\u001b[0m \u001b[0mlen\u001b[0m\u001b[1;33m(\u001b[0m\u001b[0mline\u001b[0m\u001b[1;33m)\u001b[0m \u001b[1;33m>\u001b[0m \u001b[0m_MAXLINE\u001b[0m\u001b[1;33m:\u001b[0m\u001b[1;33m\u001b[0m\u001b[1;33m\u001b[0m\u001b[0m\n\u001b[0;32m    281\u001b[0m             \u001b[1;32mraise\u001b[0m \u001b[0mLineTooLong\u001b[0m\u001b[1;33m(\u001b[0m\u001b[1;34m\"status line\"\u001b[0m\u001b[1;33m)\u001b[0m\u001b[1;33m\u001b[0m\u001b[1;33m\u001b[0m\u001b[0m\n",
      "\u001b[1;32mc:\\Users\\prati\\anaconda3\\envs\\excelcheckapp\\lib\\socket.py\u001b[0m in \u001b[0;36mreadinto\u001b[1;34m(self, b)\u001b[0m\n\u001b[0;32m    703\u001b[0m         \u001b[1;32mwhile\u001b[0m \u001b[1;32mTrue\u001b[0m\u001b[1;33m:\u001b[0m\u001b[1;33m\u001b[0m\u001b[1;33m\u001b[0m\u001b[0m\n\u001b[0;32m    704\u001b[0m             \u001b[1;32mtry\u001b[0m\u001b[1;33m:\u001b[0m\u001b[1;33m\u001b[0m\u001b[1;33m\u001b[0m\u001b[0m\n\u001b[1;32m--> 705\u001b[1;33m                 \u001b[1;32mreturn\u001b[0m \u001b[0mself\u001b[0m\u001b[1;33m.\u001b[0m\u001b[0m_sock\u001b[0m\u001b[1;33m.\u001b[0m\u001b[0mrecv_into\u001b[0m\u001b[1;33m(\u001b[0m\u001b[0mb\u001b[0m\u001b[1;33m)\u001b[0m\u001b[1;33m\u001b[0m\u001b[1;33m\u001b[0m\u001b[0m\n\u001b[0m\u001b[0;32m    706\u001b[0m             \u001b[1;32mexcept\u001b[0m \u001b[0mtimeout\u001b[0m\u001b[1;33m:\u001b[0m\u001b[1;33m\u001b[0m\u001b[1;33m\u001b[0m\u001b[0m\n\u001b[0;32m    707\u001b[0m                 \u001b[0mself\u001b[0m\u001b[1;33m.\u001b[0m\u001b[0m_timeout_occurred\u001b[0m \u001b[1;33m=\u001b[0m \u001b[1;32mTrue\u001b[0m\u001b[1;33m\u001b[0m\u001b[1;33m\u001b[0m\u001b[0m\n",
      "\u001b[1;32mc:\\Users\\prati\\anaconda3\\envs\\excelcheckapp\\lib\\ssl.py\u001b[0m in \u001b[0;36mrecv_into\u001b[1;34m(self, buffer, nbytes, flags)\u001b[0m\n\u001b[0;32m   1272\u001b[0m                   \u001b[1;34m\"non-zero flags not allowed in calls to recv_into() on %s\"\u001b[0m \u001b[1;33m%\u001b[0m\u001b[1;33m\u001b[0m\u001b[1;33m\u001b[0m\u001b[0m\n\u001b[0;32m   1273\u001b[0m                   self.__class__)\n\u001b[1;32m-> 1274\u001b[1;33m             \u001b[1;32mreturn\u001b[0m \u001b[0mself\u001b[0m\u001b[1;33m.\u001b[0m\u001b[0mread\u001b[0m\u001b[1;33m(\u001b[0m\u001b[0mnbytes\u001b[0m\u001b[1;33m,\u001b[0m \u001b[0mbuffer\u001b[0m\u001b[1;33m)\u001b[0m\u001b[1;33m\u001b[0m\u001b[1;33m\u001b[0m\u001b[0m\n\u001b[0m\u001b[0;32m   1275\u001b[0m         \u001b[1;32melse\u001b[0m\u001b[1;33m:\u001b[0m\u001b[1;33m\u001b[0m\u001b[1;33m\u001b[0m\u001b[0m\n\u001b[0;32m   1276\u001b[0m             \u001b[1;32mreturn\u001b[0m \u001b[0msuper\u001b[0m\u001b[1;33m(\u001b[0m\u001b[1;33m)\u001b[0m\u001b[1;33m.\u001b[0m\u001b[0mrecv_into\u001b[0m\u001b[1;33m(\u001b[0m\u001b[0mbuffer\u001b[0m\u001b[1;33m,\u001b[0m \u001b[0mnbytes\u001b[0m\u001b[1;33m,\u001b[0m \u001b[0mflags\u001b[0m\u001b[1;33m)\u001b[0m\u001b[1;33m\u001b[0m\u001b[1;33m\u001b[0m\u001b[0m\n",
      "\u001b[1;32mc:\\Users\\prati\\anaconda3\\envs\\excelcheckapp\\lib\\ssl.py\u001b[0m in \u001b[0;36mread\u001b[1;34m(self, len, buffer)\u001b[0m\n\u001b[0;32m   1128\u001b[0m         \u001b[1;32mtry\u001b[0m\u001b[1;33m:\u001b[0m\u001b[1;33m\u001b[0m\u001b[1;33m\u001b[0m\u001b[0m\n\u001b[0;32m   1129\u001b[0m             \u001b[1;32mif\u001b[0m \u001b[0mbuffer\u001b[0m \u001b[1;32mis\u001b[0m \u001b[1;32mnot\u001b[0m \u001b[1;32mNone\u001b[0m\u001b[1;33m:\u001b[0m\u001b[1;33m\u001b[0m\u001b[1;33m\u001b[0m\u001b[0m\n\u001b[1;32m-> 1130\u001b[1;33m                 \u001b[1;32mreturn\u001b[0m \u001b[0mself\u001b[0m\u001b[1;33m.\u001b[0m\u001b[0m_sslobj\u001b[0m\u001b[1;33m.\u001b[0m\u001b[0mread\u001b[0m\u001b[1;33m(\u001b[0m\u001b[0mlen\u001b[0m\u001b[1;33m,\u001b[0m \u001b[0mbuffer\u001b[0m\u001b[1;33m)\u001b[0m\u001b[1;33m\u001b[0m\u001b[1;33m\u001b[0m\u001b[0m\n\u001b[0m\u001b[0;32m   1131\u001b[0m             \u001b[1;32melse\u001b[0m\u001b[1;33m:\u001b[0m\u001b[1;33m\u001b[0m\u001b[1;33m\u001b[0m\u001b[0m\n\u001b[0;32m   1132\u001b[0m                 \u001b[1;32mreturn\u001b[0m \u001b[0mself\u001b[0m\u001b[1;33m.\u001b[0m\u001b[0m_sslobj\u001b[0m\u001b[1;33m.\u001b[0m\u001b[0mread\u001b[0m\u001b[1;33m(\u001b[0m\u001b[0mlen\u001b[0m\u001b[1;33m)\u001b[0m\u001b[1;33m\u001b[0m\u001b[1;33m\u001b[0m\u001b[0m\n",
      "\u001b[1;31mKeyboardInterrupt\u001b[0m: "
     ]
    }
   ],
   "source": [
    "scraped_df.fillna('NA',inplace=True)\n",
    "\n",
    "res_df = QC_check1(scraped_df)"
   ]
  },
  {
   "attachments": {},
   "cell_type": "markdown",
   "id": "899cca7e",
   "metadata": {},
   "source": [
    "## Mush comparison"
   ]
  },
  {
   "cell_type": "code",
   "execution_count": 29,
   "id": "e46fa5ba",
   "metadata": {},
   "outputs": [],
   "source": [
    "mush_df = pd.read_csv('DataStore/compare_datasets/data_mush.csv')\n",
    "mush_df['ScrapedFor'] = np.array(['Mush']*mush_df.shape[0])\n",
    "mush_df = mush_df[req_cols]\n",
    "mush_df.fillna('NA',inplace = True)"
   ]
  },
  {
   "cell_type": "code",
   "execution_count": 20,
   "id": "59a96224",
   "metadata": {},
   "outputs": [
    {
     "data": {
      "text/plain": [
       "(63, 6)"
      ]
     },
     "execution_count": 20,
     "metadata": {},
     "output_type": "execute_result"
    }
   ],
   "source": [
    "mush_df.shape"
   ]
  },
  {
   "cell_type": "code",
   "execution_count": 37,
   "id": "02a0be30",
   "metadata": {},
   "outputs": [],
   "source": [
    "gt_mush_df = ground_truth[ground_truth['Brand'].str.lower()=='mush']"
   ]
  },
  {
   "attachments": {},
   "cell_type": "markdown",
   "id": "182bbd7b",
   "metadata": {},
   "source": [
    "### ASINS Comparison"
   ]
  },
  {
   "cell_type": "code",
   "execution_count": 46,
   "id": "c49e1797",
   "metadata": {},
   "outputs": [],
   "source": [
    "mush_df_asins = mush_df['ASIN'].tolist()"
   ]
  },
  {
   "attachments": {},
   "cell_type": "markdown",
   "id": "644613f8",
   "metadata": {},
   "source": [
    "#### Duplicate Check"
   ]
  },
  {
   "cell_type": "code",
   "execution_count": 52,
   "id": "06020bcd",
   "metadata": {},
   "outputs": [
    {
     "name": "stdout",
     "output_type": "stream",
     "text": [
      "len(set(mush_df_asins))==mush_df.shape[0] = False\n",
      " 62==63\n"
     ]
    }
   ],
   "source": [
    "print('len(set(mush_df_asins))==mush_df.shape[0] = {}\\n {}=={}'.format(len(set(mush_df_asins))==mush_df.shape[0],len(set(mush_df_asins)),mush_df.shape[0]))"
   ]
  },
  {
   "cell_type": "code",
   "execution_count": null,
   "id": "cbd94319",
   "metadata": {},
   "outputs": [
    {
     "data": {
      "text/plain": [
       "B07CWBTBRK    2\n",
       "Name: ASIN, dtype: int64"
      ]
     },
     "execution_count": 59,
     "metadata": {},
     "output_type": "execute_result"
    }
   ],
   "source": [
    "mush_df['ASIN'].value_counts()[mush_df['ASIN'].value_counts()>1]"
   ]
  },
  {
   "attachments": {},
   "cell_type": "markdown",
   "id": "967c1f80",
   "metadata": {},
   "source": [
    "One duplicate ASIN = B07CWBTBRK    "
   ]
  },
  {
   "attachments": {},
   "cell_type": "markdown",
   "id": "0f98adc4",
   "metadata": {},
   "source": [
    "#### Different ASINS  "
   ]
  },
  {
   "attachments": {},
   "cell_type": "markdown",
   "id": "c32a2e52",
   "metadata": {},
   "source": [
    "In GT not in scraped data"
   ]
  },
  {
   "cell_type": "code",
   "execution_count": 61,
   "id": "50c44aea",
   "metadata": {},
   "outputs": [
    {
     "name": "stdout",
     "output_type": "stream",
     "text": [
      "{'B09G36WZF3', 'B0819PW15B', 'B09F5SR1GY', 'B07CW9WNLP', 'B07NY36LQR', 'B08P4XF1VP', 'B07S6P8652', 'B09F5Z518M', 'B07S8Q85B4', 'B07CWB65DY', 'B09XN9LHQQ', 'B07P12ZDYF', 'B07P12ZVDX', 'B07SRVPJMX', 'B08K8Y4WF7', 'B0823GKN83', 'B07NY34DJ1', 'B09XN6J7DY', 'B07NY36KRZ', 'B07GCHY9HX', 'B08P5HD75Q', 'B09XN9T786', 'B07R6DDL5C', 'B09XN7X8L1', 'B07WD8JL8S', 'B07CWCGF26', 'B09XN7KHVF', 'B09F5XLT7G', 'B09XN7WD3Z', 'B07CWBTB4K', 'B08P5JGJ5D', 'B09F5PL8HR', 'B07P1381QZ', 'B09G37TPTR', 'B09XN86Y57', 'B07CWBDFSK', 'B08Y365QSF', 'B07SVFGHC1', 'B07CWBZWFJ', 'B08P4X9Y9B', 'B07STFB7XD', 'B07KKHC2VD', 'B07SK8JNT7'}\n"
     ]
    }
   ],
   "source": [
    "print(set(gt_mush_df['ASIN'].tolist()) - set(mush_df_asins))"
   ]
  },
  {
   "attachments": {},
   "cell_type": "markdown",
   "id": "0e20258c",
   "metadata": {},
   "source": [
    "In scraped data not in GT"
   ]
  },
  {
   "cell_type": "code",
   "execution_count": 62,
   "id": "0f8f4dd5",
   "metadata": {},
   "outputs": [
    {
     "name": "stdout",
     "output_type": "stream",
     "text": [
      "{'B0BRKVVD5R', 'B09Y2G7ZFN', 'B0B51TRRSB', 'B07CW1BJQY', 'B0BC96YLS5', 'B07RCHPL8M', 'B0BNVZ6SMB', 'B0855VDLD9', 'B08561NXF1', 'B07SJ5KCMG', 'B09MDPJSB1', 'B07SJ4Y93D', 'B09S5PM92D', 'B07KXV7MQR', 'B09X48CMKB', 'B08WQ5R7KQ', 'B0BRN1NQD6', 'B09X48RT33', 'B0BRN3K7QV', 'B0BRCR6CN3', 'B0B2WVWJFM', 'B09YMC5B9F', 'B0BP7QW7KV', 'B0BNBVHKZW', 'B0BN664HLW', 'B0855W7KL4', 'B0BRN1JQ5M', 'B09X48T3VM', 'B0BRKV5498', 'B0BDVDF8DJ', 'B0BRKVGC61', 'B0BNNKFCBZ', 'B09X49HP4M', 'B0BRKV7N7W', 'B09W5NZMPJ', 'B0BLZSRMMN', 'B08CMNNHYC', 'B08VF35G1Q', 'B0BC99R3K8', 'B0BSTX12LK', 'B0BQCPFH3M', 'B0BRLBXMDD', 'B0BRN2S13L', 'B0BQ7CFK5P', 'B089T7Z74M', 'B0BRKV7R6J', 'B0BDV8JQZF', 'B0BF4ZRKF1', 'B09Z89H7DC', 'B0BPCYPFMZ', 'B08WPWB9MT', 'B0BM45JH9N', 'B09X48CK2Z', 'B0BPF1TW2L', 'B0728KV2ZL', 'B0BQ751Y1B', 'B08CN3VSKV', 'B09X48F423'}\n"
     ]
    }
   ],
   "source": [
    "print(set(mush_df_asins) - set(gt_mush_df['ASIN'].tolist()))"
   ]
  },
  {
   "cell_type": "code",
   "execution_count": null,
   "id": "072daaea",
   "metadata": {},
   "outputs": [],
   "source": []
  },
  {
   "cell_type": "code",
   "execution_count": 1,
   "id": "446d7002",
   "metadata": {},
   "outputs": [
    {
     "ename": "NameError",
     "evalue": "name 'ground_truth' is not defined",
     "output_type": "error",
     "traceback": [
      "\u001b[1;31m---------------------------------------------------------------------------\u001b[0m",
      "\u001b[1;31mNameError\u001b[0m                                 Traceback (most recent call last)",
      "\u001b[1;32m~\\AppData\\Local\\Temp\\ipykernel_19332\\2782232399.py\u001b[0m in \u001b[0;36m<module>\u001b[1;34m\u001b[0m\n\u001b[1;32m----> 1\u001b[1;33m \u001b[0mground_truth\u001b[0m\u001b[1;33m[\u001b[0m\u001b[0mground_truth\u001b[0m\u001b[1;33m[\u001b[0m\u001b[1;34m'Brand'\u001b[0m\u001b[1;33m]\u001b[0m\u001b[1;33m==\u001b[0m\u001b[1;34m'Mush'\u001b[0m\u001b[1;33m]\u001b[0m\u001b[1;33m\u001b[0m\u001b[1;33m\u001b[0m\u001b[0m\n\u001b[0m",
      "\u001b[1;31mNameError\u001b[0m: name 'ground_truth' is not defined"
     ]
    }
   ],
   "source": [
    "ground_truth[ground_truth['Brand']=='Mush']"
   ]
  },
  {
   "cell_type": "code",
   "execution_count": 39,
   "id": "fbd6f0a4",
   "metadata": {},
   "outputs": [],
   "source": [
    "\n",
    "from transformers import AutoTokenizer, AutoModelForSeq2SeqLM\n",
    "\n",
    "tokenizer = AutoTokenizer.from_pretrained(\"KES/T5-KES\")\n"
   ]
  },
  {
   "cell_type": "code",
   "execution_count": 40,
   "id": "e5a6684b",
   "metadata": {},
   "outputs": [
    {
     "ename": "OSError",
     "evalue": "Unable to load weights from pytorch checkpoint file for 'C:\\Users\\prati/.cache\\huggingface\\hub\\models--KES--T5-KES\\snapshots\\fb5378c138b6d2827be5583787178b4e467d7b12\\pytorch_model.bin' at 'C:\\Users\\prati/.cache\\huggingface\\hub\\models--KES--T5-KES\\snapshots\\fb5378c138b6d2827be5583787178b4e467d7b12\\pytorch_model.bin'. If you tried to load a PyTorch model from a TF 2.0 checkpoint, please set from_tf=True.",
     "output_type": "error",
     "traceback": [
      "\u001b[1;31m---------------------------------------------------------------------------\u001b[0m",
      "\u001b[1;31mAttributeError\u001b[0m                            Traceback (most recent call last)",
      "\u001b[1;32mc:\\Users\\prati\\anaconda3\\envs\\excelcheckapp\\lib\\site-packages\\transformers\\modeling_utils.py\u001b[0m in \u001b[0;36mload_state_dict\u001b[1;34m(checkpoint_file)\u001b[0m\n\u001b[0;32m    414\u001b[0m     \u001b[1;32mtry\u001b[0m\u001b[1;33m:\u001b[0m\u001b[1;33m\u001b[0m\u001b[1;33m\u001b[0m\u001b[0m\n\u001b[1;32m--> 415\u001b[1;33m         \u001b[1;32mreturn\u001b[0m \u001b[0mtorch\u001b[0m\u001b[1;33m.\u001b[0m\u001b[0mload\u001b[0m\u001b[1;33m(\u001b[0m\u001b[0mcheckpoint_file\u001b[0m\u001b[1;33m,\u001b[0m \u001b[0mmap_location\u001b[0m\u001b[1;33m=\u001b[0m\u001b[1;34m\"cpu\"\u001b[0m\u001b[1;33m)\u001b[0m\u001b[1;33m\u001b[0m\u001b[1;33m\u001b[0m\u001b[0m\n\u001b[0m\u001b[0;32m    416\u001b[0m     \u001b[1;32mexcept\u001b[0m \u001b[0mException\u001b[0m \u001b[1;32mas\u001b[0m \u001b[0me\u001b[0m\u001b[1;33m:\u001b[0m\u001b[1;33m\u001b[0m\u001b[1;33m\u001b[0m\u001b[0m\n",
      "\u001b[1;32mc:\\Users\\prati\\anaconda3\\envs\\excelcheckapp\\lib\\site-packages\\torch\\serialization.py\u001b[0m in \u001b[0;36mload\u001b[1;34m(f, map_location, pickle_module, **pickle_load_args)\u001b[0m\n\u001b[0;32m    711\u001b[0m \u001b[1;33m\u001b[0m\u001b[0m\n\u001b[1;32m--> 712\u001b[1;33m     \u001b[1;33m.\u001b[0m\u001b[1;33m.\u001b[0m \u001b[0mwarning\u001b[0m\u001b[1;33m:\u001b[0m\u001b[1;33m:\u001b[0m\u001b[1;33m\u001b[0m\u001b[1;33m\u001b[0m\u001b[0m\n\u001b[0m\u001b[0;32m    713\u001b[0m         \u001b[1;33m:\u001b[0m\u001b[0mfunc\u001b[0m\u001b[1;33m:\u001b[0m\u001b[0;31m`\u001b[0m\u001b[0mtorch\u001b[0m\u001b[1;33m.\u001b[0m\u001b[0mload\u001b[0m\u001b[1;33m(\u001b[0m\u001b[1;33m)\u001b[0m\u001b[0;31m`\u001b[0m \u001b[0munless\u001b[0m\u001b[0;31m \u001b[0m\u001b[0;31m`\u001b[0m\u001b[0mweights_only\u001b[0m\u001b[0;31m`\u001b[0m \u001b[0mparameter\u001b[0m \u001b[1;32mis\u001b[0m \u001b[0mset\u001b[0m \u001b[0mto\u001b[0m\u001b[0;31m \u001b[0m\u001b[0;31m`\u001b[0m\u001b[1;32mTrue\u001b[0m\u001b[0;31m`\u001b[0m\u001b[1;33m,\u001b[0m\u001b[1;33m\u001b[0m\u001b[1;33m\u001b[0m\u001b[0m\n",
      "\u001b[1;32mc:\\Users\\prati\\anaconda3\\envs\\excelcheckapp\\lib\\site-packages\\torch\\serialization.py\u001b[0m in \u001b[0;36m_load\u001b[1;34m(zip_file, map_location, pickle_module, pickle_file, **pickle_load_args)\u001b[0m\n\u001b[0;32m   1045\u001b[0m         \u001b[0mrestore_location\u001b[0m \u001b[1;33m=\u001b[0m \u001b[0mdefault_restore_location\u001b[0m\u001b[1;33m\u001b[0m\u001b[1;33m\u001b[0m\u001b[0m\n\u001b[1;32m-> 1046\u001b[1;33m     \u001b[1;32melif\u001b[0m \u001b[0misinstance\u001b[0m\u001b[1;33m(\u001b[0m\u001b[0mmap_location\u001b[0m\u001b[1;33m,\u001b[0m \u001b[0mdict\u001b[0m\u001b[1;33m)\u001b[0m\u001b[1;33m:\u001b[0m\u001b[1;33m\u001b[0m\u001b[1;33m\u001b[0m\u001b[0m\n\u001b[0m\u001b[0;32m   1047\u001b[0m         \u001b[1;32mdef\u001b[0m \u001b[0mrestore_location\u001b[0m\u001b[1;33m(\u001b[0m\u001b[0mstorage\u001b[0m\u001b[1;33m,\u001b[0m \u001b[0mlocation\u001b[0m\u001b[1;33m)\u001b[0m\u001b[1;33m:\u001b[0m\u001b[1;33m\u001b[0m\u001b[1;33m\u001b[0m\u001b[0m\n",
      "\u001b[1;32mc:\\Users\\prati\\anaconda3\\envs\\excelcheckapp\\lib\\site-packages\\torch\\serialization.py\u001b[0m in \u001b[0;36mpersistent_load\u001b[1;34m(saved_id)\u001b[0m\n\u001b[0;32m   1014\u001b[0m     \u001b[0mdeserialized_storage_keys\u001b[0m \u001b[1;33m=\u001b[0m \u001b[0mpickle_module\u001b[0m\u001b[1;33m.\u001b[0m\u001b[0mload\u001b[0m\u001b[1;33m(\u001b[0m\u001b[0mf\u001b[0m\u001b[1;33m,\u001b[0m \u001b[1;33m**\u001b[0m\u001b[0mpickle_load_args\u001b[0m\u001b[1;33m)\u001b[0m\u001b[1;33m\u001b[0m\u001b[1;33m\u001b[0m\u001b[0m\n\u001b[1;32m-> 1015\u001b[1;33m \u001b[1;33m\u001b[0m\u001b[0m\n\u001b[0m\u001b[0;32m   1016\u001b[0m     \u001b[0moffset\u001b[0m \u001b[1;33m=\u001b[0m \u001b[0mf\u001b[0m\u001b[1;33m.\u001b[0m\u001b[0mtell\u001b[0m\u001b[1;33m(\u001b[0m\u001b[1;33m)\u001b[0m \u001b[1;32mif\u001b[0m \u001b[0mf_should_read_directly\u001b[0m \u001b[1;32melse\u001b[0m \u001b[1;32mNone\u001b[0m\u001b[1;33m\u001b[0m\u001b[1;33m\u001b[0m\u001b[0m\n",
      "\u001b[1;31mAttributeError\u001b[0m: module 'torch' has no attribute '_utils'",
      "\nDuring handling of the above exception, another exception occurred:\n",
      "\u001b[1;31mUnicodeDecodeError\u001b[0m                        Traceback (most recent call last)",
      "\u001b[1;32mc:\\Users\\prati\\anaconda3\\envs\\excelcheckapp\\lib\\site-packages\\transformers\\modeling_utils.py\u001b[0m in \u001b[0;36mload_state_dict\u001b[1;34m(checkpoint_file)\u001b[0m\n\u001b[0;32m    418\u001b[0m             \u001b[1;32mwith\u001b[0m \u001b[0mopen\u001b[0m\u001b[1;33m(\u001b[0m\u001b[0mcheckpoint_file\u001b[0m\u001b[1;33m)\u001b[0m \u001b[1;32mas\u001b[0m \u001b[0mf\u001b[0m\u001b[1;33m:\u001b[0m\u001b[1;33m\u001b[0m\u001b[1;33m\u001b[0m\u001b[0m\n\u001b[1;32m--> 419\u001b[1;33m                 \u001b[1;32mif\u001b[0m \u001b[0mf\u001b[0m\u001b[1;33m.\u001b[0m\u001b[0mread\u001b[0m\u001b[1;33m(\u001b[0m\u001b[1;36m7\u001b[0m\u001b[1;33m)\u001b[0m \u001b[1;33m==\u001b[0m \u001b[1;34m\"version\"\u001b[0m\u001b[1;33m:\u001b[0m\u001b[1;33m\u001b[0m\u001b[1;33m\u001b[0m\u001b[0m\n\u001b[0m\u001b[0;32m    420\u001b[0m                     raise OSError(\n",
      "\u001b[1;32mc:\\Users\\prati\\anaconda3\\envs\\excelcheckapp\\lib\\codecs.py\u001b[0m in \u001b[0;36mdecode\u001b[1;34m(self, input, final)\u001b[0m\n\u001b[0;32m    321\u001b[0m         \u001b[0mdata\u001b[0m \u001b[1;33m=\u001b[0m \u001b[0mself\u001b[0m\u001b[1;33m.\u001b[0m\u001b[0mbuffer\u001b[0m \u001b[1;33m+\u001b[0m \u001b[0minput\u001b[0m\u001b[1;33m\u001b[0m\u001b[1;33m\u001b[0m\u001b[0m\n\u001b[1;32m--> 322\u001b[1;33m         \u001b[1;33m(\u001b[0m\u001b[0mresult\u001b[0m\u001b[1;33m,\u001b[0m \u001b[0mconsumed\u001b[0m\u001b[1;33m)\u001b[0m \u001b[1;33m=\u001b[0m \u001b[0mself\u001b[0m\u001b[1;33m.\u001b[0m\u001b[0m_buffer_decode\u001b[0m\u001b[1;33m(\u001b[0m\u001b[0mdata\u001b[0m\u001b[1;33m,\u001b[0m \u001b[0mself\u001b[0m\u001b[1;33m.\u001b[0m\u001b[0merrors\u001b[0m\u001b[1;33m,\u001b[0m \u001b[0mfinal\u001b[0m\u001b[1;33m)\u001b[0m\u001b[1;33m\u001b[0m\u001b[1;33m\u001b[0m\u001b[0m\n\u001b[0m\u001b[0;32m    323\u001b[0m         \u001b[1;31m# keep undecoded input until the next call\u001b[0m\u001b[1;33m\u001b[0m\u001b[1;33m\u001b[0m\u001b[0m\n",
      "\u001b[1;31mUnicodeDecodeError\u001b[0m: 'utf-8' codec can't decode byte 0x80 in position 64: invalid start byte",
      "\nDuring handling of the above exception, another exception occurred:\n",
      "\u001b[1;31mOSError\u001b[0m                                   Traceback (most recent call last)",
      "\u001b[1;32m~\\AppData\\Local\\Temp\\ipykernel_19332\\2536893401.py\u001b[0m in \u001b[0;36m<module>\u001b[1;34m\u001b[0m\n\u001b[1;32m----> 1\u001b[1;33m \u001b[0mmodel\u001b[0m \u001b[1;33m=\u001b[0m \u001b[0mAutoModelForSeq2SeqLM\u001b[0m\u001b[1;33m.\u001b[0m\u001b[0mfrom_pretrained\u001b[0m\u001b[1;33m(\u001b[0m\u001b[1;34m\"KES/T5-KES\"\u001b[0m\u001b[1;33m)\u001b[0m\u001b[1;33m\u001b[0m\u001b[1;33m\u001b[0m\u001b[0m\n\u001b[0m",
      "\u001b[1;32mc:\\Users\\prati\\anaconda3\\envs\\excelcheckapp\\lib\\site-packages\\transformers\\models\\auto\\auto_factory.py\u001b[0m in \u001b[0;36mfrom_pretrained\u001b[1;34m(cls, pretrained_model_name_or_path, *model_args, **kwargs)\u001b[0m\n\u001b[0;32m    462\u001b[0m         \u001b[1;32melif\u001b[0m \u001b[0mtype\u001b[0m\u001b[1;33m(\u001b[0m\u001b[0mconfig\u001b[0m\u001b[1;33m)\u001b[0m \u001b[1;32min\u001b[0m \u001b[0mcls\u001b[0m\u001b[1;33m.\u001b[0m\u001b[0m_model_mapping\u001b[0m\u001b[1;33m.\u001b[0m\u001b[0mkeys\u001b[0m\u001b[1;33m(\u001b[0m\u001b[1;33m)\u001b[0m\u001b[1;33m:\u001b[0m\u001b[1;33m\u001b[0m\u001b[1;33m\u001b[0m\u001b[0m\n\u001b[0;32m    463\u001b[0m             \u001b[0mmodel_class\u001b[0m \u001b[1;33m=\u001b[0m \u001b[0m_get_model_class\u001b[0m\u001b[1;33m(\u001b[0m\u001b[0mconfig\u001b[0m\u001b[1;33m,\u001b[0m \u001b[0mcls\u001b[0m\u001b[1;33m.\u001b[0m\u001b[0m_model_mapping\u001b[0m\u001b[1;33m)\u001b[0m\u001b[1;33m\u001b[0m\u001b[1;33m\u001b[0m\u001b[0m\n\u001b[1;32m--> 464\u001b[1;33m             return model_class.from_pretrained(\n\u001b[0m\u001b[0;32m    465\u001b[0m                 \u001b[0mpretrained_model_name_or_path\u001b[0m\u001b[1;33m,\u001b[0m \u001b[1;33m*\u001b[0m\u001b[0mmodel_args\u001b[0m\u001b[1;33m,\u001b[0m \u001b[0mconfig\u001b[0m\u001b[1;33m=\u001b[0m\u001b[0mconfig\u001b[0m\u001b[1;33m,\u001b[0m \u001b[1;33m**\u001b[0m\u001b[0mhub_kwargs\u001b[0m\u001b[1;33m,\u001b[0m \u001b[1;33m**\u001b[0m\u001b[0mkwargs\u001b[0m\u001b[1;33m\u001b[0m\u001b[1;33m\u001b[0m\u001b[0m\n\u001b[0;32m    466\u001b[0m             )\n",
      "\u001b[1;32mc:\\Users\\prati\\anaconda3\\envs\\excelcheckapp\\lib\\site-packages\\transformers\\modeling_utils.py\u001b[0m in \u001b[0;36mfrom_pretrained\u001b[1;34m(cls, pretrained_model_name_or_path, *model_args, **kwargs)\u001b[0m\n\u001b[0;32m   2299\u001b[0m             \u001b[1;32mif\u001b[0m \u001b[1;32mnot\u001b[0m \u001b[0mis_sharded\u001b[0m \u001b[1;32mand\u001b[0m \u001b[0mstate_dict\u001b[0m \u001b[1;32mis\u001b[0m \u001b[1;32mNone\u001b[0m\u001b[1;33m:\u001b[0m\u001b[1;33m\u001b[0m\u001b[1;33m\u001b[0m\u001b[0m\n\u001b[0;32m   2300\u001b[0m                 \u001b[1;31m# Time to load the checkpoint\u001b[0m\u001b[1;33m\u001b[0m\u001b[1;33m\u001b[0m\u001b[0m\n\u001b[1;32m-> 2301\u001b[1;33m                 \u001b[0mstate_dict\u001b[0m \u001b[1;33m=\u001b[0m \u001b[0mload_state_dict\u001b[0m\u001b[1;33m(\u001b[0m\u001b[0mresolved_archive_file\u001b[0m\u001b[1;33m)\u001b[0m\u001b[1;33m\u001b[0m\u001b[1;33m\u001b[0m\u001b[0m\n\u001b[0m\u001b[0;32m   2302\u001b[0m \u001b[1;33m\u001b[0m\u001b[0m\n\u001b[0;32m   2303\u001b[0m             \u001b[1;31m# set dtype to instantiate the model under:\u001b[0m\u001b[1;33m\u001b[0m\u001b[1;33m\u001b[0m\u001b[0m\n",
      "\u001b[1;32mc:\\Users\\prati\\anaconda3\\envs\\excelcheckapp\\lib\\site-packages\\transformers\\modeling_utils.py\u001b[0m in \u001b[0;36mload_state_dict\u001b[1;34m(checkpoint_file)\u001b[0m\n\u001b[0;32m    429\u001b[0m                     ) from e\n\u001b[0;32m    430\u001b[0m         \u001b[1;32mexcept\u001b[0m \u001b[1;33m(\u001b[0m\u001b[0mUnicodeDecodeError\u001b[0m\u001b[1;33m,\u001b[0m \u001b[0mValueError\u001b[0m\u001b[1;33m)\u001b[0m\u001b[1;33m:\u001b[0m\u001b[1;33m\u001b[0m\u001b[1;33m\u001b[0m\u001b[0m\n\u001b[1;32m--> 431\u001b[1;33m             raise OSError(\n\u001b[0m\u001b[0;32m    432\u001b[0m                 \u001b[1;34mf\"Unable to load weights from pytorch checkpoint file for '{checkpoint_file}' \"\u001b[0m\u001b[1;33m\u001b[0m\u001b[1;33m\u001b[0m\u001b[0m\n\u001b[0;32m    433\u001b[0m                 \u001b[1;34mf\"at '{checkpoint_file}'. \"\u001b[0m\u001b[1;33m\u001b[0m\u001b[1;33m\u001b[0m\u001b[0m\n",
      "\u001b[1;31mOSError\u001b[0m: Unable to load weights from pytorch checkpoint file for 'C:\\Users\\prati/.cache\\huggingface\\hub\\models--KES--T5-KES\\snapshots\\fb5378c138b6d2827be5583787178b4e467d7b12\\pytorch_model.bin' at 'C:\\Users\\prati/.cache\\huggingface\\hub\\models--KES--T5-KES\\snapshots\\fb5378c138b6d2827be5583787178b4e467d7b12\\pytorch_model.bin'. If you tried to load a PyTorch model from a TF 2.0 checkpoint, please set from_tf=True."
     ]
    }
   ],
   "source": [
    "model = AutoModelForSeq2SeqLM.from_pretrained(\"KES/T5-KES\")"
   ]
  },
  {
   "cell_type": "code",
   "execution_count": null,
   "id": "80ee69a4",
   "metadata": {},
   "outputs": [],
   "source": [
    "\n",
    "text = \"I am lived with my parenmts \"\n",
    "inputs = tokenizer(\"grammar:\"+text, truncation=True, return_tensors='pt')\n",
    "\n",
    "output = model.generate(inputs['input_ids'], num_beams=4, max_length=512, early_stopping=True)\n",
    "correction=tokenizer.batch_decode(output, skip_special_tokens=True)\n",
    "print(\"\".join(correction)) #Correction: I am living with my parents.\n"
   ]
  },
  {
   "cell_type": "code",
   "execution_count": 38,
   "id": "748e9faf",
   "metadata": {},
   "outputs": [
    {
     "name": "stderr",
     "output_type": "stream",
     "text": [
      "  2%|▏         | 1/63 [00:02<02:23,  2.32s/it]\n"
     ]
    },
    {
     "ename": "OSError",
     "evalue": "Unable to load weights from pytorch checkpoint file for 'C:\\Users\\prati/.cache\\huggingface\\hub\\models--KES--T5-TTParser\\snapshots\\24b137cc238c008d35cc0bb4a30b413bdc6d6cfd\\pytorch_model.bin' at 'C:\\Users\\prati/.cache\\huggingface\\hub\\models--KES--T5-TTParser\\snapshots\\24b137cc238c008d35cc0bb4a30b413bdc6d6cfd\\pytorch_model.bin'. If you tried to load a PyTorch model from a TF 2.0 checkpoint, please set from_tf=True.",
     "output_type": "error",
     "traceback": [
      "\u001b[1;31m---------------------------------------------------------------------------\u001b[0m",
      "\u001b[1;31mAttributeError\u001b[0m                            Traceback (most recent call last)",
      "\u001b[1;32mc:\\Users\\prati\\anaconda3\\envs\\excelcheckapp\\lib\\site-packages\\transformers\\modeling_utils.py\u001b[0m in \u001b[0;36mload_state_dict\u001b[1;34m(checkpoint_file)\u001b[0m\n\u001b[0;32m    414\u001b[0m     \u001b[1;32mtry\u001b[0m\u001b[1;33m:\u001b[0m\u001b[1;33m\u001b[0m\u001b[1;33m\u001b[0m\u001b[0m\n\u001b[1;32m--> 415\u001b[1;33m         \u001b[1;32mreturn\u001b[0m \u001b[0mtorch\u001b[0m\u001b[1;33m.\u001b[0m\u001b[0mload\u001b[0m\u001b[1;33m(\u001b[0m\u001b[0mcheckpoint_file\u001b[0m\u001b[1;33m,\u001b[0m \u001b[0mmap_location\u001b[0m\u001b[1;33m=\u001b[0m\u001b[1;34m\"cpu\"\u001b[0m\u001b[1;33m)\u001b[0m\u001b[1;33m\u001b[0m\u001b[1;33m\u001b[0m\u001b[0m\n\u001b[0m\u001b[0;32m    416\u001b[0m     \u001b[1;32mexcept\u001b[0m \u001b[0mException\u001b[0m \u001b[1;32mas\u001b[0m \u001b[0me\u001b[0m\u001b[1;33m:\u001b[0m\u001b[1;33m\u001b[0m\u001b[1;33m\u001b[0m\u001b[0m\n",
      "\u001b[1;32mc:\\Users\\prati\\anaconda3\\envs\\excelcheckapp\\lib\\site-packages\\torch\\serialization.py\u001b[0m in \u001b[0;36mload\u001b[1;34m(f, map_location, pickle_module, **pickle_load_args)\u001b[0m\n\u001b[0;32m    711\u001b[0m \u001b[1;33m\u001b[0m\u001b[0m\n\u001b[1;32m--> 712\u001b[1;33m     \u001b[1;33m.\u001b[0m\u001b[1;33m.\u001b[0m \u001b[0mwarning\u001b[0m\u001b[1;33m:\u001b[0m\u001b[1;33m:\u001b[0m\u001b[1;33m\u001b[0m\u001b[1;33m\u001b[0m\u001b[0m\n\u001b[0m\u001b[0;32m    713\u001b[0m         \u001b[1;33m:\u001b[0m\u001b[0mfunc\u001b[0m\u001b[1;33m:\u001b[0m\u001b[0;31m`\u001b[0m\u001b[0mtorch\u001b[0m\u001b[1;33m.\u001b[0m\u001b[0mload\u001b[0m\u001b[1;33m(\u001b[0m\u001b[1;33m)\u001b[0m\u001b[0;31m`\u001b[0m \u001b[0munless\u001b[0m\u001b[0;31m \u001b[0m\u001b[0;31m`\u001b[0m\u001b[0mweights_only\u001b[0m\u001b[0;31m`\u001b[0m \u001b[0mparameter\u001b[0m \u001b[1;32mis\u001b[0m \u001b[0mset\u001b[0m \u001b[0mto\u001b[0m\u001b[0;31m \u001b[0m\u001b[0;31m`\u001b[0m\u001b[1;32mTrue\u001b[0m\u001b[0;31m`\u001b[0m\u001b[1;33m,\u001b[0m\u001b[1;33m\u001b[0m\u001b[1;33m\u001b[0m\u001b[0m\n",
      "\u001b[1;32mc:\\Users\\prati\\anaconda3\\envs\\excelcheckapp\\lib\\site-packages\\torch\\serialization.py\u001b[0m in \u001b[0;36m_load\u001b[1;34m(zip_file, map_location, pickle_module, pickle_file, **pickle_load_args)\u001b[0m\n\u001b[0;32m   1045\u001b[0m         \u001b[0mrestore_location\u001b[0m \u001b[1;33m=\u001b[0m \u001b[0mdefault_restore_location\u001b[0m\u001b[1;33m\u001b[0m\u001b[1;33m\u001b[0m\u001b[0m\n\u001b[1;32m-> 1046\u001b[1;33m     \u001b[1;32melif\u001b[0m \u001b[0misinstance\u001b[0m\u001b[1;33m(\u001b[0m\u001b[0mmap_location\u001b[0m\u001b[1;33m,\u001b[0m \u001b[0mdict\u001b[0m\u001b[1;33m)\u001b[0m\u001b[1;33m:\u001b[0m\u001b[1;33m\u001b[0m\u001b[1;33m\u001b[0m\u001b[0m\n\u001b[0m\u001b[0;32m   1047\u001b[0m         \u001b[1;32mdef\u001b[0m \u001b[0mrestore_location\u001b[0m\u001b[1;33m(\u001b[0m\u001b[0mstorage\u001b[0m\u001b[1;33m,\u001b[0m \u001b[0mlocation\u001b[0m\u001b[1;33m)\u001b[0m\u001b[1;33m:\u001b[0m\u001b[1;33m\u001b[0m\u001b[1;33m\u001b[0m\u001b[0m\n",
      "\u001b[1;32mc:\\Users\\prati\\anaconda3\\envs\\excelcheckapp\\lib\\site-packages\\torch\\serialization.py\u001b[0m in \u001b[0;36mpersistent_load\u001b[1;34m(saved_id)\u001b[0m\n\u001b[0;32m   1014\u001b[0m     \u001b[0mdeserialized_storage_keys\u001b[0m \u001b[1;33m=\u001b[0m \u001b[0mpickle_module\u001b[0m\u001b[1;33m.\u001b[0m\u001b[0mload\u001b[0m\u001b[1;33m(\u001b[0m\u001b[0mf\u001b[0m\u001b[1;33m,\u001b[0m \u001b[1;33m**\u001b[0m\u001b[0mpickle_load_args\u001b[0m\u001b[1;33m)\u001b[0m\u001b[1;33m\u001b[0m\u001b[1;33m\u001b[0m\u001b[0m\n\u001b[1;32m-> 1015\u001b[1;33m \u001b[1;33m\u001b[0m\u001b[0m\n\u001b[0m\u001b[0;32m   1016\u001b[0m     \u001b[0moffset\u001b[0m \u001b[1;33m=\u001b[0m \u001b[0mf\u001b[0m\u001b[1;33m.\u001b[0m\u001b[0mtell\u001b[0m\u001b[1;33m(\u001b[0m\u001b[1;33m)\u001b[0m \u001b[1;32mif\u001b[0m \u001b[0mf_should_read_directly\u001b[0m \u001b[1;32melse\u001b[0m \u001b[1;32mNone\u001b[0m\u001b[1;33m\u001b[0m\u001b[1;33m\u001b[0m\u001b[0m\n",
      "\u001b[1;31mAttributeError\u001b[0m: module 'torch' has no attribute '_utils'",
      "\nDuring handling of the above exception, another exception occurred:\n",
      "\u001b[1;31mUnicodeDecodeError\u001b[0m                        Traceback (most recent call last)",
      "\u001b[1;32mc:\\Users\\prati\\anaconda3\\envs\\excelcheckapp\\lib\\site-packages\\transformers\\modeling_utils.py\u001b[0m in \u001b[0;36mload_state_dict\u001b[1;34m(checkpoint_file)\u001b[0m\n\u001b[0;32m    418\u001b[0m             \u001b[1;32mwith\u001b[0m \u001b[0mopen\u001b[0m\u001b[1;33m(\u001b[0m\u001b[0mcheckpoint_file\u001b[0m\u001b[1;33m)\u001b[0m \u001b[1;32mas\u001b[0m \u001b[0mf\u001b[0m\u001b[1;33m:\u001b[0m\u001b[1;33m\u001b[0m\u001b[1;33m\u001b[0m\u001b[0m\n\u001b[1;32m--> 419\u001b[1;33m                 \u001b[1;32mif\u001b[0m \u001b[0mf\u001b[0m\u001b[1;33m.\u001b[0m\u001b[0mread\u001b[0m\u001b[1;33m(\u001b[0m\u001b[1;36m7\u001b[0m\u001b[1;33m)\u001b[0m \u001b[1;33m==\u001b[0m \u001b[1;34m\"version\"\u001b[0m\u001b[1;33m:\u001b[0m\u001b[1;33m\u001b[0m\u001b[1;33m\u001b[0m\u001b[0m\n\u001b[0m\u001b[0;32m    420\u001b[0m                     raise OSError(\n",
      "\u001b[1;32mc:\\Users\\prati\\anaconda3\\envs\\excelcheckapp\\lib\\codecs.py\u001b[0m in \u001b[0;36mdecode\u001b[1;34m(self, input, final)\u001b[0m\n\u001b[0;32m    321\u001b[0m         \u001b[0mdata\u001b[0m \u001b[1;33m=\u001b[0m \u001b[0mself\u001b[0m\u001b[1;33m.\u001b[0m\u001b[0mbuffer\u001b[0m \u001b[1;33m+\u001b[0m \u001b[0minput\u001b[0m\u001b[1;33m\u001b[0m\u001b[1;33m\u001b[0m\u001b[0m\n\u001b[1;32m--> 322\u001b[1;33m         \u001b[1;33m(\u001b[0m\u001b[0mresult\u001b[0m\u001b[1;33m,\u001b[0m \u001b[0mconsumed\u001b[0m\u001b[1;33m)\u001b[0m \u001b[1;33m=\u001b[0m \u001b[0mself\u001b[0m\u001b[1;33m.\u001b[0m\u001b[0m_buffer_decode\u001b[0m\u001b[1;33m(\u001b[0m\u001b[0mdata\u001b[0m\u001b[1;33m,\u001b[0m \u001b[0mself\u001b[0m\u001b[1;33m.\u001b[0m\u001b[0merrors\u001b[0m\u001b[1;33m,\u001b[0m \u001b[0mfinal\u001b[0m\u001b[1;33m)\u001b[0m\u001b[1;33m\u001b[0m\u001b[1;33m\u001b[0m\u001b[0m\n\u001b[0m\u001b[0;32m    323\u001b[0m         \u001b[1;31m# keep undecoded input until the next call\u001b[0m\u001b[1;33m\u001b[0m\u001b[1;33m\u001b[0m\u001b[0m\n",
      "\u001b[1;31mUnicodeDecodeError\u001b[0m: 'utf-8' codec can't decode byte 0x80 in position 64: invalid start byte",
      "\nDuring handling of the above exception, another exception occurred:\n",
      "\u001b[1;31mOSError\u001b[0m                                   Traceback (most recent call last)",
      "\u001b[1;32m~\\AppData\\Local\\Temp\\ipykernel_19332\\293083084.py\u001b[0m in \u001b[0;36m<module>\u001b[1;34m\u001b[0m\n\u001b[1;32m----> 1\u001b[1;33m \u001b[0mcorrect\u001b[0m \u001b[1;33m=\u001b[0m \u001b[0mmush_df\u001b[0m\u001b[1;33m[\u001b[0m\u001b[1;34m'bullets'\u001b[0m\u001b[1;33m]\u001b[0m\u001b[1;33m.\u001b[0m\u001b[0mprogress_apply\u001b[0m\u001b[1;33m(\u001b[0m\u001b[1;32mlambda\u001b[0m \u001b[0mx\u001b[0m \u001b[1;33m:\u001b[0m \u001b[0mcb\u001b[0m\u001b[1;33m.\u001b[0m\u001b[0mParser\u001b[0m\u001b[1;33m(\u001b[0m\u001b[0mx\u001b[0m\u001b[1;33m)\u001b[0m\u001b[1;33m.\u001b[0m\u001b[0mTT_Parser\u001b[0m\u001b[1;33m(\u001b[0m\u001b[1;33m)\u001b[0m\u001b[1;33m)\u001b[0m\u001b[1;33m\u001b[0m\u001b[1;33m\u001b[0m\u001b[0m\n\u001b[0m",
      "\u001b[1;32mc:\\Users\\prati\\anaconda3\\envs\\excelcheckapp\\lib\\site-packages\\tqdm\\std.py\u001b[0m in \u001b[0;36minner\u001b[1;34m(df, func, *args, **kwargs)\u001b[0m\n\u001b[0;32m    812\u001b[0m                 \u001b[1;31m# on the df using our wrapper (which provides bar updating)\u001b[0m\u001b[1;33m\u001b[0m\u001b[1;33m\u001b[0m\u001b[0m\n\u001b[0;32m    813\u001b[0m                 \u001b[1;32mtry\u001b[0m\u001b[1;33m:\u001b[0m\u001b[1;33m\u001b[0m\u001b[1;33m\u001b[0m\u001b[0m\n\u001b[1;32m--> 814\u001b[1;33m                     \u001b[1;32mreturn\u001b[0m \u001b[0mgetattr\u001b[0m\u001b[1;33m(\u001b[0m\u001b[0mdf\u001b[0m\u001b[1;33m,\u001b[0m \u001b[0mdf_function\u001b[0m\u001b[1;33m)\u001b[0m\u001b[1;33m(\u001b[0m\u001b[0mwrapper\u001b[0m\u001b[1;33m,\u001b[0m \u001b[1;33m**\u001b[0m\u001b[0mkwargs\u001b[0m\u001b[1;33m)\u001b[0m\u001b[1;33m\u001b[0m\u001b[1;33m\u001b[0m\u001b[0m\n\u001b[0m\u001b[0;32m    815\u001b[0m                 \u001b[1;32mfinally\u001b[0m\u001b[1;33m:\u001b[0m\u001b[1;33m\u001b[0m\u001b[1;33m\u001b[0m\u001b[0m\n\u001b[0;32m    816\u001b[0m                     \u001b[0mt\u001b[0m\u001b[1;33m.\u001b[0m\u001b[0mclose\u001b[0m\u001b[1;33m(\u001b[0m\u001b[1;33m)\u001b[0m\u001b[1;33m\u001b[0m\u001b[1;33m\u001b[0m\u001b[0m\n",
      "\u001b[1;32mc:\\Users\\prati\\anaconda3\\envs\\excelcheckapp\\lib\\site-packages\\pandas\\core\\series.py\u001b[0m in \u001b[0;36mapply\u001b[1;34m(self, func, convert_dtype, args, **kwargs)\u001b[0m\n\u001b[0;32m   4769\u001b[0m         \u001b[0mdtype\u001b[0m\u001b[1;33m:\u001b[0m \u001b[0mfloat64\u001b[0m\u001b[1;33m\u001b[0m\u001b[1;33m\u001b[0m\u001b[0m\n\u001b[0;32m   4770\u001b[0m         \"\"\"\n\u001b[1;32m-> 4771\u001b[1;33m         \u001b[1;32mreturn\u001b[0m \u001b[0mSeriesApply\u001b[0m\u001b[1;33m(\u001b[0m\u001b[0mself\u001b[0m\u001b[1;33m,\u001b[0m \u001b[0mfunc\u001b[0m\u001b[1;33m,\u001b[0m \u001b[0mconvert_dtype\u001b[0m\u001b[1;33m,\u001b[0m \u001b[0margs\u001b[0m\u001b[1;33m,\u001b[0m \u001b[0mkwargs\u001b[0m\u001b[1;33m)\u001b[0m\u001b[1;33m.\u001b[0m\u001b[0mapply\u001b[0m\u001b[1;33m(\u001b[0m\u001b[1;33m)\u001b[0m\u001b[1;33m\u001b[0m\u001b[1;33m\u001b[0m\u001b[0m\n\u001b[0m\u001b[0;32m   4772\u001b[0m \u001b[1;33m\u001b[0m\u001b[0m\n\u001b[0;32m   4773\u001b[0m     def _reduce(\n",
      "\u001b[1;32mc:\\Users\\prati\\anaconda3\\envs\\excelcheckapp\\lib\\site-packages\\pandas\\core\\apply.py\u001b[0m in \u001b[0;36mapply\u001b[1;34m(self)\u001b[0m\n\u001b[0;32m   1121\u001b[0m \u001b[1;33m\u001b[0m\u001b[0m\n\u001b[0;32m   1122\u001b[0m         \u001b[1;31m# self.f is Callable\u001b[0m\u001b[1;33m\u001b[0m\u001b[1;33m\u001b[0m\u001b[0m\n\u001b[1;32m-> 1123\u001b[1;33m         \u001b[1;32mreturn\u001b[0m \u001b[0mself\u001b[0m\u001b[1;33m.\u001b[0m\u001b[0mapply_standard\u001b[0m\u001b[1;33m(\u001b[0m\u001b[1;33m)\u001b[0m\u001b[1;33m\u001b[0m\u001b[1;33m\u001b[0m\u001b[0m\n\u001b[0m\u001b[0;32m   1124\u001b[0m \u001b[1;33m\u001b[0m\u001b[0m\n\u001b[0;32m   1125\u001b[0m     \u001b[1;32mdef\u001b[0m \u001b[0magg\u001b[0m\u001b[1;33m(\u001b[0m\u001b[0mself\u001b[0m\u001b[1;33m)\u001b[0m\u001b[1;33m:\u001b[0m\u001b[1;33m\u001b[0m\u001b[1;33m\u001b[0m\u001b[0m\n",
      "\u001b[1;32mc:\\Users\\prati\\anaconda3\\envs\\excelcheckapp\\lib\\site-packages\\pandas\\core\\apply.py\u001b[0m in \u001b[0;36mapply_standard\u001b[1;34m(self)\u001b[0m\n\u001b[0;32m   1172\u001b[0m             \u001b[1;32melse\u001b[0m\u001b[1;33m:\u001b[0m\u001b[1;33m\u001b[0m\u001b[1;33m\u001b[0m\u001b[0m\n\u001b[0;32m   1173\u001b[0m                 \u001b[0mvalues\u001b[0m \u001b[1;33m=\u001b[0m \u001b[0mobj\u001b[0m\u001b[1;33m.\u001b[0m\u001b[0mastype\u001b[0m\u001b[1;33m(\u001b[0m\u001b[0mobject\u001b[0m\u001b[1;33m)\u001b[0m\u001b[1;33m.\u001b[0m\u001b[0m_values\u001b[0m\u001b[1;33m\u001b[0m\u001b[1;33m\u001b[0m\u001b[0m\n\u001b[1;32m-> 1174\u001b[1;33m                 mapped = lib.map_infer(\n\u001b[0m\u001b[0;32m   1175\u001b[0m                     \u001b[0mvalues\u001b[0m\u001b[1;33m,\u001b[0m\u001b[1;33m\u001b[0m\u001b[1;33m\u001b[0m\u001b[0m\n\u001b[0;32m   1176\u001b[0m                     \u001b[0mf\u001b[0m\u001b[1;33m,\u001b[0m\u001b[1;33m\u001b[0m\u001b[1;33m\u001b[0m\u001b[0m\n",
      "\u001b[1;32mc:\\Users\\prati\\anaconda3\\envs\\excelcheckapp\\lib\\site-packages\\pandas\\_libs\\lib.pyx\u001b[0m in \u001b[0;36mpandas._libs.lib.map_infer\u001b[1;34m()\u001b[0m\n",
      "\u001b[1;32mc:\\Users\\prati\\anaconda3\\envs\\excelcheckapp\\lib\\site-packages\\tqdm\\std.py\u001b[0m in \u001b[0;36mwrapper\u001b[1;34m(*args, **kwargs)\u001b[0m\n\u001b[0;32m    807\u001b[0m                     \u001b[1;31m# take a fast or slow code path; so stop when t.total==t.n\u001b[0m\u001b[1;33m\u001b[0m\u001b[1;33m\u001b[0m\u001b[0m\n\u001b[0;32m    808\u001b[0m                     \u001b[0mt\u001b[0m\u001b[1;33m.\u001b[0m\u001b[0mupdate\u001b[0m\u001b[1;33m(\u001b[0m\u001b[0mn\u001b[0m\u001b[1;33m=\u001b[0m\u001b[1;36m1\u001b[0m \u001b[1;32mif\u001b[0m \u001b[1;32mnot\u001b[0m \u001b[0mt\u001b[0m\u001b[1;33m.\u001b[0m\u001b[0mtotal\u001b[0m \u001b[1;32mor\u001b[0m \u001b[0mt\u001b[0m\u001b[1;33m.\u001b[0m\u001b[0mn\u001b[0m \u001b[1;33m<\u001b[0m \u001b[0mt\u001b[0m\u001b[1;33m.\u001b[0m\u001b[0mtotal\u001b[0m \u001b[1;32melse\u001b[0m \u001b[1;36m0\u001b[0m\u001b[1;33m)\u001b[0m\u001b[1;33m\u001b[0m\u001b[1;33m\u001b[0m\u001b[0m\n\u001b[1;32m--> 809\u001b[1;33m                     \u001b[1;32mreturn\u001b[0m \u001b[0mfunc\u001b[0m\u001b[1;33m(\u001b[0m\u001b[1;33m*\u001b[0m\u001b[0margs\u001b[0m\u001b[1;33m,\u001b[0m \u001b[1;33m**\u001b[0m\u001b[0mkwargs\u001b[0m\u001b[1;33m)\u001b[0m\u001b[1;33m\u001b[0m\u001b[1;33m\u001b[0m\u001b[0m\n\u001b[0m\u001b[0;32m    810\u001b[0m \u001b[1;33m\u001b[0m\u001b[0m\n\u001b[0;32m    811\u001b[0m                 \u001b[1;31m# Apply the provided function (in **kwargs)\u001b[0m\u001b[1;33m\u001b[0m\u001b[1;33m\u001b[0m\u001b[0m\n",
      "\u001b[1;32m~\\AppData\\Local\\Temp\\ipykernel_19332\\293083084.py\u001b[0m in \u001b[0;36m<lambda>\u001b[1;34m(x)\u001b[0m\n\u001b[1;32m----> 1\u001b[1;33m \u001b[0mcorrect\u001b[0m \u001b[1;33m=\u001b[0m \u001b[0mmush_df\u001b[0m\u001b[1;33m[\u001b[0m\u001b[1;34m'bullets'\u001b[0m\u001b[1;33m]\u001b[0m\u001b[1;33m.\u001b[0m\u001b[0mprogress_apply\u001b[0m\u001b[1;33m(\u001b[0m\u001b[1;32mlambda\u001b[0m \u001b[0mx\u001b[0m \u001b[1;33m:\u001b[0m \u001b[0mcb\u001b[0m\u001b[1;33m.\u001b[0m\u001b[0mParser\u001b[0m\u001b[1;33m(\u001b[0m\u001b[0mx\u001b[0m\u001b[1;33m)\u001b[0m\u001b[1;33m.\u001b[0m\u001b[0mTT_Parser\u001b[0m\u001b[1;33m(\u001b[0m\u001b[1;33m)\u001b[0m\u001b[1;33m)\u001b[0m\u001b[1;33m\u001b[0m\u001b[1;33m\u001b[0m\u001b[0m\n\u001b[0m",
      "\u001b[1;32mc:\\Users\\prati\\anaconda3\\envs\\excelcheckapp\\lib\\site-packages\\Caribe\\__init__.py\u001b[0m in \u001b[0;36m__init__\u001b[1;34m(self, sentence)\u001b[0m\n\u001b[0;32m    730\u001b[0m         \u001b[0mself\u001b[0m\u001b[1;33m.\u001b[0m\u001b[0mcorrection\u001b[0m \u001b[1;33m=\u001b[0m \u001b[0mself\u001b[0m\u001b[1;33m\u001b[0m\u001b[1;33m\u001b[0m\u001b[0m\n\u001b[0;32m    731\u001b[0m         \u001b[0mtokenizer\u001b[0m \u001b[1;33m=\u001b[0m \u001b[0mAutoTokenizer\u001b[0m\u001b[1;33m.\u001b[0m\u001b[0mfrom_pretrained\u001b[0m\u001b[1;33m(\u001b[0m\u001b[1;34m\"KES/T5-TTParser\"\u001b[0m\u001b[1;33m)\u001b[0m\u001b[1;33m\u001b[0m\u001b[1;33m\u001b[0m\u001b[0m\n\u001b[1;32m--> 732\u001b[1;33m         \u001b[0mmodel\u001b[0m \u001b[1;33m=\u001b[0m \u001b[0mAutoModelForSeq2SeqLM\u001b[0m\u001b[1;33m.\u001b[0m\u001b[0mfrom_pretrained\u001b[0m\u001b[1;33m(\u001b[0m\u001b[1;34m\"KES/T5-TTParser\"\u001b[0m\u001b[1;33m)\u001b[0m\u001b[1;33m\u001b[0m\u001b[1;33m\u001b[0m\u001b[0m\n\u001b[0m\u001b[0;32m    733\u001b[0m \u001b[1;33m\u001b[0m\u001b[0m\n\u001b[0;32m    734\u001b[0m         \u001b[0minputs\u001b[0m \u001b[1;33m=\u001b[0m \u001b[0mtokenizer\u001b[0m\u001b[1;33m(\u001b[0m\u001b[1;34m\"grammar:\"\u001b[0m\u001b[1;33m+\u001b[0m\u001b[0mself\u001b[0m\u001b[1;33m.\u001b[0m\u001b[0msentence\u001b[0m\u001b[1;33m,\u001b[0m \u001b[0mtruncation\u001b[0m\u001b[1;33m=\u001b[0m\u001b[1;32mTrue\u001b[0m\u001b[1;33m,\u001b[0m \u001b[0mreturn_tensors\u001b[0m\u001b[1;33m=\u001b[0m\u001b[1;34m'pt'\u001b[0m\u001b[1;33m)\u001b[0m\u001b[1;33m\u001b[0m\u001b[1;33m\u001b[0m\u001b[0m\n",
      "\u001b[1;32mc:\\Users\\prati\\anaconda3\\envs\\excelcheckapp\\lib\\site-packages\\transformers\\models\\auto\\auto_factory.py\u001b[0m in \u001b[0;36mfrom_pretrained\u001b[1;34m(cls, pretrained_model_name_or_path, *model_args, **kwargs)\u001b[0m\n\u001b[0;32m    462\u001b[0m         \u001b[1;32melif\u001b[0m \u001b[0mtype\u001b[0m\u001b[1;33m(\u001b[0m\u001b[0mconfig\u001b[0m\u001b[1;33m)\u001b[0m \u001b[1;32min\u001b[0m \u001b[0mcls\u001b[0m\u001b[1;33m.\u001b[0m\u001b[0m_model_mapping\u001b[0m\u001b[1;33m.\u001b[0m\u001b[0mkeys\u001b[0m\u001b[1;33m(\u001b[0m\u001b[1;33m)\u001b[0m\u001b[1;33m:\u001b[0m\u001b[1;33m\u001b[0m\u001b[1;33m\u001b[0m\u001b[0m\n\u001b[0;32m    463\u001b[0m             \u001b[0mmodel_class\u001b[0m \u001b[1;33m=\u001b[0m \u001b[0m_get_model_class\u001b[0m\u001b[1;33m(\u001b[0m\u001b[0mconfig\u001b[0m\u001b[1;33m,\u001b[0m \u001b[0mcls\u001b[0m\u001b[1;33m.\u001b[0m\u001b[0m_model_mapping\u001b[0m\u001b[1;33m)\u001b[0m\u001b[1;33m\u001b[0m\u001b[1;33m\u001b[0m\u001b[0m\n\u001b[1;32m--> 464\u001b[1;33m             return model_class.from_pretrained(\n\u001b[0m\u001b[0;32m    465\u001b[0m                 \u001b[0mpretrained_model_name_or_path\u001b[0m\u001b[1;33m,\u001b[0m \u001b[1;33m*\u001b[0m\u001b[0mmodel_args\u001b[0m\u001b[1;33m,\u001b[0m \u001b[0mconfig\u001b[0m\u001b[1;33m=\u001b[0m\u001b[0mconfig\u001b[0m\u001b[1;33m,\u001b[0m \u001b[1;33m**\u001b[0m\u001b[0mhub_kwargs\u001b[0m\u001b[1;33m,\u001b[0m \u001b[1;33m**\u001b[0m\u001b[0mkwargs\u001b[0m\u001b[1;33m\u001b[0m\u001b[1;33m\u001b[0m\u001b[0m\n\u001b[0;32m    466\u001b[0m             )\n",
      "\u001b[1;32mc:\\Users\\prati\\anaconda3\\envs\\excelcheckapp\\lib\\site-packages\\transformers\\modeling_utils.py\u001b[0m in \u001b[0;36mfrom_pretrained\u001b[1;34m(cls, pretrained_model_name_or_path, *model_args, **kwargs)\u001b[0m\n\u001b[0;32m   2299\u001b[0m             \u001b[1;32mif\u001b[0m \u001b[1;32mnot\u001b[0m \u001b[0mis_sharded\u001b[0m \u001b[1;32mand\u001b[0m \u001b[0mstate_dict\u001b[0m \u001b[1;32mis\u001b[0m \u001b[1;32mNone\u001b[0m\u001b[1;33m:\u001b[0m\u001b[1;33m\u001b[0m\u001b[1;33m\u001b[0m\u001b[0m\n\u001b[0;32m   2300\u001b[0m                 \u001b[1;31m# Time to load the checkpoint\u001b[0m\u001b[1;33m\u001b[0m\u001b[1;33m\u001b[0m\u001b[0m\n\u001b[1;32m-> 2301\u001b[1;33m                 \u001b[0mstate_dict\u001b[0m \u001b[1;33m=\u001b[0m \u001b[0mload_state_dict\u001b[0m\u001b[1;33m(\u001b[0m\u001b[0mresolved_archive_file\u001b[0m\u001b[1;33m)\u001b[0m\u001b[1;33m\u001b[0m\u001b[1;33m\u001b[0m\u001b[0m\n\u001b[0m\u001b[0;32m   2302\u001b[0m \u001b[1;33m\u001b[0m\u001b[0m\n\u001b[0;32m   2303\u001b[0m             \u001b[1;31m# set dtype to instantiate the model under:\u001b[0m\u001b[1;33m\u001b[0m\u001b[1;33m\u001b[0m\u001b[0m\n",
      "\u001b[1;32mc:\\Users\\prati\\anaconda3\\envs\\excelcheckapp\\lib\\site-packages\\transformers\\modeling_utils.py\u001b[0m in \u001b[0;36mload_state_dict\u001b[1;34m(checkpoint_file)\u001b[0m\n\u001b[0;32m    429\u001b[0m                     ) from e\n\u001b[0;32m    430\u001b[0m         \u001b[1;32mexcept\u001b[0m \u001b[1;33m(\u001b[0m\u001b[0mUnicodeDecodeError\u001b[0m\u001b[1;33m,\u001b[0m \u001b[0mValueError\u001b[0m\u001b[1;33m)\u001b[0m\u001b[1;33m:\u001b[0m\u001b[1;33m\u001b[0m\u001b[1;33m\u001b[0m\u001b[0m\n\u001b[1;32m--> 431\u001b[1;33m             raise OSError(\n\u001b[0m\u001b[0;32m    432\u001b[0m                 \u001b[1;34mf\"Unable to load weights from pytorch checkpoint file for '{checkpoint_file}' \"\u001b[0m\u001b[1;33m\u001b[0m\u001b[1;33m\u001b[0m\u001b[0m\n\u001b[0;32m    433\u001b[0m                 \u001b[1;34mf\"at '{checkpoint_file}'. \"\u001b[0m\u001b[1;33m\u001b[0m\u001b[1;33m\u001b[0m\u001b[0m\n",
      "\u001b[1;31mOSError\u001b[0m: Unable to load weights from pytorch checkpoint file for 'C:\\Users\\prati/.cache\\huggingface\\hub\\models--KES--T5-TTParser\\snapshots\\24b137cc238c008d35cc0bb4a30b413bdc6d6cfd\\pytorch_model.bin' at 'C:\\Users\\prati/.cache\\huggingface\\hub\\models--KES--T5-TTParser\\snapshots\\24b137cc238c008d35cc0bb4a30b413bdc6d6cfd\\pytorch_model.bin'. If you tried to load a PyTorch model from a TF 2.0 checkpoint, please set from_tf=True."
     ]
    }
   ],
   "source": [
    "correct = mush_df['bullets'].progress_apply(lambda x : cb.Parser(x).TT_Parser())"
   ]
  },
  {
   "cell_type": "code",
   "execution_count": null,
   "id": "f430a13c",
   "metadata": {},
   "outputs": [],
   "source": []
  },
  {
   "cell_type": "code",
   "execution_count": null,
   "id": "bb624c85",
   "metadata": {},
   "outputs": [],
   "source": []
  },
  {
   "cell_type": "code",
   "execution_count": 23,
   "id": "c49768f6",
   "metadata": {},
   "outputs": [
    {
     "name": "stderr",
     "output_type": "stream",
     "text": [
      "  0%|          | 0/63 [00:00<?, ?it/s]2023-02-20 15:54:10.378 | INFO     | __main__:spellcheck:27 - [Match({'ruleId': 'MORFOLOGIK_RULE_EN_US', 'message': 'Possible spelling mistake found.', 'replacements': ['CMS', 'cm', 'CDs', 'CSS', 'CNS', 'RMS', 'SMS', 'CCS', 'CFS', 'CMA', 'CME', 'CMG', 'CMOS', 'CVS', 'DMS', 'VMS', 'cams', 'ms', 'BMS', 'CGS', 'CLS', 'CMB', 'CMF', 'CMU', 'MMS', 'PMS', 'JMS', 'PMs', 'ems', 'CBS', 'HMS', 'oms', 'AMS', 'CDS', 'CES', 'CHS', 'CJS', 'CKS', 'CM', 'CMC', 'CMD', 'CMI', 'CMJ', 'CMK', 'CML', 'CMM', 'CMO', 'CMP', 'CMR', 'CMSF', 'CMT', 'CMV', 'CMW', 'CMX', 'CPS', 'CQS', 'CRS', 'CS', 'CZS', 'Cm', 'Cs', 'FMS', 'FMs', 'GMS', 'IMS', 'KMS', 'LMS', 'MS', 'Ms', 'OMS', 'TMS', 'UMS', 'WMS', 'XMS', 'cis', 'cos', 'cps', 'cs', 'cums', 'ACMs', 'CAS', 'CCs', 'CEMS', 'CIS', 'CKs', 'CMOs', 'CPMs', 'CTs', 'CVs', 'DMs', 'IMs', 'LMs', 'VMs', 'cmd', 'cts', 'dms', 'pms', 'is', 'was', 'as', 'his', 'has', 'can', 'me', 'come', 'its', 'my', 'us', 'yes', 'came', 'km', 'arms', 'car', 'cars', 'case', 'cast', 'comes', 'cost', 'cut', 'gas', 'CD', 'FM', 'Los', 'Mr', 'acts', 'am', 'bus', 'camp', 'com', 'mm', 'aims', 'camps', 'cap', 'cash', 'cat', 'cup', 'cuts', 'vs', 'BMW', 'CBC', 'CIA', 'CNN', 'CPU', 'MA', 'Mrs', 'PM', 'ads', 'caps', 'cats', 'pm', 'ups', 'Acts', 'BMG', 'CTV', 'Case', 'GPS', 'NHS', 'PCs', 'SAS', 'XML', 'cab', 'cans', 'cf', 'coma', 'con', 'cop', 'cow', 'cows', 'cry', 'cue', 'cues', 'cups', 'dams', 'lbs', 'sums', 'ACM', 'ACS', 'Amos', 'BBS', 'BMT', 'CAA', 'CBA', 'CBN', 'CCC', 'CCD', 'CDC', 'CDU', 'CFB', 'CGI', 'CIO', 'CPA', 'CPC', 'CPI', 'CPR', 'CRT', 'CSA', 'CSI', 'CSU', 'CSX', 'CV', 'Cash', 'DM', 'DNS', 'FRS', 'GMT', 'Gus', 'IMF', 'INS', 'IRS', 'MSC', 'MSN', 'MV', 'Mk', 'NMR', 'RCMP', 'RSS', 'RTS', 'SBS', 'SOS', 'aces', 'amp', 'cam', 'cod', 'comb', 'cops', 'eds', 'gems', 'jams', 'ma', 'ml', 'pas', 'AMX', 'APS', 'Ames', 'BMC', 'BMP', 'CAC', 'CBI', 'CCA', 'CCI', 'CCP', 'CDA', 'CDR', 'CEA', 'CFA', 'CFC', 'CFO', 'CFR', 'CIC', 'CIE', 'CLR', 'CNC', 'CNG', 'CNR', 'CNT', 'CRC', 'CSC', 'CSF', 'CSL', 'CSP', 'CSR', 'CST', 'CTA', 'CTC', 'CWA', 'Che', 'Combs', 'Como', 'DMC', 'DMZ', 'DSS', 'DTS', 'EMT', 'FBS', 'FCS', 'IAS', 'IDs', 'IMG', 'IMO', 'IPS', 'JMA', 'KBS', 'LMA', 'MF', 'MMP', 'MSF', 'MST', 'MTS', 'MX', 'NPS', 'OAS', 'OCS', 'PCM', 'PDS', 'PRS', 'RCS', 'RDS', 'Sims', 'TFS', 'TLS', 'TVs', 'UPS', 'VM', 'WMD', 'alms', 'amps', 'cabs', 'cal', 'cask', 'clams', 'col', 'comp', 'cub', 'cubs', 'cusp', 'cyst', 'gums', 'gyms', 'ops', 'rams', 'rims', 'scams', 'um', 'AGS', 'AHS', 'BDS', 'BMA', 'BMD', 'BMO', 'CAI', 'CBF', 'CBM', 'CBP', 'CBT', 'CCG', 'CCR', 'CDO', 'CDT', 'CEP', 'CFD', 'CFE', 'CFP', 'CGA', 'CKD', 'CLI', 'CLP', 'CND', 'CNE', 'CNRS', 'CPE', 'CPM', 'CPO', 'CSD', 'CSG', 'CSIS', 'CSV', 'CTF', 'CTI', 'CTM', 'CTO', 'CTP', 'CVC', 'CVR', 'CVT', 'Camus', 'DBMS', 'DCM', 'DDS', 'DME', 'DMG', 'DMK', 'EMB', 'ESS', 'FMC', 'GLS', 'GMG', 'HFS', 'HHS', 'HMC', 'HSS', 'ICBMs', 'ICM', 'IHS', 'IMA', 'IMC', 'IMT', 'IMU', 'IVs', 'Imus', 'JCS', 'JM', 'LCS', 'LMP', 'MBS', 'MDS', 'MMR', 'MMU', 'MMX', 'MSI', 'MSW', 'Mme', 'NBS', 'NFS', 'NLS', 'OMA', 'PMA', 'PMC', 'PMI', 'PMR', 'PNS', 'PSS', 'RCM', 'RMA', 'RMC', 'RMI', 'SCS', 'SLS', 'SME', 'SMG', 'SRS', 'TCM', 'TSS', 'VMA', 'calms', 'cays', 'cit', 'cob', 'cog', 'cogs', 'combs', 'cot', 'cox', 'elms', 'emo', 'emu', 'hams', 'imp', 'ohms', 'pus', 'toms', 'ts', 'yams', 'BME', 'BMR', 'BRS', 'CBO', 'CBR', 'CCB', 'CCU', 'CDN', 'CFI', 'CFT', 'CFU', 'CJC', 'CJK', 'CLT', 'CNES', 'CNH', 'CNI', 'CPF', 'CRL', 'CRTs', 'CTH', 'CVD', 'CWC', 'DMD', 'DMP', 'DMV', 'EMR', 'ERS', 'FMA', 'GDS', 'GMB', 'GMD', 'GMO', 'GRS', 'HMI', 'HMO', 'Hus', 'IMSI', 'KSS', 'LCM', 'LFS', 'LRS', 'MNS', 'Omsk', 'PVS', 'RVs', 'SMF', 'SMI', 'TCAS', 'abs', 'amt', 'bums', 'cl', 'coo', 'corms', 'cots', 'coy', 'cur', 'emf', 'emus', 'fps', 'gm', 'ices', 'imps', 'moms', 'mp', 'ABMs', 'ACAS', 'CDV', 'CLG', 'CSH', 'CSMA', 'CTT', 'CXC', 'DPs', 'DVS', 'GMI', 'HDS', 'LGS', 'RMM', 'Xmas', 'acme', 'bps', 'cad', 'chums', 'cobs', 'cols', 'comas', 'comps', 'cud', 'hems', 'hums', 'ifs', 'isms', 'mos', 'rums', 'sis', 'BKS', 'RAMs', 'caw', 'cods', 'coos', 'cuss', 'cw', 'dims', 'nus', 'obs', 'tams', 'ODs', 'cads', 'caws', 'crams', 'curs', 'ecus', 'rems', 'AMC', 'Amy', 'CDP', 'CEO', 'CHG', 'FEMS', 'GM', 'MD', 'MW', 'OKs', 'PS', 'SOs', 'Tums', 'USS', 'chm', 'cpl', 'mg', 'mks', 'ohs', 'rps', 'scums', 'umps', 'Hts', 'Mmes', 'REMs', 'Xes', 'cpd', 'cuds', 'dds', 'emfs', 'lams', 'tums', 'AAS', 'ABS', 'ACMA', 'ADS', 'AES', 'AFS', 'AIS', 'AIs', 'AJS', 'AKS', 'ALS', 'AM', 'AMA', 'AMD', 'AME', 'AMF', 'AMG', 'AMH', 'AMIS', 'AMJ', 'AMK', 'AML', 'AMM', 'AMN', 'AMO', 'AMP', 'AMQ', 'AMR', 'AMSL', 'AMST', 'AMT', 'AMU', 'AMV', 'AMW', 'AMY', 'AMZ', 'ANS', 'AOS', 'AQS', 'ASS', 'ATS', 'AUS', 'AVS', 'AWS', 'AXS', 'AYS', 'AZS', 'Am', 'As', 'Ats', 'BAS', 'BCM', 'BCS', 'BES', 'BFS', 'BGS', 'BHS', 'BIS', 'BJS', 'BLS', 'BM', 'BMB', 'BMF', 'BMI', 'BMJ', 'BMK', 'BML', 'BMM', 'BMN', 'BMQ', 'BMU', 'BMV', 'BMX', 'BMZ', 'BNS', 'BOS', 'BPS', 'BS', 'BSS', 'BTS', 'BVS', 'BWS', 'BXS', 'BYS', 'BZS', 'C', 'C0G', 'C10', 'C11', 'C12', 'C13', 'C14', 'C15', 'C16', 'C17', 'C18', 'C19', 'C20', 'C21', 'C22', 'C23', 'C24', 'C25', 'C27', 'C28', 'C2C', 'C30', 'C31', 'C32', 'C33', 'C34', 'C35', 'C36', 'C40', 'C41', 'C44', 'C45', 'C46', 'C47', 'C50', 'C51', 'C52', 'C53', 'C60', 'C61', 'C62', 'C63', 'C64', 'C65', 'C66', 'C69', 'C70', 'C77', 'C88', 'C91', 'C96', 'C99', 'CA', 'CAB', 'CAD', 'CAES', 'CAF', 'CAG', 'CAH', 'CAJ', 'CAK', 'CAL', 'CAM', 'CAMES', 'CAMSP', 'CAMT', 'CAMY', 'CAN', 'CAP', 'CAQ', 'CASA', 'CASE', 'CASM', 'CAT', 'CATS', 'CAU', 'CAV', 'CAW', 'CAY', 'CB', 'CBB', 'CBD', 'CBE', 'CBG', 'CBH', 'CBJ', 'CBL', 'CBU', 'CBV', 'CBX', 'CBZ', 'CC', 'CCAS', 'CCE', 'CCF', 'CCH', 'CCJ', 'CCK', 'CCL', 'CCM', 'CCMA', 'CCMM', 'CCN', 'CCO', 'CCQ', 'CCSM', 'CCSP', 'CCT', 'CCV', 'CCW', 'CCX', 'CCZ', 'CDB', 'CDD', 'CDE', 'CDF', 'CDG', 'CDH', 'CDI', 'CDJ', 'CDK', 'CDL', 'CDM', 'CDW', 'CDZ', 'CE', 'CEB', 'CEC', 'CED', 'CEE', 'CEF', 'CEG', 'CEI', 'CEJ', 'CEL', 'CEM', 'CEN', 'CEPS', 'CEQ', 'CER', 'CESD', 'CESE', 'CESI', 'CESR', 'CESS', 'CEST', 'CET', 'CEU', 'CEV', 'CF', 'CFBS', 'CFF', 'CFG', 'CFH', 'CFJ', 'CFL', 'CFM', 'CFN', 'CG', 'CGC', 'CGE', 'CGF', 'CGG', 'CGH', 'CGIS', 'CGJ', 'CGK', 'CGL', 'CGN', 'CGO', 'CGR', 'CGT', 'CGU', 'CGY', 'CGZ', 'CH', 'CHB', 'CHC', 'CHD', 'CHF', 'CHH', 'CHI', 'CHK', 'CHL', 'CHM', 'CHMP', 'CHN', 'CHO', 'CHP', 'CHQ', 'CHR', 'CHRS', 'CHT', 'CHV', 'CHW', 'CHX', 'CHY', 'CHZ', 'CI', 'CICS', 'CID', 'CIF', 'CIH', 'CII', 'CIJ', 'CIK', 'CIL', 'CIM', 'CIP', 'CIQ', 'CIR', 'CISC', 'CISL', 'CISP', 'CIT', 'CIU', 'CIUS', 'CIV', 'CJ', 'CJA', 'CJB', 'CJF', 'CJH', 'CJJ', 'CJL', 'CJN', 'CK', 'CKB', 'CKK', 'CKM', 'CKR', 'CKY', 'CL', 'CLA', 'CLAS', 'CLB', 'CLC', 'CLD', 'CLE', 'CLH', 'CLIS', 'CLJ', 'CLL', 'CLM', 'CLN', 'CLQ', 'CLSC', 'CLU', 'CLV', 'CLW', 'CLX', 'CLY', 'CLZ', 'CMAP', 'CMBV', 'CMEA', 'CMEQ', 'CMGR', 'CMLK', 'CMVP', 'CN', 'CNA', 'CNB', 'CNDS', 'CNF', 'CNIS', 'CNJ', 'CNK', 'CNL', 'CNM', 'CNO', 'CNP', 'CNPS', 'CNQ', 'CNSA', 'CNSC', 'CNU', 'CNV', 'CNW', 'CNX', 'CNY', 'CNZ', 'CO', 'CO2', 'CO3', 'COB', 'COC', 'COD', 'COE', 'COF', 'COG', 'COI', 'COK', 'COL', 'COM', 'COMP', 'CON', 'COP', 'COQ', 'COSI', 'COTS', 'COU', 'COV', 'CPD', 'CPG', 'CPH', 'CPJ', 'CPL', 'CPPS', 'CPV', 'CQA', 'CQE', 'CQF', 'CQG', 'CQI', 'CQL', 'CQM', 'CQP', 'CQT', 'CQX', 'CQZ', 'CR', 'CRA', 'CRB', 'CRD', 'CRE', 'CRF', 'CRG', 'CRH', 'CRJ', 'CRK', 'CRM', 'CRN', 'CRO', 'CROS', 'CRP', 'CRQ', 'CRR', 'CRSA', 'CRW', 'CRY', 'CRZ', 'CSE', 'CSM', 'CSPS', 'CSSS', 'CSST', 'CT', 'CTB', 'CTE', 'CTK', 'CTR', 'CTSA', 'CUA', 'CUB', 'CUC', 'CUD', 'CUF', 'CUG', 'CUJ', 'CUL', 'CUM', 'CUO', 'CUP', 'CUR', 'CUT', 'CUU', 'CUV', 'CUW', 'CUZ', 'CVE', 'CVF', 'CVG', 'CVH', 'CVI', 'CVL', 'CVM', 'CVN', 'CVO', 'CVP', 'CVU', 'CVX', 'CW', 'CWB', 'CWE', 'CWF', 'CWO', 'CWT', 'CXE', 'CXL', 'CXM', 'CXO', 'CXP', 'CXQ', 'CXR', 'CY', 'CYA', 'CYK', 'CYM', 'CYP', 'CYT', 'CYZ', 'CZ', 'CZC', 'CZF', 'CZJ', 'CZK', 'CZL', 'CZM', 'CZN', 'CZO', 'CZP', 'CZT', 'CZU', 'CZW', 'CZX', 'CZY', 'CZZ', 'Ca', 'Cal', 'Can', 'Cb', 'Cd', 'Ce', 'Cf', 'Ch', 'Chi', 'Ci', 'Cid', 'Cl', 'Cmdr', 'Co', 'Cod', 'Col', 'Com', 'Cox', 'Coy', 'Cpl', 'Cr', 'Ct', 'Cu', 'DCS', 'DES', 'DFS', 'DGS', 'DHS', 'DMF', 'DMI', 'DMM', 'DMO', 'DMR', 'DOS', 'DPS', 'DRS', 'DS', 'DUS', 'Dis', 'EAS', 'EBS', 'ECM', 'ECS', 'ECTS', 'EDS', 'EFS', 'EHS', 'EIS', 'ELS', 'EM', 'EMA', 'EMC', 'EMCS', 'EMD', 'EME', 'EMF', 'EMI', 'EML', 'EMM', 'EMN', 'EMP', 'EMU', 'ENS', 'EPS', 'ES', 'ETS', 'EUS', 'EVS', 'EWS', 'EXS', 'EZS', 'Es', 'FCM', 'FDS', 'FES', 'FFS', 'FLS', 'FMG', 'FMH', 'FMI', 'FMJ', 'FMM', 'FMO', 'FMP', 'FMSH', 'FMT', 'FMV', 'FNS', 'FPS', 'FS', 'FSS', 'Fm', 'GAS', 'GCM', 'GCS', 'GES', 'GFS', 'GGS', 'GHS', 'GIS', 'GMES', 'GMF', 'GML', 'GMP', 'GMR', 'GMU', 'GTS', 'HBS', 'HCS', 'HES', 'HM', 'HMD', 'HMP', 'HMV', 'HNS', 'HPS', 'HS', 'HTS', 'IDMS', 'IDS', 'IES', 'IFS', 'IGS', 'IIS', 'IMB', 'IMD', 'IME', 'IMH', 'IMK', 'IMN', 'IMP', 'IMV', 'IOS', 'IS', 'ISS', 'ITS', 'JBS', 'JHS', 'JLS', 'JMB', 'JMD', 'JME', 'JMF', 'JMJ', 'JMM', 'JMP', 'JWS', 'KDS', 'KES', 'KHS', 'KKS', 'KM', 'KMA', 'KMF', 'KMH', 'KOS', 'KS', 'KTS', 'Ks', 'LBMS', 'LES', 'LHS', 'LMB', 'LMC', 'LMD', 'LME', 'LMK', 'LMSI', 'LMU', 'LMV', 'LS', 'LVS', 'Las', 'Les', 'M', 'MAS', 'MB', 'MC', 'MCM', 'MCS', 'MCTS', 'ME', 'MES', 'MFS', 'MG', 'MGS', 'MH', 'MI', 'MJ', 'MK', 'MKS', 'ML', 'MM', 'MMA', 'MMB', 'MMC', 'MMH', 'MMI', 'MMK', 'MML', 'MMM', 'MMT', 'MMZ', 'MN', 'MO', 'MOS', 'MP', 'MPS', 'MR', 'MRS', 'MSA', 'MSB', 'MSD', 'MSE', 'MSG', 'MSH', 'MSK', 'MSM', 'MSO', 'MSR', 'MSS', 'MSU', 'MT', 'MU', 'MUS', 'MY', 'MZ', 'Mb', 'Md', 'Me', 'Mg', 'Mn', 'Mo', 'Mt', 'NAS', 'NCIS', 'NCM', 'NCS', 'NDS', 'NGS', 'NM', 'NMA', 'NMF', 'NMI', 'NMM', 'NMT', 'NOS', 'NS', 'NSS', 'NUS', 'Nos', 'OBS', 'ODS', 'OFS', 'OM', 'OMB', 'OMC', 'OMG', 'OMI', 'OMM', 'OMMS', 'OMN', 'OMO', 'OMP', 'OMR', 'OMT', 'ONS', 'ORS', 'OS', 'OSS', 'OVS', 'OWS', 'Os', 'PAS', 'PBS', 'PCS', 'PCUS', 'PES', 'PFS', 'PGS', 'PHS', 'PIS', 'PKS', 'PLS', 'PMB', 'PME', 'PMF', 'PMG', 'PMH', 'PML', 'PMN', 'PMO', 'PMP', 'PMT', 'PMU', 'PMV', 'POS', 'PPS', 'PUS', 'Pm', 'QCM', 'QM', 'QMF', 'QMOS', 'RAMS', 'RAS', 'RBS', 'RES', 'RFS', 'RGS', 'RHS', 'RIS', 'RLS', 'RM', 'RMB', 'RMBS', 'RME', 'RMF', 'RMN', 'RNS', 'ROS', 'RPS', 'RRS', 'RS', 'S', 'SCM', 'SCRS', 'SES', 'SFS', 'SGS', 'SIS', 'SM', 'SMA', 'SMB', 'SMC', 'SMH', 'SMK', 'SML', 'SMM', 'SMN', 'SMR', 'SMT', 'SNS', 'SPS', 'SS', 'SSS', 'STS', 'SUS', 'Sm', 'TBS', 'TDS', 'TES', 'TGS', 'THS', 'TIS', 'TJS', 'TKS', 'TM', 'TMA', 'TMB', 'TMC', 'TMD', 'TME', 'TMG', 'TMI', 'TMJ', 'TMN', 'TMP', 'TMT', 'TMV', 'TMX', 'TNS', 'TOS', 'TPS', 'TQS', 'TRS', 'TS', 'TTS', 'TVS', 'TWS', 'TZS', 'Tm', 'UAS', 'UBS', 'UCM', 'UDS', 'UES', 'UFS', 'UGS', 'UMA', 'UMB', 'UMD', 'UMF', 'UMH', 'UMI', 'UML', 'UMM', 'UMP', 'UMR', 'UMT', 'URS', 'US', 'UUS', 'VBS', 'VCM', 'VES', 'VGS', 'VHS', 'VMC', 'VME', 'VMI', 'VMK', 'VML', 'VMM', 'VMO', 'VMP', 'VPS', 'VRS', 'VSS', 'VVS', 'WCS', 'WDS', 'WGS', 'WHS', 'WMF', 'WML', 'WMW', 'WNS', 'WPS', 'WSS', 'Wis', 'Wm', 'XMP', 'XPS', 'XS', 'YBS', 'YHS', 'YM', 'YMN', 'YMO', 'ZMK', 'ZMP', 'Zs', 'acmes', 'ans', 'ass', 'bis', 'bxs', 'c', 'ca', 'cay', 'cc', 'cg', 'ch', 'chg', 'chi', 'chis', 'cir', 'ck', 'co', 'comm', 'cons', 'cor', 'cosh', 'ct', 'ctn', 'ctr', 'cu', 'cum', 'cwt', 'dis', 'dos', 'em', 'emos', 'ens', 'fums', 'gs', 'hes', 'hims', 'hmm', 'hos', 'hrs', 'iOS', 'ids', 'ins', 'ism', 'ks', 'ls', 'm', 'mams', 'mas', 'mes', 'mi', 'mo', 'mu', 'mus', 'mys', 'nos', 'om', 'pis', 'poms', 'qts', 'res', 'rm', 'rs', 's', 'sims', 'tbs', 'ump', 'xis', 'yrs', '3M', 'ACLs', 'ACTs', 'AGs', 'AMI', 'APs', 'ATMs', 'AVs', 'BCBS', 'BJs', 'BMIs', 'BMWs', 'BPMs', 'C&A', 'C&C', 'C3', 'CAE', 'CBSC', 'CBSE', 'CBSN', 'CCSD', 'CCSS', 'CDMA', 'CDMX', 'CDNs', 'CDOs', 'CEOs', 'CESC', 'CFOs', 'CGM', 'CGMA', 'CIFS', 'CIG', 'CIGS', 'CIOs', 'CISA', 'CLSA', 'CMYK', 'CNAs', 'COA', 'COOs', 'CORS', 'CP', 'CPN', 'CPNs', 'CPP', 'CPQ', 'CPT', 'CPUs', 'CQC', 'CR7', 'CSO', 'CSOs', 'CSVs', 'CTAs', 'CTOs', 'CTSO', 'CVA', 'CVV', 'CWL', 'CWM', 'CWP', 'CWR', 'CWV', 'CZI', 'Chu', 'CoP', 'CoPs', 'DJs', 'DLS', 'DMA', 'DMGs', 'DMX', 'DMZs', 'DRMs', 'DVMs', 'Dems', 'DoS', 'ECDs', 'ECTs', 'EMTs', 'EOMs', 'EPs', 'EQS', 'EVs', 'FAS', 'FCs', 'FHS', 'FMD', 'FOS', 'FPs', 'GBS', 'GCs', 'GIs', 'GMA', 'GMC', 'GMOs', 'GMV', 'H&S', 'HCs', 'HLS', 'HMH', 'HRMS', 'HWs', 'I&S', 'IBS', 'ICEs', 'ICMP', 'ICMR', 'ICS', 'ICUs', 'ILS', 'IM', 'IPs', 'IQs', 'JMH', 'JS', 'KMSP', 'LDS', 'LMMS', 'LMT', 'LPS', 'LPs', 'LTS', 'M&Ms', 'MCAS', 'MCPS', 'MCQs', 'MCs', 'MDs', 'MIS', 'MLS', 'MMO', 'MMOs', 'MPs', 'MSc', 'MWS', 'NMC', 'NRS', 'NTS', 'NYS', 'ODMs', 'OEMs', 'PAs', 'PCBs', 'PDMS', 'PMD', 'PRs', 'QBs', 'RMSD', 'RMSE', 'RMU', 'ROMs', 'RTs', 'SCMP', 'SCSS', 'SDS', 'SHS', 'SIMs', 'SMBs', 'SMEs', 'SMP', 'SMU', 'SQS', 'T&S', 'TCHS', 'TCS', 'TMZ', 'TTs', 'ToS', 'UCAS', 'UIs', 'UMC', 'UMTS', 'Urs', 'V6s', 'V8s', 'VCRs', 'VCS', 'VCs', 'VFS', 'VPs', 'VWs', 'WBS', 'WCBS', 'WCHS', 'WS', 'XLS', 'XMOS', 'XSS', 'ZFS', 'ais', 'amu', 'amus', 'camo', 'camos', \"cc's\", 'comms', 'cx', 'dm', 'hm', 'mL', 'mW', 'mcg', 'msg', 'nm', 'pHs', 'pcs', 'pgs', 'pls', 'pts', 'tmp', 'umm', 'vm', 'µm', 'écus'], 'offsetInContext': 43, 'context': '...e made from 100% Bamboo. Size: 75 X 150 cms / 29.5\" X 59\" ; Pack of 2 - Beige & Gre...', 'offset': 90, 'errorLength': 3, 'category': 'TYPOS', 'ruleIssueType': 'misspelling', 'sentence': 'Size: 75 X 150 cms / 29.5\" X 59\" ; Pack of 2 - Beige & Grey  , Features: It dries very quickly, absorbs 3 times more water than cotton, light in weight and takes up little space in your closet or luggage.'}), Match({'ruleId': 'COMMA_PARENTHESIS_WHITESPACE', 'message': 'Put a space after the comma, but not before the comma.', 'replacements': [','], 'offsetInContext': 43, 'context': '... 29.5\" X 59\" ; Pack of 2 - Beige & Grey  , Features: It dries very quickly, absorb...', 'offset': 135, 'errorLength': 2, 'category': 'TYPOGRAPHY', 'ruleIssueType': 'whitespace', 'sentence': 'Size: 75 X 150 cms / 29.5\" X 59\" ; Pack of 2 - Beige & Grey  , Features: It dries very quickly, absorbs 3 times more water than cotton, light in weight and takes up little space in your closet or luggage.'}), Match({'ruleId': 'EN_UPPER_CASE_NGRAM', 'message': 'Only proper nouns start with an uppercase character (there are exceptions for headlines).', 'replacements': ['features'], 'offsetInContext': 43, 'context': '....5\" X 59\" ; Pack of 2 - Beige & Grey  , Features: It dries very quickly, absorbs 3 times...', 'offset': 138, 'errorLength': 8, 'category': 'CASING', 'ruleIssueType': 'misspelling', 'sentence': 'Size: 75 X 150 cms / 29.5\" X 59\" ; Pack of 2 - Beige & Grey  , Features: It dries very quickly, absorbs 3 times more water than cotton, light in weight and takes up little space in your closet or luggage.'}), Match({'ruleId': 'COMMA_PARENTHESIS_WHITESPACE', 'message': 'Put a space after the comma, but not before the comma.', 'replacements': [','], 'offsetInContext': 43, 'context': \"...scarf as well as a baby summer blanket.  , Usage: It's great for Home / Travel use...\", 'offset': 430, 'errorLength': 2, 'category': 'TYPOGRAPHY', 'ruleIssueType': 'whitespace', 'sentence': \", Usage: It's great for Home / Travel use, baby care, home decor, and possibilities are endless!\"}), Match({'ruleId': 'COMMA_PARENTHESIS_WHITESPACE', 'message': 'Put a space after the comma, but not before the comma.', 'replacements': [','], 'offsetInContext': 43, 'context': '...scarf as well as a baby summer blanket.  , Packaging: It comes packed in a small c...', 'offset': 590, 'errorLength': 2, 'category': 'TYPOGRAPHY', 'ruleIssueType': 'whitespace', 'sentence': ', Packaging: It comes packed in a small cotton bag which makes it super convenient to store and to carry while travelling  , Washcare: Machine Washable.'}), Match({'ruleId': 'COMMA_PARENTHESIS_WHITESPACE', 'message': 'Put a space after the comma, but not before the comma.', 'replacements': [','], 'offsetInContext': 43, 'context': '... to store and to carry while travelling  , Washcare: Machine Washable. Do not blea...', 'offset': 713, 'errorLength': 2, 'category': 'TYPOGRAPHY', 'ruleIssueType': 'whitespace', 'sentence': ', Packaging: It comes packed in a small cotton bag which makes it super convenient to store and to carry while travelling  , Washcare: Machine Washable.'}), Match({'ruleId': 'MORFOLOGIK_RULE_EN_US', 'message': 'Possible spelling mistake found.', 'replacements': ['Wash care'], 'offsetInContext': 43, 'context': '... store and to carry while travelling  , Washcare: Machine Washable. Do not bleach.  ', 'offset': 716, 'errorLength': 8, 'category': 'TYPOS', 'ruleIssueType': 'misspelling', 'sentence': ', Packaging: It comes packed in a small cotton bag which makes it super convenient to store and to carry while travelling  , Washcare: Machine Washable.'})]\n",
      "  2%|▏         | 1/63 [00:04<04:27,  4.32s/it]\n"
     ]
    },
    {
     "ename": "TypeError",
     "evalue": "list indices must be integers or slices, not str",
     "output_type": "error",
     "traceback": [
      "\u001b[1;31m---------------------------------------------------------------------------\u001b[0m",
      "\u001b[1;31mTypeError\u001b[0m                                 Traceback (most recent call last)",
      "\u001b[1;32m~\\AppData\\Local\\Temp\\ipykernel_21580\\2111016024.py\u001b[0m in \u001b[0;36m<module>\u001b[1;34m\u001b[0m\n\u001b[1;32m----> 1\u001b[1;33m \u001b[0mmush_df\u001b[0m\u001b[1;33m[\u001b[0m\u001b[1;33m[\u001b[0m\u001b[1;34m'bullets_spellcheck'\u001b[0m\u001b[1;33m,\u001b[0m\u001b[1;34m'bullets_Corrected_text'\u001b[0m\u001b[1;33m]\u001b[0m\u001b[1;33m]\u001b[0m \u001b[1;33m=\u001b[0m \u001b[0mmush_df\u001b[0m\u001b[1;33m[\u001b[0m\u001b[1;34m'bullets'\u001b[0m\u001b[1;33m]\u001b[0m\u001b[1;33m.\u001b[0m\u001b[0mprogress_apply\u001b[0m\u001b[1;33m(\u001b[0m\u001b[1;32mlambda\u001b[0m \u001b[0mx\u001b[0m\u001b[1;33m:\u001b[0m\u001b[0mspellcheck\u001b[0m\u001b[1;33m(\u001b[0m\u001b[0mx\u001b[0m\u001b[1;33m,\u001b[0m\u001b[0mmy_tool\u001b[0m\u001b[1;33m)\u001b[0m\u001b[1;33m)\u001b[0m\u001b[1;33m.\u001b[0m\u001b[0mtolist\u001b[0m\u001b[1;33m(\u001b[0m\u001b[1;33m)\u001b[0m\u001b[1;33m\u001b[0m\u001b[1;33m\u001b[0m\u001b[0m\n\u001b[0m",
      "\u001b[1;32mc:\\Users\\prati\\anaconda3\\envs\\excelcheckapp\\lib\\site-packages\\tqdm\\std.py\u001b[0m in \u001b[0;36minner\u001b[1;34m(df, func, *args, **kwargs)\u001b[0m\n\u001b[0;32m    812\u001b[0m                 \u001b[1;31m# on the df using our wrapper (which provides bar updating)\u001b[0m\u001b[1;33m\u001b[0m\u001b[1;33m\u001b[0m\u001b[0m\n\u001b[0;32m    813\u001b[0m                 \u001b[1;32mtry\u001b[0m\u001b[1;33m:\u001b[0m\u001b[1;33m\u001b[0m\u001b[1;33m\u001b[0m\u001b[0m\n\u001b[1;32m--> 814\u001b[1;33m                     \u001b[1;32mreturn\u001b[0m \u001b[0mgetattr\u001b[0m\u001b[1;33m(\u001b[0m\u001b[0mdf\u001b[0m\u001b[1;33m,\u001b[0m \u001b[0mdf_function\u001b[0m\u001b[1;33m)\u001b[0m\u001b[1;33m(\u001b[0m\u001b[0mwrapper\u001b[0m\u001b[1;33m,\u001b[0m \u001b[1;33m**\u001b[0m\u001b[0mkwargs\u001b[0m\u001b[1;33m)\u001b[0m\u001b[1;33m\u001b[0m\u001b[1;33m\u001b[0m\u001b[0m\n\u001b[0m\u001b[0;32m    815\u001b[0m                 \u001b[1;32mfinally\u001b[0m\u001b[1;33m:\u001b[0m\u001b[1;33m\u001b[0m\u001b[1;33m\u001b[0m\u001b[0m\n\u001b[0;32m    816\u001b[0m                     \u001b[0mt\u001b[0m\u001b[1;33m.\u001b[0m\u001b[0mclose\u001b[0m\u001b[1;33m(\u001b[0m\u001b[1;33m)\u001b[0m\u001b[1;33m\u001b[0m\u001b[1;33m\u001b[0m\u001b[0m\n",
      "\u001b[1;32mc:\\Users\\prati\\anaconda3\\envs\\excelcheckapp\\lib\\site-packages\\pandas\\core\\series.py\u001b[0m in \u001b[0;36mapply\u001b[1;34m(self, func, convert_dtype, args, **kwargs)\u001b[0m\n\u001b[0;32m   4769\u001b[0m         \u001b[0mdtype\u001b[0m\u001b[1;33m:\u001b[0m \u001b[0mfloat64\u001b[0m\u001b[1;33m\u001b[0m\u001b[1;33m\u001b[0m\u001b[0m\n\u001b[0;32m   4770\u001b[0m         \"\"\"\n\u001b[1;32m-> 4771\u001b[1;33m         \u001b[1;32mreturn\u001b[0m \u001b[0mSeriesApply\u001b[0m\u001b[1;33m(\u001b[0m\u001b[0mself\u001b[0m\u001b[1;33m,\u001b[0m \u001b[0mfunc\u001b[0m\u001b[1;33m,\u001b[0m \u001b[0mconvert_dtype\u001b[0m\u001b[1;33m,\u001b[0m \u001b[0margs\u001b[0m\u001b[1;33m,\u001b[0m \u001b[0mkwargs\u001b[0m\u001b[1;33m)\u001b[0m\u001b[1;33m.\u001b[0m\u001b[0mapply\u001b[0m\u001b[1;33m(\u001b[0m\u001b[1;33m)\u001b[0m\u001b[1;33m\u001b[0m\u001b[1;33m\u001b[0m\u001b[0m\n\u001b[0m\u001b[0;32m   4772\u001b[0m \u001b[1;33m\u001b[0m\u001b[0m\n\u001b[0;32m   4773\u001b[0m     def _reduce(\n",
      "\u001b[1;32mc:\\Users\\prati\\anaconda3\\envs\\excelcheckapp\\lib\\site-packages\\pandas\\core\\apply.py\u001b[0m in \u001b[0;36mapply\u001b[1;34m(self)\u001b[0m\n\u001b[0;32m   1121\u001b[0m \u001b[1;33m\u001b[0m\u001b[0m\n\u001b[0;32m   1122\u001b[0m         \u001b[1;31m# self.f is Callable\u001b[0m\u001b[1;33m\u001b[0m\u001b[1;33m\u001b[0m\u001b[0m\n\u001b[1;32m-> 1123\u001b[1;33m         \u001b[1;32mreturn\u001b[0m \u001b[0mself\u001b[0m\u001b[1;33m.\u001b[0m\u001b[0mapply_standard\u001b[0m\u001b[1;33m(\u001b[0m\u001b[1;33m)\u001b[0m\u001b[1;33m\u001b[0m\u001b[1;33m\u001b[0m\u001b[0m\n\u001b[0m\u001b[0;32m   1124\u001b[0m \u001b[1;33m\u001b[0m\u001b[0m\n\u001b[0;32m   1125\u001b[0m     \u001b[1;32mdef\u001b[0m \u001b[0magg\u001b[0m\u001b[1;33m(\u001b[0m\u001b[0mself\u001b[0m\u001b[1;33m)\u001b[0m\u001b[1;33m:\u001b[0m\u001b[1;33m\u001b[0m\u001b[1;33m\u001b[0m\u001b[0m\n",
      "\u001b[1;32mc:\\Users\\prati\\anaconda3\\envs\\excelcheckapp\\lib\\site-packages\\pandas\\core\\apply.py\u001b[0m in \u001b[0;36mapply_standard\u001b[1;34m(self)\u001b[0m\n\u001b[0;32m   1172\u001b[0m             \u001b[1;32melse\u001b[0m\u001b[1;33m:\u001b[0m\u001b[1;33m\u001b[0m\u001b[1;33m\u001b[0m\u001b[0m\n\u001b[0;32m   1173\u001b[0m                 \u001b[0mvalues\u001b[0m \u001b[1;33m=\u001b[0m \u001b[0mobj\u001b[0m\u001b[1;33m.\u001b[0m\u001b[0mastype\u001b[0m\u001b[1;33m(\u001b[0m\u001b[0mobject\u001b[0m\u001b[1;33m)\u001b[0m\u001b[1;33m.\u001b[0m\u001b[0m_values\u001b[0m\u001b[1;33m\u001b[0m\u001b[1;33m\u001b[0m\u001b[0m\n\u001b[1;32m-> 1174\u001b[1;33m                 mapped = lib.map_infer(\n\u001b[0m\u001b[0;32m   1175\u001b[0m                     \u001b[0mvalues\u001b[0m\u001b[1;33m,\u001b[0m\u001b[1;33m\u001b[0m\u001b[1;33m\u001b[0m\u001b[0m\n\u001b[0;32m   1176\u001b[0m                     \u001b[0mf\u001b[0m\u001b[1;33m,\u001b[0m\u001b[1;33m\u001b[0m\u001b[1;33m\u001b[0m\u001b[0m\n",
      "\u001b[1;32mc:\\Users\\prati\\anaconda3\\envs\\excelcheckapp\\lib\\site-packages\\pandas\\_libs\\lib.pyx\u001b[0m in \u001b[0;36mpandas._libs.lib.map_infer\u001b[1;34m()\u001b[0m\n",
      "\u001b[1;32mc:\\Users\\prati\\anaconda3\\envs\\excelcheckapp\\lib\\site-packages\\tqdm\\std.py\u001b[0m in \u001b[0;36mwrapper\u001b[1;34m(*args, **kwargs)\u001b[0m\n\u001b[0;32m    807\u001b[0m                     \u001b[1;31m# take a fast or slow code path; so stop when t.total==t.n\u001b[0m\u001b[1;33m\u001b[0m\u001b[1;33m\u001b[0m\u001b[0m\n\u001b[0;32m    808\u001b[0m                     \u001b[0mt\u001b[0m\u001b[1;33m.\u001b[0m\u001b[0mupdate\u001b[0m\u001b[1;33m(\u001b[0m\u001b[0mn\u001b[0m\u001b[1;33m=\u001b[0m\u001b[1;36m1\u001b[0m \u001b[1;32mif\u001b[0m \u001b[1;32mnot\u001b[0m \u001b[0mt\u001b[0m\u001b[1;33m.\u001b[0m\u001b[0mtotal\u001b[0m \u001b[1;32mor\u001b[0m \u001b[0mt\u001b[0m\u001b[1;33m.\u001b[0m\u001b[0mn\u001b[0m \u001b[1;33m<\u001b[0m \u001b[0mt\u001b[0m\u001b[1;33m.\u001b[0m\u001b[0mtotal\u001b[0m \u001b[1;32melse\u001b[0m \u001b[1;36m0\u001b[0m\u001b[1;33m)\u001b[0m\u001b[1;33m\u001b[0m\u001b[1;33m\u001b[0m\u001b[0m\n\u001b[1;32m--> 809\u001b[1;33m                     \u001b[1;32mreturn\u001b[0m \u001b[0mfunc\u001b[0m\u001b[1;33m(\u001b[0m\u001b[1;33m*\u001b[0m\u001b[0margs\u001b[0m\u001b[1;33m,\u001b[0m \u001b[1;33m**\u001b[0m\u001b[0mkwargs\u001b[0m\u001b[1;33m)\u001b[0m\u001b[1;33m\u001b[0m\u001b[1;33m\u001b[0m\u001b[0m\n\u001b[0m\u001b[0;32m    810\u001b[0m \u001b[1;33m\u001b[0m\u001b[0m\n\u001b[0;32m    811\u001b[0m                 \u001b[1;31m# Apply the provided function (in **kwargs)\u001b[0m\u001b[1;33m\u001b[0m\u001b[1;33m\u001b[0m\u001b[0m\n",
      "\u001b[1;32m~\\AppData\\Local\\Temp\\ipykernel_21580\\2111016024.py\u001b[0m in \u001b[0;36m<lambda>\u001b[1;34m(x)\u001b[0m\n\u001b[1;32m----> 1\u001b[1;33m \u001b[0mmush_df\u001b[0m\u001b[1;33m[\u001b[0m\u001b[1;33m[\u001b[0m\u001b[1;34m'bullets_spellcheck'\u001b[0m\u001b[1;33m,\u001b[0m\u001b[1;34m'bullets_Corrected_text'\u001b[0m\u001b[1;33m]\u001b[0m\u001b[1;33m]\u001b[0m \u001b[1;33m=\u001b[0m \u001b[0mmush_df\u001b[0m\u001b[1;33m[\u001b[0m\u001b[1;34m'bullets'\u001b[0m\u001b[1;33m]\u001b[0m\u001b[1;33m.\u001b[0m\u001b[0mprogress_apply\u001b[0m\u001b[1;33m(\u001b[0m\u001b[1;32mlambda\u001b[0m \u001b[0mx\u001b[0m\u001b[1;33m:\u001b[0m\u001b[0mspellcheck\u001b[0m\u001b[1;33m(\u001b[0m\u001b[0mx\u001b[0m\u001b[1;33m,\u001b[0m\u001b[0mmy_tool\u001b[0m\u001b[1;33m)\u001b[0m\u001b[1;33m)\u001b[0m\u001b[1;33m.\u001b[0m\u001b[0mtolist\u001b[0m\u001b[1;33m(\u001b[0m\u001b[1;33m)\u001b[0m\u001b[1;33m\u001b[0m\u001b[1;33m\u001b[0m\u001b[0m\n\u001b[0m",
      "\u001b[1;32m~\\AppData\\Local\\Temp\\ipykernel_21580\\2921477057.py\u001b[0m in \u001b[0;36mspellcheck\u001b[1;34m(txt, model)\u001b[0m\n\u001b[0;32m     26\u001b[0m     \u001b[0mres\u001b[0m \u001b[1;33m=\u001b[0m \u001b[0mmodel\u001b[0m\u001b[1;33m.\u001b[0m\u001b[0mcheck\u001b[0m\u001b[1;33m(\u001b[0m\u001b[0mtxt\u001b[0m\u001b[1;33m)\u001b[0m\u001b[1;33m\u001b[0m\u001b[1;33m\u001b[0m\u001b[0m\n\u001b[0;32m     27\u001b[0m     \u001b[0mlogger\u001b[0m\u001b[1;33m.\u001b[0m\u001b[0minfo\u001b[0m\u001b[1;33m(\u001b[0m\u001b[0mres\u001b[0m\u001b[1;33m)\u001b[0m\u001b[1;33m\u001b[0m\u001b[1;33m\u001b[0m\u001b[0m\n\u001b[1;32m---> 28\u001b[1;33m     \u001b[1;32mif\u001b[0m \u001b[0mlen\u001b[0m\u001b[1;33m(\u001b[0m\u001b[0mres\u001b[0m\u001b[1;33m[\u001b[0m\u001b[1;34m'corrections'\u001b[0m\u001b[1;33m]\u001b[0m\u001b[1;33m)\u001b[0m\u001b[1;33m>\u001b[0m\u001b[1;36m0\u001b[0m\u001b[1;33m:\u001b[0m\u001b[1;33m\u001b[0m\u001b[1;33m\u001b[0m\u001b[0m\n\u001b[0m\u001b[0;32m     29\u001b[0m         \u001b[0mflg\u001b[0m \u001b[1;33m=\u001b[0m \u001b[1;36m0\u001b[0m\u001b[1;33m\u001b[0m\u001b[1;33m\u001b[0m\u001b[0m\n\u001b[0;32m     30\u001b[0m     \u001b[1;32melse\u001b[0m\u001b[1;33m:\u001b[0m\u001b[1;33m\u001b[0m\u001b[1;33m\u001b[0m\u001b[0m\n",
      "\u001b[1;31mTypeError\u001b[0m: list indices must be integers or slices, not str"
     ]
    }
   ],
   "source": [
    "mush_df[['bullets_spellcheck','bullets_Corrected_text']] = mush_df['bullets'].progress_apply(lambda x:spellcheck(x,my_tool)).tolist()"
   ]
  },
  {
   "cell_type": "code",
   "execution_count": 36,
   "id": "c9f7a2a6",
   "metadata": {},
   "outputs": [],
   "source": [
    "mush_df['bullets_new'] = mush_df['bullets'].apply(lambda x: '\\n'.join([s.strip() for s in x.strip().split('.  , ')]))"
   ]
  },
  {
   "cell_type": "code",
   "execution_count": 59,
   "id": "9cd6799e",
   "metadata": {},
   "outputs": [
    {
     "name": "stderr",
     "output_type": "stream",
     "text": [
      "2023-02-20 17:06:41.827 | INFO     | __main__:spellcheck:28 - [Match({'ruleId': 'MORFOLOGIK_RULE_EN_US', 'message': 'Possible spelling mistake found.', 'replacements': ['CMS', 'cm', 'CDs', 'CSS', 'CNS', 'RMS', 'SMS', 'CCS', 'CFS', 'CMA', 'CME', 'CMG', 'CMOS', 'CVS', 'DMS', 'VMS', 'cams', 'ms', 'BMS', 'CGS', 'CLS', 'CMB', 'CMF', 'CMU', 'MMS', 'PMS', 'JMS', 'PMs', 'ems', 'CBS', 'HMS', 'oms', 'AMS', 'CDS', 'CES', 'CHS', 'CJS', 'CKS', 'CM', 'CMC', 'CMD', 'CMI', 'CMJ', 'CMK', 'CML', 'CMM', 'CMO', 'CMP', 'CMR', 'CMSF', 'CMT', 'CMV', 'CMW', 'CMX', 'CPS', 'CQS', 'CRS', 'CS', 'CZS', 'Cm', 'Cs', 'FMS', 'FMs', 'GMS', 'IMS', 'KMS', 'LMS', 'MS', 'Ms', 'OMS', 'TMS', 'UMS', 'WMS', 'XMS', 'cis', 'cos', 'cps', 'cs', 'cums', 'ACMs', 'CAS', 'CCs', 'CEMS', 'CIS', 'CKs', 'CMOs', 'CPMs', 'CTs', 'CVs', 'DMs', 'IMs', 'LMs', 'VMs', 'cmd', 'cts', 'dms', 'pms', 'is', 'was', 'as', 'his', 'has', 'can', 'me', 'come', 'its', 'my', 'us', 'yes', 'came', 'km', 'arms', 'car', 'cars', 'case', 'cast', 'comes', 'cost', 'cut', 'gas', 'CD', 'FM', 'Los', 'Mr', 'acts', 'am', 'bus', 'camp', 'com', 'mm', 'aims', 'camps', 'cap', 'cash', 'cat', 'cup', 'cuts', 'vs', 'BMW', 'CBC', 'CIA', 'CNN', 'CPU', 'MA', 'Mrs', 'PM', 'ads', 'caps', 'cats', 'pm', 'ups', 'Acts', 'BMG', 'CTV', 'Case', 'GPS', 'NHS', 'PCs', 'SAS', 'XML', 'cab', 'cans', 'cf', 'coma', 'con', 'cop', 'cow', 'cows', 'cry', 'cue', 'cues', 'cups', 'dams', 'lbs', 'sums', 'ACM', 'ACS', 'Amos', 'BBS', 'BMT', 'CAA', 'CBA', 'CBN', 'CCC', 'CCD', 'CDC', 'CDU', 'CFB', 'CGI', 'CIO', 'CPA', 'CPC', 'CPI', 'CPR', 'CRT', 'CSA', 'CSI', 'CSU', 'CSX', 'CV', 'Cash', 'DM', 'DNS', 'FRS', 'GMT', 'Gus', 'IMF', 'INS', 'IRS', 'MSC', 'MSN', 'MV', 'Mk', 'NMR', 'RCMP', 'RSS', 'RTS', 'SBS', 'SOS', 'aces', 'amp', 'cam', 'cod', 'comb', 'cops', 'eds', 'gems', 'jams', 'ma', 'ml', 'pas', 'AMX', 'APS', 'Ames', 'BMC', 'BMP', 'CAC', 'CBI', 'CCA', 'CCI', 'CCP', 'CDA', 'CDR', 'CEA', 'CFA', 'CFC', 'CFO', 'CFR', 'CIC', 'CIE', 'CLR', 'CNC', 'CNG', 'CNR', 'CNT', 'CRC', 'CSC', 'CSF', 'CSL', 'CSP', 'CSR', 'CST', 'CTA', 'CTC', 'CWA', 'Che', 'Combs', 'Como', 'DMC', 'DMZ', 'DSS', 'DTS', 'EMT', 'FBS', 'FCS', 'IAS', 'IDs', 'IMG', 'IMO', 'IPS', 'JMA', 'KBS', 'LMA', 'MF', 'MMP', 'MSF', 'MST', 'MTS', 'MX', 'NPS', 'OAS', 'OCS', 'PCM', 'PDS', 'PRS', 'RCS', 'RDS', 'Sims', 'TFS', 'TLS', 'TVs', 'UPS', 'VM', 'WMD', 'alms', 'amps', 'cabs', 'cal', 'cask', 'clams', 'col', 'comp', 'cub', 'cubs', 'cusp', 'cyst', 'gums', 'gyms', 'ops', 'rams', 'rims', 'scams', 'um', 'AGS', 'AHS', 'BDS', 'BMA', 'BMD', 'BMO', 'CAI', 'CBF', 'CBM', 'CBP', 'CBT', 'CCG', 'CCR', 'CDO', 'CDT', 'CEP', 'CFD', 'CFE', 'CFP', 'CGA', 'CKD', 'CLI', 'CLP', 'CND', 'CNE', 'CNRS', 'CPE', 'CPM', 'CPO', 'CSD', 'CSG', 'CSIS', 'CSV', 'CTF', 'CTI', 'CTM', 'CTO', 'CTP', 'CVC', 'CVR', 'CVT', 'Camus', 'DBMS', 'DCM', 'DDS', 'DME', 'DMG', 'DMK', 'EMB', 'ESS', 'FMC', 'GLS', 'GMG', 'HFS', 'HHS', 'HMC', 'HSS', 'ICBMs', 'ICM', 'IHS', 'IMA', 'IMC', 'IMT', 'IMU', 'IVs', 'Imus', 'JCS', 'JM', 'LCS', 'LMP', 'MBS', 'MDS', 'MMR', 'MMU', 'MMX', 'MSI', 'MSW', 'Mme', 'NBS', 'NFS', 'NLS', 'OMA', 'PMA', 'PMC', 'PMI', 'PMR', 'PNS', 'PSS', 'RCM', 'RMA', 'RMC', 'RMI', 'SCS', 'SLS', 'SME', 'SMG', 'SRS', 'TCM', 'TSS', 'VMA', 'calms', 'cays', 'cit', 'cob', 'cog', 'cogs', 'combs', 'cot', 'cox', 'elms', 'emo', 'emu', 'hams', 'imp', 'ohms', 'pus', 'toms', 'ts', 'yams', 'BME', 'BMR', 'BRS', 'CBO', 'CBR', 'CCB', 'CCU', 'CDN', 'CFI', 'CFT', 'CFU', 'CJC', 'CJK', 'CLT', 'CNES', 'CNH', 'CNI', 'CPF', 'CRL', 'CRTs', 'CTH', 'CVD', 'CWC', 'DMD', 'DMP', 'DMV', 'EMR', 'ERS', 'FMA', 'GDS', 'GMB', 'GMD', 'GMO', 'GRS', 'HMI', 'HMO', 'Hus', 'IMSI', 'KSS', 'LCM', 'LFS', 'LRS', 'MNS', 'Omsk', 'PVS', 'RVs', 'SMF', 'SMI', 'TCAS', 'abs', 'amt', 'bums', 'cl', 'coo', 'corms', 'cots', 'coy', 'cur', 'emf', 'emus', 'fps', 'gm', 'ices', 'imps', 'moms', 'mp', 'ABMs', 'ACAS', 'CDV', 'CLG', 'CSH', 'CSMA', 'CTT', 'CXC', 'DPs', 'DVS', 'GMI', 'HDS', 'LGS', 'RMM', 'Xmas', 'acme', 'bps', 'cad', 'chums', 'cobs', 'cols', 'comas', 'comps', 'cud', 'hems', 'hums', 'ifs', 'isms', 'mos', 'rums', 'sis', 'BKS', 'RAMs', 'caw', 'cods', 'coos', 'cuss', 'cw', 'dims', 'nus', 'obs', 'tams', 'ODs', 'cads', 'caws', 'crams', 'curs', 'ecus', 'rems', 'AMC', 'Amy', 'CDP', 'CEO', 'CHG', 'FEMS', 'GM', 'MD', 'MW', 'OKs', 'PS', 'SOs', 'Tums', 'USS', 'chm', 'cpl', 'mg', 'mks', 'ohs', 'rps', 'scums', 'umps', 'Hts', 'Mmes', 'REMs', 'Xes', 'cpd', 'cuds', 'dds', 'emfs', 'lams', 'tums', 'AAS', 'ABS', 'ACMA', 'ADS', 'AES', 'AFS', 'AIS', 'AIs', 'AJS', 'AKS', 'ALS', 'AM', 'AMA', 'AMD', 'AME', 'AMF', 'AMG', 'AMH', 'AMIS', 'AMJ', 'AMK', 'AML', 'AMM', 'AMN', 'AMO', 'AMP', 'AMQ', 'AMR', 'AMSL', 'AMST', 'AMT', 'AMU', 'AMV', 'AMW', 'AMY', 'AMZ', 'ANS', 'AOS', 'AQS', 'ASS', 'ATS', 'AUS', 'AVS', 'AWS', 'AXS', 'AYS', 'AZS', 'Am', 'As', 'Ats', 'BAS', 'BCM', 'BCS', 'BES', 'BFS', 'BGS', 'BHS', 'BIS', 'BJS', 'BLS', 'BM', 'BMB', 'BMF', 'BMI', 'BMJ', 'BMK', 'BML', 'BMM', 'BMN', 'BMQ', 'BMU', 'BMV', 'BMX', 'BMZ', 'BNS', 'BOS', 'BPS', 'BS', 'BSS', 'BTS', 'BVS', 'BWS', 'BXS', 'BYS', 'BZS', 'C', 'C0G', 'C10', 'C11', 'C12', 'C13', 'C14', 'C15', 'C16', 'C17', 'C18', 'C19', 'C20', 'C21', 'C22', 'C23', 'C24', 'C25', 'C27', 'C28', 'C2C', 'C30', 'C31', 'C32', 'C33', 'C34', 'C35', 'C36', 'C40', 'C41', 'C44', 'C45', 'C46', 'C47', 'C50', 'C51', 'C52', 'C53', 'C60', 'C61', 'C62', 'C63', 'C64', 'C65', 'C66', 'C69', 'C70', 'C77', 'C88', 'C91', 'C96', 'C99', 'CA', 'CAB', 'CAD', 'CAES', 'CAF', 'CAG', 'CAH', 'CAJ', 'CAK', 'CAL', 'CAM', 'CAMES', 'CAMSP', 'CAMT', 'CAMY', 'CAN', 'CAP', 'CAQ', 'CASA', 'CASE', 'CASM', 'CAT', 'CATS', 'CAU', 'CAV', 'CAW', 'CAY', 'CB', 'CBB', 'CBD', 'CBE', 'CBG', 'CBH', 'CBJ', 'CBL', 'CBU', 'CBV', 'CBX', 'CBZ', 'CC', 'CCAS', 'CCE', 'CCF', 'CCH', 'CCJ', 'CCK', 'CCL', 'CCM', 'CCMA', 'CCMM', 'CCN', 'CCO', 'CCQ', 'CCSM', 'CCSP', 'CCT', 'CCV', 'CCW', 'CCX', 'CCZ', 'CDB', 'CDD', 'CDE', 'CDF', 'CDG', 'CDH', 'CDI', 'CDJ', 'CDK', 'CDL', 'CDM', 'CDW', 'CDZ', 'CE', 'CEB', 'CEC', 'CED', 'CEE', 'CEF', 'CEG', 'CEI', 'CEJ', 'CEL', 'CEM', 'CEN', 'CEPS', 'CEQ', 'CER', 'CESD', 'CESE', 'CESI', 'CESR', 'CESS', 'CEST', 'CET', 'CEU', 'CEV', 'CF', 'CFBS', 'CFF', 'CFG', 'CFH', 'CFJ', 'CFL', 'CFM', 'CFN', 'CG', 'CGC', 'CGE', 'CGF', 'CGG', 'CGH', 'CGIS', 'CGJ', 'CGK', 'CGL', 'CGN', 'CGO', 'CGR', 'CGT', 'CGU', 'CGY', 'CGZ', 'CH', 'CHB', 'CHC', 'CHD', 'CHF', 'CHH', 'CHI', 'CHK', 'CHL', 'CHM', 'CHMP', 'CHN', 'CHO', 'CHP', 'CHQ', 'CHR', 'CHRS', 'CHT', 'CHV', 'CHW', 'CHX', 'CHY', 'CHZ', 'CI', 'CICS', 'CID', 'CIF', 'CIH', 'CII', 'CIJ', 'CIK', 'CIL', 'CIM', 'CIP', 'CIQ', 'CIR', 'CISC', 'CISL', 'CISP', 'CIT', 'CIU', 'CIUS', 'CIV', 'CJ', 'CJA', 'CJB', 'CJF', 'CJH', 'CJJ', 'CJL', 'CJN', 'CK', 'CKB', 'CKK', 'CKM', 'CKR', 'CKY', 'CL', 'CLA', 'CLAS', 'CLB', 'CLC', 'CLD', 'CLE', 'CLH', 'CLIS', 'CLJ', 'CLL', 'CLM', 'CLN', 'CLQ', 'CLSC', 'CLU', 'CLV', 'CLW', 'CLX', 'CLY', 'CLZ', 'CMAP', 'CMBV', 'CMEA', 'CMEQ', 'CMGR', 'CMLK', 'CMVP', 'CN', 'CNA', 'CNB', 'CNDS', 'CNF', 'CNIS', 'CNJ', 'CNK', 'CNL', 'CNM', 'CNO', 'CNP', 'CNPS', 'CNQ', 'CNSA', 'CNSC', 'CNU', 'CNV', 'CNW', 'CNX', 'CNY', 'CNZ', 'CO', 'CO2', 'CO3', 'COB', 'COC', 'COD', 'COE', 'COF', 'COG', 'COI', 'COK', 'COL', 'COM', 'COMP', 'CON', 'COP', 'COQ', 'COSI', 'COTS', 'COU', 'COV', 'CPD', 'CPG', 'CPH', 'CPJ', 'CPL', 'CPPS', 'CPV', 'CQA', 'CQE', 'CQF', 'CQG', 'CQI', 'CQL', 'CQM', 'CQP', 'CQT', 'CQX', 'CQZ', 'CR', 'CRA', 'CRB', 'CRD', 'CRE', 'CRF', 'CRG', 'CRH', 'CRJ', 'CRK', 'CRM', 'CRN', 'CRO', 'CROS', 'CRP', 'CRQ', 'CRR', 'CRSA', 'CRW', 'CRY', 'CRZ', 'CSE', 'CSM', 'CSPS', 'CSSS', 'CSST', 'CT', 'CTB', 'CTE', 'CTK', 'CTR', 'CTSA', 'CUA', 'CUB', 'CUC', 'CUD', 'CUF', 'CUG', 'CUJ', 'CUL', 'CUM', 'CUO', 'CUP', 'CUR', 'CUT', 'CUU', 'CUV', 'CUW', 'CUZ', 'CVE', 'CVF', 'CVG', 'CVH', 'CVI', 'CVL', 'CVM', 'CVN', 'CVO', 'CVP', 'CVU', 'CVX', 'CW', 'CWB', 'CWE', 'CWF', 'CWO', 'CWT', 'CXE', 'CXL', 'CXM', 'CXO', 'CXP', 'CXQ', 'CXR', 'CY', 'CYA', 'CYK', 'CYM', 'CYP', 'CYT', 'CYZ', 'CZ', 'CZC', 'CZF', 'CZJ', 'CZK', 'CZL', 'CZM', 'CZN', 'CZO', 'CZP', 'CZT', 'CZU', 'CZW', 'CZX', 'CZY', 'CZZ', 'Ca', 'Cal', 'Can', 'Cb', 'Cd', 'Ce', 'Cf', 'Ch', 'Chi', 'Ci', 'Cid', 'Cl', 'Cmdr', 'Co', 'Cod', 'Col', 'Com', 'Cox', 'Coy', 'Cpl', 'Cr', 'Ct', 'Cu', 'DCS', 'DES', 'DFS', 'DGS', 'DHS', 'DMF', 'DMI', 'DMM', 'DMO', 'DMR', 'DOS', 'DPS', 'DRS', 'DS', 'DUS', 'Dis', 'EAS', 'EBS', 'ECM', 'ECS', 'ECTS', 'EDS', 'EFS', 'EHS', 'EIS', 'ELS', 'EM', 'EMA', 'EMC', 'EMCS', 'EMD', 'EME', 'EMF', 'EMI', 'EML', 'EMM', 'EMN', 'EMP', 'EMU', 'ENS', 'EPS', 'ES', 'ETS', 'EUS', 'EVS', 'EWS', 'EXS', 'EZS', 'Es', 'FCM', 'FDS', 'FES', 'FFS', 'FLS', 'FMG', 'FMH', 'FMI', 'FMJ', 'FMM', 'FMO', 'FMP', 'FMSH', 'FMT', 'FMV', 'FNS', 'FPS', 'FS', 'FSS', 'Fm', 'GAS', 'GCM', 'GCS', 'GES', 'GFS', 'GGS', 'GHS', 'GIS', 'GMES', 'GMF', 'GML', 'GMP', 'GMR', 'GMU', 'GTS', 'HBS', 'HCS', 'HES', 'HM', 'HMD', 'HMP', 'HMV', 'HNS', 'HPS', 'HS', 'HTS', 'IDMS', 'IDS', 'IES', 'IFS', 'IGS', 'IIS', 'IMB', 'IMD', 'IME', 'IMH', 'IMK', 'IMN', 'IMP', 'IMV', 'IOS', 'IS', 'ISS', 'ITS', 'JBS', 'JHS', 'JLS', 'JMB', 'JMD', 'JME', 'JMF', 'JMJ', 'JMM', 'JMP', 'JWS', 'KDS', 'KES', 'KHS', 'KKS', 'KM', 'KMA', 'KMF', 'KMH', 'KOS', 'KS', 'KTS', 'Ks', 'LBMS', 'LES', 'LHS', 'LMB', 'LMC', 'LMD', 'LME', 'LMK', 'LMSI', 'LMU', 'LMV', 'LS', 'LVS', 'Las', 'Les', 'M', 'MAS', 'MB', 'MC', 'MCM', 'MCS', 'MCTS', 'ME', 'MES', 'MFS', 'MG', 'MGS', 'MH', 'MI', 'MJ', 'MK', 'MKS', 'ML', 'MM', 'MMA', 'MMB', 'MMC', 'MMH', 'MMI', 'MMK', 'MML', 'MMM', 'MMT', 'MMZ', 'MN', 'MO', 'MOS', 'MP', 'MPS', 'MR', 'MRS', 'MSA', 'MSB', 'MSD', 'MSE', 'MSG', 'MSH', 'MSK', 'MSM', 'MSO', 'MSR', 'MSS', 'MSU', 'MT', 'MU', 'MUS', 'MY', 'MZ', 'Mb', 'Md', 'Me', 'Mg', 'Mn', 'Mo', 'Mt', 'NAS', 'NCIS', 'NCM', 'NCS', 'NDS', 'NGS', 'NM', 'NMA', 'NMF', 'NMI', 'NMM', 'NMT', 'NOS', 'NS', 'NSS', 'NUS', 'Nos', 'OBS', 'ODS', 'OFS', 'OM', 'OMB', 'OMC', 'OMG', 'OMI', 'OMM', 'OMMS', 'OMN', 'OMO', 'OMP', 'OMR', 'OMT', 'ONS', 'ORS', 'OS', 'OSS', 'OVS', 'OWS', 'Os', 'PAS', 'PBS', 'PCS', 'PCUS', 'PES', 'PFS', 'PGS', 'PHS', 'PIS', 'PKS', 'PLS', 'PMB', 'PME', 'PMF', 'PMG', 'PMH', 'PML', 'PMN', 'PMO', 'PMP', 'PMT', 'PMU', 'PMV', 'POS', 'PPS', 'PUS', 'Pm', 'QCM', 'QM', 'QMF', 'QMOS', 'RAMS', 'RAS', 'RBS', 'RES', 'RFS', 'RGS', 'RHS', 'RIS', 'RLS', 'RM', 'RMB', 'RMBS', 'RME', 'RMF', 'RMN', 'RNS', 'ROS', 'RPS', 'RRS', 'RS', 'S', 'SCM', 'SCRS', 'SES', 'SFS', 'SGS', 'SIS', 'SM', 'SMA', 'SMB', 'SMC', 'SMH', 'SMK', 'SML', 'SMM', 'SMN', 'SMR', 'SMT', 'SNS', 'SPS', 'SS', 'SSS', 'STS', 'SUS', 'Sm', 'TBS', 'TDS', 'TES', 'TGS', 'THS', 'TIS', 'TJS', 'TKS', 'TM', 'TMA', 'TMB', 'TMC', 'TMD', 'TME', 'TMG', 'TMI', 'TMJ', 'TMN', 'TMP', 'TMT', 'TMV', 'TMX', 'TNS', 'TOS', 'TPS', 'TQS', 'TRS', 'TS', 'TTS', 'TVS', 'TWS', 'TZS', 'Tm', 'UAS', 'UBS', 'UCM', 'UDS', 'UES', 'UFS', 'UGS', 'UMA', 'UMB', 'UMD', 'UMF', 'UMH', 'UMI', 'UML', 'UMM', 'UMP', 'UMR', 'UMT', 'URS', 'US', 'UUS', 'VBS', 'VCM', 'VES', 'VGS', 'VHS', 'VMC', 'VME', 'VMI', 'VMK', 'VML', 'VMM', 'VMO', 'VMP', 'VPS', 'VRS', 'VSS', 'VVS', 'WCS', 'WDS', 'WGS', 'WHS', 'WMF', 'WML', 'WMW', 'WNS', 'WPS', 'WSS', 'Wis', 'Wm', 'XMP', 'XPS', 'XS', 'YBS', 'YHS', 'YM', 'YMN', 'YMO', 'ZMK', 'ZMP', 'Zs', 'acmes', 'ans', 'ass', 'bis', 'bxs', 'c', 'ca', 'cay', 'cc', 'cg', 'ch', 'chg', 'chi', 'chis', 'cir', 'ck', 'co', 'comm', 'cons', 'cor', 'cosh', 'ct', 'ctn', 'ctr', 'cu', 'cum', 'cwt', 'dis', 'dos', 'em', 'emos', 'ens', 'fums', 'gs', 'hes', 'hims', 'hmm', 'hos', 'hrs', 'iOS', 'ids', 'ins', 'ism', 'ks', 'ls', 'm', 'mams', 'mas', 'mes', 'mi', 'mo', 'mu', 'mus', 'mys', 'nos', 'om', 'pis', 'poms', 'qts', 'res', 'rm', 'rs', 's', 'sims', 'tbs', 'ump', 'xis', 'yrs', '3M', 'ACLs', 'ACTs', 'AGs', 'AMI', 'APs', 'ATMs', 'AVs', 'BCBS', 'BJs', 'BMIs', 'BMWs', 'BPMs', 'C&A', 'C&C', 'C3', 'CAE', 'CBSC', 'CBSE', 'CBSN', 'CCSD', 'CCSS', 'CDMA', 'CDMX', 'CDNs', 'CDOs', 'CEOs', 'CESC', 'CFOs', 'CGM', 'CGMA', 'CIFS', 'CIG', 'CIGS', 'CIOs', 'CISA', 'CLSA', 'CMYK', 'CNAs', 'COA', 'COOs', 'CORS', 'CP', 'CPN', 'CPNs', 'CPP', 'CPQ', 'CPT', 'CPUs', 'CQC', 'CR7', 'CSO', 'CSOs', 'CSVs', 'CTAs', 'CTOs', 'CTSO', 'CVA', 'CVV', 'CWL', 'CWM', 'CWP', 'CWR', 'CWV', 'CZI', 'Chu', 'CoP', 'CoPs', 'DJs', 'DLS', 'DMA', 'DMGs', 'DMX', 'DMZs', 'DRMs', 'DVMs', 'Dems', 'DoS', 'ECDs', 'ECTs', 'EMTs', 'EOMs', 'EPs', 'EQS', 'EVs', 'FAS', 'FCs', 'FHS', 'FMD', 'FOS', 'FPs', 'GBS', 'GCs', 'GIs', 'GMA', 'GMC', 'GMOs', 'GMV', 'H&S', 'HCs', 'HLS', 'HMH', 'HRMS', 'HWs', 'I&S', 'IBS', 'ICEs', 'ICMP', 'ICMR', 'ICS', 'ICUs', 'ILS', 'IM', 'IPs', 'IQs', 'JMH', 'JS', 'KMSP', 'LDS', 'LMMS', 'LMT', 'LPS', 'LPs', 'LTS', 'M&Ms', 'MCAS', 'MCPS', 'MCQs', 'MCs', 'MDs', 'MIS', 'MLS', 'MMO', 'MMOs', 'MPs', 'MSc', 'MWS', 'NMC', 'NRS', 'NTS', 'NYS', 'ODMs', 'OEMs', 'PAs', 'PCBs', 'PDMS', 'PMD', 'PRs', 'QBs', 'RMSD', 'RMSE', 'RMU', 'ROMs', 'RTs', 'SCMP', 'SCSS', 'SDS', 'SHS', 'SIMs', 'SMBs', 'SMEs', 'SMP', 'SMU', 'SQS', 'T&S', 'TCHS', 'TCS', 'TMZ', 'TTs', 'ToS', 'UCAS', 'UIs', 'UMC', 'UMTS', 'Urs', 'V6s', 'V8s', 'VCRs', 'VCS', 'VCs', 'VFS', 'VPs', 'VWs', 'WBS', 'WCBS', 'WCHS', 'WS', 'XLS', 'XMOS', 'XSS', 'ZFS', 'ais', 'amu', 'amus', 'camo', 'camos', \"cc's\", 'comms', 'cx', 'dm', 'hm', 'mL', 'mW', 'mcg', 'msg', 'nm', 'pHs', 'pcs', 'pgs', 'pls', 'pts', 'tmp', 'umm', 'vm', 'µm', 'écus'], 'offsetInContext': 43, 'context': '...e made from 100% Bamboo. Size: 75 X 150 cms / 29.5\" X 59\" ; Pack of 2 - Beige & Gre...', 'offset': 89, 'errorLength': 3, 'category': 'TYPOS', 'ruleIssueType': 'misspelling', 'sentence': 'Size: 75 X 150 cms / 29.5\" X 59\" ; Pack of 2 - Beige & Grey  , Features: It dries very quickly, absorbs 3 times more water than cotton, light in weight and takes up little space in your closet or luggage.'}), Match({'ruleId': 'COMMA_PARENTHESIS_WHITESPACE', 'message': 'Put a space after the comma, but not before the comma.', 'replacements': [','], 'offsetInContext': 43, 'context': '... 29.5\" X 59\" ; Pack of 2 - Beige & Grey  , Features: It dries very quickly, absorb...', 'offset': 134, 'errorLength': 2, 'category': 'TYPOGRAPHY', 'ruleIssueType': 'whitespace', 'sentence': 'Size: 75 X 150 cms / 29.5\" X 59\" ; Pack of 2 - Beige & Grey  , Features: It dries very quickly, absorbs 3 times more water than cotton, light in weight and takes up little space in your closet or luggage.'}), Match({'ruleId': 'EN_UPPER_CASE_NGRAM', 'message': 'Only proper nouns start with an uppercase character (there are exceptions for headlines).', 'replacements': ['features'], 'offsetInContext': 43, 'context': '....5\" X 59\" ; Pack of 2 - Beige & Grey  , Features: It dries very quickly, absorbs 3 times...', 'offset': 137, 'errorLength': 8, 'category': 'CASING', 'ruleIssueType': 'misspelling', 'sentence': 'Size: 75 X 150 cms / 29.5\" X 59\" ; Pack of 2 - Beige & Grey  , Features: It dries very quickly, absorbs 3 times more water than cotton, light in weight and takes up little space in your closet or luggage.'})]\n",
      "2023-02-20 17:06:42.782 | INFO     | __main__:spellcheck:28 - []\n",
      "2023-02-20 17:06:44.373 | INFO     | __main__:spellcheck:28 - [Match({'ruleId': 'COMMA_PARENTHESIS_WHITESPACE', 'message': 'Put a space after the comma, but not before the comma.', 'replacements': [','], 'offsetInContext': 43, 'context': '... to store and to carry while travelling  , Washcare: Machine Washable. Do not blea...', 'offset': 120, 'errorLength': 2, 'category': 'TYPOGRAPHY', 'ruleIssueType': 'whitespace', 'sentence': 'Packaging: It comes packed in a small cotton bag which makes it super convenient to store and to carry while travelling  , Washcare: Machine Washable.'}), Match({'ruleId': 'MORFOLOGIK_RULE_EN_US', 'message': 'Possible spelling mistake found.', 'replacements': ['Wash care'], 'offsetInContext': 43, 'context': '... store and to carry while travelling  , Washcare: Machine Washable. Do not bleach.', 'offset': 123, 'errorLength': 8, 'category': 'TYPOS', 'ruleIssueType': 'misspelling', 'sentence': 'Packaging: It comes packed in a small cotton bag which makes it super convenient to store and to carry while travelling  , Washcare: Machine Washable.'})]\n"
     ]
    }
   ],
   "source": [
    "res = []\n",
    "for sen in mush_df['bullets_new'][0].split('\\n'):\n",
    "    res.append(spellcheck(sen)[1])\n",
    "    "
   ]
  },
  {
   "cell_type": "code",
   "execution_count": 66,
   "id": "6f66a552",
   "metadata": {},
   "outputs": [
    {
     "data": {
      "text/plain": [
       "3"
      ]
     },
     "execution_count": 66,
     "metadata": {},
     "output_type": "execute_result"
    }
   ],
   "source": [
    "len(res)"
   ]
  },
  {
   "cell_type": "code",
   "execution_count": 58,
   "id": "79cd5ce4",
   "metadata": {},
   "outputs": [
    {
     "data": {
      "text/plain": [
       "5"
      ]
     },
     "execution_count": 58,
     "metadata": {},
     "output_type": "execute_result"
    }
   ],
   "source": [
    "len(res1[1])"
   ]
  },
  {
   "cell_type": "code",
   "execution_count": null,
   "id": "473e7357",
   "metadata": {},
   "outputs": [],
   "source": []
  }
 ],
 "metadata": {
  "kernelspec": {
   "display_name": "excelcheckapp",
   "language": "python",
   "name": "python3"
  },
  "language_info": {
   "codemirror_mode": {
    "name": "ipython",
    "version": 3
   },
   "file_extension": ".py",
   "mimetype": "text/x-python",
   "name": "python",
   "nbconvert_exporter": "python",
   "pygments_lexer": "ipython3",
   "version": "3.10.9"
  },
  "toc": {
   "base_numbering": 1,
   "nav_menu": {},
   "number_sections": true,
   "sideBar": true,
   "skip_h1_title": false,
   "title_cell": "Table of Contents",
   "title_sidebar": "Contents",
   "toc_cell": false,
   "toc_position": {},
   "toc_section_display": true,
   "toc_window_display": false
  },
  "varInspector": {
   "cols": {
    "lenName": 16,
    "lenType": 16,
    "lenVar": 40
   },
   "kernels_config": {
    "python": {
     "delete_cmd_postfix": "",
     "delete_cmd_prefix": "del ",
     "library": "var_list.py",
     "varRefreshCmd": "print(var_dic_list())"
    },
    "r": {
     "delete_cmd_postfix": ") ",
     "delete_cmd_prefix": "rm(",
     "library": "var_list.r",
     "varRefreshCmd": "cat(var_dic_list()) "
    }
   },
   "types_to_exclude": [
    "module",
    "function",
    "builtin_function_or_method",
    "instance",
    "_Feature"
   ],
   "window_display": false
  },
  "vscode": {
   "interpreter": {
    "hash": "153155f31549a38b0a8b2d161f43a8480e19ade7e642280742c9cf07df52b99d"
   }
  }
 },
 "nbformat": 4,
 "nbformat_minor": 5
}
