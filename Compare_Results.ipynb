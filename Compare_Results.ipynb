{
 "cells": [
  {
   "cell_type": "markdown",
   "id": "990a98b8",
   "metadata": {},
   "source": [
    "# Import Packages"
   ]
  },
  {
   "cell_type": "code",
   "execution_count": 13,
   "id": "0b308a7f",
   "metadata": {
    "ExecuteTime": {
     "end_time": "2023-02-17T03:26:49.692243Z",
     "start_time": "2023-02-17T03:26:46.476218Z"
    }
   },
   "outputs": [],
   "source": [
    "import pandas as pd\n",
    "import language_tool_python\n",
    "import numpy as np\n",
    "import re\n",
    "from tqdm import tqdm\n",
    "from loguru import logger\n",
    "from fuzzywuzzy import fuzz\n",
    "import os\n",
    "# import streamlit as st\n",
    "# from stqdm import stqdm\n",
    "# from time import sleep\n",
    "from gingerit.gingerit import GingerIt\n",
    "import Caribe as cb"
   ]
  },
  {
   "cell_type": "code",
   "execution_count": 3,
   "id": "4cdabb30",
   "metadata": {
    "ExecuteTime": {
     "end_time": "2023-02-17T03:26:49.696530Z",
     "start_time": "2023-02-17T03:26:49.696530Z"
    }
   },
   "outputs": [],
   "source": [
    "tqdm.pandas()"
   ]
  },
  {
   "cell_type": "code",
   "execution_count": 14,
   "id": "aa607d68",
   "metadata": {},
   "outputs": [],
   "source": [
    "my_tool = language_tool_python.LanguageToolPublicAPI('en-US')"
   ]
  },
  {
   "attachments": {},
   "cell_type": "markdown",
   "id": "abfb49e3",
   "metadata": {},
   "source": [
    "# Load Files"
   ]
  },
  {
   "cell_type": "code",
   "execution_count": 16,
   "id": "1e2fd58a",
   "metadata": {},
   "outputs": [],
   "source": [
    "special_char = pd.read_csv('Special characters list.csv')\n",
    "ground_truth = pd.read_csv('DataStore/compare_datasets/GroundTruth.csv')"
   ]
  },
  {
   "cell_type": "code",
   "execution_count": 43,
   "id": "0096ab89",
   "metadata": {},
   "outputs": [
    {
     "data": {
      "text/plain": [
       "array(['Mush', 'Strauss', 'Yellow Chimes', 'mCaffeine', 'AADAR',\n",
       "       'Curryit', 'Nutty Yogi'], dtype=object)"
      ]
     },
     "execution_count": 43,
     "metadata": {},
     "output_type": "execute_result"
    }
   ],
   "source": [
    "ground_truth['Brand'].unique()"
   ]
  },
  {
   "cell_type": "code",
   "execution_count": 45,
   "id": "4f5f0b5a",
   "metadata": {},
   "outputs": [
    {
     "data": {
      "text/plain": [
       "'B071GFLYQ6,B06ZZ1TRXJ,B0721DYSXW,B09HQTYGC4,B06ZY5QDYM,B071JK9TPQ,B0751CKLPG,B071ZXLHHK,B072MCQ4NF,B071R22C3X,B00Q12JZ4I,B00Q141TOK,B00WGT0EN6,B00Z0DZJMG,B00W5J2KG6,B08DXRQ6MX,B08F3BK21V,B08F3LG45L,B09DKZ7M88,B08FM8LPS3,B0983RQKVX,B0983R7RNX,B0983TQ26R,B0983SQHXZ,B0983R59SQ,B0983TQZSK,B0983S6XWH,B0983SFBJ5,B0983TH1DP,B0983TH7Z4,B0983VPRTP,B0983TJWTX,B08F7Q6RHG,B08F7VKR4G,B08F7TRZY8,B08F7XH8T8,B08F7Y9RXC,B08F9XMPTP,B08F9YPNM9,B08F9KVWRX,B08F9ZPSZL,B0983S83MZ,B0983RMKVB,B0983SHHP5,B0983SYJQH,B0983TL51Q,B0983TPQXR,B0983RSZHM,B0983SYP7M,B0983TD9QX,B0983TTRHM,B0983PYJ1P,B0983TCT95,B0983Q4Z4B,B0983TKQWR,B0983SQVW2,B09DKYZ7YG,B08FB4LNBN,B01IEJ97T8,B0138KRRPE,B00RQ7NDSG,B00SOSZNRU,B07HM47WK8,B07HM21QBD,B07HFRHR4X,B07HM2VSJ1,B07HM32F3F,B07HFTM24C,B07HM1LJ64,B07HFTGMXJ,B07HMYP8CG,B07HMPYZ4Y,B07HMTK5B2,B07HMQZJ2T,B07J6J1D38,B07YNKNBRS,B018CDOAR0,B018CET8KS,B019B8O53Y,B00Y6ESYA4,B014SUDDLK,B00WQ3Q34Q,B071JV1YTB,B07XQ3NVSM,B00RQOEW8O,B014ZTQ59Q,B015BBKO12,B01AEAFN0C,B07C9DJCTR,B07BRTDKFP,B07BRG2P7K,B07BRTCPN4,B09HQTX2CR,B07HSTX9LY,B07DC175ZX,B07XWJHL4B,B09HQTQZK3,B016BYN5T6,B0832WT12K,B01DRQ6VB0,B01DRQ6X68,B097TFBY77,B01B9HWQN6,B097THB5LT,B019H2LAH8,B07585MDXZ,B019H24QUQ,B07586H11Q,B07585CX7X,B097TF6FC7,B097TF143R,B07TRMZR9T,B07QGSPCQ8,B082NTCTLN,B082NRQQHM,B07TT74LN2,B07TW8NKH2,B07TT73VXY,B07TW5VH28,B097TGK7NR,B07TV7QWKL,B07TRN2JB2,B07TW6HD28,B082NRJ4ZH,B082P1MRLL,B07HD8YRDW,B07BVK6FTD,B082NYVJJJ,B082P22HMQ,B097THGS5X,B082PHSCV5,B082P2VFG9,B082PHYF1Q,B0721WXFGS,B0721XFJC5,B071GYBCBX,B071GYBW2K,B082P1S7PP,B08HLV3F16,B07Q37MHNS,B082PK3NC4,B082PL6NNH,B082PLSBJL,B097THLP7G,B082PKM49F,B07Q3832ZM,B082R5VKC8,B082PLN2Y8,B082PLDTXW,B07QGTHFVX,B07QG1RC7N,B07Q5DK9ZQ,B07NVBMN7F,B07V4DW3D1,B07P1QKVY3,B07DC1Z3FN,B07XZ9ZDG6,B07CDDHYSJ,B07XZBVXC2,B094FZ2F5N,B07XZBQKBS,B07XZ6TF8N,B076J5J9GW,B082R97JQ8,B07XZCT5WV,B07XZBMWY2,B07XZCT3KM,B07XZBP2WW,B07MQQXG4P,B07XZCCMBB,B07XZBMKM7,B08XXJQJBL,B0974WZ78B,B0892J8LLC,B0892LFBDK,B094QP2NJS,B07D1KBKCZ,B094FZCJL8,B094FXBV6P,B094QDX4FS,B094QFFG4V,B094QCJTJ2,B094G2HB6N,B094FZ7951,B094FYDMV5,B07BTWY74P,B094FY7VYZ,B094G17LGS,B094FYS2FT,B08XXK8D88,B08XXJKDPW,B094QHC95B,B094QGWTFH,B08XXK74F4,B07FMZQZX7,B094QH1ZG6,B094QD1PCH,B094QFJ99J,B094QHN28R,B094QH3CVY,B094QFF78F,B094QGWTFK,B094FZJCWC,B094DTDKVC,B094DT6X62,B094DX66MJ,B094QKLTL2,B094DT4P81,B094DSMGJH,B094DT9G34,B094DVTFYR,B01DT1KYZ2,B094DSX919,B094DSWX2Y,B094FX2RV2,B094FZHYJ7,B09HQTHNT5,B01LH3ZN46,B09HQVFS3G,B01LN9UEZM,B08XXLFLV9,B08XXJV7RP,B08XXHQFJS,B08XXHYXYV,B08XXHCP4H,B08XXH6K4B,B097TF2ZQK,B07CXQPQK7,B07KY67YK5,B077JM6V8G,B0778LNNLC,B0791HMBMC,B07YPG4D86,B078GPJDNK,B07JGLJ7FF,B0791B9PDS,B0791BKP7R,B08DXPPCXG,B08PVZ1GJL,B08PVVYBSR,B08PW2NST5,B0791BF9WL,B0791BF4YJ,B095C3KZ9B,B095C2H1YL,B072KKL4JF,B07V858MFX,B07XZBCJS8,B07XZBY9T4,B01LY1MZ9G,B01M0Z3USH,B07V9VDHLQ,B089FK86HT,B07KG4B9K8,B089K3ZFLN,B07Q7NDM1R,B07KZNDKX7,B07Y1NPQKL,B07Y1PFM6C,B07DRBB8ZV,B07DRBD4XT,B07JFY9RT7,B07N8ZB2SR,B089D8CZ4Z,B08F7VL563,B089D9N4GB,B08XXJL52V,B08KW5K31Q,B09B9NLYYC,B07RX326LH,B08KVY2PY2,B08K47SYFF,B08K49FFLQ,B08F2V731H,B089FKQV7M,B08K4MYH28,B08K4NQ2N8,B089FJV3Q6,B07KG5SZMR,B07MDG2B8S,B06XZ7NNSR,B08KVYR4LQ,B07YNG3L53,B07XZ9BFSR,B089GJP7HJ,B08K4NHGSR,B089DBMQC5,B07NTPGQ48,B07YNGP2DK,B07V9DYQJS,B0919MNQ1X,B01IMS1IKM,B089FJHBJP,B081F9W2VN,B08DXP8NH8,B083SPS6G4,B07V7FTWH1,B01M5FR2MC,B08F3JDVQJ,B07V9FHVSV,B08KW3CBM5,B07XZBHSGK,B07V8K5TBX,B07FVT2D3W,B07SGWZHZM,B089D9H9X5,B07KZZT6DQ,B081GXWT4L,B089FKVSPD,B089DG274C,B08ZYQLP4H,B08K4KXRGL,B07RY369RV,B07H6MRCTC,B07YQ14KS5,B07YPF624W,B07YPQ6V37,B07YP8QMRQ,B07K19MSYB,B08F3MXWHD,B08F3M6BKB,B083K2DW4Q,B07XZB7FGQ,B08F3PRHF5,B08F3MFTVM,B07SYJJX5H,B07SYJ9YB1,B07T35LD48,B015JPKOII,B0101YA6WG,B07Q48RJH1,B01M1A8MUO,B015DLE9NO,B00ZV3AWCC,B00ZWJSCW2,B0180QMUJO,B072R4VDXW,B078YM8PV8,B09HQTLFYN,B07Q3GJVXD,B07919G4FV,B0776P1FYH,B071KFCFVV,B071KFMJHL,B07V3QX8KQ,B01DRJNTLW,B01DRJNSVI,B01CZELI0Y,B07217HQ8H,B01G6XSADS,B097ZJC5CL,B097ZHWM5G,B097ZH65PG,B097ZJ5P89,B097ZJ94NN,B097ZJRN7J,B07PTQXFFC,B07NJVBMJC,B07PSNHG8L,B09B9P5Z72,B07XZ9KSVG,B097ZJ55B1,B01G1EODYW,B097ZHBHRY,B097ZHXJQW,B097ZHR7K3,B097ZHX9GZ,B01GOD3792,B07GPP8LQ9,B0785K6R9H,B097ZHPNT1,B09B9NPJ3X,B08FHVN3QV,B082R9RGPW,B09B9Q714P,B07PW6SHKB,B097ZHCV79,B01GOBZU2Q,B074RDQGK5,B09B9P2CBK,B079KFKD8W,B08Y1BFT8L,B072MND8VQ,B082NZCLNZ,B09B9NGM7Z,B097ZHQK43,B07NL1Q7H7,B0785FT1M8,B082P19CXW,B09B9NSZ85,B09B9NW6F8,B097ZGNFJQ,B07H7KX3RS,B07PW6N93N,B01FUIFOFC,B082PH7659,B09B9Q5MCC,B07XZBPG8N,B01LY1O41W,B07XZB3LNP,B01FUI37CE,B0779CCW8G,B0779C4Q3G,B08GLMFXNW,B07MM4NDKB,B097ZHTSDC,B07XZBLWNF,B07CTNMVP2,B07XZCC864,B079HXKL29,B097ZHFRHD,B082PJZTHC,B082PKN8WD,B082PKFX3Y,B07XZCHYSM,B097ZJL6Q8,B07MCC3DBJ,B082PJJHK4,B07YNMHG38,B01FUHJPVM,B07M7N4YN9,B082PKBXXL,B07L6LHC8T,B097ZHHDLN,B07XZBDSZB,B082NZGP9N,B07YNMMVXB,B07MDS3HC5,B0827Y15WH,B07MX8BX1L,B077WJRNNG,B06ZZGJ33F,B076ZGRTK7,B07MRGZ67K,B07MCC9NHB,B082PKTMKT,B07T41ZV5X,B07V6XZGXC,B07MSKRWDY,B07L78XDYW,B07N7FVH5B,B077W9NNR5,B01GBAKWLO,B07FH7M14D,B07V3Y965K,B083JFQ36X,B07MQF1VH3,B082PKTZT4,B07M8NFM5G,B01LNMI69K,B0785956M7,B094XSN5DP,B094XT5S5F,B082PK4KHS,B082PL5DB9,B07MW1H4VX,B077XCV1W2,B07KT49SWB,B07Q3LCRHX,B082PM81NY,B096VMVD89,B077XJ66LC,B07NYRQ9FH,B082R75D7T,B01LNLS5BU,B07MSKR5S7,B07Q7NBN2P,B07MCCN1YY,B09B9G9RNV,B082QQ6PRT,B07T41QT3R,B07T67F32M,B07T68CKQ6,B07XZ84B3J,B097ZJQ957,B01GZQQZGK,B07XZBGG7R,B071CDMP76,B07YNPB9S1,B071CNQQX7,B071CDJ8T5,B06Y62STDS,B07XZB8Q8Q,B07XZBDS1J,B079KGS8GT,B07XZ9L68H,B08PVYJYWT,B07M7NY169,B07MSMNWVW,B01LWQUG8X,B07X2222Z5,B07X232JDD,B07WYPXMS3,B07WZZ8L1B,B07WYP1JMC,B07WYLQKXP,B07ZTBHWG4,B081SP4ZNZ,B081SPT3GM,B08M99CK5D,B08M92CNCF,B082SF21D5,B082SFMWPX,B081SPH6WR,B081SKP922,B08Q46Y9YP,B081RVMDKF,B081RTYGFH,B07MM5L49R,B082SDRTW7,B082R9XZ87,B0892QHS6G,B07YP6MMSF,B07MJLCTC5,B01FLTSQ3M,B01FLW8X7I,B07MM5P1K7,B082RB7YWP,B082R9P89L,B01FODNZMW,B07MM5PFTH,B07MG5K41Y,B08F73W66T,B094XQDVJ4,B07YNL7MHK,B094XQWSH3,B094XSK9D8,B094XTQ3M2,B094XSKPFX,B07MQJC4ZT,B07GZHYXLX,B094QHFDRF,B094QJCL6T,B094GCZSLZ,B094G9MWS7,B094GDK9F1,B094GD8442,B094QHGN5M,B094GC1BKY,B094G9GG13,B094GC4SFC,B094GC3KDL,B094GDH75Z,B094G9NSB6,B094GCFMGX,B094G9N32Y,B094G8ZWLG,B094QJXLL6,B094GBTV6K,B094QKR8HQ,B094QGNPPQ,B07MCJ224R,B094GC64WY,B094DT4J3B,B094DQNNYN,B094DRN53Q,B094DVV6K5,B08Y5R1SSH,B0957SD36R,B08ZYP5PPG,B08ZYQFZBR,B08ZYQDG6D,B0914X2V2M,B08ZYPT7MZ,B08ZX5TPR1,B08ZYP4VSH,B08ZY5X393,B076JBBPYV,B0791H3M9Q,B07FD4QZGB,B07P3KR54S,B07NJRZB8C,B07NJRC4LX,B07XZBHP1V,B07XZD1M84,B07XZBPVRQ,B07TVHC1B9,B078M5YRGP,B078MGMVXV,B078575314,B094QFVC9B,B08DY6BZNV,B08H57VTP1,B08DYBSJV8,B08DRQNSRP,B07NJ535SL,B07T1NZD36,B08F72TYQY,B081H3KZGR,B09B9Q5B79,B09B9NM57L,B081KY6XYX,B09B9PWPTB,B094GCKM11,B09B9QBCDZ,B09B9M86ZT,B09B9NPMLR,B09B9PQWDH,B09B9NPZYP,B07KSW47Y5,B07KSVTBJ2,B07KSY4Y9Q,B07KSX6T67,B094DVXQSF,B07XJWSQFR,B07XPNDFKW,B07YQ2G2LS,B084MJCNTG,B07XQ1K1QH,B07XL1YH79,B08KQC934J,B08GLHMKFS,B07XZBPGYR,B08F5BZ1JZ,B08F59X4B6,B08F5D54VX,B08F5CZWWG,B08M3CNFCC,B07SH7R843,B08F7W852J,B08F576ZH6,B08LYFV4K9,B07SB3FQN7,B083QZST9T,B083QKNBVV,B083QZSCDT,B083R17PMC,B07KFZYBWP,B07KG2SJWW,B07DGWVS6B,B07FMTZQXF,B07DGW5P6P,B07TTGMYFQ,B07QCMTG62,B08FLLY69M,B08DY5SL9H,B09B9PQ35Q,B09B9QHCFV,B09B9PYZBY,B09B9P6433,B094DTJTY9,B08LYJ66JL,B083P386YJ,B083QH4YJ1,B083QKDJDX,B083QKKT9L,B083QK5WTZ,B083QKJ9YT,B083SPBQH4,B09B9KKW8L,B08F7VY86Q,B08FLK5XG4,B098QM76KT,B098QNZX2R,B09BB14VGQ,B09B9PQ5Z7,B09B9LSB18,B0827JGJYK,B09B9PH5T5,B09B9Q743C,B081JW3FF1,B081DTFG3C,B09B9PP571,B07NJRH98Q,B07V95479S,B08KW1C89Y,B083P2JC7N,B083P2DLM5,B083QKG4ZN,B083QJPLZC,B083QKG8X8,B08F5CYGLK,B08F5DD8XP,B09B9P7KWF,B08F549PKR,B09B9PZBNK,B09B9QBW2T,B08F6ZCHZB,B08DY3YZ4P,B08F77H9QC,B08PW12HV3,B08DY3BFYW,B01FG3OATM,B01FG3UO8S,B08F7W6417,B094DV3JPL,B0974WB94T,B08Y562SLG,B094DS836C,B094DVH1KW,B094XQQRNL,B09B9KL3X8,B09B9QFMXT,B09B9Q629N,B09B9NJG3B,B09B9Q1X3T,B09B9NMRVQ,B09B9NRSL4,B09B9GW1TZ,B07V4WLH8L,B084DQV9SG,B07WP4XFBM,B076H61JCM,B076H5BRF9,B07YNPK8ZC,B077W8ZFZF,B077WC44N4,B07856T1N6,B077WBGT7F,B07858T6JJ,B08LZ55RD8,B08F7W62GL,B08Y5JVZ21,B098QP1PFR,B08KTHSP6Q,B094DTRCN2,B094DVD1XR,B094DV5MJ4,B07QR28YHD,B07QNV6FBD,B08LYBZT7C,B09B9N8SJQ,B08F7GY82F,B08F73Y1CW,B08F7FH9S7,B09B9NRVHN,B07NY928CS,B07NZ5RLGH,B098QL9ZH3,B08NYQGC9B,B08PVY9K1S,B07SG5JJ8K,B09B9NKHS9,B07XZBFRGD,B094GCDX4T,B077W8VXHL,B077WF8WN5,B077W8KXTT,B09B9PL1KY,B08F5FKHBC,B08F5F5JWN,B08FQXBQS5,B08G8MT89M,B09228MB59,B07T2SFL8P,B08DR8PN6N,B08DQW8RG6,B07T1PXCSR,B07NKDXB7D,B07T1RQDM5,B08DR8SPCG,B08H2DSXXC,B097TFWXVZ,B097TGJNRK,B097TFV83L,B097TD8M1Q,B097TDLKGS,B097TGMGGR,B097TFYK8B,B097TG6G76,B097TF1SHQ,B08GX1RCKD,B08KHLX42J,B097TGHFHQ,B097TD2WKD,B08ZKP6TL4,B097TF6DC2,B097TGK8GL,B08GX5XLF1,B08KLPQR54,B097TF6CX7,B07M7W3VTH,B097TDWWVL,B097TFDKY8,B097TF13T2,B097TFJQ33,B07XZBV5Z7,B07XZ9PY28,B07XZBCPB8,B07XZ9J1XW,B07XZBJDGJ,B07XZBF1RZ,B07XZCDNDJ,B07XZCY394,B07X7PKYW5,B08R64S4QM,B08W273X5Z,B08W1W5WLY,B08W21KDYM,B08ZYRJLGC,B08ZYPBH52,B08ZYP28DR,B07FD99Y9V,B07FMXXKWB,B081SQPVXC,B07FD7NZW2,B081SQM5Y3,B07XZBWF4K,B07LD6M9VG,B098QNCLJW,B08W1Z915W,B09B94SJH3,B09B9H9XJ4,B08GWKY6KW,B08GWXMR96,B08GWHCTBF,B098QNZX2X,B08GX4JQ3V,B08DTSSR45,B08YYDZGDW,B07DQVSW19,B097TF63FZ,B098QNQ12K,B098QLHZDY,B08J867BQ5,B09B9KJZK5,B07H69NZVN,B07YPVZDR3,B097TF79T9,B097TF723B,B081SM7PF5,B0897BHT3T,B08DNSPQM9,B089666561,B0796V1XHQ,B094DVQL7K,B094DR91JH,B094DRY1ST,B094DSJJG6,B08PVYPX3D,B08M3S94WB,B08G8NPJK4,B00Z3MD6U6,B0796TGD2N,B00Y70VBMK,B097TCN6NH,B097TF3NSM,B08Y5HF6FS,B097TF4C3P,B08Y5SP1LH,B07MMDLM4X,B07PYG9FYX,B07SLHRZJK,B07SJC5CGR,B07XZC9C4T,B07XZBW2DG,B097TCRBXQ,B0892LHZDP,B0797TYVPG,B078GLF4MQ,B094FY8D5L,B094G3RB3C,B094FZZDHP,B094G1Z5YY,B094G37XMT,B094QJXT5K,B094G2NBN2,B094QFRLVD,B094QG2Y34,B094QHTTZ4,B094QFPXSG,B094QD691R,B094QJ2CCL,B094QGZSLN,B094QHJ12P,B094QH6BGP,B094QG3HVW,B094QH7VZX,B07CV7LSWN,B093C5BCXM,B079N872B5,B079NBM5PJ,B07XZC5MPY,B07XZCBL94,B019LJ98Z8,B01DSZ3M5S,B07YNGL6K6,B01EOVE1HI,B01EN8SMZO,B01FSI9SH4,B07S8ZSZZS,B094QJBT78,B08GSNTRDR,B09B9HN27D,B09B8X15N2,B09B9XSZT8,B09B9DVWD2,B09B9GWVWS,B09B9G3SFM,B09B9G7QS9,B09B9HGTR6,B09B99V8TN,B09B9H3177,B07KG7R87M,B0957ST5B4,B08KQ9H319,B08KQBZXDL,B08KQCJ1JF,B08KTFLKR7,B09HQVJ54G,B094QHBFKC,B01IXV2OO2,B01HNOQW02,B07GS2CJYH,B07GS1JNSJ,B07GS559TK,B07GSZRJZV,B07GT29GNX,B094QJXT5F,B07H2WSCTN,B07H2VJ24R,B094QH6BGR,B08GYG89YP,B07SC69CM7,B094QMKLCK,B08Y1CK2XN,B094QJZCZ5,B08F2FPH7T,B07SGB3W9V,B08F2NL2VV,B07KG7X6SW,B08F2Q85VW,B08DRHZQW5,B081JHH84N,B07SB5W62R,B082R98PXC,B07YNK9W1P,B08F2PLHD1,B07YPYRDBZ,B06W2NMT7D,B089KLQQ3Q,B07SHSK2FL,B094QH9XYX,B06VXC76T1,B083SMTTMH,B016BWC6Q6,B00ZTD3JJM,B019GW9HMY,B09HQVQZFX,B08HHXBNM1,B07TXGP4Z7,B07M83TNWL,B07TXGP82S,B07TS7RCG1,B07TXJCK9R,B07TXFT8YW,B07Q4HL8H2,B07TTCCH7Y,B07TTC8QXN,B07TS7TVW9,B07DW8GY9N,B082PZ4FL4,B082PYVX29,B07MG9N6BS,B071XC7W5L,B07MMB6NYW,B01FQE60DU,B07XZBS8L1,B07MG9PFQG,B077GR5PCL,B07XZB7GWR,B07XZB9LY4,B07XZB3VN3,B07XZ94N7D,B07XZBJ7B9,B07XZC26RR,B07XZ97DXT,B07XZBS8KW,B07MK1NLDC,B077GSTN6W,B077GT7SDC,B07XZCF2YW,B07XZBS39D,B07XZBPQMJ,B078BMTNWH,B0844YPZS5,B08PVZW8NK,B07YV4L3M9,B08PVVYJV6,B08PW2P337,B08933RN4Q,B08PW2TST1,B08PVYMZ8D,B0892Q235F,B08W1N7XPM,B089351C5G,B0893FQFKP,B0893FFT7T,B07MK1PCQV,B094XSFPZB,B094XS6X3F,B094QGQZLZ,B01M0YSMZN,B07XZBZL5G,B094QL9XFF,B094QH1RLD,B094QHVNT6,B094QFN4QJ,B094QDVKBR,B078M1FVJZ,B094QFW21T,B094QHN28L,B094QHZC3B,B094QF7HLV,B094QFDM39,B094QP7QQR,B01FM9AFSU,B071GY7BSG,B07GB1BK32,B07N63D9DP,B096VMQY8J,B071GTMXK4,B071KFLDM1,B07KSB29QW,B08HKFZZHN,B096VNHFDX,B07XWHZ1HR,B01LQ08IJ2,B01FS6ETGG,B07849MJ1K,B08F7DL3VZ,B072R61YP2,B07HHZBDN6,B077M9CHJ4,B0783NH53M,B07XZ99G7F,B07XZC2R8F,B07XZBVXBV,B07XZBZZL2,B07XZCMKMZ,B07PW7ND74,B077JJPPFP,B077JQJLMP,B094XR8FYS,B077NY7F46,B094XQKJB3,B077P3SWQQ,B091CP6BVX,B08934M5QK,B08933TXXJ,B091CLZ2JX,B089351VNP,B091CRXQNF,B091CJG4ST,B08933ZLJT,B07NWKYB65,B091CKVGYT,B094XQW6LS,B079L5618F,B06XYN9WPF,B07V4R4YQW,B07V4R3V37,B07843QHC7,B078YN6VB2,B08HHLGWGL,B019IZ92QA,B081F9XDKT,B07YNJNN67,B081DX8P19,B081DZ5PG9,B08JGSYWVX,B081DVY2SQ,B081DX1M93,B07YNJXV6N,B07Q3L1S5V,B097TDQ1JK,B097TDRCQQ,B094XSKBZW,B094XSGRW5,B094XQQ6XZ,B07DRC75QN,B081DY7LZG,B081D1GMNX,B0819PCCR9,B0817T7T7K,B081JYLGC5,B081JK2XBK,B081CZXP8F,B0817VVV8Z,B0817SHF7L,B081DT1YWW,B0817ZX7KX,B08183LMFS,B081JMYD3R,B081H6GK9V,B081H73M1D,B082WDY6SV,B07GDF9PVJ,B019J4N7C0,B07XZBRGTH,B094QHYZB2,B081F8DZ9X,B08KHBPWWV,B084H8H3BQ,B07XCBQS7V,B083Z63Z1Z,B09DGC4FHJ,B09DGBSKNM,B09DG9PKP4,B09FF44LTJ,B09FF648MX,B09FF566M7,B09DGB1YXM,B09GK52QKB,B09DGD8FPL,B09DGCV5JX,B09DGCBVSD,B09DGDC2G2,B09DGCTMXF,B09DGD8GZS,B09GK665ML,B09GK6JFSJ,B09GK8B4L8,B09GK53WNH,B09GKBFHFY,B09DGCKQKM,B09DGCWWPH,B09GK5M6FF,B09GK6X3VS,B09GK2YPYS,B09DGCHDQ9,B09DG9VX43,B09DGBX7YH,B09DGC1B7G,B09DGCHW4P,B09DGD5BHT,B09DGBVG52,B09DGCN169,B09DGDDLDY,B09DGB7648,B09DGC9YWD,B09FF6M8SL,B09GK4T9VF,B09DGCYWQ3,B09DGCHW4F,B09GK65S18,B09GK4VM18,B09GK8CY1Y,B09GK71GGD,B09GK5PXZS,B09DGBCRYJ,B09DGBW6VD,B09DGBLMQ8,B09DGCWJC2,B09DGCD9GB,B015VE02NO,B019B90NYI,B019B8O3V8,B09F8YQPMD,B09F94ZT75,B015VCFPQK,B00RQDWDKY,B014SVF0U6,B09DL5SVQX,B09DL4DYPQ,B09DL47F4F,B017XQ461M,B017XPLFLM,B017YZHFRE,B09HQV817W,B09HQTZC2C,B014T0ZADS,B014T1NV38,B01BP15NH2,B01CTRU272,B07H1H5JNW,B07H2F559B,B07H2GV4CC,B07H2YJX8P,B07H3W881H,B07H93R7TG,B07H92KTQH,B07H982F15,B07H96H6MT,B07H994XW4,B07HL5H3MY,B07HL97PZF,B07HF8YB25,B07HLYZ4PH,B07H338BW1,B07HFB16RJ,B08BJ4FY1B,B08BJ5L7GJ,B07VB47BD2,B07VGQPB5W,B07VHQBNDR,B08BHZ3KVZ,B09C24TBVN,B07YD7WDH8,B07VD6YNNJ,B07YD7H2MD,B07YD4C9QN,B07YD7Y4T3,B07VD8SBKN,B07YD7V39T,B07VD5K8N7,B07VB47M93,B07V9N3Y6D,B07YPSGD5V,B09C26XC7H,B09C247Y7D,B09C24BBYP,B09C246N8M,B07X5BTRS5,B09C254SVN,B09C26S6N5,B09C269F11,B09C25M7R7,B09C25DVBV,B09C25PMYD,B09C26FZCJ,B07V9N61HM,B07YD7JCFM,B07YD7QHZB,B08GYCDWLT,B07YD898V6,B09C268PFN,B09C248SYL,B09C25JQ7T,B09C24T3SR,B09C25NLRL,B09C24NDRX,B07YD7XTPH,B07VF7WM8T,B012RTFBCI,B012S4TYLQ,B012SUVOKE,B012SSHAS6,B01G72H5MK,B07GP7TT6N,B09DYS4JLV,B09HQWDT9S,B09DYSZ8NN,B07GPDR68Q,B07919V3SW,B07FD71P9L,B07FD5TT3T,B07FDGYLWP,B07GT9R489,B078GNPNMR,B078H1VYW8,B07XZ9QXT6,B0791H1KRG,B01M1M4PM7,B08F3BSL5F,B08F3FQL3M,B078KWTW5F,B078KSLCT6,B078YNHRL2,B08DXGQQ99,B078GQ8WKB,B07TBT8NNM,B07ZTDXNKJ,B07YV7P4PJ,B08GRCJX3Q,B08F2PMZKZ,B08F1ZNV5Q,B08F1VM4Z4,B08F1VZQH6,B08F392QM2,B08F39G2LM,B08F2MZZSH,B08F2LW549,B08F2GDCDV,B08F24VYB4,B08F9N6WY5,B07X8TSNBZ,B07X9YVZ1H,B09179Q967,B08JFWQYNH,B08F27Z9X1,B08G85P9HQ,B08G824NJS,B08G8BQTM6,B08G833K46,B08GSBGLPN,B07CXRP4W1,B0791GZ2TP,B0798MLLMX,B078YMLXJR,B07CTM7XSQ,B07H3734PN,B07CTN7RK4,B07CTR3NYC,B08F77XQ8S,B07CTLT7FY,B079HXBD7Z,B079HXN3HC,B079HXKBRT,B079HW69FH,B079HVSP5S,B079HXL4SY,B079HXJQ2C,B079HXQ11T,B094GBPQG1,B079HYPNYV,B094GDJ42B,B094GCC1J7,B07H4CW84Z,B07CTRKM6W,B07YQ2WZTV,B078HHJS9R,B078HCZLZJ,B07YNHN65G,B07YPNHW74,B094QHGN9Y,B08GXDFJK9,B0791GZRV2,B0791GBNS8,B0791GPRNV,B0791B2X8H,B0791GNK38,B07919ZP87,B0791BHBJX,B0791H72BT,B0791H24FB,B0791GP9R7,B08DXJZD5C,B082PPGNK6,B07CY6L5TY,B07S2JSZ3K,B07CXJLNMH,B077P5HDNR,B07GQW8MDN,B07GSZB7KG,B07GR7KBHR,B07H4KLNNX,B08XM47Q47,B08Y8N8V4P,B08XLZ139K,B08XMGH3CH,B079L65Q3R,B08XMLXVYT,B08XM39RV4,B08XMNDK8L,B079L5PW79,B07FMYM395,B07DGTL5T4,B07YNHST6C,B07YNJCLZJ,B0791GKSN9,B0791GBX9K,B0791B2KN8,B0791GN88P,B078YR5F2F,B078YPLYW8,B078YPG5HX,B0190FRVR0,B0190FRWQU,B0190FRXQY,B01M2C7UOO,B019A94F84,B0779PLGH9,B01KJFHEWM,B01M1970FX,B097TDQWZN,B09HQTSC1W,B072LP16MG,B0755G2GLK,B0755FX3DT,B07236K61V,B019AEHPZO,B071GT3W28,B072LQ1TKH,B072347GW3,B01MG7XMFJ,B01GDTU5BA,B0755B3D48,B07WYM2WCZ,B01GDUA1KO,B0755H9HTV,B01GDUUKBY,B07NMNHQLJ,B01MA4B55F,B01GDV1GBG,B01KHCX9BC,B071VW2HTS,B071VW2TFF,B07DR2SX6V,B01M3XM95M,B07X55XN3V,B08F536P74,B08F5DX7PG,B071GFTM3F,B01J9LABAO,B07K9X6QPB,B0190FRW0G,B019ABZS38,B07586CSSH,B078Q2PBNY,B01GV0VPHE,B01GV148BI,B09HQVJC7F,B06Y2C4NGM,B07X5W16TL,B08F52X4S3,B08F5C4F2D,B08F5F29MV,B01JVYGCU2,B089279CQ2,B01DUBVTA0,B06XXY9KXM,B06XXWV6K7,B06XWZM6JH,B06XXQPK5Q,B06XX478ZH,B06XXXW6RB,B08F5B9MVR,B08F58M7V9,B08F56918C,B07R3ZVRLC,B082Y3QYTV,B082Y444RN,B082Y3YDNK,B07XK7D7V5,B07XHHBS88,B082PZCFJ8,B07Z9F91ZB,B07Z9DV9M1,B07Z9FZSK6,B083DWMPP1,B081R9NP4B,B081RKCQRD,B081RC8T6M,B08D32LLQ5,B08D3BVYN4,B08W1SS1ZX,B08W21VXFY,B081848V6F,B07Y6HMJ5J,B08ZKNS48Z,B08ZKNFCY8,B08J48XXG4,B08FTCTQPL,B08J46H3Z8,B08GCCSH93,B08GBZB9Y9,B0949PSY1Y,B0868KBTWD,B0868L27NZ,B0949P5D69,B0949NYFM6,B094B3H3B6,B094BCWQYM,B08FXLGG6V,B07VGR92DB,B08FXKVLBS,B07WW5YC53,B08GCKPBFX,B07QR4WTGN,B0837K3MTC,B082WF7G4M,B07VFNMR37,B07WWWYNC5,B07WRRH95X,B07XHK98ZD,B07Z6D3B9N,B0862BCG4Y,B0862C3P6N,B0865ZRQQP,B0865RCTBZ,B0865RRMQL,B08GC4YX75,B08GCKRGVT,B07YNFVV16,B07VK57P6Z,B07TJRFH1F,B08WX96XBJ,B07PHKD63B,B07ST3RQQW,B08WWR7S8B,B07MBFJKDF,B08KDK17T4,B07PFH9SQ3,B07VN5TDWF,B07TMMLSDV,B08XJGMLPM,B09471VD31,B084JLNBRL,B081RWDLWK,B07L99Z325,B07TT4T9ST,B07MHLFKDC,B07ZDC424P,B0828NB1Z8,B08XJXW1Q6,B09471RYZS,B082PZLZ2Y,B0949PRLWN,B07Z83QQZQ,B09BQJMGM2,B083FSC36K,B07ZF9HXQ7,B07TKMD14F,B08FZJB84M,B09BQKZ98Y,B083FSYW2G,B09BQFG17K,B083GTWX2W,B08DLR55VR,B07TLMVBF1,B07ZFCRYJ2,B0828M5BGT,B09BQL3RZ9,B08FYPKCCN,B08FY8KGGH,B09BQL1QMR,B08G4FX834,B08FZJTGC7,B081RY1K8P,B08WWV518R,B08FZDVDLH,B081RYK42Y,B09BQL65XW,B09BQLBHZJ,B09BQL2YV6,B09BQGVXZG,B09BQJFNZS,B09BQL1VL1,B09BQJH5CK,B09BQGPZF4,B09BQLJF7S,B09BQL3R6F,B09BQL5Q7H,B09DK2F9TC,B081RZ9RTV,B07N8RVDJD,B07N628HHB,B08FZJVNN3,B08FZHZTB9,B08G4YM1VN,B08FZJBGG1,B08FZJVTTW,B0932RN4H7,B08G51RHKG,B0917KBVT9,B07N1DTTJW,B089LT659G,B08JV1B2LY,B07NMGVWBB,B07JMRWQ5F,B07N1H71HV,B09417NXFY,B09417K28D,B094187S5H,B08JV78CSM,B07JN7K3Z3,B07K6DLDNX,B07NC7TCKZ,B08L3CGRNY,B08XMGYHNF,B08L4SGD3B,B08XJXNKPD,B08XJQGHFH,B08XKM5NXD,B08XJT2VC2,B08XJN6ZW5,B08XJWHB3T,B08WX6J8FF,B08XK9QN22,B08XJV6RFF,B09DKJ4T2C,B09DKHXS1Y,B09445M724,B08XMKCRJN,B07QS74JCB,B09448FNZ5,B08XMFRDPY,B07NBZY4D5,B08XMDP1DN,B08XMJGGRP,B09446V91X,B09447H1L5,B0922BHH5Y,B0949GX1PT,B0949P6P3C,B094B5JR1V,B0949QQVLH,B0986S61WP,B09418N956,B094B7GGNL,B09416S68J,B0949RMD6Z,B0949R939R,B09BQH15FS,B09447K5Y6,B0949R5JXR,B094BBML9J,B09BQFMKYK,B0986TTSM3,B097ZJ3211,B09BQJF8BD,B0941945B2,B0949QRX6Z,B094474VZZ,B0949P4W5S,B097THDQGD,B097ZHR5M2,B097ZGFSZN,B097ZHRVCH,B094455P8F,B0949PVTRY,B097TJ5P7J,B09BQKY6LW,B09BQBP35L,B09BQL3HWH,B09BQH86JH,B09BQL9FTM,B09BQL4N6G,B09BQGQVJJ,B09BQLMPYV,B09BQL31BR,B09447TQST,B089661KFN,B08WX1HY26,B08WWH67Z6,B08WWNN2C2,B08XJS6B3S,B0842N4F31,B094W56654,B094W4VZW5,B08FZDP9WJ,B097ZHPJ9V,B094W4CWK9,B0919NB585,B09445F94V,B08G4NJ14H,B08FYBMWSX,B08FY9QWMP,B08FYBYSFR,B08FY9Q23L,B08FY9QWBJ,B08KDHFC8L,B08G4WZ2XZ,B0861B2WJ9,B086154VGK,B08QFV2QS2,B08QFVQBSD,B08QFDRG64,B09446V2S5,B084DHYWN8,B084DN6PYJ,B084DN19XP,B084DMNP1V,B084DMGKGX,B083QF5G3X,B083QGC8K7,B083QG4VZ2,B081Q5FLHN,B09446XYV5,B088LYNG5G,B0861Z1R7H,B09DKJ6C8T,B07RHZ4MD9,B07RM41NVT,B07VJG84XB,B07VM4HVSG,B07XM7CVSZ,B0855NYJ3B,B07R9MC7FW,B0855DBYLF,B0855LZ8ZF,B084HCVS9G,B07R8L1XMT,B0855NDT1P,B07R9MN791,B082PWZXNR,B084TK2GHG,B0842ML9Q9,B07R4F6CGN,B07XGHX9QJ,B07R832DQ2,B07WRZWB59,B0837T2DGM,B084394XTD,B084HBTKJC,B084HBTFF3,B084HCQMB4,B084HBXHBQ,B08XKDY3XZ,B08HKB1Z8M,B08XJRG3LS,B0859YRFCD,B0862CMSRM,B083TP54H8,B0863BQPK9,B0842HZT4R,B083FXBKDX,B083FY75KT,B085L6K22Q,B084HBDW1J,B07VJGB3BF,B08FZ46X99,B07WTBVR5C,B07P2KZ3YS,B07WV47XM9,B07Y6FBRGL,B0944855NT,B09446YT9S,B089D75R3M,B0897WGW57,B089CJWP61,B08R8JJVQB,B08626XVRC,B07QX695JH,B08PVZWHWZ,B09BQL1GNN,B094W6RNDP,B08KD4JFPH,B08FX9CTWW,B088LR1YFG,B086713QK8,B097D7SCWS,B0867JTDN4,B0866SRBBG,B086723V55,B08678RKXD,B081NN7YRG,B081NMLMBM,B085743HS3,B07Z6G83J1,B082Q13DV6,B0899YVQWY,B08G8RWBJS,B08DR2868S,B08GBRWM3G,B081N7SYHJ,B07WV8LX8Z,B07XFN7FZY,B08G8JV2QZ,B08WYPTJSS,B08L3S9L1C,B08G7SSLY5,B08G8JZPXH,B08G8D37BD,B08WY8G47R,B08GZBS35V,B08GZBKHJB,B08L3QV7LX,B08L3PS66F,B08136WGF6,B08137J45C,B08L3RMBCR,B08G87BDVP,B07RCJ1LYY,B08DV4P5ZM,B083195MSX,B08313KHKH,B09BQKR38Z,B08DXQKGDZ,B08DXP4BS6,B08313KSVM,B08KHH69ZQ,B09BQL76J6,B07WTWG2GC,B08KDSCLP5,B083138JNF,B08XJN6BPG,B08XKGQ3JY,B08315K9QL,B08315RQTW,B08G1LSY8J,B09BQL39YS,B08DXHFKJM,B09BQL67MQ,B08G1J6VGL,B083168CQZ,B09D3F5JSG,B081YKCGGR,B08315WG6B,B08G1MPJBB,B08G1QC9X2,B09BQJLSLZ,B08316NN8X,B08YYFDMNY,B07YFZDTDZ,B09BQCR8K5,B08G1P84C9,B09BQLJX6N,B07Z856SSJ,B08WYN7BS5,B081WS57ZW,B09BQLJ3HM,B08GCNXQ8V,B084JDV3P8,B081Q1HRLX,B09BQL442V,B085HW988S,B081X5BYLS,B08GCQPSX8,B085HX9S4Y,B081Q3JTJ6,B09BQGGQ4K,B08H8FBTZP,B09BQL8NZW,B09BQJ7HWG,B083FKYQLP,B083FKBVB2,B083FKTQN7,B083FKVZYM,B08ZKFMTZT,B08ZK789B6,B08ZKHTR9X,B08439XCMC,B085NZC1H2,B089B2B4LS,B08G8QNGXC,B08JPV49KS,B08G8QZNT2,B08L3CTVYX,B08YYFB9LR,B08PVVZP4Y,B08LH8P46R,B08LH7RQZX,B08LH6S2DK,B08M5JD6Q4,B08WYLRH6L,B09BQGVTZN,B08W1TWN7T,B08W26L7S9,B08W2FHLDV,B08W1ZH1JZ,B08WYWFMVQ,B08XJTJVH9,B08XJXF6XF,B09471Q2VC,B08WZ6N663,B08XK9RX3M,B08XJD4RF9,B097BGMFDW,B09BQLDJ8R,B094728GR8,B08XK43QZM,B09BQF8W5H,B0947267JN,B09BQFHM2V,B09BQJNXBT,B094719R8N,B08XJNNZQR,B08XK33ZWF,B09BQJKZRC,B09BQL5PQX,B09MTMSXRZ,B09MTMN676,B0949PPC7H,B09MTP8KXQ,B098QNLTPB,B07Z85K5TF,B08ZKGQFDW,B08ZKJZJ3P,B08ZKFBG94,B08ZKKGJPB,B096X9VQ5X,B08WYSTFQ1,B08GCFPSKY,B08CY3J5BM,B08GC1BQR8,B08GBZ2JCG,B08RWJLZS2,B08CZ4MCZB,B08CY3ZNYZ,B08CZBQBST,B08CZGZX2B,B08L3BGG3F,B08FZCT6S5,B08GBFYBNR,B08CZJJXQG,B08CZL4R9J,B08CY3CWD3,B08CY2L7ML,B08CY2XYZN,B086142R79,B08613C3GF,B07Z84B5TY,B08ZKG7Y7N,B08ZKKJTGK,B08ZKHXXWD,B0897T99BW,B097ZKMP75,B096VQ397F,B07V1FFJYQ,B08LS99R4L,B08LSPDC9R,B08663VG6Z,B08663NCQC,B08663SG17,B082YWYKZL,B07PLFCBKW,B07PHF9VFG,B07JNML88P,B07KK75QHT,B07K6DZML8,B08XMD1SQN,B07P8QZM1B,B09BQM622H,B09BQP46Z8,B09BQQGBCG,B0856WP78N,B07M788QXN,B07Q7FSYXQ,B07RL6ZGCX,B07RR7G49G,B09M8LCNCR,B09MHTH82V,B07P41L13J,B0821L6CGH,B0821KCLHX,B08C5K34WN,B08C55X3DB,B09BQL31KS,B09BQLC5GW'"
      ]
     },
     "execution_count": 45,
     "metadata": {},
     "output_type": "execute_result"
    }
   ],
   "source": [
    "','.join(ground_truth[ground_truth['Brand']=='Yellow Chimes']['ASIN'].tolist())"
   ]
  },
  {
   "cell_type": "code",
   "execution_count": 13,
   "id": "4d853c28",
   "metadata": {},
   "outputs": [],
   "source": [
    "scraped_df = pd.DataFrame()\n",
    "for i in os.listdir('DataStore/compare_datasets'):\n",
    "    if 'GroundTruth' not in i:\n",
    "        bdf = pd.read_csv('DataStore/compare_datasets/'+i)\n",
    "        bdf['ScrapedFor'] = np.array([i.split('.')[0].split('_')[1].title() if i!='data_yc.csv' else 'Yellow Chimes']*bdf.shape[0])\n",
    "        scraped_df = pd.concat([scraped_df,bdf])"
   ]
  },
  {
   "cell_type": "code",
   "execution_count": 18,
   "id": "116efa1f",
   "metadata": {},
   "outputs": [],
   "source": [
    "req_cols = ['ScrapedFor','brand','ASIN','title','description','bullets']"
   ]
  },
  {
   "attachments": {},
   "cell_type": "markdown",
   "id": "5dd0347a",
   "metadata": {},
   "source": [
    "# Overall Comparison"
   ]
  },
  {
   "cell_type": "code",
   "execution_count": 15,
   "id": "114015aa",
   "metadata": {},
   "outputs": [],
   "source": [
    "scraped_df = scraped_df[req_cols].copy()"
   ]
  },
  {
   "cell_type": "code",
   "execution_count": 16,
   "id": "0c7f0f98",
   "metadata": {},
   "outputs": [
    {
     "name": "stderr",
     "output_type": "stream",
     "text": [
      "C:\\Users\\prati\\AppData\\Local\\Temp\\ipykernel_19332\\3142955393.py:1: FutureWarning: The default value of regex will change from True to False in a future version.\n",
      "  scraped_df['bullets3'] = scraped_df['bullets'].str.replace('.  , ','\\n')\n"
     ]
    }
   ],
   "source": [
    "scraped_df['bullets3'] = scraped_df['bullets'].str.replace('.  , ','\\n')\n",
    "scraped_df['bullets3'] = scraped_df['bullets3'].str.strip()"
   ]
  },
  {
   "cell_type": "code",
   "execution_count": 17,
   "id": "6da0e2b9",
   "metadata": {},
   "outputs": [
    {
     "data": {
      "text/plain": [
       "Index(['Sr. No.', 'Brand', 'Category', 'Product Name', 'ASIN', 'Product URL',\n",
       "       'Sales Frequency', 'Title', 'Description', 'Bulletpoints(3)', 'Grade',\n",
       "       'Spell check', 'Dimensions details', 'Sentence case', 'A+ content',\n",
       "       'Grade2', 'Main image', 'Additional images', 'Infographics',\n",
       "       'Lifestyles', 'Video', 'A+ Content3', 'Info/lifestyle Total',\n",
       "       'Total Images', 'Info present', 'Lifestyle present',\n",
       "       'Video present or not', 'A+ content4', 'Image quality',\n",
       "       'Product information', 'Remark', 'Score', 'Grade5', 'Final Grade',\n",
       "       'Amazon USA', 'Amazon UK', 'Amazon CA', 'Amazon MX', 'Amazon Germany',\n",
       "       'Amazon France', 'Amazon Italy', 'Amazon Spain', 'Amazon Netherlands',\n",
       "       'Amazon Belgium', 'Amazon Sweden ', 'Amazon Poland', 'Amazon Australia',\n",
       "       'Amazon Japan', 'Amazon Singapore', 'Amazon UAE'],\n",
       "      dtype='object')"
      ]
     },
     "execution_count": 17,
     "metadata": {},
     "output_type": "execute_result"
    }
   ],
   "source": [
    "ground_truth.columns"
   ]
  },
  {
   "cell_type": "code",
   "execution_count": 18,
   "id": "ff4c2b5c",
   "metadata": {},
   "outputs": [],
   "source": [
    "ground_truth = ground_truth[['Brand','ASIN','Title','Description', 'Bulletpoints(3)','Grade','Spell check', 'Dimensions details', 'Sentence case', 'A+ content','Grade2']].copy()"
   ]
  },
  {
   "cell_type": "code",
   "execution_count": 19,
   "id": "887eddd2",
   "metadata": {},
   "outputs": [],
   "source": [
    "compare_df = scraped_df.merge(ground_truth,how = 'inner',on=['ASIN'])\n",
    "compare_df.fillna('NA',inplace=True)"
   ]
  },
  {
   "cell_type": "code",
   "execution_count": 70,
   "id": "b889c768",
   "metadata": {},
   "outputs": [
    {
     "data": {
      "text/plain": [
       "Yellow Chimes    151\n",
       "AADAR             38\n",
       "Strauss           21\n",
       "mCaffeine         16\n",
       "Mush               5\n",
       "Name: Brand, dtype: int64"
      ]
     },
     "execution_count": 70,
     "metadata": {},
     "output_type": "execute_result"
    }
   ],
   "source": [
    "compare_df['Brand'].value_counts()"
   ]
  },
  {
   "cell_type": "code",
   "execution_count": 76,
   "id": "9490a9ef",
   "metadata": {},
   "outputs": [
    {
     "data": {
      "text/plain": [
       "ScrapedFor     brand                     \n",
       "Yellow Chimes   Yellow Chimes                150\n",
       "Aadar          NA                             38\n",
       "Strauss        NA                             21\n",
       "Mcaffeine      NA                             16\n",
       "Mush           NA                              5\n",
       "Yellow Chimes   Melbees by Yellow Chimes       1\n",
       "dtype: int64"
      ]
     },
     "execution_count": 76,
     "metadata": {},
     "output_type": "execute_result"
    }
   ],
   "source": [
    "compare_df[['ScrapedFor','brand']].value_counts()"
   ]
  },
  {
   "attachments": {},
   "cell_type": "markdown",
   "id": "952b0999",
   "metadata": {},
   "source": [
    "# Excel Checks"
   ]
  },
  {
   "cell_type": "code",
   "execution_count": 25,
   "id": "5c5fc26b",
   "metadata": {},
   "outputs": [],
   "source": [
    "parser = GingerIt()\n",
    "\n",
    "###########################################################################################################\n",
    "# Helper Functions\n",
    "###########################################################################################################\n",
    "## Sentence Case\n",
    "def sentence_case(brand_name,title,brand_present_title):\n",
    "    first_word = title.strip().split(' ')[0]\n",
    "#     print(brand_name,first_word,brand_present_title)\n",
    "    if brand_present_title==1:\n",
    "        if brand_name.strip()[0]==first_word[0]:\n",
    "            res = 1\n",
    "        else:\n",
    "            res = 0\n",
    "    else:\n",
    "        if first_word[0].isupper():\n",
    "            res = 1\n",
    "        else:\n",
    "            res = 0\n",
    "#     print(res)\n",
    "    return res\n",
    "\n",
    "###########################################################################################################\n",
    "\n",
    "def spellcheck(txt):\n",
    "    with language_tool_python.LanguageToolPublicAPI('en-US') as model:\n",
    "        res = model.check(txt)\n",
    "        logger.info(res)\n",
    "        if len(res)>0:\n",
    "            flg = 0\n",
    "        else:\n",
    "            flg = 1\n",
    "        return [flg,res]\n",
    "\n",
    "# def runGinger(txt,my_tool):\n",
    "#     logger.info(txt)\n",
    "#     sentences = txt.split('\\n')\n",
    "#     logger.info('sentences are : {}'.format('sentences'))\n",
    "#     flg = 1\n",
    "#     corrections = []\n",
    "#     for sentence in sentences:\n",
    "#         if len(sentence)>280:\n",
    "#             words = sentence.split(' ')\n",
    "#             for i in range(len(words)-50):\n",
    "#                 sen = ' '.join(words[i:i+50])\n",
    "#                 parse_res = my_tool.parse(sen)\n",
    "#                 if len(parse_res['corrections'])>0:\n",
    "#                     # for corr in parse_res['corrections']:\n",
    "#                     # if corr['definition']!='Accept p'\n",
    "#                     flg = 0\n",
    "#                 corrections.append(parse_res['corrections'])\n",
    "#         else:\n",
    "#             parse_res = my_tool.parse(sentence)\n",
    "#             if len(parse_res['corrections'])>0:\n",
    "#                 flg = 0\n",
    "#             corrections.append(parse_res['corrections'])\n",
    "#     return [flg,corrections]\n",
    "\n",
    "def runGinger(txt,my_tool):\n",
    "    # logger.info(txt)\n",
    "    sentences = [x.strip().lstrip(', ') for x in txt.strip().split('\\n')]\n",
    "    # logger.info('sentences are : {}'.format(sentences))\n",
    "    flg = 1\n",
    "    corrections = []\n",
    "    for sentence in sentences:\n",
    "        if len(sentence)>600:\n",
    "            order = \"[+-]?\\d+\\.\\d+\"\n",
    "            first_str = re.sub(order, '', sentence)\n",
    "            lines = re.split( r'[?.!]',first_str)\n",
    "            for i in lines:\n",
    "                parse_res = my_tool.parse(i)\n",
    "                if len(parse_res['corrections'])>0:\n",
    "                    # for corr in parse_res['corrections']:\n",
    "                    # if corr['definition']!='Accept p'\n",
    "                    flg = 0\n",
    "                corrections.append(parse_res['corrections'])\n",
    "        else:\n",
    "            parse_res = my_tool.parse(sentence)\n",
    "            if len(parse_res['corrections'])>0:\n",
    "                flg = 0\n",
    "            corrections.append(parse_res['corrections'])\n",
    "    return [flg,corrections]\n",
    "###########################################################################################################\n",
    "## Special Character Check\n",
    "def special_char_check(x):\n",
    "    if len(set(special_char['chars'])) - len(set(special_char['chars'].tolist())-set(x))>0:\n",
    "        return 0\n",
    "    else:\n",
    "        return 1\n",
    "\n",
    "###########################################################################################################\n",
    "## Get complete Title Flag\n",
    "def get_Title_flag(data):\n",
    "    ## Brand Name Present\n",
    "    bn_check = lambda x,y:1 if y.strip().lower().find(x.strip().lower())>=0 else 0\n",
    "\n",
    "    # t1 = st.empty()\n",
    "    # t1.caption('Brand Check: ')\n",
    "    data['title_brand_present'] = data[['brand','title']].progress_apply(lambda x:bn_check(x.brand,x.title),axis = 1)\n",
    "\n",
    "    ## Sentence Case\n",
    "    # t2 = st.empty()\n",
    "    # t2.caption('Sentence Case Check: ')\n",
    "    data['title_sentence_case'] = data[['brand','title',\"title_brand_present\"]].progress_apply(lambda x:sentence_case(x.brand,x.title,x.title_brand_present),axis = 1)\n",
    "\n",
    "    ## Spell Check\n",
    "    # t3 = st.empty()\n",
    "    # t3.caption('Spell and Grammar Check: ')\n",
    "    # data['title_spellcheck_res'] = data['title'].progress_progress_apply(lambda x:spellcheck(x,gf))\n",
    "    data[['title_spellcheck','title_Corrected_text']] =  pd.DataFrame(data['title'].progress_apply(lambda x: runGinger(x,parser)).tolist())\n",
    "    data['final_title_check_flag'] = data[['title_brand_present','title_sentence_case','title_spellcheck']].product(axis = 1)\n",
    "    return data['final_title_check_flag']\n",
    "\n",
    "###########################################################################################################\n",
    "## Get complete Description Flag\n",
    "def get_Description_flag(data):\n",
    "    ## Special Character Check\n",
    "    # d1 = st.empty()\n",
    "    # d1.caption('Special Character Check: ')\n",
    "    data['description_special_chr_check'] = data['description'].progress_apply(lambda x:special_char_check(x))\n",
    "    ## Characters Constrained\n",
    "    # d2 = st.empty()\n",
    "    # d2.caption('Number of characters <2000 Check: ')\n",
    "    data['description_char_constrained_2000'] = data['description'].progress_apply(lambda x:1 if len(x.strip())<=2000 else 0)\n",
    "    ## Multiline Check\n",
    "    def multiline_check(first_str):\n",
    "        order = \"[+-]?\\d+\\.\\d+\"\n",
    "        first_str = re.sub(order, '', first_str)\n",
    "        lines = re.split( r'[?.!]',first_str)\n",
    "        if len(lines)>1:\n",
    "            return 1\n",
    "        else:\n",
    "            return 0\n",
    "    \n",
    "    # d3 = st.empty()\n",
    "    # d3.caption('Mutiline Check: ')\n",
    "    data['description_multiline_check'] = data['description'].progress_apply(lambda x:multiline_check(x))\n",
    "    ## Spell Check \n",
    "    # data['description_spellcheck'] = data['description'].progress_progress_apply(lambda x:spellcheck(x,gf))\n",
    "    # d4 = st.empty()\n",
    "    # d4.caption('Spell Grammar Check: ')\n",
    "    data[['description_spellcheck','description_Corrected_text']] =  pd.DataFrame(data['description'].progress_apply(lambda x: runGinger(x,parser)).tolist())\n",
    "    ## Final Description check Flag\n",
    "    data['final_description_check_flag'] = data[['description_special_chr_check','description_char_constrained_2000','description_multiline_check','description_spellcheck']].product(axis = 1)\n",
    "\n",
    "    return data['final_description_check_flag']\n",
    "\n",
    "###########################################################################################################\n",
    "\n",
    "## Get complete BulletPoints Flag\n",
    "def get_BulletPoints_flag(data):\n",
    "    ## Special Character check\n",
    "    # b1 = st.empty()\n",
    "    # b1.caption('Special Character Check: ')\n",
    "    data['bullets_special_chr_check'] = data['bullets'].progress_apply(lambda x:special_char_check(x))\n",
    "    ## Number of bullet points check (atleast 3 points)\n",
    "    # b2 = st.empty()\n",
    "    # b2.caption('Atleast 3 bullet Points Check: ')\n",
    "    data['bullets_number_check'] = data['bullets'].progress_apply(lambda x:1 if x.count('\\n')>=2 else 0)\n",
    "    ## Bullet Points start with capital letter check\n",
    "    # b3 = st.empty()\n",
    "    # b3.caption('Bullet Points start with capital letter Check: ')\n",
    "    data['bullets_first_capital_check'] = data['bullets'].progress_apply(lambda x: int(''.join([s.strip().lstrip(', ')[0] for s in x.strip().split('\\n')]).isupper()) )\n",
    "    ## Spell Check\n",
    "    # data['bullets_spellcheck'] = data['bullets'].progress_progress_apply(lambda x:spellcheck(x,gf))\n",
    "    # b4 = st.empty()\n",
    "    # b4.caption('Spell Grammar Check Check: ')\n",
    "    data[['bullets_spellcheck','bullets_Corrected_text']] =  pd.DataFrame(data['bullets'].progress_apply(lambda x: runGinger(x,parser)).tolist())\n",
    "    ## Final Bullet Points check Flag\n",
    "    data['final_bullet_point_check_flag'] = data[['bullets_special_chr_check','bullets_number_check','bullets_first_capital_check','bullets_spellcheck']].product(axis = 1)\n",
    "\n",
    "    return data['final_bullet_point_check_flag']\n",
    "\n",
    "###########################################################################################################\n",
    "## Get complete Spell Check Flag\n",
    "def get_sum(lst):\n",
    "    return sum(lst)\n",
    "\n",
    "def get_SpellCheck_flag(data):\n",
    "    # s1 = st.empty()\n",
    "    # s1.caption('Overall Spell-Check: ')\n",
    "    data['final_entire_spellcheck'] = data[['title_spellcheck','description_spellcheck','bullets_spellcheck']].progress_apply(lambda x:1 if get_sum([x.title_spellcheck,x.description_spellcheck,x.bullets_spellcheck])==3 else 0,axis = 1)\n",
    "    return data['final_entire_spellcheck']\n",
    "\n",
    "###########################################################################################################\n",
    "## Get complete Dimension Check Flag\n",
    "def qc_dim(unit,values):\n",
    "#     metric = {'meter':['m','meter'],\n",
    "#     'centimeter':['cm','cms','centimeter'],\n",
    "#     'millimeter':['mm','millimeter'],\n",
    "#     'inches':['inch','inches']\n",
    "#     'litre':['l','lit','litre'],\n",
    "#     'gram':['g','gm','gram'],\n",
    "#     'kilogram':['kg','kgms','kilogram']}\n",
    "#     metric = ['meter','centimeter','millimeter','kilometer','inches','foot']\n",
    "    metric2 = ['m','cms','mm','km','inches','ft']\n",
    "    metric_change = [1,0.01,0.001,1000,0.0254,0.0348]\n",
    "    metric_unit= []\n",
    "    logger.info('unit for qc {}\\nvalue for qc {}'.format(unit,values))\n",
    "    for u in unit:\n",
    "        umetric_ratio = []\n",
    "        for m in metric2:\n",
    "            umetric_ratio.append(fuzz.ratio(u,m))\n",
    "        metric_unit.append(metric2[np.array(umetric_ratio).argmax()])\n",
    "    logger.info('metric_unit {}'.format(metric_unit))\n",
    "    updated_values = [float(v)*metric_change[metric2.index(i)] for i,v in zip(metric_unit,values)]\n",
    "    logger.info('updated values {}'.format(updated_values))\n",
    "    if len(set(metric_unit))>1:\n",
    "        qc_res = [0,updated_values]\n",
    "    else:\n",
    "        qc_res = [1,updated_values]\n",
    "    \n",
    "    return qc_res\n",
    "\n",
    "def format_dim(dim):\n",
    "    logger.info('initial dim {}'.format(dim))\n",
    "    dim = dim.replace(' ','').lower()\n",
    "    dim = dim.replace('x',' ')\n",
    "    units = []\n",
    "    for unit in re.finditer(\"[a-z]+\",dim):\n",
    "        units.append(unit.group())\n",
    "    values = []\n",
    "    for val in re.finditer(\"[0-9]+\",dim):\n",
    "        values.append(val.group())\n",
    "    logger.info('unit is {} and values are {}'.format(units,values))\n",
    "    return [units,values]\n",
    "\n",
    "def check_values(value_list):\n",
    "    logger.info('value_list for check values {}'.format(value_list))\n",
    "    max_len = [len(l) for l in value_list]\n",
    "    if len(set(max_len))>1:\n",
    "        logger.info('The dimensions length do not match!!')\n",
    "        return 0\n",
    "    value_list = [sorted(l) for l in value_list]\n",
    "    logger.info('after sort {}'.format(value_list))\n",
    "    same_val_list = np.array(value_list).T.tolist()\n",
    "    logger.info('transform for each dim {}'.format(same_val_list))\n",
    "    res = 1\n",
    "    for v in same_val_list:\n",
    "        ratio_list = [v[i]/v[0] for i in range(len(v))]\n",
    "        logger.info('ratio list for list {} {}'.format(v,ratio_list))\n",
    "        res*=np.prod([1 if (i<=1.05 and i>=0.95) else 0 for i in ratio_list])\n",
    "    logger.info('res {}'.format(res))\n",
    "    return res\n",
    "\n",
    "def get_dimensions(text):\n",
    "    iters = re.finditer(\"(((\\d+ ?[a-zA-Z]+ ?)[x,X] ?(\\d+ ?[a-zA-Z]+ ?)[x,X] ?(\\d+ ?[a-zA-Z]+ ?))|((\\d+ ?[a-z]+ ?)[x,X] ?(\\d+ ?[a-zA-Z]+ ?)))|(((\\d+ ?)[x,X] ?(\\d+ ?)[x,X] ?(\\d+ ?[a-zA-Z]+))|((\\d+ ?)[x,X] ?(\\d+ ?[a-zA-Z]+)))\",text)\n",
    "    matched_strings = []\n",
    "    for i in iters:\n",
    "        matched_strings.append(i.group())\n",
    "    logger.info('matched_strings {} and length is {}'.format(matched_strings,len(matched_strings)==0))\n",
    "    if len(matched_strings)==0:\n",
    "        return 0\n",
    "    same_unit_in_dim = 1\n",
    "    multi_units_value = []\n",
    "    for dim in matched_strings:\n",
    "        units, values = format_dim(dim)\n",
    "        if len(units)==1:\n",
    "            units = units*len(values)\n",
    "        qc_res = qc_dim(units,values)\n",
    "        same_unit_in_dim*=qc_res[0]\n",
    "        multi_units_value.append(qc_res[1])\n",
    "    # dimres = [1,same_unit_in_dim,check_values(multi_units_value)]\n",
    "    return check_values(multi_units_value)\n",
    "            \n",
    "def get_Dimensions_flag(data):\n",
    "    # dim1 = st.empty()\n",
    "    # dim1.caption('Dimensions Check: ')\n",
    "    data['complete_data'] = data['title']+data['description']+data['bullets']#+\n",
    "    data['final_dimensionality_check'] = data['complete_data'].progress_apply(lambda x: get_dimensions(x))\n",
    "    # logger.info(data['dimension_check_res'])\n",
    "    # data[['final_dimensionality_check','same_unit_in_dim','dimensionality_inter_check']] = data['dimension_check_res'].str.split('__%__')\n",
    "    # data.drop('dimension_check_res',axis = 1,inplace = True)\n",
    "    return data['final_dimensionality_check']\n",
    "\n",
    "###########################################################################################################\n",
    "## Get complete Spell Check Flag\n",
    "def get_SentenceCase_flag(data):\n",
    "    data['final_sentence_case_check'] = data['title_sentence_case']\n",
    "    return data['final_sentence_case_check']\n",
    "\n",
    "##############################################################################################################\n",
    "## Get all the flags\n",
    "def QC_check1(data):\n",
    "    # text1 = st.empty()\n",
    "    logger.info('Title Check Started')\n",
    "    # text1.write('Title Check Started')\n",
    "    data['final_title_check_flag'] = get_Title_flag(data)\n",
    "    logger.info('Title Check Completed!!!')\n",
    "    # text1.write('Title Check Completed!!!')\n",
    "\n",
    "    # text2 = st.empty()\n",
    "    logger.info('Description Check Started')\n",
    "    # text2.write('Description Check Started')\n",
    "    data['final_description_check_flag'] = get_Description_flag(data)\n",
    "    logger.info('Description Check Completed!!!')\n",
    "    # text2.write('Description Check Completed!!!')\n",
    "\n",
    "    # text3 = st.empty()\n",
    "    logger.info('Bullet Points Check Started')\n",
    "    # text3.write('Bullet Points Check Started')\n",
    "    data['final_bullet_point_check_flag'] = get_BulletPoints_flag(data)\n",
    "    logger.info('Bullet Points Check Completed!!!')\n",
    "    # text3.write('Bullet Points Check Completed!!!')\n",
    "\n",
    "    data['Grade1'] = data[['final_title_check_flag','final_description_check_flag','final_bullet_point_check_flag']].sum(axis = 1)\n",
    "    data['Grade1'] = data['Grade1'].apply(lambda x: 'A' if x==3 else('B' if x>0 else 'C'))\n",
    "\n",
    "    # text4 = st.empty()\n",
    "    logger.info('Entile Spell Check Started')\n",
    "    # text4.write('Entile Spell Check Started')\n",
    "    data['final_entire_spellcheck'] = get_SpellCheck_flag(data.copy())\n",
    "    logger.info('Entile Spell Check Completed!!!')\n",
    "    # text4.write('Entile Spell Check Completed!!!')\n",
    "\n",
    "    # text5 = st.empty()\n",
    "    logger.info('Dimensionality Check Started')\n",
    "    # text5.write('Dimensionality Check Started')\n",
    "    # data[['final_dimensionality_check','same_unit_in_dim','dimensionality_inter_check']] = get_Dimensions_flag(data.copy())\n",
    "    data['final_dimensionality_check']= get_Dimensions_flag(data.copy())\n",
    "    logger.info('Dimensionality Check Completed!!!')\n",
    "    # text5.write('Dimensionality Check Completed!!!')\n",
    "\n",
    "    # text6 = st.empty()\n",
    "    logger.info('Sentence Case Check Started')\n",
    "    # text6.write('Sentence Case Check Started')\n",
    "    data['final_sentence_case_check'] = get_SentenceCase_flag(data.copy())\n",
    "    logger.info('Sentence Case Check Completed!!!')\n",
    "    # text6.write('Sentence Case Check Completed!!!')\n",
    "\n",
    "    data['Grade2'] = data[['final_entire_spellcheck','final_dimensionality_check','final_sentence_case_check']].sum(axis = 1)\n",
    "    data['Grade2'] = data['Grade2'].apply(lambda x: 'A' if x==3 else('B' if x==2 else 'C'))\n",
    "\n",
    "    return data"
   ]
  },
  {
   "cell_type": "code",
   "execution_count": 21,
   "id": "e679e8d1",
   "metadata": {},
   "outputs": [
    {
     "name": "stderr",
     "output_type": "stream",
     "text": [
      "2023-02-17 15:52:25.771 | INFO     | __main__:QC_check1:284 - Title Check Started\n",
      "100%|██████████| 1025/1025 [00:00<00:00, 44402.73it/s]\n",
      "100%|██████████| 1025/1025 [00:00<00:00, 33991.92it/s]\n",
      "  0%|          | 3/1025 [00:03<20:03,  1.18s/it]\n"
     ]
    },
    {
     "ename": "KeyboardInterrupt",
     "evalue": "",
     "output_type": "error",
     "traceback": [
      "\u001b[1;31m---------------------------------------------------------------------------\u001b[0m",
      "\u001b[1;31mKeyboardInterrupt\u001b[0m                         Traceback (most recent call last)",
      "\u001b[1;32m~\\AppData\\Local\\Temp\\ipykernel_19332\\1100990924.py\u001b[0m in \u001b[0;36m<module>\u001b[1;34m\u001b[0m\n\u001b[0;32m      1\u001b[0m \u001b[0mscraped_df\u001b[0m\u001b[1;33m.\u001b[0m\u001b[0mfillna\u001b[0m\u001b[1;33m(\u001b[0m\u001b[1;34m'NA'\u001b[0m\u001b[1;33m,\u001b[0m\u001b[0minplace\u001b[0m\u001b[1;33m=\u001b[0m\u001b[1;32mTrue\u001b[0m\u001b[1;33m)\u001b[0m\u001b[1;33m\u001b[0m\u001b[1;33m\u001b[0m\u001b[0m\n\u001b[1;32m----> 2\u001b[1;33m \u001b[0mres_df\u001b[0m \u001b[1;33m=\u001b[0m \u001b[0mQC_check1\u001b[0m\u001b[1;33m(\u001b[0m\u001b[0mscraped_df\u001b[0m\u001b[1;33m)\u001b[0m\u001b[1;33m\u001b[0m\u001b[1;33m\u001b[0m\u001b[0m\n\u001b[0m",
      "\u001b[1;32m~\\AppData\\Local\\Temp\\ipykernel_19332\\1321123073.py\u001b[0m in \u001b[0;36mQC_check1\u001b[1;34m(data)\u001b[0m\n\u001b[0;32m    284\u001b[0m     \u001b[0mlogger\u001b[0m\u001b[1;33m.\u001b[0m\u001b[0minfo\u001b[0m\u001b[1;33m(\u001b[0m\u001b[1;34m'Title Check Started'\u001b[0m\u001b[1;33m)\u001b[0m\u001b[1;33m\u001b[0m\u001b[1;33m\u001b[0m\u001b[0m\n\u001b[0;32m    285\u001b[0m     \u001b[1;31m# text1.write('Title Check Started')\u001b[0m\u001b[1;33m\u001b[0m\u001b[1;33m\u001b[0m\u001b[0m\n\u001b[1;32m--> 286\u001b[1;33m     \u001b[0mdata\u001b[0m\u001b[1;33m[\u001b[0m\u001b[1;34m'final_title_check_flag'\u001b[0m\u001b[1;33m]\u001b[0m \u001b[1;33m=\u001b[0m \u001b[0mget_Title_flag\u001b[0m\u001b[1;33m(\u001b[0m\u001b[0mdata\u001b[0m\u001b[1;33m)\u001b[0m\u001b[1;33m\u001b[0m\u001b[1;33m\u001b[0m\u001b[0m\n\u001b[0m\u001b[0;32m    287\u001b[0m     \u001b[0mlogger\u001b[0m\u001b[1;33m.\u001b[0m\u001b[0minfo\u001b[0m\u001b[1;33m(\u001b[0m\u001b[1;34m'Title Check Completed!!!'\u001b[0m\u001b[1;33m)\u001b[0m\u001b[1;33m\u001b[0m\u001b[1;33m\u001b[0m\u001b[0m\n\u001b[0;32m    288\u001b[0m     \u001b[1;31m# text1.write('Title Check Completed!!!')\u001b[0m\u001b[1;33m\u001b[0m\u001b[1;33m\u001b[0m\u001b[0m\n",
      "\u001b[1;32m~\\AppData\\Local\\Temp\\ipykernel_19332\\1321123073.py\u001b[0m in \u001b[0;36mget_Title_flag\u001b[1;34m(data)\u001b[0m\n\u001b[0;32m    106\u001b[0m     \u001b[1;31m# t3.caption('Spell and Grammar Check: ')\u001b[0m\u001b[1;33m\u001b[0m\u001b[1;33m\u001b[0m\u001b[0m\n\u001b[0;32m    107\u001b[0m     \u001b[1;31m# data['title_spellcheck_res'] = data['title'].progress_progress_apply(lambda x:spellcheck(x,gf))\u001b[0m\u001b[1;33m\u001b[0m\u001b[1;33m\u001b[0m\u001b[0m\n\u001b[1;32m--> 108\u001b[1;33m     \u001b[0mdata\u001b[0m\u001b[1;33m[\u001b[0m\u001b[1;33m[\u001b[0m\u001b[1;34m'title_spellcheck'\u001b[0m\u001b[1;33m,\u001b[0m\u001b[1;34m'title_Corrected_text'\u001b[0m\u001b[1;33m]\u001b[0m\u001b[1;33m]\u001b[0m \u001b[1;33m=\u001b[0m  \u001b[0mpd\u001b[0m\u001b[1;33m.\u001b[0m\u001b[0mDataFrame\u001b[0m\u001b[1;33m(\u001b[0m\u001b[0mdata\u001b[0m\u001b[1;33m[\u001b[0m\u001b[1;34m'title'\u001b[0m\u001b[1;33m]\u001b[0m\u001b[1;33m.\u001b[0m\u001b[0mprogress_apply\u001b[0m\u001b[1;33m(\u001b[0m\u001b[1;32mlambda\u001b[0m \u001b[0mx\u001b[0m\u001b[1;33m:\u001b[0m \u001b[0mrunGinger\u001b[0m\u001b[1;33m(\u001b[0m\u001b[0mx\u001b[0m\u001b[1;33m,\u001b[0m\u001b[0mparser\u001b[0m\u001b[1;33m)\u001b[0m\u001b[1;33m)\u001b[0m\u001b[1;33m.\u001b[0m\u001b[0mtolist\u001b[0m\u001b[1;33m(\u001b[0m\u001b[1;33m)\u001b[0m\u001b[1;33m)\u001b[0m\u001b[1;33m\u001b[0m\u001b[1;33m\u001b[0m\u001b[0m\n\u001b[0m\u001b[0;32m    109\u001b[0m     \u001b[0mdata\u001b[0m\u001b[1;33m[\u001b[0m\u001b[1;34m'final_title_check_flag'\u001b[0m\u001b[1;33m]\u001b[0m \u001b[1;33m=\u001b[0m \u001b[0mdata\u001b[0m\u001b[1;33m[\u001b[0m\u001b[1;33m[\u001b[0m\u001b[1;34m'title_brand_present'\u001b[0m\u001b[1;33m,\u001b[0m\u001b[1;34m'title_sentence_case'\u001b[0m\u001b[1;33m,\u001b[0m\u001b[1;34m'title_spellcheck'\u001b[0m\u001b[1;33m]\u001b[0m\u001b[1;33m]\u001b[0m\u001b[1;33m.\u001b[0m\u001b[0mproduct\u001b[0m\u001b[1;33m(\u001b[0m\u001b[0maxis\u001b[0m \u001b[1;33m=\u001b[0m \u001b[1;36m1\u001b[0m\u001b[1;33m)\u001b[0m\u001b[1;33m\u001b[0m\u001b[1;33m\u001b[0m\u001b[0m\n\u001b[0;32m    110\u001b[0m     \u001b[1;32mreturn\u001b[0m \u001b[0mdata\u001b[0m\u001b[1;33m[\u001b[0m\u001b[1;34m'final_title_check_flag'\u001b[0m\u001b[1;33m]\u001b[0m\u001b[1;33m\u001b[0m\u001b[1;33m\u001b[0m\u001b[0m\n",
      "\u001b[1;32mc:\\Users\\prati\\anaconda3\\envs\\excelcheckapp\\lib\\site-packages\\tqdm\\std.py\u001b[0m in \u001b[0;36minner\u001b[1;34m(df, func, *args, **kwargs)\u001b[0m\n\u001b[0;32m    812\u001b[0m                 \u001b[1;31m# on the df using our wrapper (which provides bar updating)\u001b[0m\u001b[1;33m\u001b[0m\u001b[1;33m\u001b[0m\u001b[0m\n\u001b[0;32m    813\u001b[0m                 \u001b[1;32mtry\u001b[0m\u001b[1;33m:\u001b[0m\u001b[1;33m\u001b[0m\u001b[1;33m\u001b[0m\u001b[0m\n\u001b[1;32m--> 814\u001b[1;33m                     \u001b[1;32mreturn\u001b[0m \u001b[0mgetattr\u001b[0m\u001b[1;33m(\u001b[0m\u001b[0mdf\u001b[0m\u001b[1;33m,\u001b[0m \u001b[0mdf_function\u001b[0m\u001b[1;33m)\u001b[0m\u001b[1;33m(\u001b[0m\u001b[0mwrapper\u001b[0m\u001b[1;33m,\u001b[0m \u001b[1;33m**\u001b[0m\u001b[0mkwargs\u001b[0m\u001b[1;33m)\u001b[0m\u001b[1;33m\u001b[0m\u001b[1;33m\u001b[0m\u001b[0m\n\u001b[0m\u001b[0;32m    815\u001b[0m                 \u001b[1;32mfinally\u001b[0m\u001b[1;33m:\u001b[0m\u001b[1;33m\u001b[0m\u001b[1;33m\u001b[0m\u001b[0m\n\u001b[0;32m    816\u001b[0m                     \u001b[0mt\u001b[0m\u001b[1;33m.\u001b[0m\u001b[0mclose\u001b[0m\u001b[1;33m(\u001b[0m\u001b[1;33m)\u001b[0m\u001b[1;33m\u001b[0m\u001b[1;33m\u001b[0m\u001b[0m\n",
      "\u001b[1;32mc:\\Users\\prati\\anaconda3\\envs\\excelcheckapp\\lib\\site-packages\\pandas\\core\\series.py\u001b[0m in \u001b[0;36mapply\u001b[1;34m(self, func, convert_dtype, args, **kwargs)\u001b[0m\n\u001b[0;32m   4769\u001b[0m         \u001b[0mdtype\u001b[0m\u001b[1;33m:\u001b[0m \u001b[0mfloat64\u001b[0m\u001b[1;33m\u001b[0m\u001b[1;33m\u001b[0m\u001b[0m\n\u001b[0;32m   4770\u001b[0m         \"\"\"\n\u001b[1;32m-> 4771\u001b[1;33m         \u001b[1;32mreturn\u001b[0m \u001b[0mSeriesApply\u001b[0m\u001b[1;33m(\u001b[0m\u001b[0mself\u001b[0m\u001b[1;33m,\u001b[0m \u001b[0mfunc\u001b[0m\u001b[1;33m,\u001b[0m \u001b[0mconvert_dtype\u001b[0m\u001b[1;33m,\u001b[0m \u001b[0margs\u001b[0m\u001b[1;33m,\u001b[0m \u001b[0mkwargs\u001b[0m\u001b[1;33m)\u001b[0m\u001b[1;33m.\u001b[0m\u001b[0mapply\u001b[0m\u001b[1;33m(\u001b[0m\u001b[1;33m)\u001b[0m\u001b[1;33m\u001b[0m\u001b[1;33m\u001b[0m\u001b[0m\n\u001b[0m\u001b[0;32m   4772\u001b[0m \u001b[1;33m\u001b[0m\u001b[0m\n\u001b[0;32m   4773\u001b[0m     def _reduce(\n",
      "\u001b[1;32mc:\\Users\\prati\\anaconda3\\envs\\excelcheckapp\\lib\\site-packages\\pandas\\core\\apply.py\u001b[0m in \u001b[0;36mapply\u001b[1;34m(self)\u001b[0m\n\u001b[0;32m   1121\u001b[0m \u001b[1;33m\u001b[0m\u001b[0m\n\u001b[0;32m   1122\u001b[0m         \u001b[1;31m# self.f is Callable\u001b[0m\u001b[1;33m\u001b[0m\u001b[1;33m\u001b[0m\u001b[0m\n\u001b[1;32m-> 1123\u001b[1;33m         \u001b[1;32mreturn\u001b[0m \u001b[0mself\u001b[0m\u001b[1;33m.\u001b[0m\u001b[0mapply_standard\u001b[0m\u001b[1;33m(\u001b[0m\u001b[1;33m)\u001b[0m\u001b[1;33m\u001b[0m\u001b[1;33m\u001b[0m\u001b[0m\n\u001b[0m\u001b[0;32m   1124\u001b[0m \u001b[1;33m\u001b[0m\u001b[0m\n\u001b[0;32m   1125\u001b[0m     \u001b[1;32mdef\u001b[0m \u001b[0magg\u001b[0m\u001b[1;33m(\u001b[0m\u001b[0mself\u001b[0m\u001b[1;33m)\u001b[0m\u001b[1;33m:\u001b[0m\u001b[1;33m\u001b[0m\u001b[1;33m\u001b[0m\u001b[0m\n",
      "\u001b[1;32mc:\\Users\\prati\\anaconda3\\envs\\excelcheckapp\\lib\\site-packages\\pandas\\core\\apply.py\u001b[0m in \u001b[0;36mapply_standard\u001b[1;34m(self)\u001b[0m\n\u001b[0;32m   1172\u001b[0m             \u001b[1;32melse\u001b[0m\u001b[1;33m:\u001b[0m\u001b[1;33m\u001b[0m\u001b[1;33m\u001b[0m\u001b[0m\n\u001b[0;32m   1173\u001b[0m                 \u001b[0mvalues\u001b[0m \u001b[1;33m=\u001b[0m \u001b[0mobj\u001b[0m\u001b[1;33m.\u001b[0m\u001b[0mastype\u001b[0m\u001b[1;33m(\u001b[0m\u001b[0mobject\u001b[0m\u001b[1;33m)\u001b[0m\u001b[1;33m.\u001b[0m\u001b[0m_values\u001b[0m\u001b[1;33m\u001b[0m\u001b[1;33m\u001b[0m\u001b[0m\n\u001b[1;32m-> 1174\u001b[1;33m                 mapped = lib.map_infer(\n\u001b[0m\u001b[0;32m   1175\u001b[0m                     \u001b[0mvalues\u001b[0m\u001b[1;33m,\u001b[0m\u001b[1;33m\u001b[0m\u001b[1;33m\u001b[0m\u001b[0m\n\u001b[0;32m   1176\u001b[0m                     \u001b[0mf\u001b[0m\u001b[1;33m,\u001b[0m\u001b[1;33m\u001b[0m\u001b[1;33m\u001b[0m\u001b[0m\n",
      "\u001b[1;32mc:\\Users\\prati\\anaconda3\\envs\\excelcheckapp\\lib\\site-packages\\pandas\\_libs\\lib.pyx\u001b[0m in \u001b[0;36mpandas._libs.lib.map_infer\u001b[1;34m()\u001b[0m\n",
      "\u001b[1;32mc:\\Users\\prati\\anaconda3\\envs\\excelcheckapp\\lib\\site-packages\\tqdm\\std.py\u001b[0m in \u001b[0;36mwrapper\u001b[1;34m(*args, **kwargs)\u001b[0m\n\u001b[0;32m    807\u001b[0m                     \u001b[1;31m# take a fast or slow code path; so stop when t.total==t.n\u001b[0m\u001b[1;33m\u001b[0m\u001b[1;33m\u001b[0m\u001b[0m\n\u001b[0;32m    808\u001b[0m                     \u001b[0mt\u001b[0m\u001b[1;33m.\u001b[0m\u001b[0mupdate\u001b[0m\u001b[1;33m(\u001b[0m\u001b[0mn\u001b[0m\u001b[1;33m=\u001b[0m\u001b[1;36m1\u001b[0m \u001b[1;32mif\u001b[0m \u001b[1;32mnot\u001b[0m \u001b[0mt\u001b[0m\u001b[1;33m.\u001b[0m\u001b[0mtotal\u001b[0m \u001b[1;32mor\u001b[0m \u001b[0mt\u001b[0m\u001b[1;33m.\u001b[0m\u001b[0mn\u001b[0m \u001b[1;33m<\u001b[0m \u001b[0mt\u001b[0m\u001b[1;33m.\u001b[0m\u001b[0mtotal\u001b[0m \u001b[1;32melse\u001b[0m \u001b[1;36m0\u001b[0m\u001b[1;33m)\u001b[0m\u001b[1;33m\u001b[0m\u001b[1;33m\u001b[0m\u001b[0m\n\u001b[1;32m--> 809\u001b[1;33m                     \u001b[1;32mreturn\u001b[0m \u001b[0mfunc\u001b[0m\u001b[1;33m(\u001b[0m\u001b[1;33m*\u001b[0m\u001b[0margs\u001b[0m\u001b[1;33m,\u001b[0m \u001b[1;33m**\u001b[0m\u001b[0mkwargs\u001b[0m\u001b[1;33m)\u001b[0m\u001b[1;33m\u001b[0m\u001b[1;33m\u001b[0m\u001b[0m\n\u001b[0m\u001b[0;32m    810\u001b[0m \u001b[1;33m\u001b[0m\u001b[0m\n\u001b[0;32m    811\u001b[0m                 \u001b[1;31m# Apply the provided function (in **kwargs)\u001b[0m\u001b[1;33m\u001b[0m\u001b[1;33m\u001b[0m\u001b[0m\n",
      "\u001b[1;32m~\\AppData\\Local\\Temp\\ipykernel_19332\\1321123073.py\u001b[0m in \u001b[0;36m<lambda>\u001b[1;34m(x)\u001b[0m\n\u001b[0;32m    106\u001b[0m     \u001b[1;31m# t3.caption('Spell and Grammar Check: ')\u001b[0m\u001b[1;33m\u001b[0m\u001b[1;33m\u001b[0m\u001b[0m\n\u001b[0;32m    107\u001b[0m     \u001b[1;31m# data['title_spellcheck_res'] = data['title'].progress_progress_apply(lambda x:spellcheck(x,gf))\u001b[0m\u001b[1;33m\u001b[0m\u001b[1;33m\u001b[0m\u001b[0m\n\u001b[1;32m--> 108\u001b[1;33m     \u001b[0mdata\u001b[0m\u001b[1;33m[\u001b[0m\u001b[1;33m[\u001b[0m\u001b[1;34m'title_spellcheck'\u001b[0m\u001b[1;33m,\u001b[0m\u001b[1;34m'title_Corrected_text'\u001b[0m\u001b[1;33m]\u001b[0m\u001b[1;33m]\u001b[0m \u001b[1;33m=\u001b[0m  \u001b[0mpd\u001b[0m\u001b[1;33m.\u001b[0m\u001b[0mDataFrame\u001b[0m\u001b[1;33m(\u001b[0m\u001b[0mdata\u001b[0m\u001b[1;33m[\u001b[0m\u001b[1;34m'title'\u001b[0m\u001b[1;33m]\u001b[0m\u001b[1;33m.\u001b[0m\u001b[0mprogress_apply\u001b[0m\u001b[1;33m(\u001b[0m\u001b[1;32mlambda\u001b[0m \u001b[0mx\u001b[0m\u001b[1;33m:\u001b[0m \u001b[0mrunGinger\u001b[0m\u001b[1;33m(\u001b[0m\u001b[0mx\u001b[0m\u001b[1;33m,\u001b[0m\u001b[0mparser\u001b[0m\u001b[1;33m)\u001b[0m\u001b[1;33m)\u001b[0m\u001b[1;33m.\u001b[0m\u001b[0mtolist\u001b[0m\u001b[1;33m(\u001b[0m\u001b[1;33m)\u001b[0m\u001b[1;33m)\u001b[0m\u001b[1;33m\u001b[0m\u001b[1;33m\u001b[0m\u001b[0m\n\u001b[0m\u001b[0;32m    109\u001b[0m     \u001b[0mdata\u001b[0m\u001b[1;33m[\u001b[0m\u001b[1;34m'final_title_check_flag'\u001b[0m\u001b[1;33m]\u001b[0m \u001b[1;33m=\u001b[0m \u001b[0mdata\u001b[0m\u001b[1;33m[\u001b[0m\u001b[1;33m[\u001b[0m\u001b[1;34m'title_brand_present'\u001b[0m\u001b[1;33m,\u001b[0m\u001b[1;34m'title_sentence_case'\u001b[0m\u001b[1;33m,\u001b[0m\u001b[1;34m'title_spellcheck'\u001b[0m\u001b[1;33m]\u001b[0m\u001b[1;33m]\u001b[0m\u001b[1;33m.\u001b[0m\u001b[0mproduct\u001b[0m\u001b[1;33m(\u001b[0m\u001b[0maxis\u001b[0m \u001b[1;33m=\u001b[0m \u001b[1;36m1\u001b[0m\u001b[1;33m)\u001b[0m\u001b[1;33m\u001b[0m\u001b[1;33m\u001b[0m\u001b[0m\n\u001b[0;32m    110\u001b[0m     \u001b[1;32mreturn\u001b[0m \u001b[0mdata\u001b[0m\u001b[1;33m[\u001b[0m\u001b[1;34m'final_title_check_flag'\u001b[0m\u001b[1;33m]\u001b[0m\u001b[1;33m\u001b[0m\u001b[1;33m\u001b[0m\u001b[0m\n",
      "\u001b[1;32m~\\AppData\\Local\\Temp\\ipykernel_19332\\1321123073.py\u001b[0m in \u001b[0;36mrunGinger\u001b[1;34m(txt, my_tool)\u001b[0m\n\u001b[0;32m     74\u001b[0m                 \u001b[0mcorrections\u001b[0m\u001b[1;33m.\u001b[0m\u001b[0mappend\u001b[0m\u001b[1;33m(\u001b[0m\u001b[0mparse_res\u001b[0m\u001b[1;33m[\u001b[0m\u001b[1;34m'corrections'\u001b[0m\u001b[1;33m]\u001b[0m\u001b[1;33m)\u001b[0m\u001b[1;33m\u001b[0m\u001b[1;33m\u001b[0m\u001b[0m\n\u001b[0;32m     75\u001b[0m         \u001b[1;32melse\u001b[0m\u001b[1;33m:\u001b[0m\u001b[1;33m\u001b[0m\u001b[1;33m\u001b[0m\u001b[0m\n\u001b[1;32m---> 76\u001b[1;33m             \u001b[0mparse_res\u001b[0m \u001b[1;33m=\u001b[0m \u001b[0mmy_tool\u001b[0m\u001b[1;33m.\u001b[0m\u001b[0mparse\u001b[0m\u001b[1;33m(\u001b[0m\u001b[0msentence\u001b[0m\u001b[1;33m)\u001b[0m\u001b[1;33m\u001b[0m\u001b[1;33m\u001b[0m\u001b[0m\n\u001b[0m\u001b[0;32m     77\u001b[0m             \u001b[1;32mif\u001b[0m \u001b[0mlen\u001b[0m\u001b[1;33m(\u001b[0m\u001b[0mparse_res\u001b[0m\u001b[1;33m[\u001b[0m\u001b[1;34m'corrections'\u001b[0m\u001b[1;33m]\u001b[0m\u001b[1;33m)\u001b[0m\u001b[1;33m>\u001b[0m\u001b[1;36m0\u001b[0m\u001b[1;33m:\u001b[0m\u001b[1;33m\u001b[0m\u001b[1;33m\u001b[0m\u001b[0m\n\u001b[0;32m     78\u001b[0m                 \u001b[0mflg\u001b[0m \u001b[1;33m=\u001b[0m \u001b[1;36m0\u001b[0m\u001b[1;33m\u001b[0m\u001b[1;33m\u001b[0m\u001b[0m\n",
      "\u001b[1;32mc:\\Users\\prati\\anaconda3\\envs\\excelcheckapp\\lib\\site-packages\\gingerit\\gingerit.py\u001b[0m in \u001b[0;36mparse\u001b[1;34m(self, text, verify)\u001b[0m\n\u001b[0;32m     15\u001b[0m     \u001b[1;32mdef\u001b[0m \u001b[0mparse\u001b[0m\u001b[1;33m(\u001b[0m\u001b[0mself\u001b[0m\u001b[1;33m,\u001b[0m \u001b[0mtext\u001b[0m\u001b[1;33m,\u001b[0m \u001b[0mverify\u001b[0m\u001b[1;33m=\u001b[0m\u001b[1;32mTrue\u001b[0m\u001b[1;33m)\u001b[0m\u001b[1;33m:\u001b[0m\u001b[1;33m\u001b[0m\u001b[1;33m\u001b[0m\u001b[0m\n\u001b[0;32m     16\u001b[0m         \u001b[0msession\u001b[0m \u001b[1;33m=\u001b[0m \u001b[0mcloudscraper\u001b[0m\u001b[1;33m.\u001b[0m\u001b[0mcreate_scraper\u001b[0m\u001b[1;33m(\u001b[0m\u001b[1;33m)\u001b[0m\u001b[1;33m\u001b[0m\u001b[1;33m\u001b[0m\u001b[0m\n\u001b[1;32m---> 17\u001b[1;33m         request = session.get(\n\u001b[0m\u001b[0;32m     18\u001b[0m             \u001b[0mself\u001b[0m\u001b[1;33m.\u001b[0m\u001b[0murl\u001b[0m\u001b[1;33m,\u001b[0m\u001b[1;33m\u001b[0m\u001b[1;33m\u001b[0m\u001b[0m\n\u001b[0;32m     19\u001b[0m             params={\n",
      "\u001b[1;32mc:\\Users\\prati\\anaconda3\\envs\\excelcheckapp\\lib\\site-packages\\requests\\sessions.py\u001b[0m in \u001b[0;36mget\u001b[1;34m(self, url, **kwargs)\u001b[0m\n\u001b[0;32m    598\u001b[0m \u001b[1;33m\u001b[0m\u001b[0m\n\u001b[0;32m    599\u001b[0m         \u001b[0mkwargs\u001b[0m\u001b[1;33m.\u001b[0m\u001b[0msetdefault\u001b[0m\u001b[1;33m(\u001b[0m\u001b[1;34m\"allow_redirects\"\u001b[0m\u001b[1;33m,\u001b[0m \u001b[1;32mTrue\u001b[0m\u001b[1;33m)\u001b[0m\u001b[1;33m\u001b[0m\u001b[1;33m\u001b[0m\u001b[0m\n\u001b[1;32m--> 600\u001b[1;33m         \u001b[1;32mreturn\u001b[0m \u001b[0mself\u001b[0m\u001b[1;33m.\u001b[0m\u001b[0mrequest\u001b[0m\u001b[1;33m(\u001b[0m\u001b[1;34m\"GET\"\u001b[0m\u001b[1;33m,\u001b[0m \u001b[0murl\u001b[0m\u001b[1;33m,\u001b[0m \u001b[1;33m**\u001b[0m\u001b[0mkwargs\u001b[0m\u001b[1;33m)\u001b[0m\u001b[1;33m\u001b[0m\u001b[1;33m\u001b[0m\u001b[0m\n\u001b[0m\u001b[0;32m    601\u001b[0m \u001b[1;33m\u001b[0m\u001b[0m\n\u001b[0;32m    602\u001b[0m     \u001b[1;32mdef\u001b[0m \u001b[0moptions\u001b[0m\u001b[1;33m(\u001b[0m\u001b[0mself\u001b[0m\u001b[1;33m,\u001b[0m \u001b[0murl\u001b[0m\u001b[1;33m,\u001b[0m \u001b[1;33m**\u001b[0m\u001b[0mkwargs\u001b[0m\u001b[1;33m)\u001b[0m\u001b[1;33m:\u001b[0m\u001b[1;33m\u001b[0m\u001b[1;33m\u001b[0m\u001b[0m\n",
      "\u001b[1;32mc:\\Users\\prati\\anaconda3\\envs\\excelcheckapp\\lib\\site-packages\\cloudscraper\\__init__.py\u001b[0m in \u001b[0;36mrequest\u001b[1;34m(self, method, url, *args, **kwargs)\u001b[0m\n\u001b[0;32m    255\u001b[0m \u001b[1;33m\u001b[0m\u001b[0m\n\u001b[0;32m    256\u001b[0m         response = self.decodeBrotli(\n\u001b[1;32m--> 257\u001b[1;33m             \u001b[0mself\u001b[0m\u001b[1;33m.\u001b[0m\u001b[0mperform_request\u001b[0m\u001b[1;33m(\u001b[0m\u001b[0mmethod\u001b[0m\u001b[1;33m,\u001b[0m \u001b[0murl\u001b[0m\u001b[1;33m,\u001b[0m \u001b[1;33m*\u001b[0m\u001b[0margs\u001b[0m\u001b[1;33m,\u001b[0m \u001b[1;33m**\u001b[0m\u001b[0mkwargs\u001b[0m\u001b[1;33m)\u001b[0m\u001b[1;33m\u001b[0m\u001b[1;33m\u001b[0m\u001b[0m\n\u001b[0m\u001b[0;32m    258\u001b[0m         )\n\u001b[0;32m    259\u001b[0m \u001b[1;33m\u001b[0m\u001b[0m\n",
      "\u001b[1;32mc:\\Users\\prati\\anaconda3\\envs\\excelcheckapp\\lib\\site-packages\\cloudscraper\\__init__.py\u001b[0m in \u001b[0;36mperform_request\u001b[1;34m(self, method, url, *args, **kwargs)\u001b[0m\n\u001b[0;32m    188\u001b[0m \u001b[1;33m\u001b[0m\u001b[0m\n\u001b[0;32m    189\u001b[0m     \u001b[1;32mdef\u001b[0m \u001b[0mperform_request\u001b[0m\u001b[1;33m(\u001b[0m\u001b[0mself\u001b[0m\u001b[1;33m,\u001b[0m \u001b[0mmethod\u001b[0m\u001b[1;33m,\u001b[0m \u001b[0murl\u001b[0m\u001b[1;33m,\u001b[0m \u001b[1;33m*\u001b[0m\u001b[0margs\u001b[0m\u001b[1;33m,\u001b[0m \u001b[1;33m**\u001b[0m\u001b[0mkwargs\u001b[0m\u001b[1;33m)\u001b[0m\u001b[1;33m:\u001b[0m\u001b[1;33m\u001b[0m\u001b[1;33m\u001b[0m\u001b[0m\n\u001b[1;32m--> 190\u001b[1;33m         \u001b[1;32mreturn\u001b[0m \u001b[0msuper\u001b[0m\u001b[1;33m(\u001b[0m\u001b[0mCloudScraper\u001b[0m\u001b[1;33m,\u001b[0m \u001b[0mself\u001b[0m\u001b[1;33m)\u001b[0m\u001b[1;33m.\u001b[0m\u001b[0mrequest\u001b[0m\u001b[1;33m(\u001b[0m\u001b[0mmethod\u001b[0m\u001b[1;33m,\u001b[0m \u001b[0murl\u001b[0m\u001b[1;33m,\u001b[0m \u001b[1;33m*\u001b[0m\u001b[0margs\u001b[0m\u001b[1;33m,\u001b[0m \u001b[1;33m**\u001b[0m\u001b[0mkwargs\u001b[0m\u001b[1;33m)\u001b[0m\u001b[1;33m\u001b[0m\u001b[1;33m\u001b[0m\u001b[0m\n\u001b[0m\u001b[0;32m    191\u001b[0m \u001b[1;33m\u001b[0m\u001b[0m\n\u001b[0;32m    192\u001b[0m     \u001b[1;31m# ------------------------------------------------------------------------------- #\u001b[0m\u001b[1;33m\u001b[0m\u001b[1;33m\u001b[0m\u001b[0m\n",
      "\u001b[1;32mc:\\Users\\prati\\anaconda3\\envs\\excelcheckapp\\lib\\site-packages\\requests\\sessions.py\u001b[0m in \u001b[0;36mrequest\u001b[1;34m(self, method, url, params, data, headers, cookies, files, auth, timeout, allow_redirects, proxies, hooks, stream, verify, cert, json)\u001b[0m\n\u001b[0;32m    585\u001b[0m         }\n\u001b[0;32m    586\u001b[0m         \u001b[0msend_kwargs\u001b[0m\u001b[1;33m.\u001b[0m\u001b[0mupdate\u001b[0m\u001b[1;33m(\u001b[0m\u001b[0msettings\u001b[0m\u001b[1;33m)\u001b[0m\u001b[1;33m\u001b[0m\u001b[1;33m\u001b[0m\u001b[0m\n\u001b[1;32m--> 587\u001b[1;33m         \u001b[0mresp\u001b[0m \u001b[1;33m=\u001b[0m \u001b[0mself\u001b[0m\u001b[1;33m.\u001b[0m\u001b[0msend\u001b[0m\u001b[1;33m(\u001b[0m\u001b[0mprep\u001b[0m\u001b[1;33m,\u001b[0m \u001b[1;33m**\u001b[0m\u001b[0msend_kwargs\u001b[0m\u001b[1;33m)\u001b[0m\u001b[1;33m\u001b[0m\u001b[1;33m\u001b[0m\u001b[0m\n\u001b[0m\u001b[0;32m    588\u001b[0m \u001b[1;33m\u001b[0m\u001b[0m\n\u001b[0;32m    589\u001b[0m         \u001b[1;32mreturn\u001b[0m \u001b[0mresp\u001b[0m\u001b[1;33m\u001b[0m\u001b[1;33m\u001b[0m\u001b[0m\n",
      "\u001b[1;32mc:\\Users\\prati\\anaconda3\\envs\\excelcheckapp\\lib\\site-packages\\requests\\sessions.py\u001b[0m in \u001b[0;36msend\u001b[1;34m(self, request, **kwargs)\u001b[0m\n\u001b[0;32m    699\u001b[0m \u001b[1;33m\u001b[0m\u001b[0m\n\u001b[0;32m    700\u001b[0m         \u001b[1;31m# Send the request\u001b[0m\u001b[1;33m\u001b[0m\u001b[1;33m\u001b[0m\u001b[0m\n\u001b[1;32m--> 701\u001b[1;33m         \u001b[0mr\u001b[0m \u001b[1;33m=\u001b[0m \u001b[0madapter\u001b[0m\u001b[1;33m.\u001b[0m\u001b[0msend\u001b[0m\u001b[1;33m(\u001b[0m\u001b[0mrequest\u001b[0m\u001b[1;33m,\u001b[0m \u001b[1;33m**\u001b[0m\u001b[0mkwargs\u001b[0m\u001b[1;33m)\u001b[0m\u001b[1;33m\u001b[0m\u001b[1;33m\u001b[0m\u001b[0m\n\u001b[0m\u001b[0;32m    702\u001b[0m \u001b[1;33m\u001b[0m\u001b[0m\n\u001b[0;32m    703\u001b[0m         \u001b[1;31m# Total elapsed time of the request (approximately)\u001b[0m\u001b[1;33m\u001b[0m\u001b[1;33m\u001b[0m\u001b[0m\n",
      "\u001b[1;32mc:\\Users\\prati\\anaconda3\\envs\\excelcheckapp\\lib\\site-packages\\requests\\adapters.py\u001b[0m in \u001b[0;36msend\u001b[1;34m(self, request, stream, timeout, verify, cert, proxies)\u001b[0m\n\u001b[0;32m    487\u001b[0m         \u001b[1;32mtry\u001b[0m\u001b[1;33m:\u001b[0m\u001b[1;33m\u001b[0m\u001b[1;33m\u001b[0m\u001b[0m\n\u001b[0;32m    488\u001b[0m             \u001b[1;32mif\u001b[0m \u001b[1;32mnot\u001b[0m \u001b[0mchunked\u001b[0m\u001b[1;33m:\u001b[0m\u001b[1;33m\u001b[0m\u001b[1;33m\u001b[0m\u001b[0m\n\u001b[1;32m--> 489\u001b[1;33m                 resp = conn.urlopen(\n\u001b[0m\u001b[0;32m    490\u001b[0m                     \u001b[0mmethod\u001b[0m\u001b[1;33m=\u001b[0m\u001b[0mrequest\u001b[0m\u001b[1;33m.\u001b[0m\u001b[0mmethod\u001b[0m\u001b[1;33m,\u001b[0m\u001b[1;33m\u001b[0m\u001b[1;33m\u001b[0m\u001b[0m\n\u001b[0;32m    491\u001b[0m                     \u001b[0murl\u001b[0m\u001b[1;33m=\u001b[0m\u001b[0murl\u001b[0m\u001b[1;33m,\u001b[0m\u001b[1;33m\u001b[0m\u001b[1;33m\u001b[0m\u001b[0m\n",
      "\u001b[1;32mc:\\Users\\prati\\anaconda3\\envs\\excelcheckapp\\lib\\site-packages\\urllib3\\connectionpool.py\u001b[0m in \u001b[0;36murlopen\u001b[1;34m(self, method, url, body, headers, retries, redirect, assert_same_host, timeout, pool_timeout, release_conn, chunked, body_pos, **response_kw)\u001b[0m\n\u001b[0;32m    701\u001b[0m \u001b[1;33m\u001b[0m\u001b[0m\n\u001b[0;32m    702\u001b[0m             \u001b[1;31m# Make the request on the httplib connection object.\u001b[0m\u001b[1;33m\u001b[0m\u001b[1;33m\u001b[0m\u001b[0m\n\u001b[1;32m--> 703\u001b[1;33m             httplib_response = self._make_request(\n\u001b[0m\u001b[0;32m    704\u001b[0m                 \u001b[0mconn\u001b[0m\u001b[1;33m,\u001b[0m\u001b[1;33m\u001b[0m\u001b[1;33m\u001b[0m\u001b[0m\n\u001b[0;32m    705\u001b[0m                 \u001b[0mmethod\u001b[0m\u001b[1;33m,\u001b[0m\u001b[1;33m\u001b[0m\u001b[1;33m\u001b[0m\u001b[0m\n",
      "\u001b[1;32mc:\\Users\\prati\\anaconda3\\envs\\excelcheckapp\\lib\\site-packages\\urllib3\\connectionpool.py\u001b[0m in \u001b[0;36m_make_request\u001b[1;34m(self, conn, method, url, timeout, chunked, **httplib_request_kw)\u001b[0m\n\u001b[0;32m    447\u001b[0m                     \u001b[1;31m# Python 3 (including for exceptions like SystemExit).\u001b[0m\u001b[1;33m\u001b[0m\u001b[1;33m\u001b[0m\u001b[0m\n\u001b[0;32m    448\u001b[0m                     \u001b[1;31m# Otherwise it looks like a bug in the code.\u001b[0m\u001b[1;33m\u001b[0m\u001b[1;33m\u001b[0m\u001b[0m\n\u001b[1;32m--> 449\u001b[1;33m                     \u001b[0msix\u001b[0m\u001b[1;33m.\u001b[0m\u001b[0mraise_from\u001b[0m\u001b[1;33m(\u001b[0m\u001b[0me\u001b[0m\u001b[1;33m,\u001b[0m \u001b[1;32mNone\u001b[0m\u001b[1;33m)\u001b[0m\u001b[1;33m\u001b[0m\u001b[1;33m\u001b[0m\u001b[0m\n\u001b[0m\u001b[0;32m    450\u001b[0m         \u001b[1;32mexcept\u001b[0m \u001b[1;33m(\u001b[0m\u001b[0mSocketTimeout\u001b[0m\u001b[1;33m,\u001b[0m \u001b[0mBaseSSLError\u001b[0m\u001b[1;33m,\u001b[0m \u001b[0mSocketError\u001b[0m\u001b[1;33m)\u001b[0m \u001b[1;32mas\u001b[0m \u001b[0me\u001b[0m\u001b[1;33m:\u001b[0m\u001b[1;33m\u001b[0m\u001b[1;33m\u001b[0m\u001b[0m\n\u001b[0;32m    451\u001b[0m             \u001b[0mself\u001b[0m\u001b[1;33m.\u001b[0m\u001b[0m_raise_timeout\u001b[0m\u001b[1;33m(\u001b[0m\u001b[0merr\u001b[0m\u001b[1;33m=\u001b[0m\u001b[0me\u001b[0m\u001b[1;33m,\u001b[0m \u001b[0murl\u001b[0m\u001b[1;33m=\u001b[0m\u001b[0murl\u001b[0m\u001b[1;33m,\u001b[0m \u001b[0mtimeout_value\u001b[0m\u001b[1;33m=\u001b[0m\u001b[0mread_timeout\u001b[0m\u001b[1;33m)\u001b[0m\u001b[1;33m\u001b[0m\u001b[1;33m\u001b[0m\u001b[0m\n",
      "\u001b[1;32mc:\\Users\\prati\\anaconda3\\envs\\excelcheckapp\\lib\\site-packages\\urllib3\\packages\\six.py\u001b[0m in \u001b[0;36mraise_from\u001b[1;34m(value, from_value)\u001b[0m\n",
      "\u001b[1;32mc:\\Users\\prati\\anaconda3\\envs\\excelcheckapp\\lib\\site-packages\\urllib3\\connectionpool.py\u001b[0m in \u001b[0;36m_make_request\u001b[1;34m(self, conn, method, url, timeout, chunked, **httplib_request_kw)\u001b[0m\n\u001b[0;32m    442\u001b[0m                 \u001b[1;31m# Python 3\u001b[0m\u001b[1;33m\u001b[0m\u001b[1;33m\u001b[0m\u001b[0m\n\u001b[0;32m    443\u001b[0m                 \u001b[1;32mtry\u001b[0m\u001b[1;33m:\u001b[0m\u001b[1;33m\u001b[0m\u001b[1;33m\u001b[0m\u001b[0m\n\u001b[1;32m--> 444\u001b[1;33m                     \u001b[0mhttplib_response\u001b[0m \u001b[1;33m=\u001b[0m \u001b[0mconn\u001b[0m\u001b[1;33m.\u001b[0m\u001b[0mgetresponse\u001b[0m\u001b[1;33m(\u001b[0m\u001b[1;33m)\u001b[0m\u001b[1;33m\u001b[0m\u001b[1;33m\u001b[0m\u001b[0m\n\u001b[0m\u001b[0;32m    445\u001b[0m                 \u001b[1;32mexcept\u001b[0m \u001b[0mBaseException\u001b[0m \u001b[1;32mas\u001b[0m \u001b[0me\u001b[0m\u001b[1;33m:\u001b[0m\u001b[1;33m\u001b[0m\u001b[1;33m\u001b[0m\u001b[0m\n\u001b[0;32m    446\u001b[0m                     \u001b[1;31m# Remove the TypeError from the exception chain in\u001b[0m\u001b[1;33m\u001b[0m\u001b[1;33m\u001b[0m\u001b[0m\n",
      "\u001b[1;32mc:\\Users\\prati\\anaconda3\\envs\\excelcheckapp\\lib\\http\\client.py\u001b[0m in \u001b[0;36mgetresponse\u001b[1;34m(self)\u001b[0m\n\u001b[0;32m   1372\u001b[0m         \u001b[1;32mtry\u001b[0m\u001b[1;33m:\u001b[0m\u001b[1;33m\u001b[0m\u001b[1;33m\u001b[0m\u001b[0m\n\u001b[0;32m   1373\u001b[0m             \u001b[1;32mtry\u001b[0m\u001b[1;33m:\u001b[0m\u001b[1;33m\u001b[0m\u001b[1;33m\u001b[0m\u001b[0m\n\u001b[1;32m-> 1374\u001b[1;33m                 \u001b[0mresponse\u001b[0m\u001b[1;33m.\u001b[0m\u001b[0mbegin\u001b[0m\u001b[1;33m(\u001b[0m\u001b[1;33m)\u001b[0m\u001b[1;33m\u001b[0m\u001b[1;33m\u001b[0m\u001b[0m\n\u001b[0m\u001b[0;32m   1375\u001b[0m             \u001b[1;32mexcept\u001b[0m \u001b[0mConnectionError\u001b[0m\u001b[1;33m:\u001b[0m\u001b[1;33m\u001b[0m\u001b[1;33m\u001b[0m\u001b[0m\n\u001b[0;32m   1376\u001b[0m                 \u001b[0mself\u001b[0m\u001b[1;33m.\u001b[0m\u001b[0mclose\u001b[0m\u001b[1;33m(\u001b[0m\u001b[1;33m)\u001b[0m\u001b[1;33m\u001b[0m\u001b[1;33m\u001b[0m\u001b[0m\n",
      "\u001b[1;32mc:\\Users\\prati\\anaconda3\\envs\\excelcheckapp\\lib\\http\\client.py\u001b[0m in \u001b[0;36mbegin\u001b[1;34m(self)\u001b[0m\n\u001b[0;32m    316\u001b[0m         \u001b[1;31m# read until we get a non-100 response\u001b[0m\u001b[1;33m\u001b[0m\u001b[1;33m\u001b[0m\u001b[0m\n\u001b[0;32m    317\u001b[0m         \u001b[1;32mwhile\u001b[0m \u001b[1;32mTrue\u001b[0m\u001b[1;33m:\u001b[0m\u001b[1;33m\u001b[0m\u001b[1;33m\u001b[0m\u001b[0m\n\u001b[1;32m--> 318\u001b[1;33m             \u001b[0mversion\u001b[0m\u001b[1;33m,\u001b[0m \u001b[0mstatus\u001b[0m\u001b[1;33m,\u001b[0m \u001b[0mreason\u001b[0m \u001b[1;33m=\u001b[0m \u001b[0mself\u001b[0m\u001b[1;33m.\u001b[0m\u001b[0m_read_status\u001b[0m\u001b[1;33m(\u001b[0m\u001b[1;33m)\u001b[0m\u001b[1;33m\u001b[0m\u001b[1;33m\u001b[0m\u001b[0m\n\u001b[0m\u001b[0;32m    319\u001b[0m             \u001b[1;32mif\u001b[0m \u001b[0mstatus\u001b[0m \u001b[1;33m!=\u001b[0m \u001b[0mCONTINUE\u001b[0m\u001b[1;33m:\u001b[0m\u001b[1;33m\u001b[0m\u001b[1;33m\u001b[0m\u001b[0m\n\u001b[0;32m    320\u001b[0m                 \u001b[1;32mbreak\u001b[0m\u001b[1;33m\u001b[0m\u001b[1;33m\u001b[0m\u001b[0m\n",
      "\u001b[1;32mc:\\Users\\prati\\anaconda3\\envs\\excelcheckapp\\lib\\http\\client.py\u001b[0m in \u001b[0;36m_read_status\u001b[1;34m(self)\u001b[0m\n\u001b[0;32m    277\u001b[0m \u001b[1;33m\u001b[0m\u001b[0m\n\u001b[0;32m    278\u001b[0m     \u001b[1;32mdef\u001b[0m \u001b[0m_read_status\u001b[0m\u001b[1;33m(\u001b[0m\u001b[0mself\u001b[0m\u001b[1;33m)\u001b[0m\u001b[1;33m:\u001b[0m\u001b[1;33m\u001b[0m\u001b[1;33m\u001b[0m\u001b[0m\n\u001b[1;32m--> 279\u001b[1;33m         \u001b[0mline\u001b[0m \u001b[1;33m=\u001b[0m \u001b[0mstr\u001b[0m\u001b[1;33m(\u001b[0m\u001b[0mself\u001b[0m\u001b[1;33m.\u001b[0m\u001b[0mfp\u001b[0m\u001b[1;33m.\u001b[0m\u001b[0mreadline\u001b[0m\u001b[1;33m(\u001b[0m\u001b[0m_MAXLINE\u001b[0m \u001b[1;33m+\u001b[0m \u001b[1;36m1\u001b[0m\u001b[1;33m)\u001b[0m\u001b[1;33m,\u001b[0m \u001b[1;34m\"iso-8859-1\"\u001b[0m\u001b[1;33m)\u001b[0m\u001b[1;33m\u001b[0m\u001b[1;33m\u001b[0m\u001b[0m\n\u001b[0m\u001b[0;32m    280\u001b[0m         \u001b[1;32mif\u001b[0m \u001b[0mlen\u001b[0m\u001b[1;33m(\u001b[0m\u001b[0mline\u001b[0m\u001b[1;33m)\u001b[0m \u001b[1;33m>\u001b[0m \u001b[0m_MAXLINE\u001b[0m\u001b[1;33m:\u001b[0m\u001b[1;33m\u001b[0m\u001b[1;33m\u001b[0m\u001b[0m\n\u001b[0;32m    281\u001b[0m             \u001b[1;32mraise\u001b[0m \u001b[0mLineTooLong\u001b[0m\u001b[1;33m(\u001b[0m\u001b[1;34m\"status line\"\u001b[0m\u001b[1;33m)\u001b[0m\u001b[1;33m\u001b[0m\u001b[1;33m\u001b[0m\u001b[0m\n",
      "\u001b[1;32mc:\\Users\\prati\\anaconda3\\envs\\excelcheckapp\\lib\\socket.py\u001b[0m in \u001b[0;36mreadinto\u001b[1;34m(self, b)\u001b[0m\n\u001b[0;32m    703\u001b[0m         \u001b[1;32mwhile\u001b[0m \u001b[1;32mTrue\u001b[0m\u001b[1;33m:\u001b[0m\u001b[1;33m\u001b[0m\u001b[1;33m\u001b[0m\u001b[0m\n\u001b[0;32m    704\u001b[0m             \u001b[1;32mtry\u001b[0m\u001b[1;33m:\u001b[0m\u001b[1;33m\u001b[0m\u001b[1;33m\u001b[0m\u001b[0m\n\u001b[1;32m--> 705\u001b[1;33m                 \u001b[1;32mreturn\u001b[0m \u001b[0mself\u001b[0m\u001b[1;33m.\u001b[0m\u001b[0m_sock\u001b[0m\u001b[1;33m.\u001b[0m\u001b[0mrecv_into\u001b[0m\u001b[1;33m(\u001b[0m\u001b[0mb\u001b[0m\u001b[1;33m)\u001b[0m\u001b[1;33m\u001b[0m\u001b[1;33m\u001b[0m\u001b[0m\n\u001b[0m\u001b[0;32m    706\u001b[0m             \u001b[1;32mexcept\u001b[0m \u001b[0mtimeout\u001b[0m\u001b[1;33m:\u001b[0m\u001b[1;33m\u001b[0m\u001b[1;33m\u001b[0m\u001b[0m\n\u001b[0;32m    707\u001b[0m                 \u001b[0mself\u001b[0m\u001b[1;33m.\u001b[0m\u001b[0m_timeout_occurred\u001b[0m \u001b[1;33m=\u001b[0m \u001b[1;32mTrue\u001b[0m\u001b[1;33m\u001b[0m\u001b[1;33m\u001b[0m\u001b[0m\n",
      "\u001b[1;32mc:\\Users\\prati\\anaconda3\\envs\\excelcheckapp\\lib\\ssl.py\u001b[0m in \u001b[0;36mrecv_into\u001b[1;34m(self, buffer, nbytes, flags)\u001b[0m\n\u001b[0;32m   1272\u001b[0m                   \u001b[1;34m\"non-zero flags not allowed in calls to recv_into() on %s\"\u001b[0m \u001b[1;33m%\u001b[0m\u001b[1;33m\u001b[0m\u001b[1;33m\u001b[0m\u001b[0m\n\u001b[0;32m   1273\u001b[0m                   self.__class__)\n\u001b[1;32m-> 1274\u001b[1;33m             \u001b[1;32mreturn\u001b[0m \u001b[0mself\u001b[0m\u001b[1;33m.\u001b[0m\u001b[0mread\u001b[0m\u001b[1;33m(\u001b[0m\u001b[0mnbytes\u001b[0m\u001b[1;33m,\u001b[0m \u001b[0mbuffer\u001b[0m\u001b[1;33m)\u001b[0m\u001b[1;33m\u001b[0m\u001b[1;33m\u001b[0m\u001b[0m\n\u001b[0m\u001b[0;32m   1275\u001b[0m         \u001b[1;32melse\u001b[0m\u001b[1;33m:\u001b[0m\u001b[1;33m\u001b[0m\u001b[1;33m\u001b[0m\u001b[0m\n\u001b[0;32m   1276\u001b[0m             \u001b[1;32mreturn\u001b[0m \u001b[0msuper\u001b[0m\u001b[1;33m(\u001b[0m\u001b[1;33m)\u001b[0m\u001b[1;33m.\u001b[0m\u001b[0mrecv_into\u001b[0m\u001b[1;33m(\u001b[0m\u001b[0mbuffer\u001b[0m\u001b[1;33m,\u001b[0m \u001b[0mnbytes\u001b[0m\u001b[1;33m,\u001b[0m \u001b[0mflags\u001b[0m\u001b[1;33m)\u001b[0m\u001b[1;33m\u001b[0m\u001b[1;33m\u001b[0m\u001b[0m\n",
      "\u001b[1;32mc:\\Users\\prati\\anaconda3\\envs\\excelcheckapp\\lib\\ssl.py\u001b[0m in \u001b[0;36mread\u001b[1;34m(self, len, buffer)\u001b[0m\n\u001b[0;32m   1128\u001b[0m         \u001b[1;32mtry\u001b[0m\u001b[1;33m:\u001b[0m\u001b[1;33m\u001b[0m\u001b[1;33m\u001b[0m\u001b[0m\n\u001b[0;32m   1129\u001b[0m             \u001b[1;32mif\u001b[0m \u001b[0mbuffer\u001b[0m \u001b[1;32mis\u001b[0m \u001b[1;32mnot\u001b[0m \u001b[1;32mNone\u001b[0m\u001b[1;33m:\u001b[0m\u001b[1;33m\u001b[0m\u001b[1;33m\u001b[0m\u001b[0m\n\u001b[1;32m-> 1130\u001b[1;33m                 \u001b[1;32mreturn\u001b[0m \u001b[0mself\u001b[0m\u001b[1;33m.\u001b[0m\u001b[0m_sslobj\u001b[0m\u001b[1;33m.\u001b[0m\u001b[0mread\u001b[0m\u001b[1;33m(\u001b[0m\u001b[0mlen\u001b[0m\u001b[1;33m,\u001b[0m \u001b[0mbuffer\u001b[0m\u001b[1;33m)\u001b[0m\u001b[1;33m\u001b[0m\u001b[1;33m\u001b[0m\u001b[0m\n\u001b[0m\u001b[0;32m   1131\u001b[0m             \u001b[1;32melse\u001b[0m\u001b[1;33m:\u001b[0m\u001b[1;33m\u001b[0m\u001b[1;33m\u001b[0m\u001b[0m\n\u001b[0;32m   1132\u001b[0m                 \u001b[1;32mreturn\u001b[0m \u001b[0mself\u001b[0m\u001b[1;33m.\u001b[0m\u001b[0m_sslobj\u001b[0m\u001b[1;33m.\u001b[0m\u001b[0mread\u001b[0m\u001b[1;33m(\u001b[0m\u001b[0mlen\u001b[0m\u001b[1;33m)\u001b[0m\u001b[1;33m\u001b[0m\u001b[1;33m\u001b[0m\u001b[0m\n",
      "\u001b[1;31mKeyboardInterrupt\u001b[0m: "
     ]
    }
   ],
   "source": [
    "scraped_df.fillna('NA',inplace=True)\n",
    "\n",
    "res_df = QC_check1(scraped_df)"
   ]
  },
  {
   "attachments": {},
   "cell_type": "markdown",
   "id": "899cca7e",
   "metadata": {},
   "source": [
    "## Mush comparison"
   ]
  },
  {
   "cell_type": "code",
   "execution_count": 29,
   "id": "e46fa5ba",
   "metadata": {},
   "outputs": [],
   "source": [
    "mush_df = pd.read_csv('DataStore/compare_datasets/data_mush.csv')\n",
    "mush_df['ScrapedFor'] = np.array(['Mush']*mush_df.shape[0])\n",
    "mush_df = mush_df[req_cols]\n",
    "mush_df.fillna('NA',inplace = True)"
   ]
  },
  {
   "cell_type": "code",
   "execution_count": 20,
   "id": "59a96224",
   "metadata": {},
   "outputs": [
    {
     "data": {
      "text/plain": [
       "(63, 6)"
      ]
     },
     "execution_count": 20,
     "metadata": {},
     "output_type": "execute_result"
    }
   ],
   "source": [
    "mush_df.shape"
   ]
  },
  {
   "cell_type": "code",
   "execution_count": 37,
   "id": "02a0be30",
   "metadata": {},
   "outputs": [],
   "source": [
    "gt_mush_df = ground_truth[ground_truth['Brand'].str.lower()=='mush']"
   ]
  },
  {
   "attachments": {},
   "cell_type": "markdown",
   "id": "182bbd7b",
   "metadata": {},
   "source": [
    "### ASINS Comparison"
   ]
  },
  {
   "cell_type": "code",
   "execution_count": 46,
   "id": "c49e1797",
   "metadata": {},
   "outputs": [],
   "source": [
    "mush_df_asins = mush_df['ASIN'].tolist()"
   ]
  },
  {
   "attachments": {},
   "cell_type": "markdown",
   "id": "644613f8",
   "metadata": {},
   "source": [
    "#### Duplicate Check"
   ]
  },
  {
   "cell_type": "code",
   "execution_count": 52,
   "id": "06020bcd",
   "metadata": {},
   "outputs": [
    {
     "name": "stdout",
     "output_type": "stream",
     "text": [
      "len(set(mush_df_asins))==mush_df.shape[0] = False\n",
      " 62==63\n"
     ]
    }
   ],
   "source": [
    "print('len(set(mush_df_asins))==mush_df.shape[0] = {}\\n {}=={}'.format(len(set(mush_df_asins))==mush_df.shape[0],len(set(mush_df_asins)),mush_df.shape[0]))"
   ]
  },
  {
   "cell_type": "code",
   "execution_count": null,
   "id": "cbd94319",
   "metadata": {},
   "outputs": [
    {
     "data": {
      "text/plain": [
       "B07CWBTBRK    2\n",
       "Name: ASIN, dtype: int64"
      ]
     },
     "execution_count": 59,
     "metadata": {},
     "output_type": "execute_result"
    }
   ],
   "source": [
    "mush_df['ASIN'].value_counts()[mush_df['ASIN'].value_counts()>1]"
   ]
  },
  {
   "attachments": {},
   "cell_type": "markdown",
   "id": "967c1f80",
   "metadata": {},
   "source": [
    "One duplicate ASIN = B07CWBTBRK    "
   ]
  },
  {
   "attachments": {},
   "cell_type": "markdown",
   "id": "0f98adc4",
   "metadata": {},
   "source": [
    "#### Different ASINS  "
   ]
  },
  {
   "attachments": {},
   "cell_type": "markdown",
   "id": "c32a2e52",
   "metadata": {},
   "source": [
    "In GT not in scraped data"
   ]
  },
  {
   "cell_type": "code",
   "execution_count": 61,
   "id": "50c44aea",
   "metadata": {},
   "outputs": [
    {
     "name": "stdout",
     "output_type": "stream",
     "text": [
      "{'B09G36WZF3', 'B0819PW15B', 'B09F5SR1GY', 'B07CW9WNLP', 'B07NY36LQR', 'B08P4XF1VP', 'B07S6P8652', 'B09F5Z518M', 'B07S8Q85B4', 'B07CWB65DY', 'B09XN9LHQQ', 'B07P12ZDYF', 'B07P12ZVDX', 'B07SRVPJMX', 'B08K8Y4WF7', 'B0823GKN83', 'B07NY34DJ1', 'B09XN6J7DY', 'B07NY36KRZ', 'B07GCHY9HX', 'B08P5HD75Q', 'B09XN9T786', 'B07R6DDL5C', 'B09XN7X8L1', 'B07WD8JL8S', 'B07CWCGF26', 'B09XN7KHVF', 'B09F5XLT7G', 'B09XN7WD3Z', 'B07CWBTB4K', 'B08P5JGJ5D', 'B09F5PL8HR', 'B07P1381QZ', 'B09G37TPTR', 'B09XN86Y57', 'B07CWBDFSK', 'B08Y365QSF', 'B07SVFGHC1', 'B07CWBZWFJ', 'B08P4X9Y9B', 'B07STFB7XD', 'B07KKHC2VD', 'B07SK8JNT7'}\n"
     ]
    }
   ],
   "source": [
    "print(set(gt_mush_df['ASIN'].tolist()) - set(mush_df_asins))"
   ]
  },
  {
   "attachments": {},
   "cell_type": "markdown",
   "id": "0e20258c",
   "metadata": {},
   "source": [
    "In scraped data not in GT"
   ]
  },
  {
   "cell_type": "code",
   "execution_count": 62,
   "id": "0f8f4dd5",
   "metadata": {},
   "outputs": [
    {
     "name": "stdout",
     "output_type": "stream",
     "text": [
      "{'B0BRKVVD5R', 'B09Y2G7ZFN', 'B0B51TRRSB', 'B07CW1BJQY', 'B0BC96YLS5', 'B07RCHPL8M', 'B0BNVZ6SMB', 'B0855VDLD9', 'B08561NXF1', 'B07SJ5KCMG', 'B09MDPJSB1', 'B07SJ4Y93D', 'B09S5PM92D', 'B07KXV7MQR', 'B09X48CMKB', 'B08WQ5R7KQ', 'B0BRN1NQD6', 'B09X48RT33', 'B0BRN3K7QV', 'B0BRCR6CN3', 'B0B2WVWJFM', 'B09YMC5B9F', 'B0BP7QW7KV', 'B0BNBVHKZW', 'B0BN664HLW', 'B0855W7KL4', 'B0BRN1JQ5M', 'B09X48T3VM', 'B0BRKV5498', 'B0BDVDF8DJ', 'B0BRKVGC61', 'B0BNNKFCBZ', 'B09X49HP4M', 'B0BRKV7N7W', 'B09W5NZMPJ', 'B0BLZSRMMN', 'B08CMNNHYC', 'B08VF35G1Q', 'B0BC99R3K8', 'B0BSTX12LK', 'B0BQCPFH3M', 'B0BRLBXMDD', 'B0BRN2S13L', 'B0BQ7CFK5P', 'B089T7Z74M', 'B0BRKV7R6J', 'B0BDV8JQZF', 'B0BF4ZRKF1', 'B09Z89H7DC', 'B0BPCYPFMZ', 'B08WPWB9MT', 'B0BM45JH9N', 'B09X48CK2Z', 'B0BPF1TW2L', 'B0728KV2ZL', 'B0BQ751Y1B', 'B08CN3VSKV', 'B09X48F423'}\n"
     ]
    }
   ],
   "source": [
    "print(set(mush_df_asins) - set(gt_mush_df['ASIN'].tolist()))"
   ]
  },
  {
   "cell_type": "code",
   "execution_count": null,
   "id": "072daaea",
   "metadata": {},
   "outputs": [],
   "source": []
  },
  {
   "cell_type": "code",
   "execution_count": 1,
   "id": "446d7002",
   "metadata": {},
   "outputs": [
    {
     "ename": "NameError",
     "evalue": "name 'ground_truth' is not defined",
     "output_type": "error",
     "traceback": [
      "\u001b[1;31m---------------------------------------------------------------------------\u001b[0m",
      "\u001b[1;31mNameError\u001b[0m                                 Traceback (most recent call last)",
      "\u001b[1;32m~\\AppData\\Local\\Temp\\ipykernel_19332\\2782232399.py\u001b[0m in \u001b[0;36m<module>\u001b[1;34m\u001b[0m\n\u001b[1;32m----> 1\u001b[1;33m \u001b[0mground_truth\u001b[0m\u001b[1;33m[\u001b[0m\u001b[0mground_truth\u001b[0m\u001b[1;33m[\u001b[0m\u001b[1;34m'Brand'\u001b[0m\u001b[1;33m]\u001b[0m\u001b[1;33m==\u001b[0m\u001b[1;34m'Mush'\u001b[0m\u001b[1;33m]\u001b[0m\u001b[1;33m\u001b[0m\u001b[1;33m\u001b[0m\u001b[0m\n\u001b[0m",
      "\u001b[1;31mNameError\u001b[0m: name 'ground_truth' is not defined"
     ]
    }
   ],
   "source": [
    "ground_truth[ground_truth['Brand']=='Mush']"
   ]
  },
  {
   "cell_type": "code",
   "execution_count": 39,
   "id": "fbd6f0a4",
   "metadata": {},
   "outputs": [],
   "source": [
    "\n",
    "from transformers import AutoTokenizer, AutoModelForSeq2SeqLM\n",
    "\n",
    "tokenizer = AutoTokenizer.from_pretrained(\"KES/T5-KES\")\n"
   ]
  },
  {
   "cell_type": "code",
   "execution_count": 40,
   "id": "e5a6684b",
   "metadata": {},
   "outputs": [
    {
     "ename": "OSError",
     "evalue": "Unable to load weights from pytorch checkpoint file for 'C:\\Users\\prati/.cache\\huggingface\\hub\\models--KES--T5-KES\\snapshots\\fb5378c138b6d2827be5583787178b4e467d7b12\\pytorch_model.bin' at 'C:\\Users\\prati/.cache\\huggingface\\hub\\models--KES--T5-KES\\snapshots\\fb5378c138b6d2827be5583787178b4e467d7b12\\pytorch_model.bin'. If you tried to load a PyTorch model from a TF 2.0 checkpoint, please set from_tf=True.",
     "output_type": "error",
     "traceback": [
      "\u001b[1;31m---------------------------------------------------------------------------\u001b[0m",
      "\u001b[1;31mAttributeError\u001b[0m                            Traceback (most recent call last)",
      "\u001b[1;32mc:\\Users\\prati\\anaconda3\\envs\\excelcheckapp\\lib\\site-packages\\transformers\\modeling_utils.py\u001b[0m in \u001b[0;36mload_state_dict\u001b[1;34m(checkpoint_file)\u001b[0m\n\u001b[0;32m    414\u001b[0m     \u001b[1;32mtry\u001b[0m\u001b[1;33m:\u001b[0m\u001b[1;33m\u001b[0m\u001b[1;33m\u001b[0m\u001b[0m\n\u001b[1;32m--> 415\u001b[1;33m         \u001b[1;32mreturn\u001b[0m \u001b[0mtorch\u001b[0m\u001b[1;33m.\u001b[0m\u001b[0mload\u001b[0m\u001b[1;33m(\u001b[0m\u001b[0mcheckpoint_file\u001b[0m\u001b[1;33m,\u001b[0m \u001b[0mmap_location\u001b[0m\u001b[1;33m=\u001b[0m\u001b[1;34m\"cpu\"\u001b[0m\u001b[1;33m)\u001b[0m\u001b[1;33m\u001b[0m\u001b[1;33m\u001b[0m\u001b[0m\n\u001b[0m\u001b[0;32m    416\u001b[0m     \u001b[1;32mexcept\u001b[0m \u001b[0mException\u001b[0m \u001b[1;32mas\u001b[0m \u001b[0me\u001b[0m\u001b[1;33m:\u001b[0m\u001b[1;33m\u001b[0m\u001b[1;33m\u001b[0m\u001b[0m\n",
      "\u001b[1;32mc:\\Users\\prati\\anaconda3\\envs\\excelcheckapp\\lib\\site-packages\\torch\\serialization.py\u001b[0m in \u001b[0;36mload\u001b[1;34m(f, map_location, pickle_module, **pickle_load_args)\u001b[0m\n\u001b[0;32m    711\u001b[0m \u001b[1;33m\u001b[0m\u001b[0m\n\u001b[1;32m--> 712\u001b[1;33m     \u001b[1;33m.\u001b[0m\u001b[1;33m.\u001b[0m \u001b[0mwarning\u001b[0m\u001b[1;33m:\u001b[0m\u001b[1;33m:\u001b[0m\u001b[1;33m\u001b[0m\u001b[1;33m\u001b[0m\u001b[0m\n\u001b[0m\u001b[0;32m    713\u001b[0m         \u001b[1;33m:\u001b[0m\u001b[0mfunc\u001b[0m\u001b[1;33m:\u001b[0m\u001b[0;31m`\u001b[0m\u001b[0mtorch\u001b[0m\u001b[1;33m.\u001b[0m\u001b[0mload\u001b[0m\u001b[1;33m(\u001b[0m\u001b[1;33m)\u001b[0m\u001b[0;31m`\u001b[0m \u001b[0munless\u001b[0m\u001b[0;31m \u001b[0m\u001b[0;31m`\u001b[0m\u001b[0mweights_only\u001b[0m\u001b[0;31m`\u001b[0m \u001b[0mparameter\u001b[0m \u001b[1;32mis\u001b[0m \u001b[0mset\u001b[0m \u001b[0mto\u001b[0m\u001b[0;31m \u001b[0m\u001b[0;31m`\u001b[0m\u001b[1;32mTrue\u001b[0m\u001b[0;31m`\u001b[0m\u001b[1;33m,\u001b[0m\u001b[1;33m\u001b[0m\u001b[1;33m\u001b[0m\u001b[0m\n",
      "\u001b[1;32mc:\\Users\\prati\\anaconda3\\envs\\excelcheckapp\\lib\\site-packages\\torch\\serialization.py\u001b[0m in \u001b[0;36m_load\u001b[1;34m(zip_file, map_location, pickle_module, pickle_file, **pickle_load_args)\u001b[0m\n\u001b[0;32m   1045\u001b[0m         \u001b[0mrestore_location\u001b[0m \u001b[1;33m=\u001b[0m \u001b[0mdefault_restore_location\u001b[0m\u001b[1;33m\u001b[0m\u001b[1;33m\u001b[0m\u001b[0m\n\u001b[1;32m-> 1046\u001b[1;33m     \u001b[1;32melif\u001b[0m \u001b[0misinstance\u001b[0m\u001b[1;33m(\u001b[0m\u001b[0mmap_location\u001b[0m\u001b[1;33m,\u001b[0m \u001b[0mdict\u001b[0m\u001b[1;33m)\u001b[0m\u001b[1;33m:\u001b[0m\u001b[1;33m\u001b[0m\u001b[1;33m\u001b[0m\u001b[0m\n\u001b[0m\u001b[0;32m   1047\u001b[0m         \u001b[1;32mdef\u001b[0m \u001b[0mrestore_location\u001b[0m\u001b[1;33m(\u001b[0m\u001b[0mstorage\u001b[0m\u001b[1;33m,\u001b[0m \u001b[0mlocation\u001b[0m\u001b[1;33m)\u001b[0m\u001b[1;33m:\u001b[0m\u001b[1;33m\u001b[0m\u001b[1;33m\u001b[0m\u001b[0m\n",
      "\u001b[1;32mc:\\Users\\prati\\anaconda3\\envs\\excelcheckapp\\lib\\site-packages\\torch\\serialization.py\u001b[0m in \u001b[0;36mpersistent_load\u001b[1;34m(saved_id)\u001b[0m\n\u001b[0;32m   1014\u001b[0m     \u001b[0mdeserialized_storage_keys\u001b[0m \u001b[1;33m=\u001b[0m \u001b[0mpickle_module\u001b[0m\u001b[1;33m.\u001b[0m\u001b[0mload\u001b[0m\u001b[1;33m(\u001b[0m\u001b[0mf\u001b[0m\u001b[1;33m,\u001b[0m \u001b[1;33m**\u001b[0m\u001b[0mpickle_load_args\u001b[0m\u001b[1;33m)\u001b[0m\u001b[1;33m\u001b[0m\u001b[1;33m\u001b[0m\u001b[0m\n\u001b[1;32m-> 1015\u001b[1;33m \u001b[1;33m\u001b[0m\u001b[0m\n\u001b[0m\u001b[0;32m   1016\u001b[0m     \u001b[0moffset\u001b[0m \u001b[1;33m=\u001b[0m \u001b[0mf\u001b[0m\u001b[1;33m.\u001b[0m\u001b[0mtell\u001b[0m\u001b[1;33m(\u001b[0m\u001b[1;33m)\u001b[0m \u001b[1;32mif\u001b[0m \u001b[0mf_should_read_directly\u001b[0m \u001b[1;32melse\u001b[0m \u001b[1;32mNone\u001b[0m\u001b[1;33m\u001b[0m\u001b[1;33m\u001b[0m\u001b[0m\n",
      "\u001b[1;31mAttributeError\u001b[0m: module 'torch' has no attribute '_utils'",
      "\nDuring handling of the above exception, another exception occurred:\n",
      "\u001b[1;31mUnicodeDecodeError\u001b[0m                        Traceback (most recent call last)",
      "\u001b[1;32mc:\\Users\\prati\\anaconda3\\envs\\excelcheckapp\\lib\\site-packages\\transformers\\modeling_utils.py\u001b[0m in \u001b[0;36mload_state_dict\u001b[1;34m(checkpoint_file)\u001b[0m\n\u001b[0;32m    418\u001b[0m             \u001b[1;32mwith\u001b[0m \u001b[0mopen\u001b[0m\u001b[1;33m(\u001b[0m\u001b[0mcheckpoint_file\u001b[0m\u001b[1;33m)\u001b[0m \u001b[1;32mas\u001b[0m \u001b[0mf\u001b[0m\u001b[1;33m:\u001b[0m\u001b[1;33m\u001b[0m\u001b[1;33m\u001b[0m\u001b[0m\n\u001b[1;32m--> 419\u001b[1;33m                 \u001b[1;32mif\u001b[0m \u001b[0mf\u001b[0m\u001b[1;33m.\u001b[0m\u001b[0mread\u001b[0m\u001b[1;33m(\u001b[0m\u001b[1;36m7\u001b[0m\u001b[1;33m)\u001b[0m \u001b[1;33m==\u001b[0m \u001b[1;34m\"version\"\u001b[0m\u001b[1;33m:\u001b[0m\u001b[1;33m\u001b[0m\u001b[1;33m\u001b[0m\u001b[0m\n\u001b[0m\u001b[0;32m    420\u001b[0m                     raise OSError(\n",
      "\u001b[1;32mc:\\Users\\prati\\anaconda3\\envs\\excelcheckapp\\lib\\codecs.py\u001b[0m in \u001b[0;36mdecode\u001b[1;34m(self, input, final)\u001b[0m\n\u001b[0;32m    321\u001b[0m         \u001b[0mdata\u001b[0m \u001b[1;33m=\u001b[0m \u001b[0mself\u001b[0m\u001b[1;33m.\u001b[0m\u001b[0mbuffer\u001b[0m \u001b[1;33m+\u001b[0m \u001b[0minput\u001b[0m\u001b[1;33m\u001b[0m\u001b[1;33m\u001b[0m\u001b[0m\n\u001b[1;32m--> 322\u001b[1;33m         \u001b[1;33m(\u001b[0m\u001b[0mresult\u001b[0m\u001b[1;33m,\u001b[0m \u001b[0mconsumed\u001b[0m\u001b[1;33m)\u001b[0m \u001b[1;33m=\u001b[0m \u001b[0mself\u001b[0m\u001b[1;33m.\u001b[0m\u001b[0m_buffer_decode\u001b[0m\u001b[1;33m(\u001b[0m\u001b[0mdata\u001b[0m\u001b[1;33m,\u001b[0m \u001b[0mself\u001b[0m\u001b[1;33m.\u001b[0m\u001b[0merrors\u001b[0m\u001b[1;33m,\u001b[0m \u001b[0mfinal\u001b[0m\u001b[1;33m)\u001b[0m\u001b[1;33m\u001b[0m\u001b[1;33m\u001b[0m\u001b[0m\n\u001b[0m\u001b[0;32m    323\u001b[0m         \u001b[1;31m# keep undecoded input until the next call\u001b[0m\u001b[1;33m\u001b[0m\u001b[1;33m\u001b[0m\u001b[0m\n",
      "\u001b[1;31mUnicodeDecodeError\u001b[0m: 'utf-8' codec can't decode byte 0x80 in position 64: invalid start byte",
      "\nDuring handling of the above exception, another exception occurred:\n",
      "\u001b[1;31mOSError\u001b[0m                                   Traceback (most recent call last)",
      "\u001b[1;32m~\\AppData\\Local\\Temp\\ipykernel_19332\\2536893401.py\u001b[0m in \u001b[0;36m<module>\u001b[1;34m\u001b[0m\n\u001b[1;32m----> 1\u001b[1;33m \u001b[0mmodel\u001b[0m \u001b[1;33m=\u001b[0m \u001b[0mAutoModelForSeq2SeqLM\u001b[0m\u001b[1;33m.\u001b[0m\u001b[0mfrom_pretrained\u001b[0m\u001b[1;33m(\u001b[0m\u001b[1;34m\"KES/T5-KES\"\u001b[0m\u001b[1;33m)\u001b[0m\u001b[1;33m\u001b[0m\u001b[1;33m\u001b[0m\u001b[0m\n\u001b[0m",
      "\u001b[1;32mc:\\Users\\prati\\anaconda3\\envs\\excelcheckapp\\lib\\site-packages\\transformers\\models\\auto\\auto_factory.py\u001b[0m in \u001b[0;36mfrom_pretrained\u001b[1;34m(cls, pretrained_model_name_or_path, *model_args, **kwargs)\u001b[0m\n\u001b[0;32m    462\u001b[0m         \u001b[1;32melif\u001b[0m \u001b[0mtype\u001b[0m\u001b[1;33m(\u001b[0m\u001b[0mconfig\u001b[0m\u001b[1;33m)\u001b[0m \u001b[1;32min\u001b[0m \u001b[0mcls\u001b[0m\u001b[1;33m.\u001b[0m\u001b[0m_model_mapping\u001b[0m\u001b[1;33m.\u001b[0m\u001b[0mkeys\u001b[0m\u001b[1;33m(\u001b[0m\u001b[1;33m)\u001b[0m\u001b[1;33m:\u001b[0m\u001b[1;33m\u001b[0m\u001b[1;33m\u001b[0m\u001b[0m\n\u001b[0;32m    463\u001b[0m             \u001b[0mmodel_class\u001b[0m \u001b[1;33m=\u001b[0m \u001b[0m_get_model_class\u001b[0m\u001b[1;33m(\u001b[0m\u001b[0mconfig\u001b[0m\u001b[1;33m,\u001b[0m \u001b[0mcls\u001b[0m\u001b[1;33m.\u001b[0m\u001b[0m_model_mapping\u001b[0m\u001b[1;33m)\u001b[0m\u001b[1;33m\u001b[0m\u001b[1;33m\u001b[0m\u001b[0m\n\u001b[1;32m--> 464\u001b[1;33m             return model_class.from_pretrained(\n\u001b[0m\u001b[0;32m    465\u001b[0m                 \u001b[0mpretrained_model_name_or_path\u001b[0m\u001b[1;33m,\u001b[0m \u001b[1;33m*\u001b[0m\u001b[0mmodel_args\u001b[0m\u001b[1;33m,\u001b[0m \u001b[0mconfig\u001b[0m\u001b[1;33m=\u001b[0m\u001b[0mconfig\u001b[0m\u001b[1;33m,\u001b[0m \u001b[1;33m**\u001b[0m\u001b[0mhub_kwargs\u001b[0m\u001b[1;33m,\u001b[0m \u001b[1;33m**\u001b[0m\u001b[0mkwargs\u001b[0m\u001b[1;33m\u001b[0m\u001b[1;33m\u001b[0m\u001b[0m\n\u001b[0;32m    466\u001b[0m             )\n",
      "\u001b[1;32mc:\\Users\\prati\\anaconda3\\envs\\excelcheckapp\\lib\\site-packages\\transformers\\modeling_utils.py\u001b[0m in \u001b[0;36mfrom_pretrained\u001b[1;34m(cls, pretrained_model_name_or_path, *model_args, **kwargs)\u001b[0m\n\u001b[0;32m   2299\u001b[0m             \u001b[1;32mif\u001b[0m \u001b[1;32mnot\u001b[0m \u001b[0mis_sharded\u001b[0m \u001b[1;32mand\u001b[0m \u001b[0mstate_dict\u001b[0m \u001b[1;32mis\u001b[0m \u001b[1;32mNone\u001b[0m\u001b[1;33m:\u001b[0m\u001b[1;33m\u001b[0m\u001b[1;33m\u001b[0m\u001b[0m\n\u001b[0;32m   2300\u001b[0m                 \u001b[1;31m# Time to load the checkpoint\u001b[0m\u001b[1;33m\u001b[0m\u001b[1;33m\u001b[0m\u001b[0m\n\u001b[1;32m-> 2301\u001b[1;33m                 \u001b[0mstate_dict\u001b[0m \u001b[1;33m=\u001b[0m \u001b[0mload_state_dict\u001b[0m\u001b[1;33m(\u001b[0m\u001b[0mresolved_archive_file\u001b[0m\u001b[1;33m)\u001b[0m\u001b[1;33m\u001b[0m\u001b[1;33m\u001b[0m\u001b[0m\n\u001b[0m\u001b[0;32m   2302\u001b[0m \u001b[1;33m\u001b[0m\u001b[0m\n\u001b[0;32m   2303\u001b[0m             \u001b[1;31m# set dtype to instantiate the model under:\u001b[0m\u001b[1;33m\u001b[0m\u001b[1;33m\u001b[0m\u001b[0m\n",
      "\u001b[1;32mc:\\Users\\prati\\anaconda3\\envs\\excelcheckapp\\lib\\site-packages\\transformers\\modeling_utils.py\u001b[0m in \u001b[0;36mload_state_dict\u001b[1;34m(checkpoint_file)\u001b[0m\n\u001b[0;32m    429\u001b[0m                     ) from e\n\u001b[0;32m    430\u001b[0m         \u001b[1;32mexcept\u001b[0m \u001b[1;33m(\u001b[0m\u001b[0mUnicodeDecodeError\u001b[0m\u001b[1;33m,\u001b[0m \u001b[0mValueError\u001b[0m\u001b[1;33m)\u001b[0m\u001b[1;33m:\u001b[0m\u001b[1;33m\u001b[0m\u001b[1;33m\u001b[0m\u001b[0m\n\u001b[1;32m--> 431\u001b[1;33m             raise OSError(\n\u001b[0m\u001b[0;32m    432\u001b[0m                 \u001b[1;34mf\"Unable to load weights from pytorch checkpoint file for '{checkpoint_file}' \"\u001b[0m\u001b[1;33m\u001b[0m\u001b[1;33m\u001b[0m\u001b[0m\n\u001b[0;32m    433\u001b[0m                 \u001b[1;34mf\"at '{checkpoint_file}'. \"\u001b[0m\u001b[1;33m\u001b[0m\u001b[1;33m\u001b[0m\u001b[0m\n",
      "\u001b[1;31mOSError\u001b[0m: Unable to load weights from pytorch checkpoint file for 'C:\\Users\\prati/.cache\\huggingface\\hub\\models--KES--T5-KES\\snapshots\\fb5378c138b6d2827be5583787178b4e467d7b12\\pytorch_model.bin' at 'C:\\Users\\prati/.cache\\huggingface\\hub\\models--KES--T5-KES\\snapshots\\fb5378c138b6d2827be5583787178b4e467d7b12\\pytorch_model.bin'. If you tried to load a PyTorch model from a TF 2.0 checkpoint, please set from_tf=True."
     ]
    }
   ],
   "source": [
    "model = AutoModelForSeq2SeqLM.from_pretrained(\"KES/T5-KES\")"
   ]
  },
  {
   "cell_type": "code",
   "execution_count": null,
   "id": "80ee69a4",
   "metadata": {},
   "outputs": [],
   "source": [
    "\n",
    "text = \"I am lived with my parenmts \"\n",
    "inputs = tokenizer(\"grammar:\"+text, truncation=True, return_tensors='pt')\n",
    "\n",
    "output = model.generate(inputs['input_ids'], num_beams=4, max_length=512, early_stopping=True)\n",
    "correction=tokenizer.batch_decode(output, skip_special_tokens=True)\n",
    "print(\"\".join(correction)) #Correction: I am living with my parents.\n"
   ]
  },
  {
   "cell_type": "code",
   "execution_count": 38,
   "id": "748e9faf",
   "metadata": {},
   "outputs": [
    {
     "name": "stderr",
     "output_type": "stream",
     "text": [
      "  2%|▏         | 1/63 [00:02<02:23,  2.32s/it]\n"
     ]
    },
    {
     "ename": "OSError",
     "evalue": "Unable to load weights from pytorch checkpoint file for 'C:\\Users\\prati/.cache\\huggingface\\hub\\models--KES--T5-TTParser\\snapshots\\24b137cc238c008d35cc0bb4a30b413bdc6d6cfd\\pytorch_model.bin' at 'C:\\Users\\prati/.cache\\huggingface\\hub\\models--KES--T5-TTParser\\snapshots\\24b137cc238c008d35cc0bb4a30b413bdc6d6cfd\\pytorch_model.bin'. If you tried to load a PyTorch model from a TF 2.0 checkpoint, please set from_tf=True.",
     "output_type": "error",
     "traceback": [
      "\u001b[1;31m---------------------------------------------------------------------------\u001b[0m",
      "\u001b[1;31mAttributeError\u001b[0m                            Traceback (most recent call last)",
      "\u001b[1;32mc:\\Users\\prati\\anaconda3\\envs\\excelcheckapp\\lib\\site-packages\\transformers\\modeling_utils.py\u001b[0m in \u001b[0;36mload_state_dict\u001b[1;34m(checkpoint_file)\u001b[0m\n\u001b[0;32m    414\u001b[0m     \u001b[1;32mtry\u001b[0m\u001b[1;33m:\u001b[0m\u001b[1;33m\u001b[0m\u001b[1;33m\u001b[0m\u001b[0m\n\u001b[1;32m--> 415\u001b[1;33m         \u001b[1;32mreturn\u001b[0m \u001b[0mtorch\u001b[0m\u001b[1;33m.\u001b[0m\u001b[0mload\u001b[0m\u001b[1;33m(\u001b[0m\u001b[0mcheckpoint_file\u001b[0m\u001b[1;33m,\u001b[0m \u001b[0mmap_location\u001b[0m\u001b[1;33m=\u001b[0m\u001b[1;34m\"cpu\"\u001b[0m\u001b[1;33m)\u001b[0m\u001b[1;33m\u001b[0m\u001b[1;33m\u001b[0m\u001b[0m\n\u001b[0m\u001b[0;32m    416\u001b[0m     \u001b[1;32mexcept\u001b[0m \u001b[0mException\u001b[0m \u001b[1;32mas\u001b[0m \u001b[0me\u001b[0m\u001b[1;33m:\u001b[0m\u001b[1;33m\u001b[0m\u001b[1;33m\u001b[0m\u001b[0m\n",
      "\u001b[1;32mc:\\Users\\prati\\anaconda3\\envs\\excelcheckapp\\lib\\site-packages\\torch\\serialization.py\u001b[0m in \u001b[0;36mload\u001b[1;34m(f, map_location, pickle_module, **pickle_load_args)\u001b[0m\n\u001b[0;32m    711\u001b[0m \u001b[1;33m\u001b[0m\u001b[0m\n\u001b[1;32m--> 712\u001b[1;33m     \u001b[1;33m.\u001b[0m\u001b[1;33m.\u001b[0m \u001b[0mwarning\u001b[0m\u001b[1;33m:\u001b[0m\u001b[1;33m:\u001b[0m\u001b[1;33m\u001b[0m\u001b[1;33m\u001b[0m\u001b[0m\n\u001b[0m\u001b[0;32m    713\u001b[0m         \u001b[1;33m:\u001b[0m\u001b[0mfunc\u001b[0m\u001b[1;33m:\u001b[0m\u001b[0;31m`\u001b[0m\u001b[0mtorch\u001b[0m\u001b[1;33m.\u001b[0m\u001b[0mload\u001b[0m\u001b[1;33m(\u001b[0m\u001b[1;33m)\u001b[0m\u001b[0;31m`\u001b[0m \u001b[0munless\u001b[0m\u001b[0;31m \u001b[0m\u001b[0;31m`\u001b[0m\u001b[0mweights_only\u001b[0m\u001b[0;31m`\u001b[0m \u001b[0mparameter\u001b[0m \u001b[1;32mis\u001b[0m \u001b[0mset\u001b[0m \u001b[0mto\u001b[0m\u001b[0;31m \u001b[0m\u001b[0;31m`\u001b[0m\u001b[1;32mTrue\u001b[0m\u001b[0;31m`\u001b[0m\u001b[1;33m,\u001b[0m\u001b[1;33m\u001b[0m\u001b[1;33m\u001b[0m\u001b[0m\n",
      "\u001b[1;32mc:\\Users\\prati\\anaconda3\\envs\\excelcheckapp\\lib\\site-packages\\torch\\serialization.py\u001b[0m in \u001b[0;36m_load\u001b[1;34m(zip_file, map_location, pickle_module, pickle_file, **pickle_load_args)\u001b[0m\n\u001b[0;32m   1045\u001b[0m         \u001b[0mrestore_location\u001b[0m \u001b[1;33m=\u001b[0m \u001b[0mdefault_restore_location\u001b[0m\u001b[1;33m\u001b[0m\u001b[1;33m\u001b[0m\u001b[0m\n\u001b[1;32m-> 1046\u001b[1;33m     \u001b[1;32melif\u001b[0m \u001b[0misinstance\u001b[0m\u001b[1;33m(\u001b[0m\u001b[0mmap_location\u001b[0m\u001b[1;33m,\u001b[0m \u001b[0mdict\u001b[0m\u001b[1;33m)\u001b[0m\u001b[1;33m:\u001b[0m\u001b[1;33m\u001b[0m\u001b[1;33m\u001b[0m\u001b[0m\n\u001b[0m\u001b[0;32m   1047\u001b[0m         \u001b[1;32mdef\u001b[0m \u001b[0mrestore_location\u001b[0m\u001b[1;33m(\u001b[0m\u001b[0mstorage\u001b[0m\u001b[1;33m,\u001b[0m \u001b[0mlocation\u001b[0m\u001b[1;33m)\u001b[0m\u001b[1;33m:\u001b[0m\u001b[1;33m\u001b[0m\u001b[1;33m\u001b[0m\u001b[0m\n",
      "\u001b[1;32mc:\\Users\\prati\\anaconda3\\envs\\excelcheckapp\\lib\\site-packages\\torch\\serialization.py\u001b[0m in \u001b[0;36mpersistent_load\u001b[1;34m(saved_id)\u001b[0m\n\u001b[0;32m   1014\u001b[0m     \u001b[0mdeserialized_storage_keys\u001b[0m \u001b[1;33m=\u001b[0m \u001b[0mpickle_module\u001b[0m\u001b[1;33m.\u001b[0m\u001b[0mload\u001b[0m\u001b[1;33m(\u001b[0m\u001b[0mf\u001b[0m\u001b[1;33m,\u001b[0m \u001b[1;33m**\u001b[0m\u001b[0mpickle_load_args\u001b[0m\u001b[1;33m)\u001b[0m\u001b[1;33m\u001b[0m\u001b[1;33m\u001b[0m\u001b[0m\n\u001b[1;32m-> 1015\u001b[1;33m \u001b[1;33m\u001b[0m\u001b[0m\n\u001b[0m\u001b[0;32m   1016\u001b[0m     \u001b[0moffset\u001b[0m \u001b[1;33m=\u001b[0m \u001b[0mf\u001b[0m\u001b[1;33m.\u001b[0m\u001b[0mtell\u001b[0m\u001b[1;33m(\u001b[0m\u001b[1;33m)\u001b[0m \u001b[1;32mif\u001b[0m \u001b[0mf_should_read_directly\u001b[0m \u001b[1;32melse\u001b[0m \u001b[1;32mNone\u001b[0m\u001b[1;33m\u001b[0m\u001b[1;33m\u001b[0m\u001b[0m\n",
      "\u001b[1;31mAttributeError\u001b[0m: module 'torch' has no attribute '_utils'",
      "\nDuring handling of the above exception, another exception occurred:\n",
      "\u001b[1;31mUnicodeDecodeError\u001b[0m                        Traceback (most recent call last)",
      "\u001b[1;32mc:\\Users\\prati\\anaconda3\\envs\\excelcheckapp\\lib\\site-packages\\transformers\\modeling_utils.py\u001b[0m in \u001b[0;36mload_state_dict\u001b[1;34m(checkpoint_file)\u001b[0m\n\u001b[0;32m    418\u001b[0m             \u001b[1;32mwith\u001b[0m \u001b[0mopen\u001b[0m\u001b[1;33m(\u001b[0m\u001b[0mcheckpoint_file\u001b[0m\u001b[1;33m)\u001b[0m \u001b[1;32mas\u001b[0m \u001b[0mf\u001b[0m\u001b[1;33m:\u001b[0m\u001b[1;33m\u001b[0m\u001b[1;33m\u001b[0m\u001b[0m\n\u001b[1;32m--> 419\u001b[1;33m                 \u001b[1;32mif\u001b[0m \u001b[0mf\u001b[0m\u001b[1;33m.\u001b[0m\u001b[0mread\u001b[0m\u001b[1;33m(\u001b[0m\u001b[1;36m7\u001b[0m\u001b[1;33m)\u001b[0m \u001b[1;33m==\u001b[0m \u001b[1;34m\"version\"\u001b[0m\u001b[1;33m:\u001b[0m\u001b[1;33m\u001b[0m\u001b[1;33m\u001b[0m\u001b[0m\n\u001b[0m\u001b[0;32m    420\u001b[0m                     raise OSError(\n",
      "\u001b[1;32mc:\\Users\\prati\\anaconda3\\envs\\excelcheckapp\\lib\\codecs.py\u001b[0m in \u001b[0;36mdecode\u001b[1;34m(self, input, final)\u001b[0m\n\u001b[0;32m    321\u001b[0m         \u001b[0mdata\u001b[0m \u001b[1;33m=\u001b[0m \u001b[0mself\u001b[0m\u001b[1;33m.\u001b[0m\u001b[0mbuffer\u001b[0m \u001b[1;33m+\u001b[0m \u001b[0minput\u001b[0m\u001b[1;33m\u001b[0m\u001b[1;33m\u001b[0m\u001b[0m\n\u001b[1;32m--> 322\u001b[1;33m         \u001b[1;33m(\u001b[0m\u001b[0mresult\u001b[0m\u001b[1;33m,\u001b[0m \u001b[0mconsumed\u001b[0m\u001b[1;33m)\u001b[0m \u001b[1;33m=\u001b[0m \u001b[0mself\u001b[0m\u001b[1;33m.\u001b[0m\u001b[0m_buffer_decode\u001b[0m\u001b[1;33m(\u001b[0m\u001b[0mdata\u001b[0m\u001b[1;33m,\u001b[0m \u001b[0mself\u001b[0m\u001b[1;33m.\u001b[0m\u001b[0merrors\u001b[0m\u001b[1;33m,\u001b[0m \u001b[0mfinal\u001b[0m\u001b[1;33m)\u001b[0m\u001b[1;33m\u001b[0m\u001b[1;33m\u001b[0m\u001b[0m\n\u001b[0m\u001b[0;32m    323\u001b[0m         \u001b[1;31m# keep undecoded input until the next call\u001b[0m\u001b[1;33m\u001b[0m\u001b[1;33m\u001b[0m\u001b[0m\n",
      "\u001b[1;31mUnicodeDecodeError\u001b[0m: 'utf-8' codec can't decode byte 0x80 in position 64: invalid start byte",
      "\nDuring handling of the above exception, another exception occurred:\n",
      "\u001b[1;31mOSError\u001b[0m                                   Traceback (most recent call last)",
      "\u001b[1;32m~\\AppData\\Local\\Temp\\ipykernel_19332\\293083084.py\u001b[0m in \u001b[0;36m<module>\u001b[1;34m\u001b[0m\n\u001b[1;32m----> 1\u001b[1;33m \u001b[0mcorrect\u001b[0m \u001b[1;33m=\u001b[0m \u001b[0mmush_df\u001b[0m\u001b[1;33m[\u001b[0m\u001b[1;34m'bullets'\u001b[0m\u001b[1;33m]\u001b[0m\u001b[1;33m.\u001b[0m\u001b[0mprogress_apply\u001b[0m\u001b[1;33m(\u001b[0m\u001b[1;32mlambda\u001b[0m \u001b[0mx\u001b[0m \u001b[1;33m:\u001b[0m \u001b[0mcb\u001b[0m\u001b[1;33m.\u001b[0m\u001b[0mParser\u001b[0m\u001b[1;33m(\u001b[0m\u001b[0mx\u001b[0m\u001b[1;33m)\u001b[0m\u001b[1;33m.\u001b[0m\u001b[0mTT_Parser\u001b[0m\u001b[1;33m(\u001b[0m\u001b[1;33m)\u001b[0m\u001b[1;33m)\u001b[0m\u001b[1;33m\u001b[0m\u001b[1;33m\u001b[0m\u001b[0m\n\u001b[0m",
      "\u001b[1;32mc:\\Users\\prati\\anaconda3\\envs\\excelcheckapp\\lib\\site-packages\\tqdm\\std.py\u001b[0m in \u001b[0;36minner\u001b[1;34m(df, func, *args, **kwargs)\u001b[0m\n\u001b[0;32m    812\u001b[0m                 \u001b[1;31m# on the df using our wrapper (which provides bar updating)\u001b[0m\u001b[1;33m\u001b[0m\u001b[1;33m\u001b[0m\u001b[0m\n\u001b[0;32m    813\u001b[0m                 \u001b[1;32mtry\u001b[0m\u001b[1;33m:\u001b[0m\u001b[1;33m\u001b[0m\u001b[1;33m\u001b[0m\u001b[0m\n\u001b[1;32m--> 814\u001b[1;33m                     \u001b[1;32mreturn\u001b[0m \u001b[0mgetattr\u001b[0m\u001b[1;33m(\u001b[0m\u001b[0mdf\u001b[0m\u001b[1;33m,\u001b[0m \u001b[0mdf_function\u001b[0m\u001b[1;33m)\u001b[0m\u001b[1;33m(\u001b[0m\u001b[0mwrapper\u001b[0m\u001b[1;33m,\u001b[0m \u001b[1;33m**\u001b[0m\u001b[0mkwargs\u001b[0m\u001b[1;33m)\u001b[0m\u001b[1;33m\u001b[0m\u001b[1;33m\u001b[0m\u001b[0m\n\u001b[0m\u001b[0;32m    815\u001b[0m                 \u001b[1;32mfinally\u001b[0m\u001b[1;33m:\u001b[0m\u001b[1;33m\u001b[0m\u001b[1;33m\u001b[0m\u001b[0m\n\u001b[0;32m    816\u001b[0m                     \u001b[0mt\u001b[0m\u001b[1;33m.\u001b[0m\u001b[0mclose\u001b[0m\u001b[1;33m(\u001b[0m\u001b[1;33m)\u001b[0m\u001b[1;33m\u001b[0m\u001b[1;33m\u001b[0m\u001b[0m\n",
      "\u001b[1;32mc:\\Users\\prati\\anaconda3\\envs\\excelcheckapp\\lib\\site-packages\\pandas\\core\\series.py\u001b[0m in \u001b[0;36mapply\u001b[1;34m(self, func, convert_dtype, args, **kwargs)\u001b[0m\n\u001b[0;32m   4769\u001b[0m         \u001b[0mdtype\u001b[0m\u001b[1;33m:\u001b[0m \u001b[0mfloat64\u001b[0m\u001b[1;33m\u001b[0m\u001b[1;33m\u001b[0m\u001b[0m\n\u001b[0;32m   4770\u001b[0m         \"\"\"\n\u001b[1;32m-> 4771\u001b[1;33m         \u001b[1;32mreturn\u001b[0m \u001b[0mSeriesApply\u001b[0m\u001b[1;33m(\u001b[0m\u001b[0mself\u001b[0m\u001b[1;33m,\u001b[0m \u001b[0mfunc\u001b[0m\u001b[1;33m,\u001b[0m \u001b[0mconvert_dtype\u001b[0m\u001b[1;33m,\u001b[0m \u001b[0margs\u001b[0m\u001b[1;33m,\u001b[0m \u001b[0mkwargs\u001b[0m\u001b[1;33m)\u001b[0m\u001b[1;33m.\u001b[0m\u001b[0mapply\u001b[0m\u001b[1;33m(\u001b[0m\u001b[1;33m)\u001b[0m\u001b[1;33m\u001b[0m\u001b[1;33m\u001b[0m\u001b[0m\n\u001b[0m\u001b[0;32m   4772\u001b[0m \u001b[1;33m\u001b[0m\u001b[0m\n\u001b[0;32m   4773\u001b[0m     def _reduce(\n",
      "\u001b[1;32mc:\\Users\\prati\\anaconda3\\envs\\excelcheckapp\\lib\\site-packages\\pandas\\core\\apply.py\u001b[0m in \u001b[0;36mapply\u001b[1;34m(self)\u001b[0m\n\u001b[0;32m   1121\u001b[0m \u001b[1;33m\u001b[0m\u001b[0m\n\u001b[0;32m   1122\u001b[0m         \u001b[1;31m# self.f is Callable\u001b[0m\u001b[1;33m\u001b[0m\u001b[1;33m\u001b[0m\u001b[0m\n\u001b[1;32m-> 1123\u001b[1;33m         \u001b[1;32mreturn\u001b[0m \u001b[0mself\u001b[0m\u001b[1;33m.\u001b[0m\u001b[0mapply_standard\u001b[0m\u001b[1;33m(\u001b[0m\u001b[1;33m)\u001b[0m\u001b[1;33m\u001b[0m\u001b[1;33m\u001b[0m\u001b[0m\n\u001b[0m\u001b[0;32m   1124\u001b[0m \u001b[1;33m\u001b[0m\u001b[0m\n\u001b[0;32m   1125\u001b[0m     \u001b[1;32mdef\u001b[0m \u001b[0magg\u001b[0m\u001b[1;33m(\u001b[0m\u001b[0mself\u001b[0m\u001b[1;33m)\u001b[0m\u001b[1;33m:\u001b[0m\u001b[1;33m\u001b[0m\u001b[1;33m\u001b[0m\u001b[0m\n",
      "\u001b[1;32mc:\\Users\\prati\\anaconda3\\envs\\excelcheckapp\\lib\\site-packages\\pandas\\core\\apply.py\u001b[0m in \u001b[0;36mapply_standard\u001b[1;34m(self)\u001b[0m\n\u001b[0;32m   1172\u001b[0m             \u001b[1;32melse\u001b[0m\u001b[1;33m:\u001b[0m\u001b[1;33m\u001b[0m\u001b[1;33m\u001b[0m\u001b[0m\n\u001b[0;32m   1173\u001b[0m                 \u001b[0mvalues\u001b[0m \u001b[1;33m=\u001b[0m \u001b[0mobj\u001b[0m\u001b[1;33m.\u001b[0m\u001b[0mastype\u001b[0m\u001b[1;33m(\u001b[0m\u001b[0mobject\u001b[0m\u001b[1;33m)\u001b[0m\u001b[1;33m.\u001b[0m\u001b[0m_values\u001b[0m\u001b[1;33m\u001b[0m\u001b[1;33m\u001b[0m\u001b[0m\n\u001b[1;32m-> 1174\u001b[1;33m                 mapped = lib.map_infer(\n\u001b[0m\u001b[0;32m   1175\u001b[0m                     \u001b[0mvalues\u001b[0m\u001b[1;33m,\u001b[0m\u001b[1;33m\u001b[0m\u001b[1;33m\u001b[0m\u001b[0m\n\u001b[0;32m   1176\u001b[0m                     \u001b[0mf\u001b[0m\u001b[1;33m,\u001b[0m\u001b[1;33m\u001b[0m\u001b[1;33m\u001b[0m\u001b[0m\n",
      "\u001b[1;32mc:\\Users\\prati\\anaconda3\\envs\\excelcheckapp\\lib\\site-packages\\pandas\\_libs\\lib.pyx\u001b[0m in \u001b[0;36mpandas._libs.lib.map_infer\u001b[1;34m()\u001b[0m\n",
      "\u001b[1;32mc:\\Users\\prati\\anaconda3\\envs\\excelcheckapp\\lib\\site-packages\\tqdm\\std.py\u001b[0m in \u001b[0;36mwrapper\u001b[1;34m(*args, **kwargs)\u001b[0m\n\u001b[0;32m    807\u001b[0m                     \u001b[1;31m# take a fast or slow code path; so stop when t.total==t.n\u001b[0m\u001b[1;33m\u001b[0m\u001b[1;33m\u001b[0m\u001b[0m\n\u001b[0;32m    808\u001b[0m                     \u001b[0mt\u001b[0m\u001b[1;33m.\u001b[0m\u001b[0mupdate\u001b[0m\u001b[1;33m(\u001b[0m\u001b[0mn\u001b[0m\u001b[1;33m=\u001b[0m\u001b[1;36m1\u001b[0m \u001b[1;32mif\u001b[0m \u001b[1;32mnot\u001b[0m \u001b[0mt\u001b[0m\u001b[1;33m.\u001b[0m\u001b[0mtotal\u001b[0m \u001b[1;32mor\u001b[0m \u001b[0mt\u001b[0m\u001b[1;33m.\u001b[0m\u001b[0mn\u001b[0m \u001b[1;33m<\u001b[0m \u001b[0mt\u001b[0m\u001b[1;33m.\u001b[0m\u001b[0mtotal\u001b[0m \u001b[1;32melse\u001b[0m \u001b[1;36m0\u001b[0m\u001b[1;33m)\u001b[0m\u001b[1;33m\u001b[0m\u001b[1;33m\u001b[0m\u001b[0m\n\u001b[1;32m--> 809\u001b[1;33m                     \u001b[1;32mreturn\u001b[0m \u001b[0mfunc\u001b[0m\u001b[1;33m(\u001b[0m\u001b[1;33m*\u001b[0m\u001b[0margs\u001b[0m\u001b[1;33m,\u001b[0m \u001b[1;33m**\u001b[0m\u001b[0mkwargs\u001b[0m\u001b[1;33m)\u001b[0m\u001b[1;33m\u001b[0m\u001b[1;33m\u001b[0m\u001b[0m\n\u001b[0m\u001b[0;32m    810\u001b[0m \u001b[1;33m\u001b[0m\u001b[0m\n\u001b[0;32m    811\u001b[0m                 \u001b[1;31m# Apply the provided function (in **kwargs)\u001b[0m\u001b[1;33m\u001b[0m\u001b[1;33m\u001b[0m\u001b[0m\n",
      "\u001b[1;32m~\\AppData\\Local\\Temp\\ipykernel_19332\\293083084.py\u001b[0m in \u001b[0;36m<lambda>\u001b[1;34m(x)\u001b[0m\n\u001b[1;32m----> 1\u001b[1;33m \u001b[0mcorrect\u001b[0m \u001b[1;33m=\u001b[0m \u001b[0mmush_df\u001b[0m\u001b[1;33m[\u001b[0m\u001b[1;34m'bullets'\u001b[0m\u001b[1;33m]\u001b[0m\u001b[1;33m.\u001b[0m\u001b[0mprogress_apply\u001b[0m\u001b[1;33m(\u001b[0m\u001b[1;32mlambda\u001b[0m \u001b[0mx\u001b[0m \u001b[1;33m:\u001b[0m \u001b[0mcb\u001b[0m\u001b[1;33m.\u001b[0m\u001b[0mParser\u001b[0m\u001b[1;33m(\u001b[0m\u001b[0mx\u001b[0m\u001b[1;33m)\u001b[0m\u001b[1;33m.\u001b[0m\u001b[0mTT_Parser\u001b[0m\u001b[1;33m(\u001b[0m\u001b[1;33m)\u001b[0m\u001b[1;33m)\u001b[0m\u001b[1;33m\u001b[0m\u001b[1;33m\u001b[0m\u001b[0m\n\u001b[0m",
      "\u001b[1;32mc:\\Users\\prati\\anaconda3\\envs\\excelcheckapp\\lib\\site-packages\\Caribe\\__init__.py\u001b[0m in \u001b[0;36m__init__\u001b[1;34m(self, sentence)\u001b[0m\n\u001b[0;32m    730\u001b[0m         \u001b[0mself\u001b[0m\u001b[1;33m.\u001b[0m\u001b[0mcorrection\u001b[0m \u001b[1;33m=\u001b[0m \u001b[0mself\u001b[0m\u001b[1;33m\u001b[0m\u001b[1;33m\u001b[0m\u001b[0m\n\u001b[0;32m    731\u001b[0m         \u001b[0mtokenizer\u001b[0m \u001b[1;33m=\u001b[0m \u001b[0mAutoTokenizer\u001b[0m\u001b[1;33m.\u001b[0m\u001b[0mfrom_pretrained\u001b[0m\u001b[1;33m(\u001b[0m\u001b[1;34m\"KES/T5-TTParser\"\u001b[0m\u001b[1;33m)\u001b[0m\u001b[1;33m\u001b[0m\u001b[1;33m\u001b[0m\u001b[0m\n\u001b[1;32m--> 732\u001b[1;33m         \u001b[0mmodel\u001b[0m \u001b[1;33m=\u001b[0m \u001b[0mAutoModelForSeq2SeqLM\u001b[0m\u001b[1;33m.\u001b[0m\u001b[0mfrom_pretrained\u001b[0m\u001b[1;33m(\u001b[0m\u001b[1;34m\"KES/T5-TTParser\"\u001b[0m\u001b[1;33m)\u001b[0m\u001b[1;33m\u001b[0m\u001b[1;33m\u001b[0m\u001b[0m\n\u001b[0m\u001b[0;32m    733\u001b[0m \u001b[1;33m\u001b[0m\u001b[0m\n\u001b[0;32m    734\u001b[0m         \u001b[0minputs\u001b[0m \u001b[1;33m=\u001b[0m \u001b[0mtokenizer\u001b[0m\u001b[1;33m(\u001b[0m\u001b[1;34m\"grammar:\"\u001b[0m\u001b[1;33m+\u001b[0m\u001b[0mself\u001b[0m\u001b[1;33m.\u001b[0m\u001b[0msentence\u001b[0m\u001b[1;33m,\u001b[0m \u001b[0mtruncation\u001b[0m\u001b[1;33m=\u001b[0m\u001b[1;32mTrue\u001b[0m\u001b[1;33m,\u001b[0m \u001b[0mreturn_tensors\u001b[0m\u001b[1;33m=\u001b[0m\u001b[1;34m'pt'\u001b[0m\u001b[1;33m)\u001b[0m\u001b[1;33m\u001b[0m\u001b[1;33m\u001b[0m\u001b[0m\n",
      "\u001b[1;32mc:\\Users\\prati\\anaconda3\\envs\\excelcheckapp\\lib\\site-packages\\transformers\\models\\auto\\auto_factory.py\u001b[0m in \u001b[0;36mfrom_pretrained\u001b[1;34m(cls, pretrained_model_name_or_path, *model_args, **kwargs)\u001b[0m\n\u001b[0;32m    462\u001b[0m         \u001b[1;32melif\u001b[0m \u001b[0mtype\u001b[0m\u001b[1;33m(\u001b[0m\u001b[0mconfig\u001b[0m\u001b[1;33m)\u001b[0m \u001b[1;32min\u001b[0m \u001b[0mcls\u001b[0m\u001b[1;33m.\u001b[0m\u001b[0m_model_mapping\u001b[0m\u001b[1;33m.\u001b[0m\u001b[0mkeys\u001b[0m\u001b[1;33m(\u001b[0m\u001b[1;33m)\u001b[0m\u001b[1;33m:\u001b[0m\u001b[1;33m\u001b[0m\u001b[1;33m\u001b[0m\u001b[0m\n\u001b[0;32m    463\u001b[0m             \u001b[0mmodel_class\u001b[0m \u001b[1;33m=\u001b[0m \u001b[0m_get_model_class\u001b[0m\u001b[1;33m(\u001b[0m\u001b[0mconfig\u001b[0m\u001b[1;33m,\u001b[0m \u001b[0mcls\u001b[0m\u001b[1;33m.\u001b[0m\u001b[0m_model_mapping\u001b[0m\u001b[1;33m)\u001b[0m\u001b[1;33m\u001b[0m\u001b[1;33m\u001b[0m\u001b[0m\n\u001b[1;32m--> 464\u001b[1;33m             return model_class.from_pretrained(\n\u001b[0m\u001b[0;32m    465\u001b[0m                 \u001b[0mpretrained_model_name_or_path\u001b[0m\u001b[1;33m,\u001b[0m \u001b[1;33m*\u001b[0m\u001b[0mmodel_args\u001b[0m\u001b[1;33m,\u001b[0m \u001b[0mconfig\u001b[0m\u001b[1;33m=\u001b[0m\u001b[0mconfig\u001b[0m\u001b[1;33m,\u001b[0m \u001b[1;33m**\u001b[0m\u001b[0mhub_kwargs\u001b[0m\u001b[1;33m,\u001b[0m \u001b[1;33m**\u001b[0m\u001b[0mkwargs\u001b[0m\u001b[1;33m\u001b[0m\u001b[1;33m\u001b[0m\u001b[0m\n\u001b[0;32m    466\u001b[0m             )\n",
      "\u001b[1;32mc:\\Users\\prati\\anaconda3\\envs\\excelcheckapp\\lib\\site-packages\\transformers\\modeling_utils.py\u001b[0m in \u001b[0;36mfrom_pretrained\u001b[1;34m(cls, pretrained_model_name_or_path, *model_args, **kwargs)\u001b[0m\n\u001b[0;32m   2299\u001b[0m             \u001b[1;32mif\u001b[0m \u001b[1;32mnot\u001b[0m \u001b[0mis_sharded\u001b[0m \u001b[1;32mand\u001b[0m \u001b[0mstate_dict\u001b[0m \u001b[1;32mis\u001b[0m \u001b[1;32mNone\u001b[0m\u001b[1;33m:\u001b[0m\u001b[1;33m\u001b[0m\u001b[1;33m\u001b[0m\u001b[0m\n\u001b[0;32m   2300\u001b[0m                 \u001b[1;31m# Time to load the checkpoint\u001b[0m\u001b[1;33m\u001b[0m\u001b[1;33m\u001b[0m\u001b[0m\n\u001b[1;32m-> 2301\u001b[1;33m                 \u001b[0mstate_dict\u001b[0m \u001b[1;33m=\u001b[0m \u001b[0mload_state_dict\u001b[0m\u001b[1;33m(\u001b[0m\u001b[0mresolved_archive_file\u001b[0m\u001b[1;33m)\u001b[0m\u001b[1;33m\u001b[0m\u001b[1;33m\u001b[0m\u001b[0m\n\u001b[0m\u001b[0;32m   2302\u001b[0m \u001b[1;33m\u001b[0m\u001b[0m\n\u001b[0;32m   2303\u001b[0m             \u001b[1;31m# set dtype to instantiate the model under:\u001b[0m\u001b[1;33m\u001b[0m\u001b[1;33m\u001b[0m\u001b[0m\n",
      "\u001b[1;32mc:\\Users\\prati\\anaconda3\\envs\\excelcheckapp\\lib\\site-packages\\transformers\\modeling_utils.py\u001b[0m in \u001b[0;36mload_state_dict\u001b[1;34m(checkpoint_file)\u001b[0m\n\u001b[0;32m    429\u001b[0m                     ) from e\n\u001b[0;32m    430\u001b[0m         \u001b[1;32mexcept\u001b[0m \u001b[1;33m(\u001b[0m\u001b[0mUnicodeDecodeError\u001b[0m\u001b[1;33m,\u001b[0m \u001b[0mValueError\u001b[0m\u001b[1;33m)\u001b[0m\u001b[1;33m:\u001b[0m\u001b[1;33m\u001b[0m\u001b[1;33m\u001b[0m\u001b[0m\n\u001b[1;32m--> 431\u001b[1;33m             raise OSError(\n\u001b[0m\u001b[0;32m    432\u001b[0m                 \u001b[1;34mf\"Unable to load weights from pytorch checkpoint file for '{checkpoint_file}' \"\u001b[0m\u001b[1;33m\u001b[0m\u001b[1;33m\u001b[0m\u001b[0m\n\u001b[0;32m    433\u001b[0m                 \u001b[1;34mf\"at '{checkpoint_file}'. \"\u001b[0m\u001b[1;33m\u001b[0m\u001b[1;33m\u001b[0m\u001b[0m\n",
      "\u001b[1;31mOSError\u001b[0m: Unable to load weights from pytorch checkpoint file for 'C:\\Users\\prati/.cache\\huggingface\\hub\\models--KES--T5-TTParser\\snapshots\\24b137cc238c008d35cc0bb4a30b413bdc6d6cfd\\pytorch_model.bin' at 'C:\\Users\\prati/.cache\\huggingface\\hub\\models--KES--T5-TTParser\\snapshots\\24b137cc238c008d35cc0bb4a30b413bdc6d6cfd\\pytorch_model.bin'. If you tried to load a PyTorch model from a TF 2.0 checkpoint, please set from_tf=True."
     ]
    }
   ],
   "source": [
    "correct = mush_df['bullets'].progress_apply(lambda x : cb.Parser(x).TT_Parser())"
   ]
  },
  {
   "cell_type": "code",
   "execution_count": null,
   "id": "f430a13c",
   "metadata": {},
   "outputs": [],
   "source": []
  },
  {
   "cell_type": "code",
   "execution_count": null,
   "id": "bb624c85",
   "metadata": {},
   "outputs": [],
   "source": []
  },
  {
   "cell_type": "code",
   "execution_count": 23,
   "id": "c49768f6",
   "metadata": {},
   "outputs": [
    {
     "name": "stderr",
     "output_type": "stream",
     "text": [
      "  0%|          | 0/63 [00:00<?, ?it/s]2023-02-20 15:54:10.378 | INFO     | __main__:spellcheck:27 - [Match({'ruleId': 'MORFOLOGIK_RULE_EN_US', 'message': 'Possible spelling mistake found.', 'replacements': ['CMS', 'cm', 'CDs', 'CSS', 'CNS', 'RMS', 'SMS', 'CCS', 'CFS', 'CMA', 'CME', 'CMG', 'CMOS', 'CVS', 'DMS', 'VMS', 'cams', 'ms', 'BMS', 'CGS', 'CLS', 'CMB', 'CMF', 'CMU', 'MMS', 'PMS', 'JMS', 'PMs', 'ems', 'CBS', 'HMS', 'oms', 'AMS', 'CDS', 'CES', 'CHS', 'CJS', 'CKS', 'CM', 'CMC', 'CMD', 'CMI', 'CMJ', 'CMK', 'CML', 'CMM', 'CMO', 'CMP', 'CMR', 'CMSF', 'CMT', 'CMV', 'CMW', 'CMX', 'CPS', 'CQS', 'CRS', 'CS', 'CZS', 'Cm', 'Cs', 'FMS', 'FMs', 'GMS', 'IMS', 'KMS', 'LMS', 'MS', 'Ms', 'OMS', 'TMS', 'UMS', 'WMS', 'XMS', 'cis', 'cos', 'cps', 'cs', 'cums', 'ACMs', 'CAS', 'CCs', 'CEMS', 'CIS', 'CKs', 'CMOs', 'CPMs', 'CTs', 'CVs', 'DMs', 'IMs', 'LMs', 'VMs', 'cmd', 'cts', 'dms', 'pms', 'is', 'was', 'as', 'his', 'has', 'can', 'me', 'come', 'its', 'my', 'us', 'yes', 'came', 'km', 'arms', 'car', 'cars', 'case', 'cast', 'comes', 'cost', 'cut', 'gas', 'CD', 'FM', 'Los', 'Mr', 'acts', 'am', 'bus', 'camp', 'com', 'mm', 'aims', 'camps', 'cap', 'cash', 'cat', 'cup', 'cuts', 'vs', 'BMW', 'CBC', 'CIA', 'CNN', 'CPU', 'MA', 'Mrs', 'PM', 'ads', 'caps', 'cats', 'pm', 'ups', 'Acts', 'BMG', 'CTV', 'Case', 'GPS', 'NHS', 'PCs', 'SAS', 'XML', 'cab', 'cans', 'cf', 'coma', 'con', 'cop', 'cow', 'cows', 'cry', 'cue', 'cues', 'cups', 'dams', 'lbs', 'sums', 'ACM', 'ACS', 'Amos', 'BBS', 'BMT', 'CAA', 'CBA', 'CBN', 'CCC', 'CCD', 'CDC', 'CDU', 'CFB', 'CGI', 'CIO', 'CPA', 'CPC', 'CPI', 'CPR', 'CRT', 'CSA', 'CSI', 'CSU', 'CSX', 'CV', 'Cash', 'DM', 'DNS', 'FRS', 'GMT', 'Gus', 'IMF', 'INS', 'IRS', 'MSC', 'MSN', 'MV', 'Mk', 'NMR', 'RCMP', 'RSS', 'RTS', 'SBS', 'SOS', 'aces', 'amp', 'cam', 'cod', 'comb', 'cops', 'eds', 'gems', 'jams', 'ma', 'ml', 'pas', 'AMX', 'APS', 'Ames', 'BMC', 'BMP', 'CAC', 'CBI', 'CCA', 'CCI', 'CCP', 'CDA', 'CDR', 'CEA', 'CFA', 'CFC', 'CFO', 'CFR', 'CIC', 'CIE', 'CLR', 'CNC', 'CNG', 'CNR', 'CNT', 'CRC', 'CSC', 'CSF', 'CSL', 'CSP', 'CSR', 'CST', 'CTA', 'CTC', 'CWA', 'Che', 'Combs', 'Como', 'DMC', 'DMZ', 'DSS', 'DTS', 'EMT', 'FBS', 'FCS', 'IAS', 'IDs', 'IMG', 'IMO', 'IPS', 'JMA', 'KBS', 'LMA', 'MF', 'MMP', 'MSF', 'MST', 'MTS', 'MX', 'NPS', 'OAS', 'OCS', 'PCM', 'PDS', 'PRS', 'RCS', 'RDS', 'Sims', 'TFS', 'TLS', 'TVs', 'UPS', 'VM', 'WMD', 'alms', 'amps', 'cabs', 'cal', 'cask', 'clams', 'col', 'comp', 'cub', 'cubs', 'cusp', 'cyst', 'gums', 'gyms', 'ops', 'rams', 'rims', 'scams', 'um', 'AGS', 'AHS', 'BDS', 'BMA', 'BMD', 'BMO', 'CAI', 'CBF', 'CBM', 'CBP', 'CBT', 'CCG', 'CCR', 'CDO', 'CDT', 'CEP', 'CFD', 'CFE', 'CFP', 'CGA', 'CKD', 'CLI', 'CLP', 'CND', 'CNE', 'CNRS', 'CPE', 'CPM', 'CPO', 'CSD', 'CSG', 'CSIS', 'CSV', 'CTF', 'CTI', 'CTM', 'CTO', 'CTP', 'CVC', 'CVR', 'CVT', 'Camus', 'DBMS', 'DCM', 'DDS', 'DME', 'DMG', 'DMK', 'EMB', 'ESS', 'FMC', 'GLS', 'GMG', 'HFS', 'HHS', 'HMC', 'HSS', 'ICBMs', 'ICM', 'IHS', 'IMA', 'IMC', 'IMT', 'IMU', 'IVs', 'Imus', 'JCS', 'JM', 'LCS', 'LMP', 'MBS', 'MDS', 'MMR', 'MMU', 'MMX', 'MSI', 'MSW', 'Mme', 'NBS', 'NFS', 'NLS', 'OMA', 'PMA', 'PMC', 'PMI', 'PMR', 'PNS', 'PSS', 'RCM', 'RMA', 'RMC', 'RMI', 'SCS', 'SLS', 'SME', 'SMG', 'SRS', 'TCM', 'TSS', 'VMA', 'calms', 'cays', 'cit', 'cob', 'cog', 'cogs', 'combs', 'cot', 'cox', 'elms', 'emo', 'emu', 'hams', 'imp', 'ohms', 'pus', 'toms', 'ts', 'yams', 'BME', 'BMR', 'BRS', 'CBO', 'CBR', 'CCB', 'CCU', 'CDN', 'CFI', 'CFT', 'CFU', 'CJC', 'CJK', 'CLT', 'CNES', 'CNH', 'CNI', 'CPF', 'CRL', 'CRTs', 'CTH', 'CVD', 'CWC', 'DMD', 'DMP', 'DMV', 'EMR', 'ERS', 'FMA', 'GDS', 'GMB', 'GMD', 'GMO', 'GRS', 'HMI', 'HMO', 'Hus', 'IMSI', 'KSS', 'LCM', 'LFS', 'LRS', 'MNS', 'Omsk', 'PVS', 'RVs', 'SMF', 'SMI', 'TCAS', 'abs', 'amt', 'bums', 'cl', 'coo', 'corms', 'cots', 'coy', 'cur', 'emf', 'emus', 'fps', 'gm', 'ices', 'imps', 'moms', 'mp', 'ABMs', 'ACAS', 'CDV', 'CLG', 'CSH', 'CSMA', 'CTT', 'CXC', 'DPs', 'DVS', 'GMI', 'HDS', 'LGS', 'RMM', 'Xmas', 'acme', 'bps', 'cad', 'chums', 'cobs', 'cols', 'comas', 'comps', 'cud', 'hems', 'hums', 'ifs', 'isms', 'mos', 'rums', 'sis', 'BKS', 'RAMs', 'caw', 'cods', 'coos', 'cuss', 'cw', 'dims', 'nus', 'obs', 'tams', 'ODs', 'cads', 'caws', 'crams', 'curs', 'ecus', 'rems', 'AMC', 'Amy', 'CDP', 'CEO', 'CHG', 'FEMS', 'GM', 'MD', 'MW', 'OKs', 'PS', 'SOs', 'Tums', 'USS', 'chm', 'cpl', 'mg', 'mks', 'ohs', 'rps', 'scums', 'umps', 'Hts', 'Mmes', 'REMs', 'Xes', 'cpd', 'cuds', 'dds', 'emfs', 'lams', 'tums', 'AAS', 'ABS', 'ACMA', 'ADS', 'AES', 'AFS', 'AIS', 'AIs', 'AJS', 'AKS', 'ALS', 'AM', 'AMA', 'AMD', 'AME', 'AMF', 'AMG', 'AMH', 'AMIS', 'AMJ', 'AMK', 'AML', 'AMM', 'AMN', 'AMO', 'AMP', 'AMQ', 'AMR', 'AMSL', 'AMST', 'AMT', 'AMU', 'AMV', 'AMW', 'AMY', 'AMZ', 'ANS', 'AOS', 'AQS', 'ASS', 'ATS', 'AUS', 'AVS', 'AWS', 'AXS', 'AYS', 'AZS', 'Am', 'As', 'Ats', 'BAS', 'BCM', 'BCS', 'BES', 'BFS', 'BGS', 'BHS', 'BIS', 'BJS', 'BLS', 'BM', 'BMB', 'BMF', 'BMI', 'BMJ', 'BMK', 'BML', 'BMM', 'BMN', 'BMQ', 'BMU', 'BMV', 'BMX', 'BMZ', 'BNS', 'BOS', 'BPS', 'BS', 'BSS', 'BTS', 'BVS', 'BWS', 'BXS', 'BYS', 'BZS', 'C', 'C0G', 'C10', 'C11', 'C12', 'C13', 'C14', 'C15', 'C16', 'C17', 'C18', 'C19', 'C20', 'C21', 'C22', 'C23', 'C24', 'C25', 'C27', 'C28', 'C2C', 'C30', 'C31', 'C32', 'C33', 'C34', 'C35', 'C36', 'C40', 'C41', 'C44', 'C45', 'C46', 'C47', 'C50', 'C51', 'C52', 'C53', 'C60', 'C61', 'C62', 'C63', 'C64', 'C65', 'C66', 'C69', 'C70', 'C77', 'C88', 'C91', 'C96', 'C99', 'CA', 'CAB', 'CAD', 'CAES', 'CAF', 'CAG', 'CAH', 'CAJ', 'CAK', 'CAL', 'CAM', 'CAMES', 'CAMSP', 'CAMT', 'CAMY', 'CAN', 'CAP', 'CAQ', 'CASA', 'CASE', 'CASM', 'CAT', 'CATS', 'CAU', 'CAV', 'CAW', 'CAY', 'CB', 'CBB', 'CBD', 'CBE', 'CBG', 'CBH', 'CBJ', 'CBL', 'CBU', 'CBV', 'CBX', 'CBZ', 'CC', 'CCAS', 'CCE', 'CCF', 'CCH', 'CCJ', 'CCK', 'CCL', 'CCM', 'CCMA', 'CCMM', 'CCN', 'CCO', 'CCQ', 'CCSM', 'CCSP', 'CCT', 'CCV', 'CCW', 'CCX', 'CCZ', 'CDB', 'CDD', 'CDE', 'CDF', 'CDG', 'CDH', 'CDI', 'CDJ', 'CDK', 'CDL', 'CDM', 'CDW', 'CDZ', 'CE', 'CEB', 'CEC', 'CED', 'CEE', 'CEF', 'CEG', 'CEI', 'CEJ', 'CEL', 'CEM', 'CEN', 'CEPS', 'CEQ', 'CER', 'CESD', 'CESE', 'CESI', 'CESR', 'CESS', 'CEST', 'CET', 'CEU', 'CEV', 'CF', 'CFBS', 'CFF', 'CFG', 'CFH', 'CFJ', 'CFL', 'CFM', 'CFN', 'CG', 'CGC', 'CGE', 'CGF', 'CGG', 'CGH', 'CGIS', 'CGJ', 'CGK', 'CGL', 'CGN', 'CGO', 'CGR', 'CGT', 'CGU', 'CGY', 'CGZ', 'CH', 'CHB', 'CHC', 'CHD', 'CHF', 'CHH', 'CHI', 'CHK', 'CHL', 'CHM', 'CHMP', 'CHN', 'CHO', 'CHP', 'CHQ', 'CHR', 'CHRS', 'CHT', 'CHV', 'CHW', 'CHX', 'CHY', 'CHZ', 'CI', 'CICS', 'CID', 'CIF', 'CIH', 'CII', 'CIJ', 'CIK', 'CIL', 'CIM', 'CIP', 'CIQ', 'CIR', 'CISC', 'CISL', 'CISP', 'CIT', 'CIU', 'CIUS', 'CIV', 'CJ', 'CJA', 'CJB', 'CJF', 'CJH', 'CJJ', 'CJL', 'CJN', 'CK', 'CKB', 'CKK', 'CKM', 'CKR', 'CKY', 'CL', 'CLA', 'CLAS', 'CLB', 'CLC', 'CLD', 'CLE', 'CLH', 'CLIS', 'CLJ', 'CLL', 'CLM', 'CLN', 'CLQ', 'CLSC', 'CLU', 'CLV', 'CLW', 'CLX', 'CLY', 'CLZ', 'CMAP', 'CMBV', 'CMEA', 'CMEQ', 'CMGR', 'CMLK', 'CMVP', 'CN', 'CNA', 'CNB', 'CNDS', 'CNF', 'CNIS', 'CNJ', 'CNK', 'CNL', 'CNM', 'CNO', 'CNP', 'CNPS', 'CNQ', 'CNSA', 'CNSC', 'CNU', 'CNV', 'CNW', 'CNX', 'CNY', 'CNZ', 'CO', 'CO2', 'CO3', 'COB', 'COC', 'COD', 'COE', 'COF', 'COG', 'COI', 'COK', 'COL', 'COM', 'COMP', 'CON', 'COP', 'COQ', 'COSI', 'COTS', 'COU', 'COV', 'CPD', 'CPG', 'CPH', 'CPJ', 'CPL', 'CPPS', 'CPV', 'CQA', 'CQE', 'CQF', 'CQG', 'CQI', 'CQL', 'CQM', 'CQP', 'CQT', 'CQX', 'CQZ', 'CR', 'CRA', 'CRB', 'CRD', 'CRE', 'CRF', 'CRG', 'CRH', 'CRJ', 'CRK', 'CRM', 'CRN', 'CRO', 'CROS', 'CRP', 'CRQ', 'CRR', 'CRSA', 'CRW', 'CRY', 'CRZ', 'CSE', 'CSM', 'CSPS', 'CSSS', 'CSST', 'CT', 'CTB', 'CTE', 'CTK', 'CTR', 'CTSA', 'CUA', 'CUB', 'CUC', 'CUD', 'CUF', 'CUG', 'CUJ', 'CUL', 'CUM', 'CUO', 'CUP', 'CUR', 'CUT', 'CUU', 'CUV', 'CUW', 'CUZ', 'CVE', 'CVF', 'CVG', 'CVH', 'CVI', 'CVL', 'CVM', 'CVN', 'CVO', 'CVP', 'CVU', 'CVX', 'CW', 'CWB', 'CWE', 'CWF', 'CWO', 'CWT', 'CXE', 'CXL', 'CXM', 'CXO', 'CXP', 'CXQ', 'CXR', 'CY', 'CYA', 'CYK', 'CYM', 'CYP', 'CYT', 'CYZ', 'CZ', 'CZC', 'CZF', 'CZJ', 'CZK', 'CZL', 'CZM', 'CZN', 'CZO', 'CZP', 'CZT', 'CZU', 'CZW', 'CZX', 'CZY', 'CZZ', 'Ca', 'Cal', 'Can', 'Cb', 'Cd', 'Ce', 'Cf', 'Ch', 'Chi', 'Ci', 'Cid', 'Cl', 'Cmdr', 'Co', 'Cod', 'Col', 'Com', 'Cox', 'Coy', 'Cpl', 'Cr', 'Ct', 'Cu', 'DCS', 'DES', 'DFS', 'DGS', 'DHS', 'DMF', 'DMI', 'DMM', 'DMO', 'DMR', 'DOS', 'DPS', 'DRS', 'DS', 'DUS', 'Dis', 'EAS', 'EBS', 'ECM', 'ECS', 'ECTS', 'EDS', 'EFS', 'EHS', 'EIS', 'ELS', 'EM', 'EMA', 'EMC', 'EMCS', 'EMD', 'EME', 'EMF', 'EMI', 'EML', 'EMM', 'EMN', 'EMP', 'EMU', 'ENS', 'EPS', 'ES', 'ETS', 'EUS', 'EVS', 'EWS', 'EXS', 'EZS', 'Es', 'FCM', 'FDS', 'FES', 'FFS', 'FLS', 'FMG', 'FMH', 'FMI', 'FMJ', 'FMM', 'FMO', 'FMP', 'FMSH', 'FMT', 'FMV', 'FNS', 'FPS', 'FS', 'FSS', 'Fm', 'GAS', 'GCM', 'GCS', 'GES', 'GFS', 'GGS', 'GHS', 'GIS', 'GMES', 'GMF', 'GML', 'GMP', 'GMR', 'GMU', 'GTS', 'HBS', 'HCS', 'HES', 'HM', 'HMD', 'HMP', 'HMV', 'HNS', 'HPS', 'HS', 'HTS', 'IDMS', 'IDS', 'IES', 'IFS', 'IGS', 'IIS', 'IMB', 'IMD', 'IME', 'IMH', 'IMK', 'IMN', 'IMP', 'IMV', 'IOS', 'IS', 'ISS', 'ITS', 'JBS', 'JHS', 'JLS', 'JMB', 'JMD', 'JME', 'JMF', 'JMJ', 'JMM', 'JMP', 'JWS', 'KDS', 'KES', 'KHS', 'KKS', 'KM', 'KMA', 'KMF', 'KMH', 'KOS', 'KS', 'KTS', 'Ks', 'LBMS', 'LES', 'LHS', 'LMB', 'LMC', 'LMD', 'LME', 'LMK', 'LMSI', 'LMU', 'LMV', 'LS', 'LVS', 'Las', 'Les', 'M', 'MAS', 'MB', 'MC', 'MCM', 'MCS', 'MCTS', 'ME', 'MES', 'MFS', 'MG', 'MGS', 'MH', 'MI', 'MJ', 'MK', 'MKS', 'ML', 'MM', 'MMA', 'MMB', 'MMC', 'MMH', 'MMI', 'MMK', 'MML', 'MMM', 'MMT', 'MMZ', 'MN', 'MO', 'MOS', 'MP', 'MPS', 'MR', 'MRS', 'MSA', 'MSB', 'MSD', 'MSE', 'MSG', 'MSH', 'MSK', 'MSM', 'MSO', 'MSR', 'MSS', 'MSU', 'MT', 'MU', 'MUS', 'MY', 'MZ', 'Mb', 'Md', 'Me', 'Mg', 'Mn', 'Mo', 'Mt', 'NAS', 'NCIS', 'NCM', 'NCS', 'NDS', 'NGS', 'NM', 'NMA', 'NMF', 'NMI', 'NMM', 'NMT', 'NOS', 'NS', 'NSS', 'NUS', 'Nos', 'OBS', 'ODS', 'OFS', 'OM', 'OMB', 'OMC', 'OMG', 'OMI', 'OMM', 'OMMS', 'OMN', 'OMO', 'OMP', 'OMR', 'OMT', 'ONS', 'ORS', 'OS', 'OSS', 'OVS', 'OWS', 'Os', 'PAS', 'PBS', 'PCS', 'PCUS', 'PES', 'PFS', 'PGS', 'PHS', 'PIS', 'PKS', 'PLS', 'PMB', 'PME', 'PMF', 'PMG', 'PMH', 'PML', 'PMN', 'PMO', 'PMP', 'PMT', 'PMU', 'PMV', 'POS', 'PPS', 'PUS', 'Pm', 'QCM', 'QM', 'QMF', 'QMOS', 'RAMS', 'RAS', 'RBS', 'RES', 'RFS', 'RGS', 'RHS', 'RIS', 'RLS', 'RM', 'RMB', 'RMBS', 'RME', 'RMF', 'RMN', 'RNS', 'ROS', 'RPS', 'RRS', 'RS', 'S', 'SCM', 'SCRS', 'SES', 'SFS', 'SGS', 'SIS', 'SM', 'SMA', 'SMB', 'SMC', 'SMH', 'SMK', 'SML', 'SMM', 'SMN', 'SMR', 'SMT', 'SNS', 'SPS', 'SS', 'SSS', 'STS', 'SUS', 'Sm', 'TBS', 'TDS', 'TES', 'TGS', 'THS', 'TIS', 'TJS', 'TKS', 'TM', 'TMA', 'TMB', 'TMC', 'TMD', 'TME', 'TMG', 'TMI', 'TMJ', 'TMN', 'TMP', 'TMT', 'TMV', 'TMX', 'TNS', 'TOS', 'TPS', 'TQS', 'TRS', 'TS', 'TTS', 'TVS', 'TWS', 'TZS', 'Tm', 'UAS', 'UBS', 'UCM', 'UDS', 'UES', 'UFS', 'UGS', 'UMA', 'UMB', 'UMD', 'UMF', 'UMH', 'UMI', 'UML', 'UMM', 'UMP', 'UMR', 'UMT', 'URS', 'US', 'UUS', 'VBS', 'VCM', 'VES', 'VGS', 'VHS', 'VMC', 'VME', 'VMI', 'VMK', 'VML', 'VMM', 'VMO', 'VMP', 'VPS', 'VRS', 'VSS', 'VVS', 'WCS', 'WDS', 'WGS', 'WHS', 'WMF', 'WML', 'WMW', 'WNS', 'WPS', 'WSS', 'Wis', 'Wm', 'XMP', 'XPS', 'XS', 'YBS', 'YHS', 'YM', 'YMN', 'YMO', 'ZMK', 'ZMP', 'Zs', 'acmes', 'ans', 'ass', 'bis', 'bxs', 'c', 'ca', 'cay', 'cc', 'cg', 'ch', 'chg', 'chi', 'chis', 'cir', 'ck', 'co', 'comm', 'cons', 'cor', 'cosh', 'ct', 'ctn', 'ctr', 'cu', 'cum', 'cwt', 'dis', 'dos', 'em', 'emos', 'ens', 'fums', 'gs', 'hes', 'hims', 'hmm', 'hos', 'hrs', 'iOS', 'ids', 'ins', 'ism', 'ks', 'ls', 'm', 'mams', 'mas', 'mes', 'mi', 'mo', 'mu', 'mus', 'mys', 'nos', 'om', 'pis', 'poms', 'qts', 'res', 'rm', 'rs', 's', 'sims', 'tbs', 'ump', 'xis', 'yrs', '3M', 'ACLs', 'ACTs', 'AGs', 'AMI', 'APs', 'ATMs', 'AVs', 'BCBS', 'BJs', 'BMIs', 'BMWs', 'BPMs', 'C&A', 'C&C', 'C3', 'CAE', 'CBSC', 'CBSE', 'CBSN', 'CCSD', 'CCSS', 'CDMA', 'CDMX', 'CDNs', 'CDOs', 'CEOs', 'CESC', 'CFOs', 'CGM', 'CGMA', 'CIFS', 'CIG', 'CIGS', 'CIOs', 'CISA', 'CLSA', 'CMYK', 'CNAs', 'COA', 'COOs', 'CORS', 'CP', 'CPN', 'CPNs', 'CPP', 'CPQ', 'CPT', 'CPUs', 'CQC', 'CR7', 'CSO', 'CSOs', 'CSVs', 'CTAs', 'CTOs', 'CTSO', 'CVA', 'CVV', 'CWL', 'CWM', 'CWP', 'CWR', 'CWV', 'CZI', 'Chu', 'CoP', 'CoPs', 'DJs', 'DLS', 'DMA', 'DMGs', 'DMX', 'DMZs', 'DRMs', 'DVMs', 'Dems', 'DoS', 'ECDs', 'ECTs', 'EMTs', 'EOMs', 'EPs', 'EQS', 'EVs', 'FAS', 'FCs', 'FHS', 'FMD', 'FOS', 'FPs', 'GBS', 'GCs', 'GIs', 'GMA', 'GMC', 'GMOs', 'GMV', 'H&S', 'HCs', 'HLS', 'HMH', 'HRMS', 'HWs', 'I&S', 'IBS', 'ICEs', 'ICMP', 'ICMR', 'ICS', 'ICUs', 'ILS', 'IM', 'IPs', 'IQs', 'JMH', 'JS', 'KMSP', 'LDS', 'LMMS', 'LMT', 'LPS', 'LPs', 'LTS', 'M&Ms', 'MCAS', 'MCPS', 'MCQs', 'MCs', 'MDs', 'MIS', 'MLS', 'MMO', 'MMOs', 'MPs', 'MSc', 'MWS', 'NMC', 'NRS', 'NTS', 'NYS', 'ODMs', 'OEMs', 'PAs', 'PCBs', 'PDMS', 'PMD', 'PRs', 'QBs', 'RMSD', 'RMSE', 'RMU', 'ROMs', 'RTs', 'SCMP', 'SCSS', 'SDS', 'SHS', 'SIMs', 'SMBs', 'SMEs', 'SMP', 'SMU', 'SQS', 'T&S', 'TCHS', 'TCS', 'TMZ', 'TTs', 'ToS', 'UCAS', 'UIs', 'UMC', 'UMTS', 'Urs', 'V6s', 'V8s', 'VCRs', 'VCS', 'VCs', 'VFS', 'VPs', 'VWs', 'WBS', 'WCBS', 'WCHS', 'WS', 'XLS', 'XMOS', 'XSS', 'ZFS', 'ais', 'amu', 'amus', 'camo', 'camos', \"cc's\", 'comms', 'cx', 'dm', 'hm', 'mL', 'mW', 'mcg', 'msg', 'nm', 'pHs', 'pcs', 'pgs', 'pls', 'pts', 'tmp', 'umm', 'vm', 'µm', 'écus'], 'offsetInContext': 43, 'context': '...e made from 100% Bamboo. Size: 75 X 150 cms / 29.5\" X 59\" ; Pack of 2 - Beige & Gre...', 'offset': 90, 'errorLength': 3, 'category': 'TYPOS', 'ruleIssueType': 'misspelling', 'sentence': 'Size: 75 X 150 cms / 29.5\" X 59\" ; Pack of 2 - Beige & Grey  , Features: It dries very quickly, absorbs 3 times more water than cotton, light in weight and takes up little space in your closet or luggage.'}), Match({'ruleId': 'COMMA_PARENTHESIS_WHITESPACE', 'message': 'Put a space after the comma, but not before the comma.', 'replacements': [','], 'offsetInContext': 43, 'context': '... 29.5\" X 59\" ; Pack of 2 - Beige & Grey  , Features: It dries very quickly, absorb...', 'offset': 135, 'errorLength': 2, 'category': 'TYPOGRAPHY', 'ruleIssueType': 'whitespace', 'sentence': 'Size: 75 X 150 cms / 29.5\" X 59\" ; Pack of 2 - Beige & Grey  , Features: It dries very quickly, absorbs 3 times more water than cotton, light in weight and takes up little space in your closet or luggage.'}), Match({'ruleId': 'EN_UPPER_CASE_NGRAM', 'message': 'Only proper nouns start with an uppercase character (there are exceptions for headlines).', 'replacements': ['features'], 'offsetInContext': 43, 'context': '....5\" X 59\" ; Pack of 2 - Beige & Grey  , Features: It dries very quickly, absorbs 3 times...', 'offset': 138, 'errorLength': 8, 'category': 'CASING', 'ruleIssueType': 'misspelling', 'sentence': 'Size: 75 X 150 cms / 29.5\" X 59\" ; Pack of 2 - Beige & Grey  , Features: It dries very quickly, absorbs 3 times more water than cotton, light in weight and takes up little space in your closet or luggage.'}), Match({'ruleId': 'COMMA_PARENTHESIS_WHITESPACE', 'message': 'Put a space after the comma, but not before the comma.', 'replacements': [','], 'offsetInContext': 43, 'context': \"...scarf as well as a baby summer blanket.  , Usage: It's great for Home / Travel use...\", 'offset': 430, 'errorLength': 2, 'category': 'TYPOGRAPHY', 'ruleIssueType': 'whitespace', 'sentence': \", Usage: It's great for Home / Travel use, baby care, home decor, and possibilities are endless!\"}), Match({'ruleId': 'COMMA_PARENTHESIS_WHITESPACE', 'message': 'Put a space after the comma, but not before the comma.', 'replacements': [','], 'offsetInContext': 43, 'context': '...scarf as well as a baby summer blanket.  , Packaging: It comes packed in a small c...', 'offset': 590, 'errorLength': 2, 'category': 'TYPOGRAPHY', 'ruleIssueType': 'whitespace', 'sentence': ', Packaging: It comes packed in a small cotton bag which makes it super convenient to store and to carry while travelling  , Washcare: Machine Washable.'}), Match({'ruleId': 'COMMA_PARENTHESIS_WHITESPACE', 'message': 'Put a space after the comma, but not before the comma.', 'replacements': [','], 'offsetInContext': 43, 'context': '... to store and to carry while travelling  , Washcare: Machine Washable. Do not blea...', 'offset': 713, 'errorLength': 2, 'category': 'TYPOGRAPHY', 'ruleIssueType': 'whitespace', 'sentence': ', Packaging: It comes packed in a small cotton bag which makes it super convenient to store and to carry while travelling  , Washcare: Machine Washable.'}), Match({'ruleId': 'MORFOLOGIK_RULE_EN_US', 'message': 'Possible spelling mistake found.', 'replacements': ['Wash care'], 'offsetInContext': 43, 'context': '... store and to carry while travelling  , Washcare: Machine Washable. Do not bleach.  ', 'offset': 716, 'errorLength': 8, 'category': 'TYPOS', 'ruleIssueType': 'misspelling', 'sentence': ', Packaging: It comes packed in a small cotton bag which makes it super convenient to store and to carry while travelling  , Washcare: Machine Washable.'})]\n",
      "  2%|▏         | 1/63 [00:04<04:27,  4.32s/it]\n"
     ]
    },
    {
     "ename": "TypeError",
     "evalue": "list indices must be integers or slices, not str",
     "output_type": "error",
     "traceback": [
      "\u001b[1;31m---------------------------------------------------------------------------\u001b[0m",
      "\u001b[1;31mTypeError\u001b[0m                                 Traceback (most recent call last)",
      "\u001b[1;32m~\\AppData\\Local\\Temp\\ipykernel_21580\\2111016024.py\u001b[0m in \u001b[0;36m<module>\u001b[1;34m\u001b[0m\n\u001b[1;32m----> 1\u001b[1;33m \u001b[0mmush_df\u001b[0m\u001b[1;33m[\u001b[0m\u001b[1;33m[\u001b[0m\u001b[1;34m'bullets_spellcheck'\u001b[0m\u001b[1;33m,\u001b[0m\u001b[1;34m'bullets_Corrected_text'\u001b[0m\u001b[1;33m]\u001b[0m\u001b[1;33m]\u001b[0m \u001b[1;33m=\u001b[0m \u001b[0mmush_df\u001b[0m\u001b[1;33m[\u001b[0m\u001b[1;34m'bullets'\u001b[0m\u001b[1;33m]\u001b[0m\u001b[1;33m.\u001b[0m\u001b[0mprogress_apply\u001b[0m\u001b[1;33m(\u001b[0m\u001b[1;32mlambda\u001b[0m \u001b[0mx\u001b[0m\u001b[1;33m:\u001b[0m\u001b[0mspellcheck\u001b[0m\u001b[1;33m(\u001b[0m\u001b[0mx\u001b[0m\u001b[1;33m,\u001b[0m\u001b[0mmy_tool\u001b[0m\u001b[1;33m)\u001b[0m\u001b[1;33m)\u001b[0m\u001b[1;33m.\u001b[0m\u001b[0mtolist\u001b[0m\u001b[1;33m(\u001b[0m\u001b[1;33m)\u001b[0m\u001b[1;33m\u001b[0m\u001b[1;33m\u001b[0m\u001b[0m\n\u001b[0m",
      "\u001b[1;32mc:\\Users\\prati\\anaconda3\\envs\\excelcheckapp\\lib\\site-packages\\tqdm\\std.py\u001b[0m in \u001b[0;36minner\u001b[1;34m(df, func, *args, **kwargs)\u001b[0m\n\u001b[0;32m    812\u001b[0m                 \u001b[1;31m# on the df using our wrapper (which provides bar updating)\u001b[0m\u001b[1;33m\u001b[0m\u001b[1;33m\u001b[0m\u001b[0m\n\u001b[0;32m    813\u001b[0m                 \u001b[1;32mtry\u001b[0m\u001b[1;33m:\u001b[0m\u001b[1;33m\u001b[0m\u001b[1;33m\u001b[0m\u001b[0m\n\u001b[1;32m--> 814\u001b[1;33m                     \u001b[1;32mreturn\u001b[0m \u001b[0mgetattr\u001b[0m\u001b[1;33m(\u001b[0m\u001b[0mdf\u001b[0m\u001b[1;33m,\u001b[0m \u001b[0mdf_function\u001b[0m\u001b[1;33m)\u001b[0m\u001b[1;33m(\u001b[0m\u001b[0mwrapper\u001b[0m\u001b[1;33m,\u001b[0m \u001b[1;33m**\u001b[0m\u001b[0mkwargs\u001b[0m\u001b[1;33m)\u001b[0m\u001b[1;33m\u001b[0m\u001b[1;33m\u001b[0m\u001b[0m\n\u001b[0m\u001b[0;32m    815\u001b[0m                 \u001b[1;32mfinally\u001b[0m\u001b[1;33m:\u001b[0m\u001b[1;33m\u001b[0m\u001b[1;33m\u001b[0m\u001b[0m\n\u001b[0;32m    816\u001b[0m                     \u001b[0mt\u001b[0m\u001b[1;33m.\u001b[0m\u001b[0mclose\u001b[0m\u001b[1;33m(\u001b[0m\u001b[1;33m)\u001b[0m\u001b[1;33m\u001b[0m\u001b[1;33m\u001b[0m\u001b[0m\n",
      "\u001b[1;32mc:\\Users\\prati\\anaconda3\\envs\\excelcheckapp\\lib\\site-packages\\pandas\\core\\series.py\u001b[0m in \u001b[0;36mapply\u001b[1;34m(self, func, convert_dtype, args, **kwargs)\u001b[0m\n\u001b[0;32m   4769\u001b[0m         \u001b[0mdtype\u001b[0m\u001b[1;33m:\u001b[0m \u001b[0mfloat64\u001b[0m\u001b[1;33m\u001b[0m\u001b[1;33m\u001b[0m\u001b[0m\n\u001b[0;32m   4770\u001b[0m         \"\"\"\n\u001b[1;32m-> 4771\u001b[1;33m         \u001b[1;32mreturn\u001b[0m \u001b[0mSeriesApply\u001b[0m\u001b[1;33m(\u001b[0m\u001b[0mself\u001b[0m\u001b[1;33m,\u001b[0m \u001b[0mfunc\u001b[0m\u001b[1;33m,\u001b[0m \u001b[0mconvert_dtype\u001b[0m\u001b[1;33m,\u001b[0m \u001b[0margs\u001b[0m\u001b[1;33m,\u001b[0m \u001b[0mkwargs\u001b[0m\u001b[1;33m)\u001b[0m\u001b[1;33m.\u001b[0m\u001b[0mapply\u001b[0m\u001b[1;33m(\u001b[0m\u001b[1;33m)\u001b[0m\u001b[1;33m\u001b[0m\u001b[1;33m\u001b[0m\u001b[0m\n\u001b[0m\u001b[0;32m   4772\u001b[0m \u001b[1;33m\u001b[0m\u001b[0m\n\u001b[0;32m   4773\u001b[0m     def _reduce(\n",
      "\u001b[1;32mc:\\Users\\prati\\anaconda3\\envs\\excelcheckapp\\lib\\site-packages\\pandas\\core\\apply.py\u001b[0m in \u001b[0;36mapply\u001b[1;34m(self)\u001b[0m\n\u001b[0;32m   1121\u001b[0m \u001b[1;33m\u001b[0m\u001b[0m\n\u001b[0;32m   1122\u001b[0m         \u001b[1;31m# self.f is Callable\u001b[0m\u001b[1;33m\u001b[0m\u001b[1;33m\u001b[0m\u001b[0m\n\u001b[1;32m-> 1123\u001b[1;33m         \u001b[1;32mreturn\u001b[0m \u001b[0mself\u001b[0m\u001b[1;33m.\u001b[0m\u001b[0mapply_standard\u001b[0m\u001b[1;33m(\u001b[0m\u001b[1;33m)\u001b[0m\u001b[1;33m\u001b[0m\u001b[1;33m\u001b[0m\u001b[0m\n\u001b[0m\u001b[0;32m   1124\u001b[0m \u001b[1;33m\u001b[0m\u001b[0m\n\u001b[0;32m   1125\u001b[0m     \u001b[1;32mdef\u001b[0m \u001b[0magg\u001b[0m\u001b[1;33m(\u001b[0m\u001b[0mself\u001b[0m\u001b[1;33m)\u001b[0m\u001b[1;33m:\u001b[0m\u001b[1;33m\u001b[0m\u001b[1;33m\u001b[0m\u001b[0m\n",
      "\u001b[1;32mc:\\Users\\prati\\anaconda3\\envs\\excelcheckapp\\lib\\site-packages\\pandas\\core\\apply.py\u001b[0m in \u001b[0;36mapply_standard\u001b[1;34m(self)\u001b[0m\n\u001b[0;32m   1172\u001b[0m             \u001b[1;32melse\u001b[0m\u001b[1;33m:\u001b[0m\u001b[1;33m\u001b[0m\u001b[1;33m\u001b[0m\u001b[0m\n\u001b[0;32m   1173\u001b[0m                 \u001b[0mvalues\u001b[0m \u001b[1;33m=\u001b[0m \u001b[0mobj\u001b[0m\u001b[1;33m.\u001b[0m\u001b[0mastype\u001b[0m\u001b[1;33m(\u001b[0m\u001b[0mobject\u001b[0m\u001b[1;33m)\u001b[0m\u001b[1;33m.\u001b[0m\u001b[0m_values\u001b[0m\u001b[1;33m\u001b[0m\u001b[1;33m\u001b[0m\u001b[0m\n\u001b[1;32m-> 1174\u001b[1;33m                 mapped = lib.map_infer(\n\u001b[0m\u001b[0;32m   1175\u001b[0m                     \u001b[0mvalues\u001b[0m\u001b[1;33m,\u001b[0m\u001b[1;33m\u001b[0m\u001b[1;33m\u001b[0m\u001b[0m\n\u001b[0;32m   1176\u001b[0m                     \u001b[0mf\u001b[0m\u001b[1;33m,\u001b[0m\u001b[1;33m\u001b[0m\u001b[1;33m\u001b[0m\u001b[0m\n",
      "\u001b[1;32mc:\\Users\\prati\\anaconda3\\envs\\excelcheckapp\\lib\\site-packages\\pandas\\_libs\\lib.pyx\u001b[0m in \u001b[0;36mpandas._libs.lib.map_infer\u001b[1;34m()\u001b[0m\n",
      "\u001b[1;32mc:\\Users\\prati\\anaconda3\\envs\\excelcheckapp\\lib\\site-packages\\tqdm\\std.py\u001b[0m in \u001b[0;36mwrapper\u001b[1;34m(*args, **kwargs)\u001b[0m\n\u001b[0;32m    807\u001b[0m                     \u001b[1;31m# take a fast or slow code path; so stop when t.total==t.n\u001b[0m\u001b[1;33m\u001b[0m\u001b[1;33m\u001b[0m\u001b[0m\n\u001b[0;32m    808\u001b[0m                     \u001b[0mt\u001b[0m\u001b[1;33m.\u001b[0m\u001b[0mupdate\u001b[0m\u001b[1;33m(\u001b[0m\u001b[0mn\u001b[0m\u001b[1;33m=\u001b[0m\u001b[1;36m1\u001b[0m \u001b[1;32mif\u001b[0m \u001b[1;32mnot\u001b[0m \u001b[0mt\u001b[0m\u001b[1;33m.\u001b[0m\u001b[0mtotal\u001b[0m \u001b[1;32mor\u001b[0m \u001b[0mt\u001b[0m\u001b[1;33m.\u001b[0m\u001b[0mn\u001b[0m \u001b[1;33m<\u001b[0m \u001b[0mt\u001b[0m\u001b[1;33m.\u001b[0m\u001b[0mtotal\u001b[0m \u001b[1;32melse\u001b[0m \u001b[1;36m0\u001b[0m\u001b[1;33m)\u001b[0m\u001b[1;33m\u001b[0m\u001b[1;33m\u001b[0m\u001b[0m\n\u001b[1;32m--> 809\u001b[1;33m                     \u001b[1;32mreturn\u001b[0m \u001b[0mfunc\u001b[0m\u001b[1;33m(\u001b[0m\u001b[1;33m*\u001b[0m\u001b[0margs\u001b[0m\u001b[1;33m,\u001b[0m \u001b[1;33m**\u001b[0m\u001b[0mkwargs\u001b[0m\u001b[1;33m)\u001b[0m\u001b[1;33m\u001b[0m\u001b[1;33m\u001b[0m\u001b[0m\n\u001b[0m\u001b[0;32m    810\u001b[0m \u001b[1;33m\u001b[0m\u001b[0m\n\u001b[0;32m    811\u001b[0m                 \u001b[1;31m# Apply the provided function (in **kwargs)\u001b[0m\u001b[1;33m\u001b[0m\u001b[1;33m\u001b[0m\u001b[0m\n",
      "\u001b[1;32m~\\AppData\\Local\\Temp\\ipykernel_21580\\2111016024.py\u001b[0m in \u001b[0;36m<lambda>\u001b[1;34m(x)\u001b[0m\n\u001b[1;32m----> 1\u001b[1;33m \u001b[0mmush_df\u001b[0m\u001b[1;33m[\u001b[0m\u001b[1;33m[\u001b[0m\u001b[1;34m'bullets_spellcheck'\u001b[0m\u001b[1;33m,\u001b[0m\u001b[1;34m'bullets_Corrected_text'\u001b[0m\u001b[1;33m]\u001b[0m\u001b[1;33m]\u001b[0m \u001b[1;33m=\u001b[0m \u001b[0mmush_df\u001b[0m\u001b[1;33m[\u001b[0m\u001b[1;34m'bullets'\u001b[0m\u001b[1;33m]\u001b[0m\u001b[1;33m.\u001b[0m\u001b[0mprogress_apply\u001b[0m\u001b[1;33m(\u001b[0m\u001b[1;32mlambda\u001b[0m \u001b[0mx\u001b[0m\u001b[1;33m:\u001b[0m\u001b[0mspellcheck\u001b[0m\u001b[1;33m(\u001b[0m\u001b[0mx\u001b[0m\u001b[1;33m,\u001b[0m\u001b[0mmy_tool\u001b[0m\u001b[1;33m)\u001b[0m\u001b[1;33m)\u001b[0m\u001b[1;33m.\u001b[0m\u001b[0mtolist\u001b[0m\u001b[1;33m(\u001b[0m\u001b[1;33m)\u001b[0m\u001b[1;33m\u001b[0m\u001b[1;33m\u001b[0m\u001b[0m\n\u001b[0m",
      "\u001b[1;32m~\\AppData\\Local\\Temp\\ipykernel_21580\\2921477057.py\u001b[0m in \u001b[0;36mspellcheck\u001b[1;34m(txt, model)\u001b[0m\n\u001b[0;32m     26\u001b[0m     \u001b[0mres\u001b[0m \u001b[1;33m=\u001b[0m \u001b[0mmodel\u001b[0m\u001b[1;33m.\u001b[0m\u001b[0mcheck\u001b[0m\u001b[1;33m(\u001b[0m\u001b[0mtxt\u001b[0m\u001b[1;33m)\u001b[0m\u001b[1;33m\u001b[0m\u001b[1;33m\u001b[0m\u001b[0m\n\u001b[0;32m     27\u001b[0m     \u001b[0mlogger\u001b[0m\u001b[1;33m.\u001b[0m\u001b[0minfo\u001b[0m\u001b[1;33m(\u001b[0m\u001b[0mres\u001b[0m\u001b[1;33m)\u001b[0m\u001b[1;33m\u001b[0m\u001b[1;33m\u001b[0m\u001b[0m\n\u001b[1;32m---> 28\u001b[1;33m     \u001b[1;32mif\u001b[0m \u001b[0mlen\u001b[0m\u001b[1;33m(\u001b[0m\u001b[0mres\u001b[0m\u001b[1;33m[\u001b[0m\u001b[1;34m'corrections'\u001b[0m\u001b[1;33m]\u001b[0m\u001b[1;33m)\u001b[0m\u001b[1;33m>\u001b[0m\u001b[1;36m0\u001b[0m\u001b[1;33m:\u001b[0m\u001b[1;33m\u001b[0m\u001b[1;33m\u001b[0m\u001b[0m\n\u001b[0m\u001b[0;32m     29\u001b[0m         \u001b[0mflg\u001b[0m \u001b[1;33m=\u001b[0m \u001b[1;36m0\u001b[0m\u001b[1;33m\u001b[0m\u001b[1;33m\u001b[0m\u001b[0m\n\u001b[0;32m     30\u001b[0m     \u001b[1;32melse\u001b[0m\u001b[1;33m:\u001b[0m\u001b[1;33m\u001b[0m\u001b[1;33m\u001b[0m\u001b[0m\n",
      "\u001b[1;31mTypeError\u001b[0m: list indices must be integers or slices, not str"
     ]
    }
   ],
   "source": [
    "mush_df[['bullets_spellcheck','bullets_Corrected_text']] = mush_df['bullets'].progress_apply(lambda x:spellcheck(x,my_tool)).tolist()"
   ]
  },
  {
   "cell_type": "code",
   "execution_count": 36,
   "id": "c9f7a2a6",
   "metadata": {},
   "outputs": [],
   "source": [
    "mush_df['bullets_new'] = mush_df['bullets'].apply(lambda x: '\\n'.join([s.strip() for s in x.strip().split('.  , ')]))"
   ]
  },
  {
   "cell_type": "code",
   "execution_count": 59,
   "id": "9cd6799e",
   "metadata": {},
   "outputs": [
    {
     "name": "stderr",
     "output_type": "stream",
     "text": [
      "2023-02-20 17:06:41.827 | INFO     | __main__:spellcheck:28 - [Match({'ruleId': 'MORFOLOGIK_RULE_EN_US', 'message': 'Possible spelling mistake found.', 'replacements': ['CMS', 'cm', 'CDs', 'CSS', 'CNS', 'RMS', 'SMS', 'CCS', 'CFS', 'CMA', 'CME', 'CMG', 'CMOS', 'CVS', 'DMS', 'VMS', 'cams', 'ms', 'BMS', 'CGS', 'CLS', 'CMB', 'CMF', 'CMU', 'MMS', 'PMS', 'JMS', 'PMs', 'ems', 'CBS', 'HMS', 'oms', 'AMS', 'CDS', 'CES', 'CHS', 'CJS', 'CKS', 'CM', 'CMC', 'CMD', 'CMI', 'CMJ', 'CMK', 'CML', 'CMM', 'CMO', 'CMP', 'CMR', 'CMSF', 'CMT', 'CMV', 'CMW', 'CMX', 'CPS', 'CQS', 'CRS', 'CS', 'CZS', 'Cm', 'Cs', 'FMS', 'FMs', 'GMS', 'IMS', 'KMS', 'LMS', 'MS', 'Ms', 'OMS', 'TMS', 'UMS', 'WMS', 'XMS', 'cis', 'cos', 'cps', 'cs', 'cums', 'ACMs', 'CAS', 'CCs', 'CEMS', 'CIS', 'CKs', 'CMOs', 'CPMs', 'CTs', 'CVs', 'DMs', 'IMs', 'LMs', 'VMs', 'cmd', 'cts', 'dms', 'pms', 'is', 'was', 'as', 'his', 'has', 'can', 'me', 'come', 'its', 'my', 'us', 'yes', 'came', 'km', 'arms', 'car', 'cars', 'case', 'cast', 'comes', 'cost', 'cut', 'gas', 'CD', 'FM', 'Los', 'Mr', 'acts', 'am', 'bus', 'camp', 'com', 'mm', 'aims', 'camps', 'cap', 'cash', 'cat', 'cup', 'cuts', 'vs', 'BMW', 'CBC', 'CIA', 'CNN', 'CPU', 'MA', 'Mrs', 'PM', 'ads', 'caps', 'cats', 'pm', 'ups', 'Acts', 'BMG', 'CTV', 'Case', 'GPS', 'NHS', 'PCs', 'SAS', 'XML', 'cab', 'cans', 'cf', 'coma', 'con', 'cop', 'cow', 'cows', 'cry', 'cue', 'cues', 'cups', 'dams', 'lbs', 'sums', 'ACM', 'ACS', 'Amos', 'BBS', 'BMT', 'CAA', 'CBA', 'CBN', 'CCC', 'CCD', 'CDC', 'CDU', 'CFB', 'CGI', 'CIO', 'CPA', 'CPC', 'CPI', 'CPR', 'CRT', 'CSA', 'CSI', 'CSU', 'CSX', 'CV', 'Cash', 'DM', 'DNS', 'FRS', 'GMT', 'Gus', 'IMF', 'INS', 'IRS', 'MSC', 'MSN', 'MV', 'Mk', 'NMR', 'RCMP', 'RSS', 'RTS', 'SBS', 'SOS', 'aces', 'amp', 'cam', 'cod', 'comb', 'cops', 'eds', 'gems', 'jams', 'ma', 'ml', 'pas', 'AMX', 'APS', 'Ames', 'BMC', 'BMP', 'CAC', 'CBI', 'CCA', 'CCI', 'CCP', 'CDA', 'CDR', 'CEA', 'CFA', 'CFC', 'CFO', 'CFR', 'CIC', 'CIE', 'CLR', 'CNC', 'CNG', 'CNR', 'CNT', 'CRC', 'CSC', 'CSF', 'CSL', 'CSP', 'CSR', 'CST', 'CTA', 'CTC', 'CWA', 'Che', 'Combs', 'Como', 'DMC', 'DMZ', 'DSS', 'DTS', 'EMT', 'FBS', 'FCS', 'IAS', 'IDs', 'IMG', 'IMO', 'IPS', 'JMA', 'KBS', 'LMA', 'MF', 'MMP', 'MSF', 'MST', 'MTS', 'MX', 'NPS', 'OAS', 'OCS', 'PCM', 'PDS', 'PRS', 'RCS', 'RDS', 'Sims', 'TFS', 'TLS', 'TVs', 'UPS', 'VM', 'WMD', 'alms', 'amps', 'cabs', 'cal', 'cask', 'clams', 'col', 'comp', 'cub', 'cubs', 'cusp', 'cyst', 'gums', 'gyms', 'ops', 'rams', 'rims', 'scams', 'um', 'AGS', 'AHS', 'BDS', 'BMA', 'BMD', 'BMO', 'CAI', 'CBF', 'CBM', 'CBP', 'CBT', 'CCG', 'CCR', 'CDO', 'CDT', 'CEP', 'CFD', 'CFE', 'CFP', 'CGA', 'CKD', 'CLI', 'CLP', 'CND', 'CNE', 'CNRS', 'CPE', 'CPM', 'CPO', 'CSD', 'CSG', 'CSIS', 'CSV', 'CTF', 'CTI', 'CTM', 'CTO', 'CTP', 'CVC', 'CVR', 'CVT', 'Camus', 'DBMS', 'DCM', 'DDS', 'DME', 'DMG', 'DMK', 'EMB', 'ESS', 'FMC', 'GLS', 'GMG', 'HFS', 'HHS', 'HMC', 'HSS', 'ICBMs', 'ICM', 'IHS', 'IMA', 'IMC', 'IMT', 'IMU', 'IVs', 'Imus', 'JCS', 'JM', 'LCS', 'LMP', 'MBS', 'MDS', 'MMR', 'MMU', 'MMX', 'MSI', 'MSW', 'Mme', 'NBS', 'NFS', 'NLS', 'OMA', 'PMA', 'PMC', 'PMI', 'PMR', 'PNS', 'PSS', 'RCM', 'RMA', 'RMC', 'RMI', 'SCS', 'SLS', 'SME', 'SMG', 'SRS', 'TCM', 'TSS', 'VMA', 'calms', 'cays', 'cit', 'cob', 'cog', 'cogs', 'combs', 'cot', 'cox', 'elms', 'emo', 'emu', 'hams', 'imp', 'ohms', 'pus', 'toms', 'ts', 'yams', 'BME', 'BMR', 'BRS', 'CBO', 'CBR', 'CCB', 'CCU', 'CDN', 'CFI', 'CFT', 'CFU', 'CJC', 'CJK', 'CLT', 'CNES', 'CNH', 'CNI', 'CPF', 'CRL', 'CRTs', 'CTH', 'CVD', 'CWC', 'DMD', 'DMP', 'DMV', 'EMR', 'ERS', 'FMA', 'GDS', 'GMB', 'GMD', 'GMO', 'GRS', 'HMI', 'HMO', 'Hus', 'IMSI', 'KSS', 'LCM', 'LFS', 'LRS', 'MNS', 'Omsk', 'PVS', 'RVs', 'SMF', 'SMI', 'TCAS', 'abs', 'amt', 'bums', 'cl', 'coo', 'corms', 'cots', 'coy', 'cur', 'emf', 'emus', 'fps', 'gm', 'ices', 'imps', 'moms', 'mp', 'ABMs', 'ACAS', 'CDV', 'CLG', 'CSH', 'CSMA', 'CTT', 'CXC', 'DPs', 'DVS', 'GMI', 'HDS', 'LGS', 'RMM', 'Xmas', 'acme', 'bps', 'cad', 'chums', 'cobs', 'cols', 'comas', 'comps', 'cud', 'hems', 'hums', 'ifs', 'isms', 'mos', 'rums', 'sis', 'BKS', 'RAMs', 'caw', 'cods', 'coos', 'cuss', 'cw', 'dims', 'nus', 'obs', 'tams', 'ODs', 'cads', 'caws', 'crams', 'curs', 'ecus', 'rems', 'AMC', 'Amy', 'CDP', 'CEO', 'CHG', 'FEMS', 'GM', 'MD', 'MW', 'OKs', 'PS', 'SOs', 'Tums', 'USS', 'chm', 'cpl', 'mg', 'mks', 'ohs', 'rps', 'scums', 'umps', 'Hts', 'Mmes', 'REMs', 'Xes', 'cpd', 'cuds', 'dds', 'emfs', 'lams', 'tums', 'AAS', 'ABS', 'ACMA', 'ADS', 'AES', 'AFS', 'AIS', 'AIs', 'AJS', 'AKS', 'ALS', 'AM', 'AMA', 'AMD', 'AME', 'AMF', 'AMG', 'AMH', 'AMIS', 'AMJ', 'AMK', 'AML', 'AMM', 'AMN', 'AMO', 'AMP', 'AMQ', 'AMR', 'AMSL', 'AMST', 'AMT', 'AMU', 'AMV', 'AMW', 'AMY', 'AMZ', 'ANS', 'AOS', 'AQS', 'ASS', 'ATS', 'AUS', 'AVS', 'AWS', 'AXS', 'AYS', 'AZS', 'Am', 'As', 'Ats', 'BAS', 'BCM', 'BCS', 'BES', 'BFS', 'BGS', 'BHS', 'BIS', 'BJS', 'BLS', 'BM', 'BMB', 'BMF', 'BMI', 'BMJ', 'BMK', 'BML', 'BMM', 'BMN', 'BMQ', 'BMU', 'BMV', 'BMX', 'BMZ', 'BNS', 'BOS', 'BPS', 'BS', 'BSS', 'BTS', 'BVS', 'BWS', 'BXS', 'BYS', 'BZS', 'C', 'C0G', 'C10', 'C11', 'C12', 'C13', 'C14', 'C15', 'C16', 'C17', 'C18', 'C19', 'C20', 'C21', 'C22', 'C23', 'C24', 'C25', 'C27', 'C28', 'C2C', 'C30', 'C31', 'C32', 'C33', 'C34', 'C35', 'C36', 'C40', 'C41', 'C44', 'C45', 'C46', 'C47', 'C50', 'C51', 'C52', 'C53', 'C60', 'C61', 'C62', 'C63', 'C64', 'C65', 'C66', 'C69', 'C70', 'C77', 'C88', 'C91', 'C96', 'C99', 'CA', 'CAB', 'CAD', 'CAES', 'CAF', 'CAG', 'CAH', 'CAJ', 'CAK', 'CAL', 'CAM', 'CAMES', 'CAMSP', 'CAMT', 'CAMY', 'CAN', 'CAP', 'CAQ', 'CASA', 'CASE', 'CASM', 'CAT', 'CATS', 'CAU', 'CAV', 'CAW', 'CAY', 'CB', 'CBB', 'CBD', 'CBE', 'CBG', 'CBH', 'CBJ', 'CBL', 'CBU', 'CBV', 'CBX', 'CBZ', 'CC', 'CCAS', 'CCE', 'CCF', 'CCH', 'CCJ', 'CCK', 'CCL', 'CCM', 'CCMA', 'CCMM', 'CCN', 'CCO', 'CCQ', 'CCSM', 'CCSP', 'CCT', 'CCV', 'CCW', 'CCX', 'CCZ', 'CDB', 'CDD', 'CDE', 'CDF', 'CDG', 'CDH', 'CDI', 'CDJ', 'CDK', 'CDL', 'CDM', 'CDW', 'CDZ', 'CE', 'CEB', 'CEC', 'CED', 'CEE', 'CEF', 'CEG', 'CEI', 'CEJ', 'CEL', 'CEM', 'CEN', 'CEPS', 'CEQ', 'CER', 'CESD', 'CESE', 'CESI', 'CESR', 'CESS', 'CEST', 'CET', 'CEU', 'CEV', 'CF', 'CFBS', 'CFF', 'CFG', 'CFH', 'CFJ', 'CFL', 'CFM', 'CFN', 'CG', 'CGC', 'CGE', 'CGF', 'CGG', 'CGH', 'CGIS', 'CGJ', 'CGK', 'CGL', 'CGN', 'CGO', 'CGR', 'CGT', 'CGU', 'CGY', 'CGZ', 'CH', 'CHB', 'CHC', 'CHD', 'CHF', 'CHH', 'CHI', 'CHK', 'CHL', 'CHM', 'CHMP', 'CHN', 'CHO', 'CHP', 'CHQ', 'CHR', 'CHRS', 'CHT', 'CHV', 'CHW', 'CHX', 'CHY', 'CHZ', 'CI', 'CICS', 'CID', 'CIF', 'CIH', 'CII', 'CIJ', 'CIK', 'CIL', 'CIM', 'CIP', 'CIQ', 'CIR', 'CISC', 'CISL', 'CISP', 'CIT', 'CIU', 'CIUS', 'CIV', 'CJ', 'CJA', 'CJB', 'CJF', 'CJH', 'CJJ', 'CJL', 'CJN', 'CK', 'CKB', 'CKK', 'CKM', 'CKR', 'CKY', 'CL', 'CLA', 'CLAS', 'CLB', 'CLC', 'CLD', 'CLE', 'CLH', 'CLIS', 'CLJ', 'CLL', 'CLM', 'CLN', 'CLQ', 'CLSC', 'CLU', 'CLV', 'CLW', 'CLX', 'CLY', 'CLZ', 'CMAP', 'CMBV', 'CMEA', 'CMEQ', 'CMGR', 'CMLK', 'CMVP', 'CN', 'CNA', 'CNB', 'CNDS', 'CNF', 'CNIS', 'CNJ', 'CNK', 'CNL', 'CNM', 'CNO', 'CNP', 'CNPS', 'CNQ', 'CNSA', 'CNSC', 'CNU', 'CNV', 'CNW', 'CNX', 'CNY', 'CNZ', 'CO', 'CO2', 'CO3', 'COB', 'COC', 'COD', 'COE', 'COF', 'COG', 'COI', 'COK', 'COL', 'COM', 'COMP', 'CON', 'COP', 'COQ', 'COSI', 'COTS', 'COU', 'COV', 'CPD', 'CPG', 'CPH', 'CPJ', 'CPL', 'CPPS', 'CPV', 'CQA', 'CQE', 'CQF', 'CQG', 'CQI', 'CQL', 'CQM', 'CQP', 'CQT', 'CQX', 'CQZ', 'CR', 'CRA', 'CRB', 'CRD', 'CRE', 'CRF', 'CRG', 'CRH', 'CRJ', 'CRK', 'CRM', 'CRN', 'CRO', 'CROS', 'CRP', 'CRQ', 'CRR', 'CRSA', 'CRW', 'CRY', 'CRZ', 'CSE', 'CSM', 'CSPS', 'CSSS', 'CSST', 'CT', 'CTB', 'CTE', 'CTK', 'CTR', 'CTSA', 'CUA', 'CUB', 'CUC', 'CUD', 'CUF', 'CUG', 'CUJ', 'CUL', 'CUM', 'CUO', 'CUP', 'CUR', 'CUT', 'CUU', 'CUV', 'CUW', 'CUZ', 'CVE', 'CVF', 'CVG', 'CVH', 'CVI', 'CVL', 'CVM', 'CVN', 'CVO', 'CVP', 'CVU', 'CVX', 'CW', 'CWB', 'CWE', 'CWF', 'CWO', 'CWT', 'CXE', 'CXL', 'CXM', 'CXO', 'CXP', 'CXQ', 'CXR', 'CY', 'CYA', 'CYK', 'CYM', 'CYP', 'CYT', 'CYZ', 'CZ', 'CZC', 'CZF', 'CZJ', 'CZK', 'CZL', 'CZM', 'CZN', 'CZO', 'CZP', 'CZT', 'CZU', 'CZW', 'CZX', 'CZY', 'CZZ', 'Ca', 'Cal', 'Can', 'Cb', 'Cd', 'Ce', 'Cf', 'Ch', 'Chi', 'Ci', 'Cid', 'Cl', 'Cmdr', 'Co', 'Cod', 'Col', 'Com', 'Cox', 'Coy', 'Cpl', 'Cr', 'Ct', 'Cu', 'DCS', 'DES', 'DFS', 'DGS', 'DHS', 'DMF', 'DMI', 'DMM', 'DMO', 'DMR', 'DOS', 'DPS', 'DRS', 'DS', 'DUS', 'Dis', 'EAS', 'EBS', 'ECM', 'ECS', 'ECTS', 'EDS', 'EFS', 'EHS', 'EIS', 'ELS', 'EM', 'EMA', 'EMC', 'EMCS', 'EMD', 'EME', 'EMF', 'EMI', 'EML', 'EMM', 'EMN', 'EMP', 'EMU', 'ENS', 'EPS', 'ES', 'ETS', 'EUS', 'EVS', 'EWS', 'EXS', 'EZS', 'Es', 'FCM', 'FDS', 'FES', 'FFS', 'FLS', 'FMG', 'FMH', 'FMI', 'FMJ', 'FMM', 'FMO', 'FMP', 'FMSH', 'FMT', 'FMV', 'FNS', 'FPS', 'FS', 'FSS', 'Fm', 'GAS', 'GCM', 'GCS', 'GES', 'GFS', 'GGS', 'GHS', 'GIS', 'GMES', 'GMF', 'GML', 'GMP', 'GMR', 'GMU', 'GTS', 'HBS', 'HCS', 'HES', 'HM', 'HMD', 'HMP', 'HMV', 'HNS', 'HPS', 'HS', 'HTS', 'IDMS', 'IDS', 'IES', 'IFS', 'IGS', 'IIS', 'IMB', 'IMD', 'IME', 'IMH', 'IMK', 'IMN', 'IMP', 'IMV', 'IOS', 'IS', 'ISS', 'ITS', 'JBS', 'JHS', 'JLS', 'JMB', 'JMD', 'JME', 'JMF', 'JMJ', 'JMM', 'JMP', 'JWS', 'KDS', 'KES', 'KHS', 'KKS', 'KM', 'KMA', 'KMF', 'KMH', 'KOS', 'KS', 'KTS', 'Ks', 'LBMS', 'LES', 'LHS', 'LMB', 'LMC', 'LMD', 'LME', 'LMK', 'LMSI', 'LMU', 'LMV', 'LS', 'LVS', 'Las', 'Les', 'M', 'MAS', 'MB', 'MC', 'MCM', 'MCS', 'MCTS', 'ME', 'MES', 'MFS', 'MG', 'MGS', 'MH', 'MI', 'MJ', 'MK', 'MKS', 'ML', 'MM', 'MMA', 'MMB', 'MMC', 'MMH', 'MMI', 'MMK', 'MML', 'MMM', 'MMT', 'MMZ', 'MN', 'MO', 'MOS', 'MP', 'MPS', 'MR', 'MRS', 'MSA', 'MSB', 'MSD', 'MSE', 'MSG', 'MSH', 'MSK', 'MSM', 'MSO', 'MSR', 'MSS', 'MSU', 'MT', 'MU', 'MUS', 'MY', 'MZ', 'Mb', 'Md', 'Me', 'Mg', 'Mn', 'Mo', 'Mt', 'NAS', 'NCIS', 'NCM', 'NCS', 'NDS', 'NGS', 'NM', 'NMA', 'NMF', 'NMI', 'NMM', 'NMT', 'NOS', 'NS', 'NSS', 'NUS', 'Nos', 'OBS', 'ODS', 'OFS', 'OM', 'OMB', 'OMC', 'OMG', 'OMI', 'OMM', 'OMMS', 'OMN', 'OMO', 'OMP', 'OMR', 'OMT', 'ONS', 'ORS', 'OS', 'OSS', 'OVS', 'OWS', 'Os', 'PAS', 'PBS', 'PCS', 'PCUS', 'PES', 'PFS', 'PGS', 'PHS', 'PIS', 'PKS', 'PLS', 'PMB', 'PME', 'PMF', 'PMG', 'PMH', 'PML', 'PMN', 'PMO', 'PMP', 'PMT', 'PMU', 'PMV', 'POS', 'PPS', 'PUS', 'Pm', 'QCM', 'QM', 'QMF', 'QMOS', 'RAMS', 'RAS', 'RBS', 'RES', 'RFS', 'RGS', 'RHS', 'RIS', 'RLS', 'RM', 'RMB', 'RMBS', 'RME', 'RMF', 'RMN', 'RNS', 'ROS', 'RPS', 'RRS', 'RS', 'S', 'SCM', 'SCRS', 'SES', 'SFS', 'SGS', 'SIS', 'SM', 'SMA', 'SMB', 'SMC', 'SMH', 'SMK', 'SML', 'SMM', 'SMN', 'SMR', 'SMT', 'SNS', 'SPS', 'SS', 'SSS', 'STS', 'SUS', 'Sm', 'TBS', 'TDS', 'TES', 'TGS', 'THS', 'TIS', 'TJS', 'TKS', 'TM', 'TMA', 'TMB', 'TMC', 'TMD', 'TME', 'TMG', 'TMI', 'TMJ', 'TMN', 'TMP', 'TMT', 'TMV', 'TMX', 'TNS', 'TOS', 'TPS', 'TQS', 'TRS', 'TS', 'TTS', 'TVS', 'TWS', 'TZS', 'Tm', 'UAS', 'UBS', 'UCM', 'UDS', 'UES', 'UFS', 'UGS', 'UMA', 'UMB', 'UMD', 'UMF', 'UMH', 'UMI', 'UML', 'UMM', 'UMP', 'UMR', 'UMT', 'URS', 'US', 'UUS', 'VBS', 'VCM', 'VES', 'VGS', 'VHS', 'VMC', 'VME', 'VMI', 'VMK', 'VML', 'VMM', 'VMO', 'VMP', 'VPS', 'VRS', 'VSS', 'VVS', 'WCS', 'WDS', 'WGS', 'WHS', 'WMF', 'WML', 'WMW', 'WNS', 'WPS', 'WSS', 'Wis', 'Wm', 'XMP', 'XPS', 'XS', 'YBS', 'YHS', 'YM', 'YMN', 'YMO', 'ZMK', 'ZMP', 'Zs', 'acmes', 'ans', 'ass', 'bis', 'bxs', 'c', 'ca', 'cay', 'cc', 'cg', 'ch', 'chg', 'chi', 'chis', 'cir', 'ck', 'co', 'comm', 'cons', 'cor', 'cosh', 'ct', 'ctn', 'ctr', 'cu', 'cum', 'cwt', 'dis', 'dos', 'em', 'emos', 'ens', 'fums', 'gs', 'hes', 'hims', 'hmm', 'hos', 'hrs', 'iOS', 'ids', 'ins', 'ism', 'ks', 'ls', 'm', 'mams', 'mas', 'mes', 'mi', 'mo', 'mu', 'mus', 'mys', 'nos', 'om', 'pis', 'poms', 'qts', 'res', 'rm', 'rs', 's', 'sims', 'tbs', 'ump', 'xis', 'yrs', '3M', 'ACLs', 'ACTs', 'AGs', 'AMI', 'APs', 'ATMs', 'AVs', 'BCBS', 'BJs', 'BMIs', 'BMWs', 'BPMs', 'C&A', 'C&C', 'C3', 'CAE', 'CBSC', 'CBSE', 'CBSN', 'CCSD', 'CCSS', 'CDMA', 'CDMX', 'CDNs', 'CDOs', 'CEOs', 'CESC', 'CFOs', 'CGM', 'CGMA', 'CIFS', 'CIG', 'CIGS', 'CIOs', 'CISA', 'CLSA', 'CMYK', 'CNAs', 'COA', 'COOs', 'CORS', 'CP', 'CPN', 'CPNs', 'CPP', 'CPQ', 'CPT', 'CPUs', 'CQC', 'CR7', 'CSO', 'CSOs', 'CSVs', 'CTAs', 'CTOs', 'CTSO', 'CVA', 'CVV', 'CWL', 'CWM', 'CWP', 'CWR', 'CWV', 'CZI', 'Chu', 'CoP', 'CoPs', 'DJs', 'DLS', 'DMA', 'DMGs', 'DMX', 'DMZs', 'DRMs', 'DVMs', 'Dems', 'DoS', 'ECDs', 'ECTs', 'EMTs', 'EOMs', 'EPs', 'EQS', 'EVs', 'FAS', 'FCs', 'FHS', 'FMD', 'FOS', 'FPs', 'GBS', 'GCs', 'GIs', 'GMA', 'GMC', 'GMOs', 'GMV', 'H&S', 'HCs', 'HLS', 'HMH', 'HRMS', 'HWs', 'I&S', 'IBS', 'ICEs', 'ICMP', 'ICMR', 'ICS', 'ICUs', 'ILS', 'IM', 'IPs', 'IQs', 'JMH', 'JS', 'KMSP', 'LDS', 'LMMS', 'LMT', 'LPS', 'LPs', 'LTS', 'M&Ms', 'MCAS', 'MCPS', 'MCQs', 'MCs', 'MDs', 'MIS', 'MLS', 'MMO', 'MMOs', 'MPs', 'MSc', 'MWS', 'NMC', 'NRS', 'NTS', 'NYS', 'ODMs', 'OEMs', 'PAs', 'PCBs', 'PDMS', 'PMD', 'PRs', 'QBs', 'RMSD', 'RMSE', 'RMU', 'ROMs', 'RTs', 'SCMP', 'SCSS', 'SDS', 'SHS', 'SIMs', 'SMBs', 'SMEs', 'SMP', 'SMU', 'SQS', 'T&S', 'TCHS', 'TCS', 'TMZ', 'TTs', 'ToS', 'UCAS', 'UIs', 'UMC', 'UMTS', 'Urs', 'V6s', 'V8s', 'VCRs', 'VCS', 'VCs', 'VFS', 'VPs', 'VWs', 'WBS', 'WCBS', 'WCHS', 'WS', 'XLS', 'XMOS', 'XSS', 'ZFS', 'ais', 'amu', 'amus', 'camo', 'camos', \"cc's\", 'comms', 'cx', 'dm', 'hm', 'mL', 'mW', 'mcg', 'msg', 'nm', 'pHs', 'pcs', 'pgs', 'pls', 'pts', 'tmp', 'umm', 'vm', 'µm', 'écus'], 'offsetInContext': 43, 'context': '...e made from 100% Bamboo. Size: 75 X 150 cms / 29.5\" X 59\" ; Pack of 2 - Beige & Gre...', 'offset': 89, 'errorLength': 3, 'category': 'TYPOS', 'ruleIssueType': 'misspelling', 'sentence': 'Size: 75 X 150 cms / 29.5\" X 59\" ; Pack of 2 - Beige & Grey  , Features: It dries very quickly, absorbs 3 times more water than cotton, light in weight and takes up little space in your closet or luggage.'}), Match({'ruleId': 'COMMA_PARENTHESIS_WHITESPACE', 'message': 'Put a space after the comma, but not before the comma.', 'replacements': [','], 'offsetInContext': 43, 'context': '... 29.5\" X 59\" ; Pack of 2 - Beige & Grey  , Features: It dries very quickly, absorb...', 'offset': 134, 'errorLength': 2, 'category': 'TYPOGRAPHY', 'ruleIssueType': 'whitespace', 'sentence': 'Size: 75 X 150 cms / 29.5\" X 59\" ; Pack of 2 - Beige & Grey  , Features: It dries very quickly, absorbs 3 times more water than cotton, light in weight and takes up little space in your closet or luggage.'}), Match({'ruleId': 'EN_UPPER_CASE_NGRAM', 'message': 'Only proper nouns start with an uppercase character (there are exceptions for headlines).', 'replacements': ['features'], 'offsetInContext': 43, 'context': '....5\" X 59\" ; Pack of 2 - Beige & Grey  , Features: It dries very quickly, absorbs 3 times...', 'offset': 137, 'errorLength': 8, 'category': 'CASING', 'ruleIssueType': 'misspelling', 'sentence': 'Size: 75 X 150 cms / 29.5\" X 59\" ; Pack of 2 - Beige & Grey  , Features: It dries very quickly, absorbs 3 times more water than cotton, light in weight and takes up little space in your closet or luggage.'})]\n",
      "2023-02-20 17:06:42.782 | INFO     | __main__:spellcheck:28 - []\n",
      "2023-02-20 17:06:44.373 | INFO     | __main__:spellcheck:28 - [Match({'ruleId': 'COMMA_PARENTHESIS_WHITESPACE', 'message': 'Put a space after the comma, but not before the comma.', 'replacements': [','], 'offsetInContext': 43, 'context': '... to store and to carry while travelling  , Washcare: Machine Washable. Do not blea...', 'offset': 120, 'errorLength': 2, 'category': 'TYPOGRAPHY', 'ruleIssueType': 'whitespace', 'sentence': 'Packaging: It comes packed in a small cotton bag which makes it super convenient to store and to carry while travelling  , Washcare: Machine Washable.'}), Match({'ruleId': 'MORFOLOGIK_RULE_EN_US', 'message': 'Possible spelling mistake found.', 'replacements': ['Wash care'], 'offsetInContext': 43, 'context': '... store and to carry while travelling  , Washcare: Machine Washable. Do not bleach.', 'offset': 123, 'errorLength': 8, 'category': 'TYPOS', 'ruleIssueType': 'misspelling', 'sentence': 'Packaging: It comes packed in a small cotton bag which makes it super convenient to store and to carry while travelling  , Washcare: Machine Washable.'})]\n"
     ]
    }
   ],
   "source": [
    "res = []\n",
    "for sen in mush_df['bullets_new'][0].split('\\n'):\n",
    "    res.append(spellcheck(sen)[1])\n",
    "    "
   ]
  },
  {
   "cell_type": "code",
   "execution_count": 66,
   "id": "6f66a552",
   "metadata": {},
   "outputs": [
    {
     "data": {
      "text/plain": [
       "3"
      ]
     },
     "execution_count": 66,
     "metadata": {},
     "output_type": "execute_result"
    }
   ],
   "source": [
    "len(res)"
   ]
  },
  {
   "cell_type": "code",
   "execution_count": 58,
   "id": "79cd5ce4",
   "metadata": {},
   "outputs": [
    {
     "data": {
      "text/plain": [
       "5"
      ]
     },
     "execution_count": 58,
     "metadata": {},
     "output_type": "execute_result"
    }
   ],
   "source": [
    "len(res1[1])"
   ]
  },
  {
   "cell_type": "code",
   "execution_count": null,
   "id": "473e7357",
   "metadata": {},
   "outputs": [],
   "source": []
  }
 ],
 "metadata": {
  "kernelspec": {
   "display_name": "excelcheckapp",
   "language": "python",
   "name": "python3"
  },
  "language_info": {
   "codemirror_mode": {
    "name": "ipython",
    "version": 3
   },
   "file_extension": ".py",
   "mimetype": "text/x-python",
   "name": "python",
   "nbconvert_exporter": "python",
   "pygments_lexer": "ipython3",
   "version": "3.10.9"
  },
  "toc": {
   "base_numbering": 1,
   "nav_menu": {},
   "number_sections": true,
   "sideBar": true,
   "skip_h1_title": false,
   "title_cell": "Table of Contents",
   "title_sidebar": "Contents",
   "toc_cell": false,
   "toc_position": {},
   "toc_section_display": true,
   "toc_window_display": false
  },
  "varInspector": {
   "cols": {
    "lenName": 16,
    "lenType": 16,
    "lenVar": 40
   },
   "kernels_config": {
    "python": {
     "delete_cmd_postfix": "",
     "delete_cmd_prefix": "del ",
     "library": "var_list.py",
     "varRefreshCmd": "print(var_dic_list())"
    },
    "r": {
     "delete_cmd_postfix": ") ",
     "delete_cmd_prefix": "rm(",
     "library": "var_list.r",
     "varRefreshCmd": "cat(var_dic_list()) "
    }
   },
   "types_to_exclude": [
    "module",
    "function",
    "builtin_function_or_method",
    "instance",
    "_Feature"
   ],
   "window_display": false
  },
  "vscode": {
   "interpreter": {
    "hash": "153155f31549a38b0a8b2d161f43a8480e19ade7e642280742c9cf07df52b99d"
   }
  }
 },
 "nbformat": 4,
 "nbformat_minor": 5
}
