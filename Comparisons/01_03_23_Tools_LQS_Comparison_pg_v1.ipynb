{
 "cells": [
  {
   "cell_type": "markdown",
   "id": "3e8adcca",
   "metadata": {},
   "source": [
    "# Import Packages"
   ]
  },
  {
   "cell_type": "code",
   "execution_count": 20,
   "id": "80b64701",
   "metadata": {
    "ExecuteTime": {
     "end_time": "2023-03-03T04:21:16.763987Z",
     "start_time": "2023-03-03T04:21:15.567208Z"
    }
   },
   "outputs": [],
   "source": [
    "import pandas as pd\n",
    "import numpy as np\n",
    "from lifelines.utils import concordance_index"
   ]
  },
  {
   "cell_type": "markdown",
   "id": "2ee5d111",
   "metadata": {},
   "source": [
    "# Load Data"
   ]
  },
  {
   "cell_type": "code",
   "execution_count": 3,
   "id": "bf889d49",
   "metadata": {
    "ExecuteTime": {
     "end_time": "2023-03-03T03:56:26.396114Z",
     "start_time": "2023-03-03T03:56:26.386205Z"
    }
   },
   "outputs": [],
   "source": [
    "goglqs = pd.read_csv('goGLOCAL_LQS.csv')"
   ]
  },
  {
   "cell_type": "code",
   "execution_count": 4,
   "id": "4133f17f",
   "metadata": {
    "ExecuteTime": {
     "end_time": "2023-03-03T03:56:27.067493Z",
     "start_time": "2023-03-03T03:56:27.040152Z"
    }
   },
   "outputs": [],
   "source": [
    "jslqs = pd.read_csv('JungleScout_LQS.csv')"
   ]
  },
  {
   "cell_type": "code",
   "execution_count": 2,
   "id": "4c4efc92",
   "metadata": {
    "ExecuteTime": {
     "end_time": "2023-03-03T03:56:23.717478Z",
     "start_time": "2023-03-03T03:56:23.688943Z"
    }
   },
   "outputs": [],
   "source": [
    "amzslqs = pd.read_csv('AMZScout_LQS.csv')\n",
    "\n",
    "amzslqs.dropna(inplace = True)"
   ]
  },
  {
   "cell_type": "markdown",
   "id": "6a47fd47",
   "metadata": {
    "ExecuteTime": {
     "end_time": "2023-03-01T05:50:12.892060Z",
     "start_time": "2023-03-01T05:50:12.850949Z"
    }
   },
   "source": [
    "# Analysis"
   ]
  },
  {
   "cell_type": "code",
   "execution_count": 6,
   "id": "54864970",
   "metadata": {
    "ExecuteTime": {
     "end_time": "2023-03-03T03:56:53.697663Z",
     "start_time": "2023-03-03T03:56:53.673199Z"
    }
   },
   "outputs": [
    {
     "data": {
      "text/plain": [
       "(59, 21)"
      ]
     },
     "execution_count": 6,
     "metadata": {},
     "output_type": "execute_result"
    }
   ],
   "source": [
    "goglqs.shape"
   ]
  },
  {
   "cell_type": "code",
   "execution_count": 13,
   "id": "68ab1ada",
   "metadata": {
    "ExecuteTime": {
     "end_time": "2023-03-03T03:58:43.015945Z",
     "start_time": "2023-03-03T03:58:43.008920Z"
    }
   },
   "outputs": [],
   "source": [
    "goglqs['goGLOCAL_rank'] = goglqs['Overall_Grading'].rank(method = 'min').astype(int)"
   ]
  },
  {
   "cell_type": "code",
   "execution_count": 15,
   "id": "4f8ff87f",
   "metadata": {
    "ExecuteTime": {
     "end_time": "2023-03-03T04:00:13.677759Z",
     "start_time": "2023-03-03T04:00:13.671535Z"
    }
   },
   "outputs": [],
   "source": [
    "amzslqs['AMZScout_rank'] = amzslqs['AMZScout_LQS'].rank(method = 'min').astype(int)"
   ]
  },
  {
   "cell_type": "code",
   "execution_count": 17,
   "id": "1874448c",
   "metadata": {
    "ExecuteTime": {
     "end_time": "2023-03-03T04:03:02.715520Z",
     "start_time": "2023-03-03T04:03:02.683442Z"
    }
   },
   "outputs": [],
   "source": [
    "gog_amz_concdf = goglqs[['ASIN','goGLOCAL_rank']].merge(amzslqs[['ASIN','AMZScout_rank']],how = 'inner',on='ASIN')"
   ]
  },
  {
   "cell_type": "code",
   "execution_count": 18,
   "id": "0793dc87",
   "metadata": {
    "ExecuteTime": {
     "end_time": "2023-03-03T04:03:11.502238Z",
     "start_time": "2023-03-03T04:03:11.488526Z"
    }
   },
   "outputs": [
    {
     "data": {
      "text/html": [
       "<div>\n",
       "<style scoped>\n",
       "    .dataframe tbody tr th:only-of-type {\n",
       "        vertical-align: middle;\n",
       "    }\n",
       "\n",
       "    .dataframe tbody tr th {\n",
       "        vertical-align: top;\n",
       "    }\n",
       "\n",
       "    .dataframe thead th {\n",
       "        text-align: right;\n",
       "    }\n",
       "</style>\n",
       "<table border=\"1\" class=\"dataframe\">\n",
       "  <thead>\n",
       "    <tr style=\"text-align: right;\">\n",
       "      <th></th>\n",
       "      <th>ASIN</th>\n",
       "      <th>goGLOCAL_rank</th>\n",
       "      <th>AMZScout_rank</th>\n",
       "    </tr>\n",
       "  </thead>\n",
       "  <tbody>\n",
       "    <tr>\n",
       "      <th>0</th>\n",
       "      <td>B075M9WHY5</td>\n",
       "      <td>11</td>\n",
       "      <td>4</td>\n",
       "    </tr>\n",
       "    <tr>\n",
       "      <th>1</th>\n",
       "      <td>B07QGZPDLK</td>\n",
       "      <td>11</td>\n",
       "      <td>26</td>\n",
       "    </tr>\n",
       "    <tr>\n",
       "      <th>2</th>\n",
       "      <td>B07DHKH4XD</td>\n",
       "      <td>6</td>\n",
       "      <td>4</td>\n",
       "    </tr>\n",
       "    <tr>\n",
       "      <th>3</th>\n",
       "      <td>B07QGZN74S</td>\n",
       "      <td>11</td>\n",
       "      <td>25</td>\n",
       "    </tr>\n",
       "    <tr>\n",
       "      <th>4</th>\n",
       "      <td>B07QFVW623</td>\n",
       "      <td>2</td>\n",
       "      <td>4</td>\n",
       "    </tr>\n",
       "  </tbody>\n",
       "</table>\n",
       "</div>"
      ],
      "text/plain": [
       "         ASIN  goGLOCAL_rank  AMZScout_rank\n",
       "0  B075M9WHY5             11              4\n",
       "1  B07QGZPDLK             11             26\n",
       "2  B07DHKH4XD              6              4\n",
       "3  B07QGZN74S             11             25\n",
       "4  B07QFVW623              2              4"
      ]
     },
     "execution_count": 18,
     "metadata": {},
     "output_type": "execute_result"
    }
   ],
   "source": [
    "gog_amz_concdf.head()"
   ]
  },
  {
   "cell_type": "code",
   "execution_count": 21,
   "id": "0232ae98",
   "metadata": {
    "ExecuteTime": {
     "end_time": "2023-03-03T04:21:19.007407Z",
     "start_time": "2023-03-03T04:21:18.982498Z"
    }
   },
   "outputs": [
    {
     "name": "stdout",
     "output_type": "stream",
     "text": [
      "Concordance index: 0.3727544910179641\n"
     ]
    }
   ],
   "source": [
    "goGLOCAL_rank = gog_amz_concdf['goGLOCAL_rank'].tolist()\n",
    "AMZScout_rank = gog_amz_concdf['AMZScout_rank'].tolist()\n",
    "\n",
    "print(f'Concordance index: {concordance_index(goGLOCAL_rank,AMZScout_rank)}')"
   ]
  },
  {
   "cell_type": "code",
   "execution_count": 3,
   "id": "961b1d41",
   "metadata": {
    "ExecuteTime": {
     "end_time": "2023-03-09T10:14:42.438178Z",
     "start_time": "2023-03-09T10:14:42.404778Z"
    }
   },
   "outputs": [
    {
     "name": "stdout",
     "output_type": "stream",
     "text": [
      "B09F5Z518M,B07CWB65DY,B09F5PL8HR,B0819PW15B,B07SRVPJMX,B07R6DDL5C,B09F5SR1GY,B07S8Q85B4,B07GCHY9HX,B07CW9WNLP,B07P1381QZ,B08Y365QSF,B0823GKN83,B09F5XLT7G,B07CWBTB4K,B07NY36LQR,B07CWCGF26,B08K8Y4WF7,B07P12ZVDX,B07P12ZDYF,B07SVFGHC1,B07STFB7XD,B08P4XF1VP,B09XQX4KJW,B08P5HD75Q,B09F5W1HV6,B07S6P8652,B09XN9LHQQ,B09G36WZF3,B08P5JGJ5D,B07CWBDFSK,B07NY34DJ1,B09XN9T786,B09XN7WD3Z,B09XN7KHVF,B09XN6J7DY,B07NY36KRZ,B09XN7X8L1,B09XN86Y57,B09G37TPTR,B07WD8JL8S,B07KKHC2VD,B08P4X9Y9B,B07CWBZWFJ,B08K8WVL5L\n"
     ]
    }
   ],
   "source": [
    "print(\"\"\"B09F5Z518M\n",
    "B07CWB65DY\n",
    "B09F5PL8HR\n",
    "B0819PW15B\n",
    "B07SRVPJMX\n",
    "B07R6DDL5C\n",
    "B09F5SR1GY\n",
    "B07S8Q85B4\n",
    "B07GCHY9HX\n",
    "B07CW9WNLP\n",
    "B07P1381QZ\n",
    "B08Y365QSF\n",
    "B0823GKN83\n",
    "B09F5XLT7G\n",
    "B07CWBTB4K\n",
    "B07NY36LQR\n",
    "B07CWCGF26\n",
    "B08K8Y4WF7\n",
    "B07P12ZVDX\n",
    "B07P12ZDYF\n",
    "B07SVFGHC1\n",
    "B07STFB7XD\n",
    "B08P4XF1VP\n",
    "B09XQX4KJW\n",
    "B08P5HD75Q\n",
    "B09F5W1HV6\n",
    "B07S6P8652\n",
    "B09XN9LHQQ\n",
    "B09G36WZF3\n",
    "B08P5JGJ5D\n",
    "B07CWBDFSK\n",
    "B07NY34DJ1\n",
    "B09XN9T786\n",
    "B09XN7WD3Z\n",
    "B09XN7KHVF\n",
    "B09XN6J7DY\n",
    "B07NY36KRZ\n",
    "B09XN7X8L1\n",
    "B09XN86Y57\n",
    "B09G37TPTR\n",
    "B07WD8JL8S\n",
    "B07KKHC2VD\n",
    "B08P4X9Y9B\n",
    "B07CWBZWFJ\n",
    "B08K8WVL5L\"\"\".replace('\\n',','))"
   ]
  },
  {
   "cell_type": "code",
   "execution_count": null,
   "id": "443bf54a",
   "metadata": {},
   "outputs": [],
   "source": []
  }
 ],
 "metadata": {
  "kernelspec": {
   "display_name": "excelcheckapp",
   "language": "python",
   "name": "excelcheckapp"
  },
  "language_info": {
   "codemirror_mode": {
    "name": "ipython",
    "version": 3
   },
   "file_extension": ".py",
   "mimetype": "text/x-python",
   "name": "python",
   "nbconvert_exporter": "python",
   "pygments_lexer": "ipython3",
   "version": "3.9.13"
  },
  "toc": {
   "base_numbering": 1,
   "nav_menu": {},
   "number_sections": true,
   "sideBar": true,
   "skip_h1_title": false,
   "title_cell": "Table of Contents",
   "title_sidebar": "Contents",
   "toc_cell": false,
   "toc_position": {},
   "toc_section_display": true,
   "toc_window_display": false
  },
  "varInspector": {
   "cols": {
    "lenName": 16,
    "lenType": 16,
    "lenVar": 40
   },
   "kernels_config": {
    "python": {
     "delete_cmd_postfix": "",
     "delete_cmd_prefix": "del ",
     "library": "var_list.py",
     "varRefreshCmd": "print(var_dic_list())"
    },
    "r": {
     "delete_cmd_postfix": ") ",
     "delete_cmd_prefix": "rm(",
     "library": "var_list.r",
     "varRefreshCmd": "cat(var_dic_list()) "
    }
   },
   "types_to_exclude": [
    "module",
    "function",
    "builtin_function_or_method",
    "instance",
    "_Feature"
   ],
   "window_display": false
  }
 },
 "nbformat": 4,
 "nbformat_minor": 5
}
