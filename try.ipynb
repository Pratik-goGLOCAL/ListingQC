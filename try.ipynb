{
 "cells": [
  {
   "cell_type": "code",
   "execution_count": 3,
   "metadata": {},
   "outputs": [],
   "source": [
    "get_prod_details = lambda col: response.css(f\"#detailBullets_feature_div li:contains('{col}')\").css(\"::text\").extract()[-2]"
   ]
  },
  {
   "cell_type": "code",
   "execution_count": 4,
   "metadata": {},
   "outputs": [],
   "source": [
    "get_prod_specs = lambda col: response.css(f\"#technicalSpecifications_section_1 tr th:contains('{col}') + td::text\").getall()"
   ]
  },
  {
   "cell_type": "code",
   "execution_count": 12,
   "metadata": {},
   "outputs": [],
   "source": [
    "lis =['https://m.media-amazon.com/images/I/41eEmvj7PpL._US40_.jpg',\n",
    " 'https://m.media-amazon.com/images/I/41ulbrimHHL._US40_.jpg',\n",
    " 'https://m.media-amazon.com/images/I/41bkmjJRxmL._US40_.jpg',\n",
    " 'https://m.media-amazon.com/images/I/5120S-JV7DL._US40_.jpg',\n",
    " 'https://m.media-amazon.com/images/I/41twpEhmw4L._US40_.jpg',\n",
    " 'https://m.media-amazon.com/images/I/51sAhxB0bQL._US40_.jpg',\n",
    " 'https://images-na.ssl-images-amazon.com/images/G/01/x-locale/common/transparent-pixel._V192234675_.gif']"
   ]
  },
  {
   "cell_type": "code",
   "execution_count": 17,
   "metadata": {},
   "outputs": [
    {
     "data": {
      "text/plain": [
       "['https://m.media-amazon.com/images/I/41eEmvj7PpL.jpg',\n",
       " 'https://m.media-amazon.com/images/I/41ulbrimHHL.jpg',\n",
       " 'https://m.media-amazon.com/images/I/41bkmjJRxmL.jpg',\n",
       " 'https://m.media-amazon.com/images/I/5120S-JV7DL.jpg',\n",
       " 'https://m.media-amazon.com/images/I/41twpEhmw4L.jpg',\n",
       " 'https://m.media-amazon.com/images/I/51sAhxB0bQL.jpg',\n",
       " 'https://images-na.ssl-images-amazon.com/images/G/01/x-locale/common/transparent-pixel.gif']"
      ]
     },
     "execution_count": 17,
     "metadata": {},
     "output_type": "execute_result"
    }
   ],
   "source": [
    "[clean_links(i) for i in lis]"
   ]
  },
  {
   "cell_type": "code",
   "execution_count": null,
   "metadata": {},
   "outputs": [],
   "source": []
  }
 ],
 "metadata": {
  "kernelspec": {
   "display_name": "base",
   "language": "python",
   "name": "python3"
  },
  "language_info": {
   "codemirror_mode": {
    "name": "ipython",
    "version": 3
   },
   "file_extension": ".py",
   "mimetype": "text/x-python",
   "name": "python",
   "nbconvert_exporter": "python",
   "pygments_lexer": "ipython3",
   "version": "3.9.13"
  },
  "orig_nbformat": 4,
  "vscode": {
   "interpreter": {
    "hash": "0467c16d4e73dba61dcc106221b4b7c95372fa61fc6cc648ee99bca30bbaf279"
   }
  }
 },
 "nbformat": 4,
 "nbformat_minor": 2
}
